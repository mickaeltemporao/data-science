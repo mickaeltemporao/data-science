{
  "nbformat": 4,
  "nbformat_minor": 0,
  "metadata": {
    "colab": {
      "name": "itds-challenge-1-student-name",
      "provenance": [],
      "collapsed_sections": [],
      "include_colab_link": true
    },
    "kernelspec": {
      "display_name": "Python 3",
      "name": "python3"
    }
  },
  "cells": [
    {
      "cell_type": "markdown",
      "metadata": {
        "id": "view-in-github",
        "colab_type": "text"
      },
      "source": [
        "<a href=\"https://colab.research.google.com/github/mickaeltemporao/itds/blob/tools/materials/assignment-1.ipynb\" target=\"_parent\"><img src=\"https://colab.research.google.com/assets/colab-badge.svg\" alt=\"Open In Colab\"/></a>"
      ]
    },
    {
      "cell_type": "markdown",
      "metadata": {
        "id": "5fCEDCU_qrC0"
      },
      "source": [
        "# Challenge 1 -  First Steps\n",
        "\n",
        "## Context\n",
        "\n",
        "You are a young journalist recently recruited by the New York Times to work on elections. Your first task is to write a single paragraph introducing an important factor that can explain voting behaviour.\n",
        "\n",
        "### Objectives\n",
        "- Become familiar with notebooks.\n",
        "- Become familiar with Markdown syntax.\n",
        "- Improve academic writing skills.\n"
      ]
    },
    {
      "cell_type": "markdown",
      "metadata": {
        "id": "pe4gCm198ygp"
      },
      "source": [
        "## Instructions\n",
        "\n",
        "### The Setup\n",
        "Before you can start this challenge, you need to create your own copy of this notebook. This will allow you to edit, save and share your work.\n",
        "\n",
        "1. **Click** on *'File' -> 'Save a copy in Drive'*\n",
        "    - A new notebook is created named \"Copy of ...\".\n",
        "2. **Rename** the notebook called \"Copy of ...\" appropriately. \n",
        "3. **Use** the newly created and renamed notebook to complete the challenge.\n",
        "\n",
        "### The Challenge\n",
        "1. Use [Google Scholar](https://scholar.google.com/) or [Cairn](https://www.cairn.info/) to find two scientific articles (not books) illustrating the importance of a factor on voting behaviour.\n",
        "2. Write a single paragraph introducing your factor and its importance in the context of explainig voting behaviour. \n",
        "    - You need to leverage the two scientific articles to build the argument of your paragraph.\n",
        "    - Format your in-text citations using the [APA format](https://www.mendeley.com/guides/apa-citation-guide).\n",
        "    - Add a title above your paragraph.\n",
        "3. Add a text cell at the end of your notebook with your references.\n",
        "    - In this text cell add a subtitle called \"References\"\n",
        "    - Add all the references in [APA format](https://www.mendeley.com/guides/apa-citation-guide).\n",
        "\n",
        "- **Bonus:** Use Markdown syntax to add links to each of your references that link to the webpage of your scientific articles.\n",
        "\n",
        "### The Submission\n",
        "1. When you are ready to submit your work click on *'Share' -> 'Copy link'*.\n",
        "2. Verify that your link works by opening it in a new browser window.\n",
        "    - You should see your latest edits inside this notebook.\n",
        "3. Send a **private message** to the instructor on the\n",
        "    - In your message include the course name (itds), assignment type (eg. chall-1), and the copied link to your notebook.\n",
        "\n",
        "- Submissions are considered until the start of the next session.\n",
        "- Late submissions will not be considered!\n",
        "\n",
        "\n",
        "#### Help, I'm stuck?!\n",
        "It is normal to be stuck during challenges and it is part of the learning process. When you are blocked during a coding challenge, try to solve your bugs (e.g. Google your error messages). Trying to solve your errors and bugs will help you build the mindset needed to be successful in this course and will help you better understand the tools and methods we use throughout the course.\n",
        "\n",
        "- If you are stuck for 30 minutes on a challenge, take a break and come back later.\n",
        "- If you are still stuck after revisiting your problem with a fresh mindset ask for help using the Chat! Don't be shy, it is likely that other students might be able to help you!\n",
        "\n",
        "**Delete the *Instructions* cell before sharing your work.**\n"
      ]
    },
    {
      "cell_type": "markdown",
      "metadata": {
        "id": "au9Ay09GhI_1"
      },
      "source": [
        "# The Title of Your Paragraph Comes Here\n",
        "\n",
        "You can change this sentence and add your paragraph. Remember to leverage your scientific articles when building the argument of your paragraph.\n"
      ]
    }
  ]
}
