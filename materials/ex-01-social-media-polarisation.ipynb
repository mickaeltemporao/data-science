{
  "nbformat": 4,
  "nbformat_minor": 0,
  "metadata": {
    "colab": {
      "name": "06-data-management-existing-values.ipynb",
      "provenance": [],
      "collapsed_sections": []
    },
    "kernelspec": {
      "name": "python3",
      "display_name": "Python 3"
    }
  },
  "cells": [
    {
      "cell_type": "markdown",
      "metadata": {
        "id": "s9nC5_RwqJcx"
      },
      "source": [
        "# Data Management - Exisiting Values\n",
        "\n",
        "**Learning Objective:** \n",
        "- Learn to recode and create variables\n",
        "- Learn about the `.replace()` method and the `pd.cut()` function\n",
        "- Learn to compare variables\n"
      ]
    },
    {
      "cell_type": "code",
      "metadata": {
        "id": "PTx-1l9i4MPy"
      },
      "source": [
        "# Load Pandas\n",
        "import pandas as pd\n",
        "\n",
        "# Import Data\n",
        "data_url = \"https://raw.githubusercontent.com/datamisc/ts-2020/main/data.csv\"\n",
        "anes_data  = pd.read_csv(data_url, compression='gzip')\n"
      ],
      "execution_count": null,
      "outputs": []
    },
    {
      "cell_type": "code",
      "metadata": {
        "id": "luNYIaFY60Nn"
      },
      "source": [
        "# Subsetting & Renaming Variables\n",
        "my_vars = [\n",
        "    \"V201033\",  # vote_int\n",
        "    \"V201507x\",  # age\n",
        "    \"V201200\",  # liberal-conservative self-placement\n",
        "    \"V201151\",\t # biden thrm\n",
        "    \"V201152\",  # trump thrm\n",
        "    \"V201144x\",  # covid \n",
        "]\n",
        "\n",
        "df = anes_data[my_vars]\n",
        "\n",
        "df.columns = [\"vote_int\", \"age\", \"ideology\", \"biden_thrm\", \"trump_thrm\", \"covid\"]\n",
        "df.head()\n"
      ],
      "execution_count": null,
      "outputs": []
    },
    {
      "cell_type": "markdown",
      "metadata": {
        "id": "8Adu57IR73Vg"
      },
      "source": [
        "## Recoding Variables Using a Mask/Filter\n",
        "\n",
        "We can use relational operators (<>=) to identify the observations that meet certain criteria that we want to change.\n",
        "\n",
        "For instance we could recode the voting intention variable:\n",
        "\n",
        "- [V201033](https://sda.berkeley.edu/sdaweb/docs/nes2020/DOC/hcbk0003.htm#V201033)\n",
        "\n"
      ]
    },
    {
      "cell_type": "code",
      "metadata": {
        "id": "PRfLM1b88SXf"
      },
      "source": [
        "# Recoding values with a mask\n",
        "new_df = df[(df['vote_int']>0) & (df['vote_int']<=5)].copy()  # Creating a new dataframe\n",
        "\n",
        "# The recoding starts here\n",
        "mask = new_df['vote_int'] == 1\n",
        "new_df.loc[mask, \"vote_int\"] = \"J.Biden\"\n",
        "mask = new_df['vote_int'] == 2\n",
        "new_df.loc[mask, \"vote_int\"] = \"D.Trump\"\n"
      ],
      "execution_count": null,
      "outputs": []
    },
    {
      "cell_type": "code",
      "metadata": {
        "id": "o1A0EOgWDdp7"
      },
      "source": [
        "new_df['vote_int'].value_counts()\n"
      ],
      "execution_count": null,
      "outputs": []
    },
    {
      "cell_type": "markdown",
      "metadata": {
        "id": "kyys-TzcDH0f"
      },
      "source": [
        "### Hack-Time\n",
        "\n"
      ]
    },
    {
      "cell_type": "code",
      "metadata": {
        "id": "dic2b6dWDGse"
      },
      "source": [
        "# Finish recoding the `vote_int` variable\n"
      ],
      "execution_count": null,
      "outputs": []
    },
    {
      "cell_type": "markdown",
      "metadata": {
        "id": "ojBu85X999Wq"
      },
      "source": [
        "## Recoding Variables Using `replace()`\n",
        "\n",
        "One can also recode variables using the `replace()` method!\n",
        "\n",
        "Let's recode the `covid` variable this time using the `.replace()` method and dictionary!\n",
        "\n",
        "- [V201144x](https://sda.berkeley.edu/sdaweb/docs/nes2020/DOC/hcbk0005.htm#V201144x)"
      ]
    },
    {
      "cell_type": "code",
      "metadata": {
        "id": "hmYTx2i1IMPM"
      },
      "source": [
        "# What does the covid variable look like?\n",
        "new_df['covid'].value_counts()"
      ],
      "execution_count": null,
      "outputs": []
    },
    {
      "cell_type": "code",
      "metadata": {
        "id": "Sp_Cg9lzi_SR"
      },
      "source": [
        "# Creating two lists with the old and the new labels\n",
        "old_labels = [-2, 1, 2, 3, 4]\n",
        "new_labels = [\"Don't Know\", \"1.Approve strongly\", \"2.Approve not strongly\", \"3.Disapprove not strongly\", \"4.Disapprove strongly\"]\n"
      ],
      "execution_count": null,
      "outputs": []
    },
    {
      "cell_type": "code",
      "metadata": {
        "id": "btiDEei-Eykn"
      },
      "source": [
        "new_df['covid'].replace(old_labels, new_labels)\n"
      ],
      "execution_count": null,
      "outputs": []
    },
    {
      "cell_type": "code",
      "metadata": {
        "id": "s8w2-vYmIjl6"
      },
      "source": [
        "new_df['covid'].replace(old_labels, new_labels).value_counts()"
      ],
      "execution_count": null,
      "outputs": []
    },
    {
      "cell_type": "code",
      "metadata": {
        "id": "aYaHO31tFHuD"
      },
      "source": [
        "new_df['covid'] = new_df['covid'].replace(old_labels, new_labels)\n",
        "new_df['covid'].value_counts(normalize=True)"
      ],
      "execution_count": null,
      "outputs": []
    },
    {
      "cell_type": "code",
      "metadata": {
        "id": "NNx2sj8UT8Qg"
      },
      "source": [
        "new_df['covid'].value_counts(normalize=True).sort_index().plot(kind='bar')\n"
      ],
      "execution_count": null,
      "outputs": []
    },
    {
      "cell_type": "markdown",
      "metadata": {
        "id": "7y-t3ZhMMMhL"
      },
      "source": [
        "### Hack-Time"
      ]
    },
    {
      "cell_type": "code",
      "metadata": {
        "id": "-D-aAZXSMLuf"
      },
      "source": [
        "# Are citizens who approve the actions taken by the government to \n",
        "# handle covid more likely to liberal or conservative?\n",
        "# TIP: use pd.crosstabs!\n"
      ],
      "execution_count": null,
      "outputs": []
    },
    {
      "cell_type": "markdown",
      "metadata": {
        "id": "3qQz9R3LFah3"
      },
      "source": [
        "## Filtering or Recoding?\n",
        "\n",
        "Until now, we have been filtering out observations that we don't need without thinking about the consequences they can have on our results. \n",
        "\n",
        "If you apply multiple filters, you add bias to your dataset but you might also end up loosing a big part of your data! \n",
        "- **With less data we have less evidence to draw conclusions!**\n",
        "\n",
        "Let's try to predict the election outcome using pre-election data!"
      ]
    },
    {
      "cell_type": "code",
      "metadata": {
        "id": "BDe-VePf8V6m"
      },
      "source": [
        "# Filtering Out ALL Observations that are note Biden or Trump\n",
        "mask = df['vote_int'].between(1,2)\n",
        "filter_df = df[mask].copy()\n",
        "\n",
        "# Change Labels\n",
        "vote_int_labels = {\n",
        "    1: \"J.Biden\",\n",
        "    2: \"D.Trump\",\n",
        "}\n",
        "\n",
        "filtered_output = filter_df['vote_int'].replace(vote_int_labels).value_counts(normalize=True)\n",
        "filtered_output"
      ],
      "execution_count": null,
      "outputs": []
    },
    {
      "cell_type": "code",
      "metadata": {
        "id": "E15vn_ho5Mx8"
      },
      "source": [
        "# Recoding Observations\n",
        "mask = df[\"vote_int\"] > 0\n",
        "recoded_df = df[mask].copy()\n",
        "\n",
        "# Keeping all other vote choice intentions coded as \"Other\"\n",
        "mask = recoded_df[\"vote_int\"] > 2\n",
        "recoded_df.loc[mask, \"vote_int\"] = \"Other\"\n",
        "\n",
        "# Recoding the remaining labels using the previously created dictionary\n",
        "recoded_df[\"vote_int\"] = recoded_df[\"vote_int\"].replace(vote_int_labels)\n",
        "\n",
        "recoded_output = recoded_df[\"vote_int\"].value_counts(normalize=True)\n",
        "recoded_output\n"
      ],
      "execution_count": null,
      "outputs": []
    },
    {
      "cell_type": "code",
      "metadata": {
        "id": "nAom32haHpIt"
      },
      "source": [
        "print(\"The Filtered Output\")\n",
        "print(filtered_output)\n",
        "print(\"==============================\")\n",
        "print(\"The Recoded Output\")\n",
        "print(recoded_output)"
      ],
      "execution_count": null,
      "outputs": []
    },
    {
      "cell_type": "markdown",
      "metadata": {
        "id": "IkHVVo1bf0A2"
      },
      "source": [
        "# Creating New Variables (~ Adding New Columns)\n",
        "\n",
        "When you recode variables you might want to add a new variable to the original dataset to keep the orignial version of your variable.\n",
        "\n",
        "![](https://pandas.pydata.org/docs/_images/05_newcolumn_1.svg)\n",
        "\n",
        "\n"
      ]
    },
    {
      "cell_type": "code",
      "metadata": {
        "id": "hTJMolEeSsYM"
      },
      "source": [
        "recoded_df"
      ],
      "execution_count": null,
      "outputs": []
    },
    {
      "cell_type": "code",
      "metadata": {
        "id": "qtGMsA0ISjnm"
      },
      "source": [
        "recoded_df['my_new_var'] = 0\n",
        "recoded_df"
      ],
      "execution_count": null,
      "outputs": []
    },
    {
      "cell_type": "code",
      "metadata": {
        "id": "oC7J0WwHNYkl"
      },
      "source": [
        "# let's remove this variable\n",
        "recoded_df.drop('my_new_var', axis=1)\n",
        "recoded_df"
      ],
      "execution_count": null,
      "outputs": []
    },
    {
      "cell_type": "code",
      "metadata": {
        "id": "avgdndBaNx19"
      },
      "source": [
        "# we save!\n",
        "recoded_df = recoded_df.drop('my_new_var', axis=1)"
      ],
      "execution_count": null,
      "outputs": []
    },
    {
      "cell_type": "markdown",
      "metadata": {
        "id": "JnIrEv8HK8c5"
      },
      "source": [
        "# Hack-Time"
      ]
    },
    {
      "cell_type": "code",
      "metadata": {
        "id": "L9agq-gRK-DX"
      },
      "source": [
        "# Add a new binary variable that takes the value 1 when\n",
        "# the respondent intends to vote for Trump. \n",
        "# Name this variable `vote_trump`\n"
      ],
      "execution_count": null,
      "outputs": []
    },
    {
      "cell_type": "markdown",
      "metadata": {
        "id": "nSO8LvfmSgbQ"
      },
      "source": [
        "Let's now add a categorical age variable to our dataset!\n"
      ]
    },
    {
      "cell_type": "code",
      "metadata": {
        "id": "icV2zk62R8qh"
      },
      "source": [
        "# But how?\n",
        "mask = recoded_df['age'] >= 18\n",
        "recoded_df['age_cat'] = \"18-35\"\n",
        "mask = recoded_df['age'] >= 36 \n",
        "recoded_df['age_cat'] = \"36-50\"\n",
        "mask = recoded_df['age'] >= 51\n",
        "recoded_df['age_cat'] = \"51-65\"\n",
        "...\n",
        "...\n",
        "...\n",
        "# This is very tedious..."
      ],
      "execution_count": null,
      "outputs": []
    },
    {
      "cell_type": "markdown",
      "metadata": {
        "id": "MiMqVw_cLe6C"
      },
      "source": [
        "## The cut function\n",
        "The `pd.cut()` function allows us to convert a continuous variable into a discrete variable !"
      ]
    },
    {
      "cell_type": "code",
      "metadata": {
        "id": "9vfw3AK_KrtL"
      },
      "source": [
        "recoded_df[\"age_cat\"] = pd.cut(df[\"age\"], bins=[17,35,50,65,80], labels=[\"18-35\", \"36-50\", \"51-65\", \"66+\"])\n",
        "recoded_df\n"
      ],
      "execution_count": null,
      "outputs": []
    },
    {
      "cell_type": "code",
      "metadata": {
        "id": "XU1jIU7pPLSZ"
      },
      "source": [
        "recoded_df['age_cat'].value_counts().sort_index().plot(kind='bar')\n"
      ],
      "execution_count": null,
      "outputs": []
    },
    {
      "cell_type": "code",
      "metadata": {
        "id": "zx2jM4eBPciN"
      },
      "source": [
        "pd.crosstab(recoded_df['vote_int'], recoded_df['age_cat'], normalize=True).plot(kind='bar', subplots=True, figsize=(10,10), layout=(2,2));"
      ],
      "execution_count": null,
      "outputs": []
    },
    {
      "cell_type": "markdown",
      "metadata": {
        "id": "0zfsGOc8Oojq"
      },
      "source": [
        "### Hack-Time"
      ]
    },
    {
      "cell_type": "code",
      "metadata": {
        "id": "bsYmayDxOmNs"
      },
      "source": [
        "# Add a cleaned version of the covid variable named `clean_covid` \n"
      ],
      "execution_count": null,
      "outputs": []
    },
    {
      "cell_type": "code",
      "metadata": {
        "id": "QVgaOUmGPNv9"
      },
      "source": [
        "# Which age group agrees more with how the governement is handling covid?\n"
      ],
      "execution_count": null,
      "outputs": []
    }
  ]
}