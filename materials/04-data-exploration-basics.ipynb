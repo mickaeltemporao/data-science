{
  "nbformat": 4,
  "nbformat_minor": 0,
  "metadata": {
    "colab": {
      "name": "data-exploration-basics.ipynb",
      "provenance": [],
      "collapsed_sections": []
    },
    "kernelspec": {
      "name": "python3",
      "display_name": "Python 3"
    }
  },
  "cells": [
    {
      "cell_type": "markdown",
      "metadata": {
        "id": "s9nC5_RwqJcx"
      },
      "source": [
        "# Introduction to Data Exploration\n",
        "**Learning Objective:** \n",
        "- Learn to load a dataset\n",
        "- Learn to explore and visualise variables\n",
        "- Get familiar with common variable exploration functions\n",
        "\n",
        "## The Data Science Pipeline\n",
        "\n",
        "![](https://mickaeltemporao.github.io/itds/images/pipeline.jpg)"
      ]
    },
    {
      "cell_type": "markdown",
      "metadata": {
        "id": "sofsPeRDqNRO"
      },
      "source": [
        "## Data Acquisition\n",
        "With some Python basics we will start combining existing packages to acquire, and explore data.\n",
        "\n",
        "\n",
        "Before we can start looking into data, we need to load data into our machines.\n",
        "\n"
      ]
    },
    {
      "cell_type": "code",
      "metadata": {
        "id": "PTx-1l9i4MPy",
        "colab": {
          "base_uri": "https://localhost:8080/"
        },
        "outputId": "443f4495-4ef6-42e7-ec6e-9d872e9d87ca"
      },
      "source": [
        "# Load the required libraries\n",
        "import pandas as pd\n",
        "# Let's load real-world data with pandas\n",
        "data_url = \"https://raw.githubusercontent.com/datamisc/ts-2020/main/data.csv\"\n",
        "anes_data  = pd.read_csv(data_url, compression='gzip')\n"
      ],
      "execution_count": 4,
      "outputs": [
        {
          "output_type": "stream",
          "name": "stderr",
          "text": [
            "/usr/local/lib/python3.7/dist-packages/IPython/core/interactiveshell.py:2718: DtypeWarning: Columns (15,17,18,19,21,22,23,25,26,27,29,30,31,33,34,35,37,38,1508,1509) have mixed types.Specify dtype option on import or set low_memory=False.\n",
            "  interactivity=interactivity, compiler=compiler, result=result)\n"
          ]
        }
      ]
    },
    {
      "cell_type": "markdown",
      "metadata": {
        "id": "TGo1JjbCajS5"
      },
      "source": [
        "### Hack-Time"
      ]
    },
    {
      "cell_type": "code",
      "metadata": {
        "id": "sM1yRUnDalfT"
      },
      "source": [
        "# What is the type of anes_data?\n"
      ],
      "execution_count": 5,
      "outputs": []
    },
    {
      "cell_type": "markdown",
      "metadata": {
        "id": "PjjHzk6HXvgY"
      },
      "source": [
        "### Data Frames\n",
        "\n",
        "Data Frames are lists (or series when using pandas) that are put together in a table.\n",
        "\n",
        "![](https://storage.googleapis.com/lds-media/images/series-and-dataframe.width-1200.png)"
      ]
    },
    {
      "cell_type": "code",
      "metadata": {
        "id": "Jxan1N8bZ-ig"
      },
      "source": [
        "# A quick example\n",
        "\n",
        "turnout = [66.8, 55.7, 54.9, 58.2, 56.7, 51.2, 49.0]\n",
        "year = [2020, 2016, 2012, 2008, 2004, 2000, 1996]\n",
        "party = [\"Dem\", \"Rep\", \"Dem\", \"Dem\", \"Rep\", \"Rep\", \"Dem\"]\n",
        "\n",
        "# We are creating a data frame from scratch\n",
        "my_data = pd.DataFrame(\n",
        "    {\n",
        "        'turnout': turnout,\n",
        "        'year': year,\n",
        "        'party': party,\n",
        "    }\n",
        ")\n"
      ],
      "execution_count": 6,
      "outputs": []
    },
    {
      "cell_type": "code",
      "metadata": {
        "colab": {
          "base_uri": "https://localhost:8080/"
        },
        "id": "Tl4Ae1YLcn35",
        "outputId": "0f810461-d05d-431e-8be8-ca9bd10559bd"
      },
      "source": [
        "# What is the type of `my_data`\n",
        "type(my_data)\n"
      ],
      "execution_count": 7,
      "outputs": [
        {
          "output_type": "execute_result",
          "data": {
            "text/plain": [
              "pandas.core.frame.DataFrame"
            ]
          },
          "metadata": {},
          "execution_count": 7
        }
      ]
    },
    {
      "cell_type": "code",
      "metadata": {
        "colab": {
          "base_uri": "https://localhost:8080/",
          "height": 266
        },
        "id": "TxI12tkYbgHQ",
        "outputId": "5965409c-482f-4206-a33c-ba10c6b8d2db"
      },
      "source": [
        "# Take a look at new dataset you just created\n",
        "my_data\n"
      ],
      "execution_count": 8,
      "outputs": [
        {
          "output_type": "execute_result",
          "data": {
            "text/html": [
              "<div>\n",
              "<style scoped>\n",
              "    .dataframe tbody tr th:only-of-type {\n",
              "        vertical-align: middle;\n",
              "    }\n",
              "\n",
              "    .dataframe tbody tr th {\n",
              "        vertical-align: top;\n",
              "    }\n",
              "\n",
              "    .dataframe thead th {\n",
              "        text-align: right;\n",
              "    }\n",
              "</style>\n",
              "<table border=\"1\" class=\"dataframe\">\n",
              "  <thead>\n",
              "    <tr style=\"text-align: right;\">\n",
              "      <th></th>\n",
              "      <th>turnout</th>\n",
              "      <th>year</th>\n",
              "      <th>party</th>\n",
              "    </tr>\n",
              "  </thead>\n",
              "  <tbody>\n",
              "    <tr>\n",
              "      <th>0</th>\n",
              "      <td>66.8</td>\n",
              "      <td>2020</td>\n",
              "      <td>Dem</td>\n",
              "    </tr>\n",
              "    <tr>\n",
              "      <th>1</th>\n",
              "      <td>55.7</td>\n",
              "      <td>2016</td>\n",
              "      <td>Rep</td>\n",
              "    </tr>\n",
              "    <tr>\n",
              "      <th>2</th>\n",
              "      <td>54.9</td>\n",
              "      <td>2012</td>\n",
              "      <td>Dem</td>\n",
              "    </tr>\n",
              "    <tr>\n",
              "      <th>3</th>\n",
              "      <td>58.2</td>\n",
              "      <td>2008</td>\n",
              "      <td>Dem</td>\n",
              "    </tr>\n",
              "    <tr>\n",
              "      <th>4</th>\n",
              "      <td>56.7</td>\n",
              "      <td>2004</td>\n",
              "      <td>Rep</td>\n",
              "    </tr>\n",
              "    <tr>\n",
              "      <th>5</th>\n",
              "      <td>51.2</td>\n",
              "      <td>2000</td>\n",
              "      <td>Rep</td>\n",
              "    </tr>\n",
              "    <tr>\n",
              "      <th>6</th>\n",
              "      <td>49.0</td>\n",
              "      <td>1996</td>\n",
              "      <td>Dem</td>\n",
              "    </tr>\n",
              "  </tbody>\n",
              "</table>\n",
              "</div>"
            ],
            "text/plain": [
              "   turnout  year party\n",
              "0     66.8  2020   Dem\n",
              "1     55.7  2016   Rep\n",
              "2     54.9  2012   Dem\n",
              "3     58.2  2008   Dem\n",
              "4     56.7  2004   Rep\n",
              "5     51.2  2000   Rep\n",
              "6     49.0  1996   Dem"
            ]
          },
          "metadata": {},
          "execution_count": 8
        }
      ]
    },
    {
      "cell_type": "code",
      "metadata": {
        "colab": {
          "base_uri": "https://localhost:8080/"
        },
        "id": "7hsjrwPXdIkc",
        "outputId": "0af27427-2a6b-4254-cc84-019d2988cc26"
      },
      "source": [
        "# We can also learn more about our object by using the `.info()` method.\n",
        "my_data.info()\n"
      ],
      "execution_count": 9,
      "outputs": [
        {
          "output_type": "stream",
          "name": "stdout",
          "text": [
            "<class 'pandas.core.frame.DataFrame'>\n",
            "RangeIndex: 7 entries, 0 to 6\n",
            "Data columns (total 3 columns):\n",
            " #   Column   Non-Null Count  Dtype  \n",
            "---  ------   --------------  -----  \n",
            " 0   turnout  7 non-null      float64\n",
            " 1   year     7 non-null      int64  \n",
            " 2   party    7 non-null      object \n",
            "dtypes: float64(1), int64(1), object(1)\n",
            "memory usage: 296.0+ bytes\n"
          ]
        }
      ]
    },
    {
      "cell_type": "code",
      "metadata": {
        "colab": {
          "base_uri": "https://localhost:8080/",
          "height": 204
        },
        "id": "BtLtKNiLdXHx",
        "outputId": "3aca5854-e05b-476a-deb0-08cbb4876ecc"
      },
      "source": [
        "# When your dataset is too long might just want to print the first couple \n",
        "# observations (rows) by using the `.head()` method.\n",
        "my_data.head()\n"
      ],
      "execution_count": 10,
      "outputs": [
        {
          "output_type": "execute_result",
          "data": {
            "text/html": [
              "<div>\n",
              "<style scoped>\n",
              "    .dataframe tbody tr th:only-of-type {\n",
              "        vertical-align: middle;\n",
              "    }\n",
              "\n",
              "    .dataframe tbody tr th {\n",
              "        vertical-align: top;\n",
              "    }\n",
              "\n",
              "    .dataframe thead th {\n",
              "        text-align: right;\n",
              "    }\n",
              "</style>\n",
              "<table border=\"1\" class=\"dataframe\">\n",
              "  <thead>\n",
              "    <tr style=\"text-align: right;\">\n",
              "      <th></th>\n",
              "      <th>turnout</th>\n",
              "      <th>year</th>\n",
              "      <th>party</th>\n",
              "    </tr>\n",
              "  </thead>\n",
              "  <tbody>\n",
              "    <tr>\n",
              "      <th>0</th>\n",
              "      <td>66.8</td>\n",
              "      <td>2020</td>\n",
              "      <td>Dem</td>\n",
              "    </tr>\n",
              "    <tr>\n",
              "      <th>1</th>\n",
              "      <td>55.7</td>\n",
              "      <td>2016</td>\n",
              "      <td>Rep</td>\n",
              "    </tr>\n",
              "    <tr>\n",
              "      <th>2</th>\n",
              "      <td>54.9</td>\n",
              "      <td>2012</td>\n",
              "      <td>Dem</td>\n",
              "    </tr>\n",
              "    <tr>\n",
              "      <th>3</th>\n",
              "      <td>58.2</td>\n",
              "      <td>2008</td>\n",
              "      <td>Dem</td>\n",
              "    </tr>\n",
              "    <tr>\n",
              "      <th>4</th>\n",
              "      <td>56.7</td>\n",
              "      <td>2004</td>\n",
              "      <td>Rep</td>\n",
              "    </tr>\n",
              "  </tbody>\n",
              "</table>\n",
              "</div>"
            ],
            "text/plain": [
              "   turnout  year party\n",
              "0     66.8  2020   Dem\n",
              "1     55.7  2016   Rep\n",
              "2     54.9  2012   Dem\n",
              "3     58.2  2008   Dem\n",
              "4     56.7  2004   Rep"
            ]
          },
          "metadata": {},
          "execution_count": 10
        }
      ]
    },
    {
      "cell_type": "markdown",
      "metadata": {
        "id": "trP4mKZmdDEC"
      },
      "source": [
        "### Hack-Time"
      ]
    },
    {
      "cell_type": "code",
      "metadata": {
        "id": "vEwdBpyOejCx"
      },
      "source": [
        "# Take a look at the head of the ANES data\n"
      ],
      "execution_count": 11,
      "outputs": []
    },
    {
      "cell_type": "code",
      "metadata": {
        "id": "fhxx1QQS9WfG"
      },
      "source": [
        "# Take a look at the info of the ANES data\n"
      ],
      "execution_count": 12,
      "outputs": []
    },
    {
      "cell_type": "markdown",
      "metadata": {
        "id": "pA9ntSZReuBd"
      },
      "source": [
        "## Data Exploration - Variables\n",
        "\n",
        "Now that you have your data, the next step is to get familiar with it. \n",
        "\n",
        "Most of the time you are interested in some specific concepts. \n",
        "- You need a way to only select the variables related to your concepts.\n"
      ]
    },
    {
      "cell_type": "markdown",
      "metadata": {
        "id": "IkHVVo1bf0A2"
      },
      "source": [
        "### Selecting Variables (Columns)\n",
        "\n",
        "Let's say you want to explore the vote of us citizens (V201033).\n",
        "\n",
        "- We can use square brackets on a DataFrame object to select a single column!\n",
        "- We can also use a list of strings containing column namesto select multiple columns!\n",
        "\n",
        "![](https://pandas.pydata.org/docs/_images/03_subset_columns.svg)\n"
      ]
    },
    {
      "cell_type": "code",
      "metadata": {
        "colab": {
          "base_uri": "https://localhost:8080/"
        },
        "id": "KzxO4FXnfRb6",
        "outputId": "8c182efa-938b-4b8b-c3c4-aea30f640abb"
      },
      "source": [
        "# The `columns` attribute allows you to get the column names of a dataframe\n",
        "anes_data.columns"
      ],
      "execution_count": 13,
      "outputs": [
        {
          "output_type": "execute_result",
          "data": {
            "text/plain": [
              "Index(['version', 'V200001', 'V160001_orig', 'V200002', 'V200003', 'V200004',\n",
              "       'V200005', 'V200006', 'V200007', 'V200008',\n",
              "       ...\n",
              "       'V203518', 'V203519', 'V203520', 'V203521', 'V203522', 'V203523',\n",
              "       'V203524', 'V203525', 'V203526', 'V203527'],\n",
              "      dtype='object', length=1771)"
            ]
          },
          "metadata": {},
          "execution_count": 13
        }
      ]
    },
    {
      "cell_type": "code",
      "metadata": {
        "colab": {
          "base_uri": "https://localhost:8080/"
        },
        "id": "GL8_tCSygqbF",
        "outputId": "8842af59-95d2-4055-9b77-f9dfc869eb3d"
      },
      "source": [
        "# Selecting the voting intent variable\n",
        "anes_data[\"V201033\"]\n"
      ],
      "execution_count": 14,
      "outputs": [
        {
          "output_type": "execute_result",
          "data": {
            "text/plain": [
              "0       2\n",
              "1       3\n",
              "2       1\n",
              "3       1\n",
              "4       2\n",
              "       ..\n",
              "8275    2\n",
              "8276    2\n",
              "8277    1\n",
              "8278   -1\n",
              "8279    1\n",
              "Name: V201033, Length: 8280, dtype: int64"
            ]
          },
          "metadata": {},
          "execution_count": 14
        }
      ]
    },
    {
      "cell_type": "code",
      "metadata": {
        "colab": {
          "base_uri": "https://localhost:8080/"
        },
        "id": "H6ruHSNNhYPU",
        "outputId": "80047a1b-2ecf-4280-84f5-dcd13038e445"
      },
      "source": [
        "# We can also save it in a new object and check it's type\n",
        "vote_int = anes_data[\"V201033\"]\n",
        "type(vote_int)\n"
      ],
      "execution_count": 15,
      "outputs": [
        {
          "output_type": "execute_result",
          "data": {
            "text/plain": [
              "pandas.core.series.Series"
            ]
          },
          "metadata": {},
          "execution_count": 15
        }
      ]
    },
    {
      "cell_type": "markdown",
      "metadata": {
        "id": "_Lz4Yy0hCONq"
      },
      "source": [
        "Let's say know you want to also learn who people intend to vote for as a function of their age and ideology? In this case you might need to select multiple variables."
      ]
    },
    {
      "cell_type": "code",
      "metadata": {
        "colab": {
          "base_uri": "https://localhost:8080/",
          "height": 419
        },
        "id": "lSvx6njm5GQR",
        "outputId": "eb920de7-bae0-4bc0-8799-a282ce6be6a8"
      },
      "source": [
        "# Selecting multiple columns\n",
        "my_vars = [\n",
        "    \"V201032\",  # intend to vote\n",
        "    \"V201033\",  # intend to vote for\n",
        "    \"V201507x\",  # age\n",
        "    \"V201200\",  # liberal-conservative self-placement\n",
        "]\n",
        "\n",
        "anes_data[my_vars]"
      ],
      "execution_count": 16,
      "outputs": [
        {
          "output_type": "execute_result",
          "data": {
            "text/html": [
              "<div>\n",
              "<style scoped>\n",
              "    .dataframe tbody tr th:only-of-type {\n",
              "        vertical-align: middle;\n",
              "    }\n",
              "\n",
              "    .dataframe tbody tr th {\n",
              "        vertical-align: top;\n",
              "    }\n",
              "\n",
              "    .dataframe thead th {\n",
              "        text-align: right;\n",
              "    }\n",
              "</style>\n",
              "<table border=\"1\" class=\"dataframe\">\n",
              "  <thead>\n",
              "    <tr style=\"text-align: right;\">\n",
              "      <th></th>\n",
              "      <th>V201032</th>\n",
              "      <th>V201033</th>\n",
              "      <th>V201507x</th>\n",
              "      <th>V201200</th>\n",
              "    </tr>\n",
              "  </thead>\n",
              "  <tbody>\n",
              "    <tr>\n",
              "      <th>0</th>\n",
              "      <td>1</td>\n",
              "      <td>2</td>\n",
              "      <td>46</td>\n",
              "      <td>6</td>\n",
              "    </tr>\n",
              "    <tr>\n",
              "      <th>1</th>\n",
              "      <td>1</td>\n",
              "      <td>3</td>\n",
              "      <td>37</td>\n",
              "      <td>4</td>\n",
              "    </tr>\n",
              "    <tr>\n",
              "      <th>2</th>\n",
              "      <td>1</td>\n",
              "      <td>1</td>\n",
              "      <td>40</td>\n",
              "      <td>2</td>\n",
              "    </tr>\n",
              "    <tr>\n",
              "      <th>3</th>\n",
              "      <td>1</td>\n",
              "      <td>1</td>\n",
              "      <td>41</td>\n",
              "      <td>3</td>\n",
              "    </tr>\n",
              "    <tr>\n",
              "      <th>4</th>\n",
              "      <td>1</td>\n",
              "      <td>2</td>\n",
              "      <td>72</td>\n",
              "      <td>5</td>\n",
              "    </tr>\n",
              "    <tr>\n",
              "      <th>...</th>\n",
              "      <td>...</td>\n",
              "      <td>...</td>\n",
              "      <td>...</td>\n",
              "      <td>...</td>\n",
              "    </tr>\n",
              "    <tr>\n",
              "      <th>8275</th>\n",
              "      <td>1</td>\n",
              "      <td>2</td>\n",
              "      <td>26</td>\n",
              "      <td>99</td>\n",
              "    </tr>\n",
              "    <tr>\n",
              "      <th>8276</th>\n",
              "      <td>1</td>\n",
              "      <td>2</td>\n",
              "      <td>52</td>\n",
              "      <td>6</td>\n",
              "    </tr>\n",
              "    <tr>\n",
              "      <th>8277</th>\n",
              "      <td>1</td>\n",
              "      <td>1</td>\n",
              "      <td>45</td>\n",
              "      <td>4</td>\n",
              "    </tr>\n",
              "    <tr>\n",
              "      <th>8278</th>\n",
              "      <td>-1</td>\n",
              "      <td>-1</td>\n",
              "      <td>65</td>\n",
              "      <td>6</td>\n",
              "    </tr>\n",
              "    <tr>\n",
              "      <th>8279</th>\n",
              "      <td>1</td>\n",
              "      <td>1</td>\n",
              "      <td>38</td>\n",
              "      <td>2</td>\n",
              "    </tr>\n",
              "  </tbody>\n",
              "</table>\n",
              "<p>8280 rows × 4 columns</p>\n",
              "</div>"
            ],
            "text/plain": [
              "      V201032  V201033  V201507x  V201200\n",
              "0           1        2        46        6\n",
              "1           1        3        37        4\n",
              "2           1        1        40        2\n",
              "3           1        1        41        3\n",
              "4           1        2        72        5\n",
              "...       ...      ...       ...      ...\n",
              "8275        1        2        26       99\n",
              "8276        1        2        52        6\n",
              "8277        1        1        45        4\n",
              "8278       -1       -1        65        6\n",
              "8279        1        1        38        2\n",
              "\n",
              "[8280 rows x 4 columns]"
            ]
          },
          "metadata": {},
          "execution_count": 16
        }
      ]
    },
    {
      "cell_type": "code",
      "metadata": {
        "colab": {
          "base_uri": "https://localhost:8080/",
          "height": 238
        },
        "id": "pRzGulK76ZYx",
        "outputId": "91dc4bcd-03b8-467f-c144-155bd355df46"
      },
      "source": [
        "# Save this smaller subset of variables into my_df\n",
        "my_df = anes_data[my_vars]\n",
        "print(type(my_df))\n",
        "print(my_df.columns)\n",
        "my_df.head()"
      ],
      "execution_count": 17,
      "outputs": [
        {
          "output_type": "stream",
          "name": "stdout",
          "text": [
            "<class 'pandas.core.frame.DataFrame'>\n",
            "Index(['V201032', 'V201033', 'V201507x', 'V201200'], dtype='object')\n"
          ]
        },
        {
          "output_type": "execute_result",
          "data": {
            "text/html": [
              "<div>\n",
              "<style scoped>\n",
              "    .dataframe tbody tr th:only-of-type {\n",
              "        vertical-align: middle;\n",
              "    }\n",
              "\n",
              "    .dataframe tbody tr th {\n",
              "        vertical-align: top;\n",
              "    }\n",
              "\n",
              "    .dataframe thead th {\n",
              "        text-align: right;\n",
              "    }\n",
              "</style>\n",
              "<table border=\"1\" class=\"dataframe\">\n",
              "  <thead>\n",
              "    <tr style=\"text-align: right;\">\n",
              "      <th></th>\n",
              "      <th>V201032</th>\n",
              "      <th>V201033</th>\n",
              "      <th>V201507x</th>\n",
              "      <th>V201200</th>\n",
              "    </tr>\n",
              "  </thead>\n",
              "  <tbody>\n",
              "    <tr>\n",
              "      <th>0</th>\n",
              "      <td>1</td>\n",
              "      <td>2</td>\n",
              "      <td>46</td>\n",
              "      <td>6</td>\n",
              "    </tr>\n",
              "    <tr>\n",
              "      <th>1</th>\n",
              "      <td>1</td>\n",
              "      <td>3</td>\n",
              "      <td>37</td>\n",
              "      <td>4</td>\n",
              "    </tr>\n",
              "    <tr>\n",
              "      <th>2</th>\n",
              "      <td>1</td>\n",
              "      <td>1</td>\n",
              "      <td>40</td>\n",
              "      <td>2</td>\n",
              "    </tr>\n",
              "    <tr>\n",
              "      <th>3</th>\n",
              "      <td>1</td>\n",
              "      <td>1</td>\n",
              "      <td>41</td>\n",
              "      <td>3</td>\n",
              "    </tr>\n",
              "    <tr>\n",
              "      <th>4</th>\n",
              "      <td>1</td>\n",
              "      <td>2</td>\n",
              "      <td>72</td>\n",
              "      <td>5</td>\n",
              "    </tr>\n",
              "  </tbody>\n",
              "</table>\n",
              "</div>"
            ],
            "text/plain": [
              "   V201032  V201033  V201507x  V201200\n",
              "0        1        2        46        6\n",
              "1        1        3        37        4\n",
              "2        1        1        40        2\n",
              "3        1        1        41        3\n",
              "4        1        2        72        5"
            ]
          },
          "metadata": {},
          "execution_count": 17
        }
      ]
    },
    {
      "cell_type": "markdown",
      "metadata": {
        "id": "K61m2KjK8BiA"
      },
      "source": [
        "To avoid always having to check the codebook let's clean our data a bit by making the column names more explicit."
      ]
    },
    {
      "cell_type": "code",
      "metadata": {
        "colab": {
          "base_uri": "https://localhost:8080/",
          "height": 204
        },
        "id": "luNYIaFY60Nn",
        "outputId": "6ad442ca-d937-4e11-9b87-eef80ce16ad7"
      },
      "source": [
        "# Renaming the columns\n",
        "my_df.columns = [\"vote\", \"vote_int\", \"age\", \"ideology\"]\n",
        "my_df.head()"
      ],
      "execution_count": 18,
      "outputs": [
        {
          "output_type": "execute_result",
          "data": {
            "text/html": [
              "<div>\n",
              "<style scoped>\n",
              "    .dataframe tbody tr th:only-of-type {\n",
              "        vertical-align: middle;\n",
              "    }\n",
              "\n",
              "    .dataframe tbody tr th {\n",
              "        vertical-align: top;\n",
              "    }\n",
              "\n",
              "    .dataframe thead th {\n",
              "        text-align: right;\n",
              "    }\n",
              "</style>\n",
              "<table border=\"1\" class=\"dataframe\">\n",
              "  <thead>\n",
              "    <tr style=\"text-align: right;\">\n",
              "      <th></th>\n",
              "      <th>vote</th>\n",
              "      <th>vote_int</th>\n",
              "      <th>age</th>\n",
              "      <th>ideology</th>\n",
              "    </tr>\n",
              "  </thead>\n",
              "  <tbody>\n",
              "    <tr>\n",
              "      <th>0</th>\n",
              "      <td>1</td>\n",
              "      <td>2</td>\n",
              "      <td>46</td>\n",
              "      <td>6</td>\n",
              "    </tr>\n",
              "    <tr>\n",
              "      <th>1</th>\n",
              "      <td>1</td>\n",
              "      <td>3</td>\n",
              "      <td>37</td>\n",
              "      <td>4</td>\n",
              "    </tr>\n",
              "    <tr>\n",
              "      <th>2</th>\n",
              "      <td>1</td>\n",
              "      <td>1</td>\n",
              "      <td>40</td>\n",
              "      <td>2</td>\n",
              "    </tr>\n",
              "    <tr>\n",
              "      <th>3</th>\n",
              "      <td>1</td>\n",
              "      <td>1</td>\n",
              "      <td>41</td>\n",
              "      <td>3</td>\n",
              "    </tr>\n",
              "    <tr>\n",
              "      <th>4</th>\n",
              "      <td>1</td>\n",
              "      <td>2</td>\n",
              "      <td>72</td>\n",
              "      <td>5</td>\n",
              "    </tr>\n",
              "  </tbody>\n",
              "</table>\n",
              "</div>"
            ],
            "text/plain": [
              "   vote  vote_int  age  ideology\n",
              "0     1         2   46         6\n",
              "1     1         3   37         4\n",
              "2     1         1   40         2\n",
              "3     1         1   41         3\n",
              "4     1         2   72         5"
            ]
          },
          "metadata": {},
          "execution_count": 18
        }
      ]
    },
    {
      "cell_type": "markdown",
      "metadata": {
        "id": "uZeNcun7h34Y"
      },
      "source": [
        "### Useful Methods\n",
        "Series and Data Frames provide very useful methods to quickly learn about the data. Here a some common ones\n",
        "\n",
        "- `mean()`\n",
        "- `std()`\n",
        "- `min()`\n",
        "- `max()`\n",
        "- `count()`\n",
        "- `describe()`\n",
        "- `value_counts()`\n"
      ]
    },
    {
      "cell_type": "code",
      "metadata": {
        "colab": {
          "base_uri": "https://localhost:8080/"
        },
        "id": "QzEJbxQi_6bT",
        "outputId": "e6506df5-a456-40d7-a176-641413de8b05"
      },
      "source": [
        "# How many people indent to vote?\n",
        "my_df[\"vote\"].value_counts()\n"
      ],
      "execution_count": 19,
      "outputs": [
        {
          "output_type": "execute_result",
          "data": {
            "text/plain": [
              " 1    7272\n",
              " 2     570\n",
              "-1     415\n",
              "-9      13\n",
              "-8      10\n",
              "Name: vote, dtype: int64"
            ]
          },
          "metadata": {},
          "execution_count": 19
        }
      ]
    },
    {
      "cell_type": "code",
      "metadata": {
        "id": "phhwXsIDCWh_",
        "outputId": "409fe43f-290f-4ee7-9bb2-cf3e4e6edcf9",
        "colab": {
          "base_uri": "https://localhost:8080/"
        }
      },
      "source": [
        "# What percentage of people intend to vote? \n",
        "my_df[\"vote\"].value_counts(normalize=True)\n"
      ],
      "execution_count": 20,
      "outputs": [
        {
          "output_type": "execute_result",
          "data": {
            "text/plain": [
              " 1    0.878261\n",
              " 2    0.068841\n",
              "-1    0.050121\n",
              "-9    0.001570\n",
              "-8    0.001208\n",
              "Name: vote, dtype: float64"
            ]
          },
          "metadata": {},
          "execution_count": 20
        }
      ]
    },
    {
      "cell_type": "code",
      "metadata": {
        "id": "gU0f_x8fDWQ5",
        "outputId": "ecd61b90-e601-4feb-9847-886b052ee83e",
        "colab": {
          "base_uri": "https://localhost:8080/"
        }
      },
      "source": [
        "# A little cleaner\n",
        "my_results = my_df[\"vote\"].value_counts(normalize=True) * 100\n",
        "my_results.round(1)\n"
      ],
      "execution_count": 21,
      "outputs": [
        {
          "output_type": "execute_result",
          "data": {
            "text/plain": [
              " 1    87.8\n",
              " 2     6.9\n",
              "-1     5.0\n",
              "-9     0.2\n",
              "-8     0.1\n",
              "Name: vote, dtype: float64"
            ]
          },
          "metadata": {},
          "execution_count": 21
        }
      ]
    },
    {
      "cell_type": "markdown",
      "metadata": {
        "id": "7uhzEzYc_HLV"
      },
      "source": [
        "### Hack-Time"
      ]
    },
    {
      "cell_type": "code",
      "metadata": {
        "id": "yrjyCz-T_J2H"
      },
      "source": [
        "# What is the average age of the respodents in the ANES dataset?\n"
      ],
      "execution_count": 22,
      "outputs": []
    },
    {
      "cell_type": "code",
      "metadata": {
        "id": "IoJiu6FzhzDX"
      },
      "source": [
        "# What is the average ideology of the respondents in the ANES dataset?\n"
      ],
      "execution_count": 23,
      "outputs": []
    },
    {
      "cell_type": "code",
      "metadata": {
        "id": "ZVrcr5IZF_dY"
      },
      "source": [
        "# What is the proportion of people who intend to vote for each D. Trump?\n"
      ],
      "execution_count": 24,
      "outputs": []
    },
    {
      "cell_type": "markdown",
      "metadata": {
        "id": "AHbwTF39Wize"
      },
      "source": [
        "## Data Visualisation\n",
        "\n",
        "Once you have found some information that you need. It is usually a good idea to plot your results. As sometimes, a visualisation will help you better understand the problems in your data!\n",
        "\n",
        "Most of the times you will use bar plots and histograms to visualise a single variable, depending on its type.\n",
        "\n",
        "### Types of data\n",
        "\n",
        "We have seen that there are different types of data in python (strings, integers, floats, booleans, ...). When doing research we can group data in two broad families:\n",
        "\n",
        "**Continuous** data can take an infinite number of values.\n",
        "- The height of a student (eg. 182.5 cm)\n",
        "- For these variables you will usually use **histograms**.\n",
        "\n",
        "**Discrete** data can only take a finite number of values.\n",
        "- The number of students in a class (eg. 22)\n",
        "- For these variables you will usually use **bar plots**.\n",
        "- **Don't forget to summarise your data before plotting!**\n",
        "    - Otherwise your computer won't be happy...\n",
        "\n",
        "### Pandas Plotting API\n",
        "\n",
        "You can use pandas to plot your results using the `.plot()` method on a DataFrame or Series object.\n",
        "\n",
        "For more information click [**here**](https://pandas.pydata.org/docs/reference/api/pandas.DataFrame.plot.html).\n"
      ]
    },
    {
      "cell_type": "code",
      "metadata": {
        "id": "zi8CqadakRDC",
        "colab": {
          "base_uri": "https://localhost:8080/",
          "height": 282
        },
        "outputId": "2b9f0893-e7b8-410f-c887-6c851783da14"
      },
      "source": [
        "# Let's plot the distribution of the vote variable.\n",
        "my_df[\"age\"].plot(kind=\"hist\")\n",
        "\n"
      ],
      "execution_count": 32,
      "outputs": [
        {
          "output_type": "execute_result",
          "data": {
            "text/plain": [
              "<matplotlib.axes._subplots.AxesSubplot at 0x7f6e030ea350>"
            ]
          },
          "metadata": {},
          "execution_count": 32
        },
        {
          "output_type": "display_data",
          "data": {
            "image/png": "[encoded data removed]",
            "text/plain": [
              "<Figure size 432x288 with 1 Axes>"
            ]
          },
          "metadata": {
            "needs_background": "light"
          }
        }
      ]
    },
    {
      "cell_type": "code",
      "metadata": {
        "id": "rpPHD8cYJxv-",
        "outputId": "356cfcb9-0b86-4db9-bb9c-db6e63d548cf",
        "colab": {
          "base_uri": "https://localhost:8080/",
          "height": 282
        }
      },
      "source": [
        "# Digging Deeper\n",
        "my_df[\"age\"].plot(kind=\"hist\", bins=40)\n",
        "\n"
      ],
      "execution_count": 36,
      "outputs": [
        {
          "output_type": "execute_result",
          "data": {
            "text/plain": [
              "<matplotlib.axes._subplots.AxesSubplot at 0x7f6e02c01a50>"
            ]
          },
          "metadata": {},
          "execution_count": 36
        },
        {
          "output_type": "display_data",
          "data": {
            "image/png": "[encoded data removed]",
            "text/plain": [
              "<Figure size 432x288 with 1 Axes>"
            ]
          },
          "metadata": {
            "needs_background": "light"
          }
        }
      ]
    },
    {
      "cell_type": "code",
      "metadata": {
        "id": "MQ-ZTN0QKNfL"
      },
      "source": [
        "# Let's look at participation\n",
        "my_results.plot(kind=\"bar\")\n"
      ],
      "execution_count": null,
      "outputs": []
    },
    {
      "cell_type": "markdown",
      "metadata": {
        "id": "GaMlGC8qKUX3"
      },
      "source": [
        "### Hack-Time"
      ]
    },
    {
      "cell_type": "code",
      "metadata": {
        "id": "dlzbVSmYKTGH",
        "outputId": "79c23b88-1883-482c-dee4-589b3985209e",
        "colab": {
          "base_uri": "https://localhost:8080/",
          "height": 285
        }
      },
      "source": [
        "# Are US citizens polarized? \n"
      ],
      "execution_count": 42,
      "outputs": [
        {
          "output_type": "execute_result",
          "data": {
            "text/plain": [
              "<matplotlib.axes._subplots.AxesSubplot at 0x7f6df84bed90>"
            ]
          },
          "metadata": {},
          "execution_count": 42
        },
        {
          "output_type": "display_data",
          "data": {
            "image/png": "[encoded data removed]",
            "text/plain": [
              "<Figure size 432x288 with 1 Axes>"
            ]
          },
          "metadata": {
            "needs_background": "light"
          }
        }
      ]
    },
    {
      "cell_type": "code",
      "metadata": {
        "id": "ypoaCXVZMxRq",
        "outputId": "cdbda01a-adfb-4742-cee0-762886812c19",
        "colab": {
          "base_uri": "https://localhost:8080/",
          "height": 285
        }
      },
      "source": [
        "# Who would win the popular vote according to the ANES 2020?\n"
      ],
      "execution_count": 45,
      "outputs": [
        {
          "output_type": "execute_result",
          "data": {
            "text/plain": [
              "<matplotlib.axes._subplots.AxesSubplot at 0x7f6df6a73350>"
            ]
          },
          "metadata": {},
          "execution_count": 45
        },
        {
          "output_type": "display_data",
          "data": {
            "image/png": "[encoded data removed]",
            "text/plain": [
              "<Figure size 432x288 with 1 Axes>"
            ]
          },
          "metadata": {
            "needs_background": "light"
          }
        }
      ]
    },
    {
      "cell_type": "markdown",
      "metadata": {
        "id": "R30Sw-VXb1KC"
      },
      "source": [
        "### Going further\n",
        "\n",
        "There are many options to play with and improve a figure. \n",
        "When you are looking for help to change something on a figure, if you have the right terminology it is quite easy to find help!\n",
        "\n",
        "#### Anatomy of a Figure\n",
        "![Anatomy of a Figure](https://matplotlib.org/3.1.1/_images/anatomy.png)"
      ]
    },
    {
      "cell_type": "markdown",
      "metadata": {
        "id": "Kylh_2scNC9e"
      },
      "source": [
        "Let's try to improve our voting intentions figure."
      ]
    },
    {
      "cell_type": "code",
      "metadata": {
        "id": "k-IitsOSINUx"
      },
      "source": [
        "# Filtering data\n",
        "\n",
        "vote_int = \"V201033\"  # The name of the voting intentions variables in the ANES\n",
        "mask = (df[vote_int] > 0) & (df[vote_int] < 5)  # Keeping relevant observations\n",
        "\n",
        "# Summarizing the data\n",
        "tmp_data = df[vote_int].loc[mask].replace(\n",
        "    {1:\"Biden\", 2:\"Trump\", 3:\"Jorgensen\", 4:\"Hawkins\"}\n",
        ").value_counts(\n",
        "    normalize=True\n",
        ")\n",
        "\n",
        "# Making a plot/graphic/figure\n",
        "tmp_data.plot.bar(\n",
        "    title=\"Voting Intentions\", \n",
        "    ylabel=\"Percentage\",\n",
        ");\n"
      ],
      "execution_count": null,
      "outputs": []
    },
    {
      "cell_type": "code",
      "metadata": {
        "id": "DrIB9JK2EwKG",
        "outputId": "32656ef7-cee4-4d17-a787-31f76e6fe2fd",
        "colab": {
          "base_uri": "https://localhost:8080/",
          "height": 390
        }
      },
      "source": [
        "# What is the average by intention to vote?\n",
        "my_df.groupby('vote_int').age.describe()"
      ],
      "execution_count": 59,
      "outputs": [
        {
          "output_type": "execute_result",
          "data": {
            "text/html": [
              "<div>\n",
              "<style scoped>\n",
              "    .dataframe tbody tr th:only-of-type {\n",
              "        vertical-align: middle;\n",
              "    }\n",
              "\n",
              "    .dataframe tbody tr th {\n",
              "        vertical-align: top;\n",
              "    }\n",
              "\n",
              "    .dataframe thead th {\n",
              "        text-align: right;\n",
              "    }\n",
              "</style>\n",
              "<table border=\"1\" class=\"dataframe\">\n",
              "  <thead>\n",
              "    <tr style=\"text-align: right;\">\n",
              "      <th></th>\n",
              "      <th>count</th>\n",
              "      <th>mean</th>\n",
              "      <th>std</th>\n",
              "      <th>min</th>\n",
              "      <th>25%</th>\n",
              "      <th>50%</th>\n",
              "      <th>75%</th>\n",
              "      <th>max</th>\n",
              "    </tr>\n",
              "    <tr>\n",
              "      <th>vote_int</th>\n",
              "      <th></th>\n",
              "      <th></th>\n",
              "      <th></th>\n",
              "      <th></th>\n",
              "      <th></th>\n",
              "      <th></th>\n",
              "      <th></th>\n",
              "      <th></th>\n",
              "    </tr>\n",
              "  </thead>\n",
              "  <tbody>\n",
              "    <tr>\n",
              "      <th>-9</th>\n",
              "      <td>101.0</td>\n",
              "      <td>36.049505</td>\n",
              "      <td>33.717763</td>\n",
              "      <td>-9.0</td>\n",
              "      <td>-9.0</td>\n",
              "      <td>46.0</td>\n",
              "      <td>65.0</td>\n",
              "      <td>80.0</td>\n",
              "    </tr>\n",
              "    <tr>\n",
              "      <th>-8</th>\n",
              "      <td>33.0</td>\n",
              "      <td>45.363636</td>\n",
              "      <td>16.289986</td>\n",
              "      <td>22.0</td>\n",
              "      <td>33.0</td>\n",
              "      <td>45.0</td>\n",
              "      <td>58.0</td>\n",
              "      <td>79.0</td>\n",
              "    </tr>\n",
              "    <tr>\n",
              "      <th>-1</th>\n",
              "      <td>1008.0</td>\n",
              "      <td>44.614087</td>\n",
              "      <td>21.924509</td>\n",
              "      <td>-9.0</td>\n",
              "      <td>30.0</td>\n",
              "      <td>43.0</td>\n",
              "      <td>63.0</td>\n",
              "      <td>80.0</td>\n",
              "    </tr>\n",
              "    <tr>\n",
              "      <th>1</th>\n",
              "      <td>3759.0</td>\n",
              "      <td>49.460229</td>\n",
              "      <td>19.772561</td>\n",
              "      <td>-9.0</td>\n",
              "      <td>35.0</td>\n",
              "      <td>51.0</td>\n",
              "      <td>65.0</td>\n",
              "      <td>80.0</td>\n",
              "    </tr>\n",
              "    <tr>\n",
              "      <th>2</th>\n",
              "      <td>3016.0</td>\n",
              "      <td>51.664125</td>\n",
              "      <td>20.506074</td>\n",
              "      <td>-9.0</td>\n",
              "      <td>38.0</td>\n",
              "      <td>55.0</td>\n",
              "      <td>67.0</td>\n",
              "      <td>80.0</td>\n",
              "    </tr>\n",
              "    <tr>\n",
              "      <th>3</th>\n",
              "      <td>133.0</td>\n",
              "      <td>37.571429</td>\n",
              "      <td>15.866529</td>\n",
              "      <td>-9.0</td>\n",
              "      <td>28.0</td>\n",
              "      <td>36.0</td>\n",
              "      <td>46.0</td>\n",
              "      <td>80.0</td>\n",
              "    </tr>\n",
              "    <tr>\n",
              "      <th>4</th>\n",
              "      <td>55.0</td>\n",
              "      <td>35.800000</td>\n",
              "      <td>18.542644</td>\n",
              "      <td>-9.0</td>\n",
              "      <td>25.5</td>\n",
              "      <td>32.0</td>\n",
              "      <td>47.0</td>\n",
              "      <td>78.0</td>\n",
              "    </tr>\n",
              "    <tr>\n",
              "      <th>5</th>\n",
              "      <td>86.0</td>\n",
              "      <td>37.290698</td>\n",
              "      <td>21.551507</td>\n",
              "      <td>-9.0</td>\n",
              "      <td>29.0</td>\n",
              "      <td>38.0</td>\n",
              "      <td>50.0</td>\n",
              "      <td>80.0</td>\n",
              "    </tr>\n",
              "    <tr>\n",
              "      <th>11</th>\n",
              "      <td>80.0</td>\n",
              "      <td>45.337500</td>\n",
              "      <td>20.859350</td>\n",
              "      <td>-9.0</td>\n",
              "      <td>35.0</td>\n",
              "      <td>44.0</td>\n",
              "      <td>59.0</td>\n",
              "      <td>80.0</td>\n",
              "    </tr>\n",
              "    <tr>\n",
              "      <th>12</th>\n",
              "      <td>9.0</td>\n",
              "      <td>43.666667</td>\n",
              "      <td>22.405357</td>\n",
              "      <td>-9.0</td>\n",
              "      <td>39.0</td>\n",
              "      <td>51.0</td>\n",
              "      <td>56.0</td>\n",
              "      <td>68.0</td>\n",
              "    </tr>\n",
              "  </tbody>\n",
              "</table>\n",
              "</div>"
            ],
            "text/plain": [
              "           count       mean        std   min   25%   50%   75%   max\n",
              "vote_int                                                            \n",
              "-9         101.0  36.049505  33.717763  -9.0  -9.0  46.0  65.0  80.0\n",
              "-8          33.0  45.363636  16.289986  22.0  33.0  45.0  58.0  79.0\n",
              "-1        1008.0  44.614087  21.924509  -9.0  30.0  43.0  63.0  80.0\n",
              " 1        3759.0  49.460229  19.772561  -9.0  35.0  51.0  65.0  80.0\n",
              " 2        3016.0  51.664125  20.506074  -9.0  38.0  55.0  67.0  80.0\n",
              " 3         133.0  37.571429  15.866529  -9.0  28.0  36.0  46.0  80.0\n",
              " 4          55.0  35.800000  18.542644  -9.0  25.5  32.0  47.0  78.0\n",
              " 5          86.0  37.290698  21.551507  -9.0  29.0  38.0  50.0  80.0\n",
              " 11         80.0  45.337500  20.859350  -9.0  35.0  44.0  59.0  80.0\n",
              " 12          9.0  43.666667  22.405357  -9.0  39.0  51.0  56.0  68.0"
            ]
          },
          "metadata": {},
          "execution_count": 59
        }
      ]
    }
  ]
}