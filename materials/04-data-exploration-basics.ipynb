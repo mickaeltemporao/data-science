{
  "nbformat": 4,
  "nbformat_minor": 0,
  "metadata": {
    "colab": {
      "name": "data-exploration-basics.ipynb",
      "provenance": [],
      "collapsed_sections": []
    },
    "kernelspec": {
      "name": "python3",
      "display_name": "Python 3"
    },
    "accelerator": "GPU"
  },
  "cells": [
    {
      "cell_type": "markdown",
      "metadata": {
        "id": "s9nC5_RwqJcx"
      },
      "source": [
        "# Introduction to Data Exploration\n",
        "**Learning Objective:** \n",
        "- Learn to load a dataset\n",
        "- Learn to explore and visualise variables\n",
        "- Get familiar with common data exploration functions\n",
        "\n",
        "## The Data Science Pipeline\n",
        "\n",
        "![](https://mickaeltemporao.github.io/itds/images/pipeline.jpg)"
      ]
    },
    {
      "cell_type": "markdown",
      "metadata": {
        "id": "sofsPeRDqNRO"
      },
      "source": [
        "## Data Acquisition\n",
        "With some Python basics we will start combining existing packages to acquire, and explore data.\n",
        "\n",
        "\n",
        "Before we can start looking into data, we need to load data into our machines.\n",
        "\n"
      ]
    },
    {
      "cell_type": "code",
      "metadata": {
        "id": "PTx-1l9i4MPy",
        "colab": {
          "base_uri": "https://localhost:8080/"
        },
        "outputId": "efd2d27c-dfe5-49fe-f2ff-b08045dfa927"
      },
      "source": [
        "# Load the required libraries\n",
        "import pandas as pd\n",
        "# Let's load real-world data with pandas\n",
        "data_url = \"https://raw.githubusercontent.com/datamisc/ts-2020/main/data.csv\"\n",
        "anes_data  = pd.read_csv(data_url, compression='gzip')\n"
      ],
      "execution_count": 2,
      "outputs": [
        {
          "output_type": "stream",
          "name": "stderr",
          "text": [
            "/usr/local/lib/python3.7/dist-packages/IPython/core/interactiveshell.py:2718: DtypeWarning: Columns (15,17,18,19,21,22,23,25,26,27,29,30,31,33,34,35,37,38,1508,1509) have mixed types.Specify dtype option on import or set low_memory=False.\n",
            "  interactivity=interactivity, compiler=compiler, result=result)\n"
          ]
        }
      ]
    },
    {
      "cell_type": "markdown",
      "metadata": {
        "id": "TGo1JjbCajS5"
      },
      "source": [
        "### Hack-Time"
      ]
    },
    {
      "cell_type": "code",
      "metadata": {
        "id": "sM1yRUnDalfT"
      },
      "source": [
        "# What is the type of anes_data?\n"
      ],
      "execution_count": null,
      "outputs": []
    },
    {
      "cell_type": "markdown",
      "metadata": {
        "id": "PjjHzk6HXvgY"
      },
      "source": [
        "### Data Frames\n",
        "\n",
        "Data Frames are lists (or series when using pandas) that are put together in a table.\n",
        "\n",
        "![](https://storage.googleapis.com/lds-media/images/series-and-dataframe.width-1200.png)"
      ]
    },
    {
      "cell_type": "code",
      "metadata": {
        "id": "Jxan1N8bZ-ig"
      },
      "source": [
        "# A quick example\n",
        "\n",
        "turnout = [66.8, 55.7, 54.9, 58.2, 56.7, 51.2, 49.0]\n",
        "year = [2020, 2016, 2012, 2008, 2004, 2000, 1996]\n",
        "party = [\"Dem\", \"Rep\", \"Dem\", \"Dem\", \"Rep\", \"Rep\", \"Dem\"]\n",
        "\n",
        "# We are creating a data frame from scratch\n",
        "my_data = pd.DataFrame(\n",
        "    {\n",
        "        'turnout': turnout,\n",
        "        'year': year,\n",
        "        'party': party,\n",
        "    }\n",
        ")\n"
      ],
      "execution_count": 13,
      "outputs": []
    },
    {
      "cell_type": "code",
      "metadata": {
        "id": "Tl4Ae1YLcn35"
      },
      "source": [
        "# What is the type of `my_data`\n",
        "type(my_data)\n"
      ],
      "execution_count": null,
      "outputs": []
    },
    {
      "cell_type": "code",
      "metadata": {
        "id": "TxI12tkYbgHQ"
      },
      "source": [
        "# Take a look at new dataset you just created\n",
        "my_data\n"
      ],
      "execution_count": null,
      "outputs": []
    },
    {
      "cell_type": "code",
      "metadata": {
        "colab": {
          "base_uri": "https://localhost:8080/"
        },
        "id": "7hsjrwPXdIkc",
        "outputId": "d1201e3a-fe3b-4af8-f48a-dbca7dc331bc"
      },
      "source": [
        "# We can also learn more about our object by using the `.info()` method.\n",
        "my_data.info()\n"
      ],
      "execution_count": 16,
      "outputs": [
        {
          "output_type": "stream",
          "name": "stdout",
          "text": [
            "<class 'pandas.core.frame.DataFrame'>\n",
            "RangeIndex: 7 entries, 0 to 6\n",
            "Data columns (total 3 columns):\n",
            " #   Column   Non-Null Count  Dtype  \n",
            "---  ------   --------------  -----  \n",
            " 0   turnout  7 non-null      float64\n",
            " 1   year     7 non-null      int64  \n",
            " 2   party    7 non-null      object \n",
            "dtypes: float64(1), int64(1), object(1)\n",
            "memory usage: 296.0+ bytes\n"
          ]
        }
      ]
    },
    {
      "cell_type": "code",
      "metadata": {
        "id": "BtLtKNiLdXHx"
      },
      "source": [
        "# When your dataset is too long might just want to print the first couple \n",
        "# observations (rows) by using the `.head()` method.\n",
        "my_data.head()\n"
      ],
      "execution_count": null,
      "outputs": []
    },
    {
      "cell_type": "markdown",
      "metadata": {
        "id": "trP4mKZmdDEC"
      },
      "source": [
        "### Hack-Time"
      ]
    },
    {
      "cell_type": "code",
      "metadata": {
        "colab": {
          "base_uri": "https://localhost:8080/"
        },
        "id": "vEwdBpyOejCx",
        "outputId": "9d7e19df-9d0b-4d10-a971-74d37576f585"
      },
      "source": [
        "# Take a look at the head of the ANES data\n"
      ],
      "execution_count": 17,
      "outputs": [
        {
          "output_type": "stream",
          "name": "stdout",
          "text": [
            "<class 'pandas.core.frame.DataFrame'>\n",
            "RangeIndex: 8280 entries, 0 to 8279\n",
            "Columns: 1771 entries, version to V203527\n",
            "dtypes: float64(3), int64(1723), object(45)\n",
            "memory usage: 111.9+ MB\n"
          ]
        }
      ]
    },
    {
      "cell_type": "code",
      "metadata": {
        "id": "fhxx1QQS9WfG"
      },
      "source": [
        "# Take a look at the info of the ANES data\n"
      ],
      "execution_count": null,
      "outputs": []
    },
    {
      "cell_type": "markdown",
      "metadata": {
        "id": "pA9ntSZReuBd"
      },
      "source": [
        "## Data Exploration - Variables\n",
        "\n",
        "Now that you have your data, you need to start getting familiar with your data. \n",
        "\n",
        "Most of the time you will be interested some specific concepts. So you need a way to select the variables related to your concepts.\n"
      ]
    },
    {
      "cell_type": "markdown",
      "metadata": {
        "id": "BvReG8417HP9"
      },
      "source": [
        "### Selecting Variables (Columns)"
      ]
    },
    {
      "cell_type": "markdown",
      "metadata": {
        "id": "IkHVVo1bf0A2"
      },
      "source": [
        "\n",
        "Let's say you are only interested knowing the candidate who people intend to vote for (V201033).\n",
        "\n",
        "- We can use square brackets on a DataFrame object to select a single column!\n",
        "\n",
        "- We can also use a list of strings containing column names to select multiple columns!\n",
        "\n",
        "![](https://pandas.pydata.org/docs/_images/03_subset_columns.svg)\n"
      ]
    },
    {
      "cell_type": "code",
      "metadata": {
        "colab": {
          "base_uri": "https://localhost:8080/"
        },
        "id": "KzxO4FXnfRb6",
        "outputId": "6f0523cb-ce07-4f90-a11d-bb027bea941b"
      },
      "source": [
        "# The `columns` attribute allows you to get the column names of a dataframe\n",
        "anes_data.columns"
      ],
      "execution_count": 18,
      "outputs": [
        {
          "output_type": "execute_result",
          "data": {
            "text/plain": [
              "Index(['version', 'V200001', 'V160001_orig', 'V200002', 'V200003', 'V200004',\n",
              "       'V200005', 'V200006', 'V200007', 'V200008',\n",
              "       ...\n",
              "       'V203518', 'V203519', 'V203520', 'V203521', 'V203522', 'V203523',\n",
              "       'V203524', 'V203525', 'V203526', 'V203527'],\n",
              "      dtype='object', length=1771)"
            ]
          },
          "metadata": {},
          "execution_count": 18
        }
      ]
    },
    {
      "cell_type": "code",
      "metadata": {
        "colab": {
          "base_uri": "https://localhost:8080/"
        },
        "id": "GL8_tCSygqbF",
        "outputId": "f2d33aea-6ee3-40de-b75f-24cc4c7a571b"
      },
      "source": [
        "# Selecting the voting intent variable\n",
        "anes_data[\"V201033\"]\n"
      ],
      "execution_count": 19,
      "outputs": [
        {
          "output_type": "execute_result",
          "data": {
            "text/plain": [
              "0       2\n",
              "1       3\n",
              "2       1\n",
              "3       1\n",
              "4       2\n",
              "       ..\n",
              "8275    2\n",
              "8276    2\n",
              "8277    1\n",
              "8278   -1\n",
              "8279    1\n",
              "Name: V201033, Length: 8280, dtype: int64"
            ]
          },
          "metadata": {},
          "execution_count": 19
        }
      ]
    },
    {
      "cell_type": "code",
      "metadata": {
        "colab": {
          "base_uri": "https://localhost:8080/"
        },
        "id": "H6ruHSNNhYPU",
        "outputId": "f1159c96-50b6-4968-9f51-a57fa06a3bf8"
      },
      "source": [
        "# We can also save it in a new object and check it's type\n",
        "vote_int = anes_data[\"V201033\"]\n",
        "type(vote_int)\n"
      ],
      "execution_count": 20,
      "outputs": [
        {
          "output_type": "execute_result",
          "data": {
            "text/plain": [
              "pandas.core.series.Series"
            ]
          },
          "metadata": {},
          "execution_count": 20
        }
      ]
    },
    {
      "cell_type": "code",
      "metadata": {
        "id": "lSvx6njm5GQR",
        "outputId": "39fc4745-e47e-4444-ad78-2f317ffced1b",
        "colab": {
          "base_uri": "https://localhost:8080/",
          "height": 419
        }
      },
      "source": [
        "# Selecting multiple columns\n",
        "my_vars = [\n",
        "    \"V201032\",  # intend to vote\n",
        "    \"V201033\",  # intend to vote for\n",
        "    \"V201507x\",  # age\n",
        "    \"V201200\",  # liberal-conservative self-placement\n",
        "]\n",
        "\n",
        "anes_data[my_vars]"
      ],
      "execution_count": 21,
      "outputs": [
        {
          "output_type": "execute_result",
          "data": {
            "text/html": [
              "<div>\n",
              "<style scoped>\n",
              "    .dataframe tbody tr th:only-of-type {\n",
              "        vertical-align: middle;\n",
              "    }\n",
              "\n",
              "    .dataframe tbody tr th {\n",
              "        vertical-align: top;\n",
              "    }\n",
              "\n",
              "    .dataframe thead th {\n",
              "        text-align: right;\n",
              "    }\n",
              "</style>\n",
              "<table border=\"1\" class=\"dataframe\">\n",
              "  <thead>\n",
              "    <tr style=\"text-align: right;\">\n",
              "      <th></th>\n",
              "      <th>V201032</th>\n",
              "      <th>V201033</th>\n",
              "      <th>V201507x</th>\n",
              "      <th>V201200</th>\n",
              "    </tr>\n",
              "  </thead>\n",
              "  <tbody>\n",
              "    <tr>\n",
              "      <th>0</th>\n",
              "      <td>1</td>\n",
              "      <td>2</td>\n",
              "      <td>46</td>\n",
              "      <td>6</td>\n",
              "    </tr>\n",
              "    <tr>\n",
              "      <th>1</th>\n",
              "      <td>1</td>\n",
              "      <td>3</td>\n",
              "      <td>37</td>\n",
              "      <td>4</td>\n",
              "    </tr>\n",
              "    <tr>\n",
              "      <th>2</th>\n",
              "      <td>1</td>\n",
              "      <td>1</td>\n",
              "      <td>40</td>\n",
              "      <td>2</td>\n",
              "    </tr>\n",
              "    <tr>\n",
              "      <th>3</th>\n",
              "      <td>1</td>\n",
              "      <td>1</td>\n",
              "      <td>41</td>\n",
              "      <td>3</td>\n",
              "    </tr>\n",
              "    <tr>\n",
              "      <th>4</th>\n",
              "      <td>1</td>\n",
              "      <td>2</td>\n",
              "      <td>72</td>\n",
              "      <td>5</td>\n",
              "    </tr>\n",
              "    <tr>\n",
              "      <th>...</th>\n",
              "      <td>...</td>\n",
              "      <td>...</td>\n",
              "      <td>...</td>\n",
              "      <td>...</td>\n",
              "    </tr>\n",
              "    <tr>\n",
              "      <th>8275</th>\n",
              "      <td>1</td>\n",
              "      <td>2</td>\n",
              "      <td>26</td>\n",
              "      <td>99</td>\n",
              "    </tr>\n",
              "    <tr>\n",
              "      <th>8276</th>\n",
              "      <td>1</td>\n",
              "      <td>2</td>\n",
              "      <td>52</td>\n",
              "      <td>6</td>\n",
              "    </tr>\n",
              "    <tr>\n",
              "      <th>8277</th>\n",
              "      <td>1</td>\n",
              "      <td>1</td>\n",
              "      <td>45</td>\n",
              "      <td>4</td>\n",
              "    </tr>\n",
              "    <tr>\n",
              "      <th>8278</th>\n",
              "      <td>-1</td>\n",
              "      <td>-1</td>\n",
              "      <td>65</td>\n",
              "      <td>6</td>\n",
              "    </tr>\n",
              "    <tr>\n",
              "      <th>8279</th>\n",
              "      <td>1</td>\n",
              "      <td>1</td>\n",
              "      <td>38</td>\n",
              "      <td>2</td>\n",
              "    </tr>\n",
              "  </tbody>\n",
              "</table>\n",
              "<p>8280 rows × 4 columns</p>\n",
              "</div>"
            ],
            "text/plain": [
              "      V201032  V201033  V201507x  V201200\n",
              "0           1        2        46        6\n",
              "1           1        3        37        4\n",
              "2           1        1        40        2\n",
              "3           1        1        41        3\n",
              "4           1        2        72        5\n",
              "...       ...      ...       ...      ...\n",
              "8275        1        2        26       99\n",
              "8276        1        2        52        6\n",
              "8277        1        1        45        4\n",
              "8278       -1       -1        65        6\n",
              "8279        1        1        38        2\n",
              "\n",
              "[8280 rows x 4 columns]"
            ]
          },
          "metadata": {},
          "execution_count": 21
        }
      ]
    },
    {
      "cell_type": "code",
      "metadata": {
        "id": "pRzGulK76ZYx",
        "outputId": "4401f182-57b6-46d2-ae65-297059dadfcc",
        "colab": {
          "base_uri": "https://localhost:8080/",
          "height": 255
        }
      },
      "source": [
        "# Save this smaller subset of variables into my_df\n",
        "my_df = anes_data[my_vars]\n",
        "print(type(my_df))\n",
        "print(my_df.shape)\n",
        "print(my_df.columns)\n",
        "my_df.head()"
      ],
      "execution_count": 22,
      "outputs": [
        {
          "output_type": "stream",
          "name": "stdout",
          "text": [
            "<class 'pandas.core.frame.DataFrame'>\n",
            "(8280, 4)\n",
            "Index(['V201032', 'V201033', 'V201507x', 'V201200'], dtype='object')\n"
          ]
        },
        {
          "output_type": "execute_result",
          "data": {
            "text/html": [
              "<div>\n",
              "<style scoped>\n",
              "    .dataframe tbody tr th:only-of-type {\n",
              "        vertical-align: middle;\n",
              "    }\n",
              "\n",
              "    .dataframe tbody tr th {\n",
              "        vertical-align: top;\n",
              "    }\n",
              "\n",
              "    .dataframe thead th {\n",
              "        text-align: right;\n",
              "    }\n",
              "</style>\n",
              "<table border=\"1\" class=\"dataframe\">\n",
              "  <thead>\n",
              "    <tr style=\"text-align: right;\">\n",
              "      <th></th>\n",
              "      <th>V201032</th>\n",
              "      <th>V201033</th>\n",
              "      <th>V201507x</th>\n",
              "      <th>V201200</th>\n",
              "    </tr>\n",
              "  </thead>\n",
              "  <tbody>\n",
              "    <tr>\n",
              "      <th>0</th>\n",
              "      <td>1</td>\n",
              "      <td>2</td>\n",
              "      <td>46</td>\n",
              "      <td>6</td>\n",
              "    </tr>\n",
              "    <tr>\n",
              "      <th>1</th>\n",
              "      <td>1</td>\n",
              "      <td>3</td>\n",
              "      <td>37</td>\n",
              "      <td>4</td>\n",
              "    </tr>\n",
              "    <tr>\n",
              "      <th>2</th>\n",
              "      <td>1</td>\n",
              "      <td>1</td>\n",
              "      <td>40</td>\n",
              "      <td>2</td>\n",
              "    </tr>\n",
              "    <tr>\n",
              "      <th>3</th>\n",
              "      <td>1</td>\n",
              "      <td>1</td>\n",
              "      <td>41</td>\n",
              "      <td>3</td>\n",
              "    </tr>\n",
              "    <tr>\n",
              "      <th>4</th>\n",
              "      <td>1</td>\n",
              "      <td>2</td>\n",
              "      <td>72</td>\n",
              "      <td>5</td>\n",
              "    </tr>\n",
              "  </tbody>\n",
              "</table>\n",
              "</div>"
            ],
            "text/plain": [
              "   V201032  V201033  V201507x  V201200\n",
              "0        1        2        46        6\n",
              "1        1        3        37        4\n",
              "2        1        1        40        2\n",
              "3        1        1        41        3\n",
              "4        1        2        72        5"
            ]
          },
          "metadata": {},
          "execution_count": 22
        }
      ]
    },
    {
      "cell_type": "markdown",
      "metadata": {
        "id": "K61m2KjK8BiA"
      },
      "source": [
        "To avoid always having to check the codebook let's clean our data a bit by making the column names more explicit."
      ]
    },
    {
      "cell_type": "code",
      "metadata": {
        "id": "luNYIaFY60Nn",
        "outputId": "109edc8a-be61-41ff-95e7-5bc45ed88357",
        "colab": {
          "base_uri": "https://localhost:8080/",
          "height": 204
        }
      },
      "source": [
        "# Renaming the columns\n",
        "my_df.columns = [\"vote\", \"vote_int\", \"age\", \"ideology\"]\n",
        "my_df.head()"
      ],
      "execution_count": 23,
      "outputs": [
        {
          "output_type": "execute_result",
          "data": {
            "text/html": [
              "<div>\n",
              "<style scoped>\n",
              "    .dataframe tbody tr th:only-of-type {\n",
              "        vertical-align: middle;\n",
              "    }\n",
              "\n",
              "    .dataframe tbody tr th {\n",
              "        vertical-align: top;\n",
              "    }\n",
              "\n",
              "    .dataframe thead th {\n",
              "        text-align: right;\n",
              "    }\n",
              "</style>\n",
              "<table border=\"1\" class=\"dataframe\">\n",
              "  <thead>\n",
              "    <tr style=\"text-align: right;\">\n",
              "      <th></th>\n",
              "      <th>vote</th>\n",
              "      <th>vote_int</th>\n",
              "      <th>age</th>\n",
              "      <th>ideology</th>\n",
              "    </tr>\n",
              "  </thead>\n",
              "  <tbody>\n",
              "    <tr>\n",
              "      <th>0</th>\n",
              "      <td>1</td>\n",
              "      <td>2</td>\n",
              "      <td>46</td>\n",
              "      <td>6</td>\n",
              "    </tr>\n",
              "    <tr>\n",
              "      <th>1</th>\n",
              "      <td>1</td>\n",
              "      <td>3</td>\n",
              "      <td>37</td>\n",
              "      <td>4</td>\n",
              "    </tr>\n",
              "    <tr>\n",
              "      <th>2</th>\n",
              "      <td>1</td>\n",
              "      <td>1</td>\n",
              "      <td>40</td>\n",
              "      <td>2</td>\n",
              "    </tr>\n",
              "    <tr>\n",
              "      <th>3</th>\n",
              "      <td>1</td>\n",
              "      <td>1</td>\n",
              "      <td>41</td>\n",
              "      <td>3</td>\n",
              "    </tr>\n",
              "    <tr>\n",
              "      <th>4</th>\n",
              "      <td>1</td>\n",
              "      <td>2</td>\n",
              "      <td>72</td>\n",
              "      <td>5</td>\n",
              "    </tr>\n",
              "  </tbody>\n",
              "</table>\n",
              "</div>"
            ],
            "text/plain": [
              "   vote  vote_int  age  ideology\n",
              "0     1         2   46         6\n",
              "1     1         3   37         4\n",
              "2     1         1   40         2\n",
              "3     1         1   41         3\n",
              "4     1         2   72         5"
            ]
          },
          "metadata": {},
          "execution_count": 23
        }
      ]
    },
    {
      "cell_type": "markdown",
      "metadata": {
        "id": "uZeNcun7h34Y"
      },
      "source": [
        "### Useful Methods\n",
        "Series and Data Frames provide very useful methods to quickly learn about the data. Here a some common ones\n",
        "\n",
        "- `mean()`\n",
        "- `std()`\n",
        "- `min()`\n",
        "- `max()`\n",
        "- `count()`\n",
        "- `describe()`\n",
        "- `value_counts()`\n"
      ]
    },
    {
      "cell_type": "code",
      "metadata": {
        "id": "QzEJbxQi_6bT",
        "outputId": "f4bafdac-701d-4245-a3f9-ce324374f321",
        "colab": {
          "base_uri": "https://localhost:8080/"
        }
      },
      "source": [
        "# How many people indent to vote?\n",
        "my_df[\"vote\"].value_counts()\n"
      ],
      "execution_count": 28,
      "outputs": [
        {
          "output_type": "execute_result",
          "data": {
            "text/plain": [
              " 1    7272\n",
              " 2     570\n",
              "-1     415\n",
              "-9      13\n",
              "-8      10\n",
              "Name: vote, dtype: int64"
            ]
          },
          "metadata": {},
          "execution_count": 28
        }
      ]
    },
    {
      "cell_type": "markdown",
      "metadata": {
        "id": "7uhzEzYc_HLV"
      },
      "source": [
        "### Hack-Time"
      ]
    },
    {
      "cell_type": "code",
      "metadata": {
        "id": "yrjyCz-T_J2H"
      },
      "source": [
        "# What is the average age of the respodents in the ANES dataset?\n"
      ],
      "execution_count": null,
      "outputs": []
    },
    {
      "cell_type": "code",
      "metadata": {
        "colab": {
          "base_uri": "https://localhost:8080/"
        },
        "id": "IoJiu6FzhzDX",
        "outputId": "439971c7-7351-4d07-a518-e8509aaf57e0"
      },
      "source": [
        "# What is the average ideology of the respondents in the ANES dataset?\n"
      ],
      "execution_count": 27,
      "outputs": [
        {
          "output_type": "execute_result",
          "data": {
            "text/plain": [
              "vote        8280\n",
              "vote_int    8280\n",
              "age         8280\n",
              "ideology    8280\n",
              "dtype: int64"
            ]
          },
          "metadata": {},
          "execution_count": 27
        }
      ]
    },
    {
      "cell_type": "markdown",
      "metadata": {
        "id": "CH-pHEcDhs7C"
      },
      "source": [
        ""
      ]
    },
    {
      "cell_type": "markdown",
      "metadata": {
        "id": "AHbwTF39Wize"
      },
      "source": [
        "- Basic Data Exploration\n",
        "    - columns\n",
        "    - counts\n",
        "    - dtypes\n",
        "\n",
        "## Data Visualisation\n",
        "\n",
        "    - discrete\n",
        "    - continuous\n",
        "\n"
      ]
    },
    {
      "cell_type": "markdown",
      "metadata": {
        "id": "lMxRLu0re2_e"
      },
      "source": [
        "## Types of data\n",
        "\n",
        "We have seen that there are different types of data in python (strings, integers, floats, booleans, ...). When doing research we can group data in two broad families:\n",
        "\n",
        "**Discrete** data can only take a finite number of values.\n",
        "\n",
        "- eg. The number of students in a class.\n",
        "\n",
        "**Continuous** data can take an infinite number of values.\n",
        "\n",
        "- eg. The height of a student.\n"
      ]
    },
    {
      "cell_type": "code",
      "metadata": {
        "id": "zi8CqadakRDC"
      },
      "source": [
        "# Filtering data\n",
        "vote_int = \"V201033\"  # The name of the voting intentions variables in the ANES\n",
        "mask = (df[vote_int] > 0) & (df[vote_int] < 5)  # Keeping relevant observations\n",
        "\n",
        "# Summarizing the data\n",
        "tmp_data = df[vote_int].loc[mask].replace(\n",
        "    {1:\"Biden\", 2:\"Trump\", 3:\"Jorgensen\", 4:\"Hawkins\"}\n",
        ").value_counts(\n",
        "    normalize=True\n",
        ")\n",
        "\n",
        "# Making a plot/graphic/figure\n",
        "tmp_data.plot.bar(\n",
        "    title=\"Voting Intentions\", \n",
        "    ylabel=\"Percentage\",\n",
        ");\n"
      ],
      "execution_count": null,
      "outputs": []
    },
    {
      "cell_type": "code",
      "metadata": {
        "id": "DlqQzI8R5Zz3"
      },
      "source": [
        "# Extract tables and convert the html tables into pd.DataFrame()\n",
        "df = pd.read_html(html)[0].iloc[2:,:]\n"
      ],
      "execution_count": null,
      "outputs": []
    },
    {
      "cell_type": "markdown",
      "metadata": {
        "id": "6KIE5UUg5cu7"
      },
      "source": [
        "## Cleaning Data\n"
      ]
    },
    {
      "cell_type": "code",
      "metadata": {
        "id": "K9n7kcR4dLTb"
      },
      "source": [
        "# Inspect the data\n",
        "df.head()\n"
      ],
      "execution_count": null,
      "outputs": []
    },
    {
      "cell_type": "code",
      "metadata": {
        "id": "EjUNJ9Ba5iln"
      },
      "source": [
        "# We notice that there seems to be a double header\n",
        "df.columns\n"
      ],
      "execution_count": null,
      "outputs": []
    },
    {
      "cell_type": "code",
      "metadata": {
        "id": "fK6ERcta5jWT"
      },
      "source": [
        "# What is the type of columns\n",
        "type(df.columns)\n"
      ],
      "execution_count": null,
      "outputs": []
    },
    {
      "cell_type": "code",
      "metadata": {
        "id": "xA2JYlIe5kcC"
      },
      "source": [
        "# Let's use a loop to extract and edit each element of the MultiIndex dataframe\n",
        "columnn_names = []\n",
        "for c in df.columns:\n",
        "    tmp = c[0].lower()\n",
        "    columnn_names.append(tmp.replace(\" \", \"_\"))\n",
        "\n",
        "columnn_names\n"
      ],
      "execution_count": null,
      "outputs": []
    },
    {
      "cell_type": "code",
      "metadata": {
        "id": "QrBVR0gU5lUK"
      },
      "source": [
        "# Let's use regular expressions in a list comprehension this time\n",
        "import re\n",
        "regex = \"[a-z]+\"\n",
        "columnn_names = [\"_\".join(re.findall(regex, i)) for i in columnn_names]\n"
      ],
      "execution_count": null,
      "outputs": []
    },
    {
      "cell_type": "code",
      "metadata": {
        "id": "wmGVxVMs5l3h"
      },
      "source": [
        "# Let's edit the columns of our dataset\n",
        "df.columns = columnn_names\n",
        "df.head()\n"
      ],
      "execution_count": null,
      "outputs": []
    },
    {
      "cell_type": "code",
      "metadata": {
        "id": "7eaf8vO05uuZ"
      },
      "source": [
        "# What about the data types?\n",
        "df.info()\n"
      ],
      "execution_count": null,
      "outputs": []
    },
    {
      "cell_type": "code",
      "metadata": {
        "id": "6HADs6lW5vmB"
      },
      "source": [
        "# Which of these variables are still objects?\n",
        "df.select_dtypes(include='object')\n"
      ],
      "execution_count": null,
      "outputs": []
    },
    {
      "cell_type": "code",
      "metadata": {
        "id": "-rXgXmeb5yC3"
      },
      "source": [
        "# Let's use a dictionary to recode the data types\n",
        "convert_dict = {\n",
        "    'error': float,\n",
        "    'sample_size': int,\n",
        "    'lead': float\n",
        "}\n",
        "\n",
        "df = df.astype(convert_dict)\n"
      ],
      "execution_count": null,
      "outputs": []
    },
    {
      "cell_type": "code",
      "metadata": {
        "id": "nUku2bRB5y4D"
      },
      "source": [
        "# Let's look once again at our data\n",
        "df.sample(5)\n"
      ],
      "execution_count": null,
      "outputs": []
    },
    {
      "cell_type": "code",
      "metadata": {
        "id": "i84Qzw2W5zaf"
      },
      "source": [
        "# What are the remaining objects?\n",
        "df.select_dtypes(include='object')\n"
      ],
      "execution_count": null,
      "outputs": []
    },
    {
      "cell_type": "code",
      "metadata": {
        "id": "S14uJehz5z_8"
      },
      "source": [
        "# Keep only necessary variables by creating a variable filter\n",
        "to_keep = [\n",
        "    'source',\n",
        "    'date',\n",
        "    'lpc',\n",
        "    'cpc',\n",
        "    'ndp',\n",
        "    'bq',\n",
        "    'gpc',\n",
        "    'ppc',\n",
        "    'method'\n",
        "]\n",
        "\n",
        "df = df[to_keep]\n"
      ],
      "execution_count": null,
      "outputs": []
    },
    {
      "cell_type": "markdown",
      "metadata": {
        "id": "_jc2nEBV7SaA"
      },
      "source": [
        "## Data IO\n"
      ]
    },
    {
      "cell_type": "code",
      "metadata": {
        "id": "5IHjSTOddkIx"
      },
      "source": [
        "# Save the cleaned dataframe to a file\n",
        "file_name = \"national_polls_2019.csv\"\n",
        "df.to_csv(file_name, index=False)\n",
        "print(df)\n",
        "\n",
        "df.dtypes\n"
      ],
      "execution_count": null,
      "outputs": []
    },
    {
      "cell_type": "code",
      "metadata": {
        "id": "CWw_gIt07TLE"
      },
      "source": [
        "# Read the data back-in from the recorded csv file.\n",
        "\n",
        "# More info on read_csv\n",
        "# https://pandas.pydata.org/pandas-docs/stable/reference/api/pandas.read_csv.html\n",
        "df = pd.read_csv(\"national_polls_2019.csv\", parse_dates=['date'])\n",
        "df.dtypes\n"
      ],
      "execution_count": null,
      "outputs": []
    },
    {
      "cell_type": "markdown",
      "metadata": {
        "id": "UpZQqLUB7Zxr"
      },
      "source": [
        "## Data Exploration and Visualization\n"
      ]
    },
    {
      "cell_type": "code",
      "metadata": {
        "id": "eDoOasNpdr6D"
      },
      "source": [
        "# Let's convert this into a time-series dataframe\n",
        "df.set_index('date', inplace=True)\n"
      ],
      "execution_count": null,
      "outputs": []
    },
    {
      "cell_type": "code",
      "metadata": {
        "id": "TcaAaVWD7ch7"
      },
      "source": [
        "# Time-series data should be stored in descending order\n",
        "df = df.sort_values(by=['date', 'source'])\n"
      ],
      "execution_count": null,
      "outputs": []
    },
    {
      "cell_type": "code",
      "metadata": {
        "id": "DDLa0Ws_7c_W"
      },
      "source": [
        "# How does the data look now?\n",
        "df.head()\n"
      ],
      "execution_count": null,
      "outputs": []
    },
    {
      "cell_type": "code",
      "metadata": {
        "id": "dIMp9oU07eXZ"
      },
      "source": [
        "# What about the tail?\n",
        "df.tail()\n"
      ],
      "execution_count": null,
      "outputs": []
    },
    {
      "cell_type": "code",
      "metadata": {
        "id": "gXfA8snl7ezQ"
      },
      "source": [
        "# A time indexed data frame provides much more control over the data\n",
        "df.loc[df.index > '2019-10-15']\n"
      ],
      "execution_count": null,
      "outputs": []
    },
    {
      "cell_type": "code",
      "metadata": {
        "id": "mgCuP_EU7fOG"
      },
      "source": [
        "# We can look at a single party\n",
        "df.lpc.loc['2019-10-20']\n"
      ],
      "execution_count": null,
      "outputs": []
    },
    {
      "cell_type": "code",
      "metadata": {
        "id": "h96QxTsi7gBd"
      },
      "source": [
        "# We can focus on a subset of columns\n",
        "parties = [\"lpc\", \"cpc\", \"ndp\", \"bq\", \"gpc\", \"ppc\"]\n",
        "df.loc[:, parties]\n"
      ],
      "execution_count": null,
      "outputs": []
    },
    {
      "cell_type": "code",
      "metadata": {
        "id": "iXkeJ4CE7ggt"
      },
      "source": [
        "# We can aggregate/resample the data\n",
        "df[parties].resample('D', how='mean').head()\n"
      ],
      "execution_count": null,
      "outputs": []
    },
    {
      "cell_type": "code",
      "metadata": {
        "id": "KnKK-ba07g-E"
      },
      "source": [
        "# We can also use pandas to plot\n",
        "df[parties].resample('D', how='mean').plot()\n"
      ],
      "execution_count": null,
      "outputs": []
    },
    {
      "cell_type": "markdown",
      "metadata": {
        "id": "R30Sw-VXb1KC"
      },
      "source": [
        "\n",
        "### Anatomy of a Figure\n",
        "![Anatomy of a Figure](https://matplotlib.org/3.1.1/_images/anatomy.png)\n"
      ]
    },
    {
      "cell_type": "code",
      "metadata": {
        "id": "8gJjUSkR7hYj"
      },
      "source": [
        "# We can look at the distributions for each party\n",
        "df[parties].plot(kind='kde')\n"
      ],
      "execution_count": null,
      "outputs": []
    },
    {
      "cell_type": "code",
      "metadata": {
        "id": "f4_ZrItD7iDm"
      },
      "source": [
        "# Or do a simple box-plot\n",
        "df[parties].boxplot()\n"
      ],
      "execution_count": null,
      "outputs": []
    },
    {
      "cell_type": "code",
      "metadata": {
        "id": "DZykjhTV7iei"
      },
      "source": [
        "# Let's look at missing values\n",
        "df.isnull().mean()\n"
      ],
      "execution_count": null,
      "outputs": []
    },
    {
      "cell_type": "code",
      "metadata": {
        "id": "PvyYBoaa7i72"
      },
      "source": [
        "# We can remove missing values\n",
        "df.dropna()\n"
      ],
      "execution_count": null,
      "outputs": []
    },
    {
      "cell_type": "code",
      "metadata": {
        "id": "V4IlZuOX7jou"
      },
      "source": [
        "# We just lost half of our dataset...\n",
        "# Maybe we should fill the missing values\n",
        "tmp_df = df.fillna(method='ffill', limit=3).copy()\n",
        "tmp_df.isnull().mean()\n",
        "\n",
        "df = tmp_df\n"
      ],
      "execution_count": null,
      "outputs": []
    },
    {
      "cell_type": "code",
      "metadata": {
        "id": "xu5b5Dtx7kTu"
      },
      "source": [
        "# Let's investigate which polling firms have been most active\n",
        "df.source.value_counts()\n"
      ],
      "execution_count": null,
      "outputs": []
    },
    {
      "cell_type": "code",
      "metadata": {
        "id": "bLZIK8ik7k-g"
      },
      "source": [
        "# Remove the firms that released less than 5 polls\n",
        "tmp_mask = df.source.value_counts() >= 5\n",
        "mask = tmp_mask.index[tmp_mask]\n",
        "\n",
        "df = df[df.source.isin(mask)]\n"
      ],
      "execution_count": null,
      "outputs": []
    },
    {
      "cell_type": "code",
      "metadata": {
        "id": "_Hn75nR57ll_"
      },
      "source": [
        "# Once again we could decide to visualize directly the result\n",
        "df.source.value_counts().plot(kind='barh')\n"
      ],
      "execution_count": null,
      "outputs": []
    },
    {
      "cell_type": "code",
      "metadata": {
        "id": "e8f6prY87mPR"
      },
      "source": [
        "# Try to do grouped operations and see how did each of these firms portrayed the liberal party\n",
        "df.groupby('source').lpc.describe().sort_values(by='mean')\n"
      ],
      "execution_count": null,
      "outputs": []
    },
    {
      "cell_type": "code",
      "metadata": {
        "id": "LFhQ0vrt7mvU"
      },
      "source": [
        "# We can also look at the means for all the parties\n",
        "df.groupby('source')[parties].mean().sort_values('lpc')\n"
      ],
      "execution_count": null,
      "outputs": []
    },
    {
      "cell_type": "code",
      "metadata": {
        "id": "uXft9CUK7nZ_"
      },
      "source": [
        "# We can also apply custom functions by groups\n",
        "z_score = lambda x: (x-x.mean()) / x.std()\n",
        "df.reset_index().groupby('source')[parties].apply(z_score).head()\n"
      ],
      "execution_count": null,
      "outputs": []
    },
    {
      "cell_type": "code",
      "metadata": {
        "id": "DsuHM2tt7oCX"
      },
      "source": [
        "# Most algorithms need you to shape the date in a long format\n",
        "long_df = pd.melt(\n",
        "    df.reset_index(),\n",
        "    id_vars=['date', 'source'],\n",
        "    value_vars=parties,\n",
        "    var_name='party',\n",
        "    value_name='share',\n",
        ")\n",
        "\n",
        "long_df.head()\n"
      ],
      "execution_count": null,
      "outputs": []
    },
    {
      "cell_type": "code",
      "metadata": {
        "id": "iAamHM8f7qmT"
      },
      "source": [
        "# Seaborn, a statistical data visualization library uses long-format\n",
        "import seaborn as sns\n",
        "sns.set(style=\"whitegrid\", palette=\"muted\")\n",
        "\n",
        "sns.swarmplot(\n",
        "    x=\"party\",\n",
        "    y=\"share\",\n",
        "    hue=\"source\",\n",
        "    data=long_df,\n",
        ")\n"
      ],
      "execution_count": null,
      "outputs": []
    },
    {
      "cell_type": "code",
      "metadata": {
        "id": "X1x73YzS7ud-"
      },
      "source": [
        "# What if we need to add the sample size back?\n",
        "new_df = long_df.merge(\n",
        "    df[['method', 'source']].reset_index(),\n",
        "    on=['date', 'source']\n",
        ")\n",
        "\n",
        "new_df.head()\n"
      ],
      "execution_count": null,
      "outputs": []
    },
    {
      "cell_type": "code",
      "metadata": {
        "id": "QxCX7w2j7vDh"
      },
      "source": [
        "# We can also expand the dataframe back to a wide format\n",
        "new_df = new_df.pivot_table(\n",
        "    index=['date', 'source', 'method'],\n",
        "    columns='party',\n",
        "    values='share',\n",
        ")\n",
        "\n",
        "new_df.head()"
      ],
      "execution_count": null,
      "outputs": []
    }
  ]
}