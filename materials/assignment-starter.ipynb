{
  "nbformat": 4,
  "nbformat_minor": 0,
  "metadata": {
    "colab": {
      "name": "itds-challenge-0-student-name",
      "provenance": [],
      "collapsed_sections": [],
      "include_colab_link": true
    },
    "kernelspec": {
      "display_name": "Python 3",
      "name": "python3"
    }
  },
  "cells": [
    {
      "cell_type": "markdown",
      "metadata": {
        "id": "view-in-github",
        "colab_type": "text"
      },
      "source": [
        "<a href=\"https://colab.research.google.com/github/mickaeltemporao/itds/blob/main/materials/assignment-starter.ipynb\" target=\"_parent\"><img src=\"https://colab.research.google.com/assets/colab-badge.svg\" alt=\"Open In Colab\"/></a>"
      ]
    },
    {
      "cell_type": "markdown",
      "metadata": {
        "id": "5fCEDCU_qrC0"
      },
      "source": [
        "# Challenge 0 -  Challenge Title\n",
        "\n",
        "## Context\n",
        "\n",
        "Welcome to challenge ...\n",
        "Some context sentence....\n",
        "\n",
        "### Objectives\n",
        "- Add objective 1\n",
        "- Add objective 2\n",
        "- Add objective 3\n"
      ]
    },
    {
      "cell_type": "markdown",
      "metadata": {
        "id": "pe4gCm198ygp"
      },
      "source": [
        "## Instructions\n",
        "\n",
        "### The Setup\n",
        "Before you can start this challenge, you need to create your own copy of this notebook. This will allow you to edit, save and share your work.\n",
        "\n",
        "1. **Click** on *'File' -> 'Save a copy in Drive'*\n",
        "    - A new notebook is created named \"Copy of ...\".\n",
        "2. **Rename** the notebook called \"Copy of ...\" appropriately. \n",
        "3. **Use** the newly created and renamed notebook to complete the challenge.\n",
        "\n",
        "### The Challenge\n",
        "1. ...\n",
        "2. ...\n",
        "3. ...\n",
        "- **Bonus:** ...\n",
        "\n",
        "### The Submission\n",
        "1. When you are ready to submit your work click on *'Share' -> 'Copy link'*.\n",
        "2. Click the *'Change to anyone with the link'* button located at the left of the 'Copy link' button.\n",
        "    - This will allow anyone with the link to view your notebook.\n",
        "    - Verify that your link works by opening it in an incognito browser window.\n",
        "    - You should see your latest edits inside this notebook.\n",
        "3. Send a **private message** to the instructor on the\n",
        "    - In your message include the course name (itds), assignment type (eg. chall-1), and the copied link to your notebook.\n",
        "\n",
        "- Submission are considered until the start of the next session.\n",
        "- Late submissions will not be considered!\n",
        "\n",
        "\n",
        "#### Help, I'm stuck?!\n",
        "It is normal to be stuck during challenges and it is part of the learning process. When you are blocked during a coding challenge, try to solve your bugs (e.g. Google your error messages). Trying to solve your errors and bugs will help you build the mindset needed to be successful in this course and will help you better understand the tools and methods we use throughout the course.\n",
        "\n",
        "- If you are stuck for 30 minutes on a challenge, take a break and come back later.\n",
        "- If you are still stuck after revisiting your problem with a fresh mindset ask for help using the Chat! Don't be shy, it is likely that other students might be able to help you!\n",
        "\n",
        "**Delete the *Instructions* cell before sharing your work.**\n"
      ]
    }
  ]
}
