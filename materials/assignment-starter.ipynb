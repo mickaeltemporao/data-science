{
  "nbformat": 4,
  "nbformat_minor": 0,
  "metadata": {
    "colab": {
      "name": "itds-challenge-1-student-name",
      "provenance": [],
      "collapsed_sections": []
    },
    "kernelspec": {
      "display_name": "Python 3",
      "name": "python3"
    }
  },
  "cells": [
    {
      "cell_type": "markdown",
      "metadata": {
        "id": "5fCEDCU_qrC0"
      },
      "source": [
        "# Challenge 1 -  First Steps\n",
        "\n",
        "Welcome to challenge ...\n",
        "\n",
        "## Objectives\n",
        "- Add objective 1\n",
        "- Add objective 2\n",
        "- Add objective 3\n",
        "\n",
        "## Context\n",
        "Some context sentence....\n"
      ]
    },
    {
      "cell_type": "markdown",
      "metadata": {
        "id": "pe4gCm198ygp"
      },
      "source": [
        "## Instructions\n",
        "\n",
        "\n",
        "**Delete *Instructions* before you share your handout.**\n"
      ]
    },
    {
      "cell_type": "markdown",
      "metadata": {
        "id": "GJBs_flRovLc"
      },
      "source": [
        ""
      ]
    },
    {
      "cell_type": "markdown",
      "metadata": {
        "id": "UdRyKR44dcNI"
      },
      "source": [
        "- **:fontawesome-solid-exclamation-triangle: The coding challenges are ALWAYS due before the beginning of the next class meeting.**\n",
        "\n",
        "## The Challenge Workflow\n",
        "Each challenge is shared with the students at least 5 days before the next session.\n",
        "\n",
        "1. You start by opening the coding challenge by clicking the challenge icon :fontawesome-solid-chess: on the [Schedule](../schedule.md) page.\n",
        "2. When you are inside the notebook click on **\"File\" -> \"Save a copy in Drive\"**\n",
        "    - A new notebook is created named \"Copy of ...\".\n",
        "    - :fontawesome-solid-exclamation-triangle: Don't skip this step otherwise you won't be able to save or submit your work!\n",
        "3. Rename the notebook called \"Copy of ...\" appropriately. This is the notebook for your assignment.\n",
        "    - You can start working inside the newly generated and renamed notebook\n",
        "4. Once you are ready to submit your work click the \"Share\" button then on the \"Copy link\" button.\n",
        "    - Verify that your link works by opening it in a new browser window.\n",
        "    - You should see your latest edits inside the this notebook.\n",
        "5. Send a private message to the instructor on **:fontawesome-brands-gitter: Gitter**\n",
        "    - In your message include the course name (itds), assignment type (eg. chall-1), and the copied link to your notebook.\n",
        "    - Submission are considered until the start of the next session.\n",
        "    - Late submissions will not be considered!\n",
        "\n",
        "When you are stuck during a coding challenge, try to solve your bugs (e.g. Google your error messages). Trying to solve your errors and bugs will help you build the mindset needed to be successful in this course and will help you better understand the tools we use throughout the course.\n",
        "\n",
        "- If you are stuck for too long (>30mins) during a challenge, take a break and revisit try again later.\n",
        "- If you are still stuck after revisiting your problem with a fresh mindset ask for help using the communication platform! Don't be shy, it is very likely that other students might be able to help you!\n",
        "\n",
        "\n",
        "# Instructions\n",
        "1. Open RStudio.\n",
        "2. Create a new RMarkdown document (a `.Rmd` file) in RStudio (icon with a white page and a green plus sign on the upper left corner).\n",
        "3. Add a new title and author then click \"OK\". RStudio will create a default template page.\n",
        "4. Compile the document by clicking the Knit button (the little blue wool ball). This will ask you how you want to name your output file and were were you want to save it. Once you validate, RStudio will generate an `.Rmd` and an `.html` file. Once the compilation is completed, it will display the rendered `html` page.\n",
        "5. Upload the newly created R Markdown (`.Rmd`) and HTML (`.html`) files to your challenge repository on GitHub.\n",
        "6. Add a message to your commit (e.g. \"My first submission!\")\n",
        "7. Commit your changes!\n"
      ]
    },
    {
      "cell_type": "markdown",
      "metadata": {
        "id": "OwuxHmxllTwN"
      },
      "source": [
        "## How?\n",
        "\n",
        "Finally you want to provide code and some toy examples to help others use and apply this concept. You can also create exercises that you will solve with other students during the live demo.\n",
        "\n",
        "Try to create code examples or exercises related to political science or sociology or at least try to think how one could!\n"
      ]
    },
    {
      "cell_type": "code",
      "metadata": {
        "colab": {
          "base_uri": "https://localhost:8080/"
        },
        "id": "gJr_9dXGpJ05",
        "outputId": "19d4510f-02e3-4678-ba92-c81da527468e"
      },
      "source": [
        "seconds_in_a_day = 24 * 60 * 60\n",
        "print(seconds_in_a_day)\n",
        "print(\"WoW!\")"
      ],
      "execution_count": null,
      "outputs": [
        {
          "output_type": "stream",
          "name": "stdout",
          "text": [
            "86400\n",
            "WoW!\n"
          ]
        }
      ]
    },
    {
      "cell_type": "markdown",
      "metadata": {
        "id": "ufxBm1yRnruN"
      },
      "source": [
        "## Resources\n",
        "\n",
        "You can add some extra links or resources that you found online and find usefull to help other better understand this concept/topic. \n",
        "\n",
        "- [Link to resource 1](www.example.com): Short description.\n",
        "- [Link to resource 2](www.example.com): Short description.\n",
        "- [Link to resource 3](www.example.com): Short description.\n",
        "\n"
      ]
    },
    {
      "cell_type": "markdown",
      "metadata": {
        "id": "mLeoQhqYqpQw"
      },
      "source": [
        "## References\n",
        "\n",
        "Finally, if you used any references you should have cited them appropriately and referenced them here using the [APA citation format](https://www.mendeley.com/guides/apa-citation-guide)."
      ]
    }
  ]
}