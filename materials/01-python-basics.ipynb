{
  "nbformat": 4,
  "nbformat_minor": 0,
  "metadata": {
    "colab": {
      "name": "reproducible-research-in-python.ipynb",
      "provenance": [],
      "collapsed_sections": [],
      "toc_visible": true
    },
    "kernelspec": {
      "name": "python3",
      "display_name": "Python 3"
    },
    "accelerator": "GPU"
  },
  "cells": [
    {
      "cell_type": "markdown",
      "metadata": {
        "id": "mkZCKT7VCk2M"
      },
      "source": [
        "# Getting started \n",
        "\n",
        "**TIP:** Start by saving notebooks in your drive and use them to take notes during class meetings!\n",
        "\n",
        "**Learning Objectives** \n",
        "- Learn to print outputs\n",
        "- Learn to run/execute code cells\n",
        "- Learn to comment code\n",
        "- Learn to do basic operations\n",
        "- Learn to create objects\n"
      ]
    },
    {
      "cell_type": "markdown",
      "metadata": {
        "id": "_fiE5U9mXaJm"
      },
      "source": [
        "**Why Python** \n",
        "\n",
        "- Free\n",
        "- Open-source \n",
        "- General purpose language\n",
        "- Large ecosystem of packages\n",
        "    - How good is a smartphone without apps?\n",
        "    - More than 300,000 free packages created by other users!\n",
        "- Welcoming community \n",
        "- Many free ressources available online!\n",
        "- No no point-and-click!\n",
        "- Highly demanded skill\n"
      ]
    },
    {
      "cell_type": "markdown",
      "metadata": {
        "id": "YkYBvekj8AWB"
      },
      "source": [
        "## Printing without a printer...\n",
        "You can use notebooks to run/execute the code inside code cells. \n",
        "\n",
        "The first time you run a code cell, it will take ~15 seconds before you see your output. This is because your browser needs to start a computer on a remote server to execute your code. Not to bad to have a computer freely running for in less than 15 seconds! After that, your code runs instantly.\n",
        "\n",
        "To run a code cell start by selecting the cell you want to run. A \"play\" button will apear and you have two options:\n",
        "- either you press the \"play\" button on the left of the cell.\n",
        "- or you press SHIFT+ENTER.\n",
        "\n",
        "\n",
        "Both commands will run and execute the code in the cell. \n",
        "\n",
        "Let's try!"
      ]
    },
    {
      "cell_type": "code",
      "metadata": {
        "id": "8GNA7diq8z-t"
      },
      "source": [
        "# To run this cell press the \"play\" button on the left or SHIFT+ENTER \n",
        "print(\"Greetings!\")"
      ],
      "execution_count": null,
      "outputs": []
    },
    {
      "cell_type": "markdown",
      "metadata": {
        "id": "d1CXvSBfSp_G"
      },
      "source": [
        "Notice that after you execution is complete the the output appears below the code cell.\n",
        "\n",
        "In programming, you usually have a function to print outputs. \n",
        "\n",
        "In python we use the `print()` function print."
      ]
    },
    {
      "cell_type": "code",
      "metadata": {
        "id": "sFlr9rMFUKDc"
      },
      "source": [
        "print(\"I'm excited to learn python!\")"
      ],
      "execution_count": null,
      "outputs": []
    },
    {
      "cell_type": "markdown",
      "metadata": {
        "id": "M9tcQcqGgtoR"
      },
      "source": [
        "When you want to print characters, also known as strings in python, you need to wrap your text with quotation marks **\"**"
      ]
    },
    {
      "cell_type": "markdown",
      "metadata": {
        "id": "JJT7WfvhjrH1"
      },
      "source": [
        "### Hack Time\n",
        "\n",
        "In the code cell below:\n",
        "- Print hello \n",
        "- Print your first and last name.\n"
      ]
    },
    {
      "cell_type": "code",
      "metadata": {
        "id": "tdkxojGxklzh"
      },
      "source": [
        "# You code goes in this cell.\n"
      ],
      "execution_count": 3,
      "outputs": []
    },
    {
      "cell_type": "markdown",
      "metadata": {
        "id": "XLP5ZamsZ1OP"
      },
      "source": [
        "## Code Execution & Comments\n",
        "\n",
        "When you run the code below, what do you see?"
      ]
    },
    {
      "cell_type": "code",
      "metadata": {
        "id": "U1an4ibdaJaV"
      },
      "source": [
        "print(\" _____\")\n",
        "# This is a comment that will be ignored when you run this line.\n",
        "print(\"|     |\")\n",
        "# Here's another comment. They are always ignored.\n",
        "print(\"|     |\")\n",
        "# And here's another comment. You can use them to document code.\n",
        "print(\"|_____|\")\n"
      ],
      "execution_count": null,
      "outputs": []
    },
    {
      "cell_type": "markdown",
      "metadata": {
        "id": "qs_seCCkdxmj"
      },
      "source": [
        "Code is executed sequentially. It is similar to a cooking recipe. You apply a set of instructions in order to get a desired output.\n",
        "\n",
        "**Rembember:**\n",
        "- When you are inside a text cell you use markdown syntax. \n",
        "- When you are in a code cell you use python syntax.\n",
        "\n",
        "Notice that a hash/pound symbol (**#**) is used in text cells to define headers but inside python code cells, it is used to make comments!\n",
        "\n",
        "**TIP:** When you write code it is a good practice to document it in order to help you or others that read your code understand what the code does.\n",
        "\n",
        "### Hack Time\n",
        "\n",
        "Run the code below, see what it does, and comment the code!"
      ]
    },
    {
      "cell_type": "code",
      "metadata": {
        "colab": {
          "base_uri": "https://localhost:8080/"
        },
        "id": "sEgIkyCxet5A",
        "outputId": "cd6e3eb5-ce92-4217-8e10-3f9409d28bf2"
      },
      "source": [
        "\n",
        "print(\"Let's do some math!\")\n",
        "\n",
        "print(5 + 7)\n"
      ],
      "execution_count": 5,
      "outputs": [
        {
          "output_type": "stream",
          "name": "stdout",
          "text": [
            "Let's do some math!\n",
            "12\n"
          ]
        }
      ]
    },
    {
      "cell_type": "markdown",
      "metadata": {
        "id": "YcwnBiyWrCFl"
      },
      "source": [
        "## Arithmetic in Python\n",
        "\n",
        "In its most basic form, Python can be used as a simple calculator that you can us to do mathematical operations. Consider the following arithmetic operators:\n",
        "\n",
        "| Operation   | Operator |\n",
        "|-:           | :-:      |\n",
        "| Sum:        | **+**    |\n",
        "| Difference: | **-**    |\n",
        "| Product:    | **\\***   |\n",
        "| Quotient:   | **/**    |\n",
        "| Power:      | **\\*\\*** |\n",
        "| Modulus:    | **%**    |\n"
      ]
    },
    {
      "cell_type": "markdown",
      "metadata": {
        "id": "cLIi4NHMoq0g"
      },
      "source": [
        "### Hack Time "
      ]
    },
    {
      "cell_type": "code",
      "metadata": {
        "id": "eiFKOoEcobd3"
      },
      "source": [
        "# Divide 7 by 3.\n",
        "\n",
        "# Raise 2 to the 5th power.\n",
        "\n",
        "# Do another mathematical operation.\n",
        "\n",
        "# Describe what you did using a comment\n"
      ],
      "execution_count": 6,
      "outputs": []
    },
    {
      "cell_type": "markdown",
      "metadata": {
        "id": "rMx8hCcXm348"
      },
      "source": [
        "## Assignment\n",
        "\n",
        "Objects are containers that allow you to store information such as a value, a sentence, or another piece of code such as a function (more on this later). To define those objects you need to use the assignment operator.\n",
        "\n",
        "The assignment operator is the equal symbol **\"=\"** in python.\n"
      ]
    },
    {
      "cell_type": "code",
      "metadata": {
        "id": "4xp0CxL4trTo",
        "colab": {
          "base_uri": "https://localhost:8080/"
        },
        "outputId": "986c2378-db35-4baf-a66f-8a9b02f0f544"
      },
      "source": [
        "turnout_1 = 55.7\n",
        "turnout_1\n"
      ],
      "execution_count": 30,
      "outputs": [
        {
          "output_type": "execute_result",
          "data": {
            "text/plain": [
              "55.7"
            ]
          },
          "metadata": {},
          "execution_count": 30
        }
      ]
    },
    {
      "cell_type": "markdown",
      "metadata": {
        "id": "z_NXRBkrY15v"
      },
      "source": [
        "Notice that in this case we did not use `print()` function on line 2 and yet the notebook returned a value. Notebooks always returns the last statement.\n",
        "\n",
        "Let's create some more objects with relevant information."
      ]
    },
    {
      "cell_type": "code",
      "metadata": {
        "id": "9OZBstVJYxdk"
      },
      "source": [
        "election = \"United States presidential election\"\n",
        "year_1 = 2016\n",
        "winner_1 = \"Republican Party\"\n",
        "\n",
        "year_2 = 2020\n",
        "turnout_2 = 66.8 \n",
        "winner_2 = \"Democratic Party\"\n"
      ],
      "execution_count": 31,
      "outputs": []
    },
    {
      "cell_type": "markdown",
      "metadata": {
        "id": "8MhW4ObDSish"
      },
      "source": [
        "The code doesn't need to always return something. Sometimes you are simply creating and saving elements in memory for later use.\n",
        "\n",
        "When you need to assign strings to an object you also have to wrap your text with quotation marks. You can use single or double quotes but it is good practice to always use double quotations marks."
      ]
    },
    {
      "cell_type": "code",
      "metadata": {
        "colab": {
          "base_uri": "https://localhost:8080/"
        },
        "id": "gaFxqmxaShQ5",
        "outputId": "85171f33-07c2-4a3f-cd1f-2afac1478f12"
      },
      "source": [
        "print(election, year_1)\n",
        "print(winner_1, turnout_1)\n"
      ],
      "execution_count": 32,
      "outputs": [
        {
          "output_type": "stream",
          "name": "stdout",
          "text": [
            "United States presidential election 2016\n",
            "Republican Party 55.7\n"
          ]
        }
      ]
    },
    {
      "cell_type": "markdown",
      "metadata": {
        "id": "zeJz5jXlm9VH"
      },
      "source": [
        "\n",
        "Before you run the next code cell, try to think what will happen?\n"
      ]
    },
    {
      "cell_type": "code",
      "metadata": {
        "id": "9TbVi02sUyng"
      },
      "source": [
        "print(Winner_2)"
      ],
      "execution_count": null,
      "outputs": []
    },
    {
      "cell_type": "markdown",
      "metadata": {
        "id": "zE22qBuLVauU"
      },
      "source": [
        "Can you fix this and make it run properly?\n"
      ]
    },
    {
      "cell_type": "markdown",
      "metadata": {
        "id": "WL3eLG-BVzAM"
      },
      "source": [
        "You can combine assignments with artithmetics. For instance:"
      ]
    },
    {
      "cell_type": "code",
      "metadata": {
        "colab": {
          "base_uri": "https://localhost:8080/"
        },
        "id": "qDJ1-9qgWB4Z",
        "outputId": "78014b26-ffd7-4b1d-e409-a9995ad4b6d1"
      },
      "source": [
        "sum = 3 + 14\n",
        "sum"
      ],
      "execution_count": 45,
      "outputs": [
        {
          "output_type": "execute_result",
          "data": {
            "text/plain": [
              "17"
            ]
          },
          "metadata": {},
          "execution_count": 45
        }
      ]
    },
    {
      "cell_type": "code",
      "metadata": {
        "colab": {
          "base_uri": "https://localhost:8080/"
        },
        "id": "PLEs0kZKWFhn",
        "outputId": "25589a15-b440-4776-f103-a9829b30c7ff"
      },
      "source": [
        "difference = 10 - 3\n",
        "difference"
      ],
      "execution_count": 46,
      "outputs": [
        {
          "output_type": "execute_result",
          "data": {
            "text/plain": [
              "7"
            ]
          },
          "metadata": {},
          "execution_count": 46
        }
      ]
    },
    {
      "cell_type": "code",
      "metadata": {
        "colab": {
          "base_uri": "https://localhost:8080/"
        },
        "id": "XqELR19HWVK8",
        "outputId": "83b5fc24-f52b-4c5f-dc26-29568e4caf59"
      },
      "source": [
        "product = 42 * 2.41\n",
        "product"
      ],
      "execution_count": 47,
      "outputs": [
        {
          "output_type": "execute_result",
          "data": {
            "text/plain": [
              "101.22"
            ]
          },
          "metadata": {},
          "execution_count": 47
        }
      ]
    },
    {
      "cell_type": "markdown",
      "metadata": {
        "id": "tGEnj0-QZWQr"
      },
      "source": [
        "But you can also use simple arithmetics to start answering some interesting questions!\n",
        "\n",
        "By how many percentage points did turnout increase/decrease in the last American Election?"
      ]
    },
    {
      "cell_type": "code",
      "metadata": {
        "colab": {
          "base_uri": "https://localhost:8080/"
        },
        "id": "knm2AJDlXRZ0",
        "outputId": "1b6be520-c426-4e73-f960-228256934cdb"
      },
      "source": [
        "diff_turnout = turnout_2 - turnout_1"
      ],
      "execution_count": 39,
      "outputs": [
        {
          "output_type": "execute_result",
          "data": {
            "text/plain": [
              "11.099999999999994"
            ]
          },
          "metadata": {},
          "execution_count": 39
        }
      ]
    },
    {
      "cell_type": "markdown",
      "metadata": {
        "id": "btlK4Sa_c8qH"
      },
      "source": [
        "What is the percentage change in turnout since the last election?"
      ]
    },
    {
      "cell_type": "code",
      "metadata": {
        "id": "_PMJJDf9c3nA"
      },
      "source": [
        "pct_change = turnout_2 / turnout_1"
      ],
      "execution_count": 48,
      "outputs": []
    },
    {
      "cell_type": "markdown",
      "metadata": {
        "id": "dGL_XfDkdKro"
      },
      "source": [
        "What is the average turnout in the last 2 elections?"
      ]
    },
    {
      "cell_type": "code",
      "metadata": {
        "id": "beLRUh3TW8Kp"
      },
      "source": [
        "avg_turnout = ( turnout_1 + turnout_2 ) / 2"
      ],
      "execution_count": 49,
      "outputs": []
    },
    {
      "cell_type": "markdown",
      "metadata": {
        "id": "RchpCgYetcHz"
      },
      "source": [
        "### Hack Time\n",
        "\n",
        "Let's add the data for the 2012 United States presidential election.\n",
        "\n"
      ]
    },
    {
      "cell_type": "code",
      "metadata": {
        "id": "ldux1N7-yOxO"
      },
      "source": [
        "# Create 3 new objects with the information for the 2012 US election.\n",
        "year_3 = \n",
        "turnout_3 = \n",
        "winner_3 = \n"
      ],
      "execution_count": null,
      "outputs": []
    },
    {
      "cell_type": "code",
      "metadata": {
        "id": "4xOFb9PGe11f"
      },
      "source": [
        "# By how many percentage points did turnout increase/decrease in 2020 compared to 2012?\n",
        "\n"
      ],
      "execution_count": null,
      "outputs": []
    },
    {
      "cell_type": "code",
      "metadata": {
        "id": "4PHBG-ISe4fP"
      },
      "source": [
        "# What is the average turnout over the last 3 elections?\n"
      ],
      "execution_count": null,
      "outputs": []
    },
    {
      "cell_type": "markdown",
      "metadata": {
        "id": "v6UGa0nm1SRX"
      },
      "source": [
        "## Basic data types in Python\n",
        "\n",
        "Python works with numerous data types. Some of the most basic types to get started are:\n",
        "\n",
        "- Natural numbers like 2 are called integers (*int*). \n",
        "- Decimal values like 2.5 are called floating point (*float*).\n",
        "- Textual values like \"orange\" or 'bananas' are called strings (*str*).\n",
        "- Logical values (True or False) are called boolean (*bool*).\n",
        "- Lists are like variables but can contain any Python type (*list*)."
      ]
    },
    {
      "cell_type": "code",
      "metadata": {
        "id": "4bvNijKX3D1s"
      },
      "source": [
        "day_1 = 20\n",
        "type(day_1)\n"
      ],
      "execution_count": null,
      "outputs": []
    },
    {
      "cell_type": "code",
      "metadata": {
        "id": "jZ-RTwBh3Rxu"
      },
      "source": [
        "day_2 = 30\n",
        "type(day_2)\n"
      ],
      "execution_count": null,
      "outputs": []
    },
    {
      "cell_type": "code",
      "metadata": {
        "id": "Pkrwcmek3WBC"
      },
      "source": [
        "description = \"Voting Intentions\"\n",
        "type(description)\n"
      ],
      "execution_count": null,
      "outputs": []
    },
    {
      "cell_type": "code",
      "metadata": {
        "id": "nKWVO2EwuqmF"
      },
      "source": [
        "increasing = True\n",
        "type(increasing)\n"
      ],
      "execution_count": null,
      "outputs": []
    },
    {
      "cell_type": "code",
      "metadata": {
        "id": "4JIF0KeG7NPO"
      },
      "source": [
        "data = [description, increasing, \"Tuesday\", day_1, \"Wednesday\", day_2]\n",
        "type(data)"
      ],
      "execution_count": null,
      "outputs": []
    },
    {
      "cell_type": "markdown",
      "metadata": {
        "id": "ikqxPVSr86zx"
      },
      "source": [
        "If you run the code below, what is the output?\n"
      ]
    },
    {
      "cell_type": "code",
      "metadata": {
        "id": "5YUSoD5Ug4Af"
      },
      "source": [
        "print(\"5\" + \"3\")"
      ],
      "execution_count": null,
      "outputs": []
    },
    {
      "cell_type": "markdown",
      "metadata": {
        "id": "LA31CS2fqYYF"
      },
      "source": [
        "In python you can sum *STRINGS*. As you are doing the sum of two *STRINGS* the result is 53."
      ]
    },
    {
      "cell_type": "markdown",
      "metadata": {
        "id": "hUrBISRs5jdx"
      },
      "source": [
        "### Hack Time"
      ]
    },
    {
      "cell_type": "code",
      "metadata": {
        "id": "fz9Eg8Ln5m0P"
      },
      "source": [
        "# Your Code Here.\n",
        "## Create a variable containinig the average of vote shares for day_1 and day_2\n",
        "\n",
        "## What is the type of this new variable?\n"
      ],
      "execution_count": null,
      "outputs": []
    },
    {
      "cell_type": "markdown",
      "metadata": {
        "id": "y1-g8bwU4r44"
      },
      "source": [
        "## List Manipulation\n",
        "\n",
        "You can select, slice or edit elements in a list.\n",
        "\n",
        "Note that Python is 0 indexed.\n"
      ]
    },
    {
      "cell_type": "code",
      "metadata": {
        "id": "PBqTX5r021As"
      },
      "source": [
        "# Select an element in a list\n",
        "data\n",
        "data[3]\n"
      ],
      "execution_count": null,
      "outputs": []
    },
    {
      "cell_type": "code",
      "metadata": {
        "id": "5LTIzvxN25ZS"
      },
      "source": [
        "# Slicing lists: list[begin:end]\n",
        "data[2:]\n"
      ],
      "execution_count": null,
      "outputs": []
    },
    {
      "cell_type": "code",
      "metadata": {
        "id": "Wj8UZptK257c"
      },
      "source": [
        "# Editing a list\n",
        "data[0] = \"Monday\"\n",
        "data[1] = 25.6\n",
        "data\n"
      ],
      "execution_count": null,
      "outputs": []
    },
    {
      "cell_type": "code",
      "metadata": {
        "id": "BSt4QYkd2687"
      },
      "source": [
        "# Adding to a list\n",
        "day_3 = [\"Thursday\", 40]\n",
        "day_3\n",
        "data = data + day_3\n",
        "data\n"
      ],
      "execution_count": null,
      "outputs": []
    },
    {
      "cell_type": "markdown",
      "metadata": {
        "id": "f66XD41Y27rv"
      },
      "source": [
        "### Unpacking elements from lists\n"
      ]
    },
    {
      "cell_type": "code",
      "metadata": {
        "id": "5wRMK1JU28Y2"
      },
      "source": [
        "# Unpack contents of a list into multiple variables\n",
        "a, b = day_3\n",
        "\n",
        "print(\"a:\", a)\n",
        "print(\"b:\", b)\n"
      ],
      "execution_count": null,
      "outputs": []
    },
    {
      "cell_type": "code",
      "metadata": {
        "id": "AzI2lV3b4wC5"
      },
      "source": [
        "# You can use the asterisk to unpack multiple elements\n",
        "a, b, *c = data\n",
        "\n",
        "print(\"a:\", a)\n",
        "print(\"b:\", b)\n",
        "print(\"c:\", c)\n"
      ],
      "execution_count": null,
      "outputs": []
    },
    {
      "cell_type": "markdown",
      "metadata": {
        "id": "sH747xtD4w0u"
      },
      "source": [
        "## Functions and Methods\n",
        "We have already used some functions until now (e.g. `print()`, `type()`, `range()`).\n",
        "\n",
        "- A function is a group of related statements that perform a specific task.\n",
        "- Help break our program into smaller and modular chunks.\n",
        "- Make your code more organized and manageable. \n",
        "- Avoids repetition and makes code reusable.\n",
        "\n",
        "\n",
        "The general form that functions take is:\n",
        "\n",
        "```python\n",
        "output = function_name(input)\n",
        "```\n",
        "\n"
      ]
    },
    {
      "cell_type": "code",
      "metadata": {
        "id": "9TfTXOMi4xtW"
      },
      "source": [
        "result = type(day_3)\n",
        "result\n"
      ],
      "execution_count": null,
      "outputs": []
    },
    {
      "cell_type": "code",
      "metadata": {
        "id": "l6pHIl2b5j7X"
      },
      "source": [
        "# Note that help is also a function!\n",
        "help(help)\n"
      ],
      "execution_count": null,
      "outputs": []
    },
    {
      "cell_type": "code",
      "metadata": {
        "id": "Pum0NSjo5m_o"
      },
      "source": [
        "# Alternatively IPython offers a shortcut\n",
        "?print\n"
      ],
      "execution_count": null,
      "outputs": []
    },
    {
      "cell_type": "code",
      "metadata": {
        "id": "3F1NULbr5oIn"
      },
      "source": [
        "data[1]\n"
      ],
      "execution_count": null,
      "outputs": []
    },
    {
      "cell_type": "code",
      "metadata": {
        "id": "_xgOvtST6EvI"
      },
      "source": [
        "round(data[1])\n"
      ],
      "execution_count": null,
      "outputs": []
    },
    {
      "cell_type": "markdown",
      "metadata": {
        "id": "8QsegVDy5onT"
      },
      "source": [
        "### Defining your own functions\n",
        "\n",
        "#### The syntax of Function\n",
        "```python\n",
        "def function_name(parameters):\n",
        "    \"\"\"A one line summary docstring of the function.\"\"\"\n",
        "    tmp = first_statement(s)\n",
        "    output = second_statement(tmp)\n",
        "    return output\n",
        "```\n",
        "A function definition consists of following components:\n",
        "- The Keyword def marks the start of a function header.\n",
        "- A function name to uniquely identify it.\n",
        "- Parameters (arguments) through which we pass values to a function. They are optional.\n",
        "- A colon (:) to mark the end of function header.\n",
        "- \"Optional\" documentation string (docstring) to describe what the function does.\n",
        "- One or more valid python statements that make up the function body. Statements must have same indentation level (usually 4 spaces).\n",
        "- An optional return statement to return a value from the function.\n"
      ]
    },
    {
      "cell_type": "markdown",
      "metadata": {
        "id": "LT3OtNyO5txU"
      },
      "source": [
        "### Hack Time\n"
      ]
    },
    {
      "cell_type": "code",
      "metadata": {
        "id": "wNgujVAr64yS"
      },
      "source": [
        "# Your code here.\n",
        "## Let's create a function that returns the mean of its items.\n"
      ],
      "execution_count": null,
      "outputs": []
    },
    {
      "cell_type": "markdown",
      "metadata": {
        "id": "gOkBdOWM5wVw"
      },
      "source": [
        "### Methods\n",
        "Methods are functions that belong to objects.\n",
        "\n",
        "The general form that methods take is:\n",
        "```python\n",
        "object.method(input)\n",
        "```\n"
      ]
    },
    {
      "cell_type": "code",
      "metadata": {
        "id": "DhvZq-jn69L8"
      },
      "source": [
        "data.index(\"Tuesday\")\n"
      ],
      "execution_count": null,
      "outputs": []
    },
    {
      "cell_type": "code",
      "metadata": {
        "id": "VzAgkeS57KbI"
      },
      "source": [
        "help(data.index)\n"
      ],
      "execution_count": null,
      "outputs": []
    },
    {
      "cell_type": "markdown",
      "metadata": {
        "id": "qXL5O4Cv7K-S"
      },
      "source": [
        "Each type of data has its own set of methods.\n",
        "\n"
      ]
    },
    {
      "cell_type": "code",
      "metadata": {
        "id": "oxYiWt6q7Lue"
      },
      "source": [
        "print(description)\n",
        "type(description)\n"
      ],
      "execution_count": null,
      "outputs": []
    },
    {
      "cell_type": "code",
      "metadata": {
        "id": "wCsQbUXp7MjH"
      },
      "source": [
        "description.lower()\n"
      ],
      "execution_count": null,
      "outputs": []
    },
    {
      "cell_type": "code",
      "metadata": {
        "id": "v5J6eo9X7NDd"
      },
      "source": [
        "description.count(\"i\")\n"
      ],
      "execution_count": null,
      "outputs": []
    },
    {
      "cell_type": "markdown",
      "metadata": {
        "id": "4L7iBdgP7NdW"
      },
      "source": [
        "You can also chain methods.\n"
      ]
    },
    {
      "cell_type": "code",
      "metadata": {
        "id": "LoTscrd78GV6"
      },
      "source": [
        "description.lower().count(\"i\")\n"
      ],
      "execution_count": null,
      "outputs": []
    },
    {
      "cell_type": "code",
      "metadata": {
        "id": "rgp85wTN7N14"
      },
      "source": [
        "day_4 = ['Friday', 35]\n",
        "data.extend(day_4)\n",
        "data\n"
      ],
      "execution_count": null,
      "outputs": []
    },
    {
      "cell_type": "markdown",
      "metadata": {
        "id": "eQJNdyN47OQZ"
      },
      "source": [
        "## Modules, and Packages\n",
        "\n",
        "A module is a set of python commands that are saved in a script (eg. script.py).\n",
        "You can load a module and access all its contents at anytime using the command `import module`.\n",
        "\n",
        "Packages are standardized way of organizing code and usually consist of multiple modules.\n",
        "    - Minimal Package Structure: https://python-packaging.readthedocs.io/en/latest/minimal.html\n",
        "\n",
        "Python, comes with pre-installed packages that you can directly load.\n",
        "\n"
      ]
    },
    {
      "cell_type": "code",
      "metadata": {
        "id": "Arp7dXrF7O8B"
      },
      "source": [
        "import math\n",
        "pi = math.pi\n",
        "pi\n"
      ],
      "execution_count": null,
      "outputs": []
    },
    {
      "cell_type": "markdown",
      "metadata": {
        "id": "cfZHL5PI7eB9"
      },
      "source": [
        "### File-system interaction.\n"
      ]
    },
    {
      "cell_type": "code",
      "metadata": {
        "id": "8Dzjjl-Z8aST"
      },
      "source": [
        "import os\n",
        "# Execute a shell command\n",
        "os.system(\"touch test_script.py\")\n"
      ],
      "execution_count": null,
      "outputs": []
    },
    {
      "cell_type": "code",
      "metadata": {
        "id": "Qn0LLOOG8gt_"
      },
      "source": [
        "# Return the current working directory\n",
        "os.getcwd()\n"
      ],
      "execution_count": null,
      "outputs": []
    },
    {
      "cell_type": "code",
      "metadata": {
        "id": "-0Awpt-b8hJ2"
      },
      "source": [
        "# List all of the files and sub-directories in a particular folder\n",
        "os.listdir()\n"
      ],
      "execution_count": null,
      "outputs": []
    },
    {
      "cell_type": "code",
      "metadata": {
        "id": "PwQTIiEY8hm9"
      },
      "source": [
        "# Create folders recursively\n",
        "my_path = \"my_tmp_project/test1/test2/test3\"\n",
        "os.makedirs(my_path)\n",
        "os.listdir()\n"
      ],
      "execution_count": null,
      "outputs": []
    },
    {
      "cell_type": "code",
      "metadata": {
        "id": "ss2YLqWF8iFo"
      },
      "source": [
        "# Delete directories recursively.\n",
        "os.removedirs(my_path)\n",
        "os.listdir()\n"
      ],
      "execution_count": null,
      "outputs": []
    },
    {
      "cell_type": "code",
      "metadata": {
        "id": "NXHeruRs8klu"
      },
      "source": [
        "# Handling slashes / in file paths\n",
        "file = \"process.py\"\n",
        "folder = \"Documents/project1\"\n",
        "full_path = os.path.join(folder, file)\n",
        "full_path\n"
      ],
      "execution_count": null,
      "outputs": []
    },
    {
      "cell_type": "code",
      "metadata": {
        "id": "T7O7raZk8jQS"
      },
      "source": [
        "os.rename(\"test_script.py\", \"tmp_script.py\")\n",
        "os.listdir()\n"
      ],
      "execution_count": null,
      "outputs": []
    },
    {
      "cell_type": "code",
      "metadata": {
        "id": "GV0AsBL7vkHa"
      },
      "source": [
        "# Create and write data to a file\n",
        "file_path = \"tmp_file.txt\"\n",
        "file_contents = \"Hello Again,\\nThis is a new Line!\"\n",
        "\n",
        "file = open(file_path, 'w') \n",
        "file.write(file_contents) \n",
        "file.close() \n"
      ],
      "execution_count": null,
      "outputs": []
    },
    {
      "cell_type": "code",
      "metadata": {
        "id": "FQbQbD1EwGuA"
      },
      "source": [
        "# Using the contextual `with` statement\n",
        "with open(file_path, 'w') as file: \n",
        "    file.write(file_contents) \n"
      ],
      "execution_count": null,
      "outputs": []
    },
    {
      "cell_type": "code",
      "metadata": {
        "id": "QluXfaYjzcLp"
      },
      "source": [
        "# Reading the contents of a file\n",
        "with open(file_path, \"r\") as file:\n",
        "\tread_contents = file.read()\n",
        "\n",
        "print(read_contents)"
      ],
      "execution_count": null,
      "outputs": []
    },
    {
      "cell_type": "code",
      "metadata": {
        "id": "JDCwla_G8jxg"
      },
      "source": [
        "## Delete a file\n",
        "os.remove(file_path)\n",
        "os.listdir()\n"
      ],
      "execution_count": null,
      "outputs": []
    },
    {
      "cell_type": "code",
      "metadata": {
        "id": "uxwhiSOV8lu4"
      },
      "source": [
        "# Get the directory and file name from a full path\n",
        "file = os.path.basename(full_path)\n",
        "folder = os.path.dirname(full_path)\n",
        "print(file, folder)\n"
      ],
      "execution_count": null,
      "outputs": []
    },
    {
      "cell_type": "code",
      "metadata": {
        "id": "sywOLHbk8meo"
      },
      "source": [
        "# Check if a file or folder exists\n",
        "os.path.exists(full_path)\n"
      ],
      "execution_count": null,
      "outputs": []
    },
    {
      "cell_type": "code",
      "metadata": {
        "id": "VudqGVaX8m_t"
      },
      "source": [
        "# Get the extension of a file\n",
        "name, extension = os.path.splitext(file)\n",
        "print(name, extension)\n"
      ],
      "execution_count": null,
      "outputs": []
    },
    {
      "cell_type": "markdown",
      "metadata": {
        "id": "g_UNpeuM7Rdd"
      },
      "source": [
        "### Install package\n",
        "\n",
        "To install a package in Python you use the command `pip install package_name` directly in your terminal.\n",
        "\n",
        "There are thousands of packages available such as:\n",
        "    - matplotlib\n",
        "    - numpy\n",
        "    - pandas\n",
        "    - pytorch\n",
        "    - sci-kit learn\n",
        "    - ...\n",
        "\n",
        "For more packages see:\n",
        "    - The Python Package Index: https://pypi.org/\n"
      ]
    },
    {
      "cell_type": "code",
      "metadata": {
        "id": "1QfCcjkH7Sun"
      },
      "source": [
        "# We will rely on some IPython magic to directly interact with the terminal.\n",
        "!pip install wikipedia\n"
      ],
      "execution_count": null,
      "outputs": []
    },
    {
      "cell_type": "code",
      "metadata": {
        "id": "5bqSo9hsoW8K"
      },
      "source": [
        "# You can now import and start using the package.\n",
        "import wikipedia"
      ],
      "execution_count": null,
      "outputs": []
    }
  ]
}