{
  "nbformat": 4,
  "nbformat_minor": 0,
  "metadata": {
    "colab": {
      "name": "Demo-Handout-Introduction_to_Python-ZAÏ--GILLOT_Lucas",
      "provenance": [],
      "collapsed_sections": []
    },
    "kernelspec": {
      "display_name": "Python 3",
      "name": "python3"
    }
  },
  "cells": [
    {
      "cell_type": "markdown",
      "metadata": {
        "id": "GJBs_flRovLc"
      },
      "source": [
        "\n",
        "#**Welcome to Python 3**\n",
        "\n",
        "## What is Pyhton ?\n",
        "The Python programming language was created in 1989 by Guido van Rossum in the Netherlands. \n",
        "\n",
        "Fun fact : the name of the language is a tribute to the famous comedy troupe **The Monty Python** \n",
        "\n",
        "![Monty Python](https://www.telerama.fr/sites/tr_master/files/styles/simplecrop1000/public/medias/2013/11/media_105282/les-monty-python-se-reforment%2CM133025.jpg?itok=7ffIcPJ2)\n",
        "*(By the way you have to see one of their movies)*\n",
        "\n",
        "---\n",
        "\n",
        "##**How to start a code in Python ?**\n",
        "###**3 tools**\n",
        "\n",
        "1. Variable\n",
        "1. Operation\n",
        "1. Functions\n",
        "---\n",
        "##**Some types of variables**\n",
        "\n",
        "A variable is an area of the computer's memory in which a value is stored.\n",
        "There are 3 mains types of variables :\n",
        "- *integer*\n",
        "\n",
        "```python\n",
        "      x = 2\n",
        "```\n",
        "- *floats*\n",
        "```python\n",
        "π = 3.14\n",
        "```\n",
        "\n",
        "- *string*\n",
        "\n",
        "A string of characters \n",
        "```python\n",
        "      a = \"Classroom\"\n",
        "```\n",
        "\n",
        "**1. Variable assignment**\n",
        "\n",
        "\n",
        "You have to create a variable and to assign it a value\n",
        "```python\n",
        "number_of_student = 22\n",
        "```\n",
        "**2. Print a variable**\n",
        "\n",
        "Once you created the variable you can apply function to it. \n",
        "\n",
        "*Print allows you to show the result a coding cell*\n",
        "```python\n",
        "number_of_students = 22\n",
        "print(number_of_student)\n",
        "```\n"
      ]
    },
    {
      "cell_type": "code",
      "metadata": {
        "colab": {
          "base_uri": "https://localhost:8080/"
        },
        "id": "5A5jN2BBp99c",
        "outputId": "ea045cf8-3a03-4133-953e-6dd8fba50947"
      },
      "source": [
        "number_of_students = 22\n",
        "print(number_of_students)\n"
      ],
      "execution_count": null,
      "outputs": [
        {
          "output_type": "stream",
          "name": "stdout",
          "text": [
            "22\n"
          ]
        }
      ]
    },
    {
      "cell_type": "markdown",
      "metadata": {
        "id": "-MfwxwZPtbKl"
      },
      "source": [
        "---\n",
        "##**Some basic operations**\n",
        "\n",
        "Once you created you variable you can have fun with it. \n",
        "\n",
        "\n",
        "![Having fun](https://c.tenor.com/uC0BbQti-VoAAAAM/dance-lisa-simpson.gif)\n",
        "\n",
        "\n",
        "**- Addition**\n",
        "\n",
        "\n",
        "```python\n",
        ">>>number_of_students_in_SPSC = 12\n",
        ">>>number_of_students_in_MDP = 8\n",
        ">>>number_of_students_in_JO = 3\n",
        "\n",
        ">>>all_of_us = number_of_students_in_SPSC + number_of_students_in_MDP + number_of_students_in_JO\n",
        "print(all_of_us)\n",
        "\n",
        "```"
      ]
    },
    {
      "cell_type": "code",
      "metadata": {
        "colab": {
          "base_uri": "https://localhost:8080/"
        },
        "id": "wnN84MiBsHBx",
        "outputId": "4ac9f979-1b6f-4c5f-abff-65b2d31d02dd"
      },
      "source": [
        "number_of_students_in_SPSC = 13\n",
        "number_of_students_in_MDP = 6\n",
        "number_of_students_in_JO = 3\n",
        "all_of_us = number_of_students_in_SPSC + number_of_students_in_MDP + number_of_students_in_JO\n",
        "print(all_of_us)"
      ],
      "execution_count": null,
      "outputs": [
        {
          "output_type": "stream",
          "name": "stdout",
          "text": [
            "22\n"
          ]
        }
      ]
    },
    {
      "cell_type": "markdown",
      "metadata": {
        "id": "IVsmfP0Uthpr"
      },
      "source": [
        "**- Substraction**\n",
        "\n",
        "```python\n",
        "all_of_us = 22\n",
        "number_of_students_in_SPSC = 11\n",
        "number_of_students_in_MDP = 8\n",
        "\n",
        "number_of_students_in_JO = all_of_us - number_of_students_in_SPSC - number_of_students_in_MDP\n",
        "print(number_of_students_in_JO)\n"
      ]
    },
    {
      "cell_type": "code",
      "metadata": {
        "colab": {
          "base_uri": "https://localhost:8080/"
        },
        "id": "-vYYxvBNueZq",
        "outputId": "dd97bde3-dc46-41bf-c503-a7c0801a51a9"
      },
      "source": [
        "all_of_us = 22\n",
        "number_of_students_in_SPSC = 13\n",
        "number_of_students_in_MDP = 6\n",
        "\n",
        "number_of_students_in_JO = all_of_us - number_of_students_in_SPSC - number_of_students_in_MDP\n",
        "print(number_of_students_in_JO)"
      ],
      "execution_count": null,
      "outputs": [
        {
          "output_type": "stream",
          "name": "stdout",
          "text": [
            "3\n"
          ]
        }
      ]
    },
    {
      "cell_type": "markdown",
      "metadata": {
        "id": "kGLHBcOBvxye"
      },
      "source": [
        "It is possible to perform operations on all types of variables (even strings).\n"
      ]
    },
    {
      "cell_type": "code",
      "metadata": {
        "colab": {
          "base_uri": "https://localhost:8080/"
        },
        "id": "vamToWa99-9Y",
        "outputId": "0b577b79-c532-4dec-a179-fa37107dc02b"
      },
      "source": [
        "a = \"Hello \" \n",
        "b = \"my friend\"\n",
        "print (a+b)"
      ],
      "execution_count": null,
      "outputs": [
        {
          "output_type": "stream",
          "name": "stdout",
          "text": [
            "Hellomy friend\n"
          ]
        }
      ]
    },
    {
      "cell_type": "markdown",
      "metadata": {
        "id": "cVt14a5b-jO9"
      },
      "source": [
        "---\n",
        "#**Some functions**\n",
        "\n",
        "Like in mathematics, a function is a list of operations applied to a variable.\n",
        "\n",
        "\n",
        "![schéma_d'une_fonction](https://python.sdv.univ-paris-diderot.fr/img/schema_fonction.png)\n",
        "\n",
        "###Print *print()*\n",
        "\n",
        "Use to print variable or the result of an operation\n",
        "```python\n",
        "number_of_students = 22\n",
        "print(number_of_students)\n",
        "```\n",
        "\n",
        "\n"
      ]
    },
    {
      "cell_type": "code",
      "metadata": {
        "id": "O2VwAj-mA844",
        "colab": {
          "base_uri": "https://localhost:8080/"
        },
        "outputId": "6829fcae-b8c2-43cd-92b8-9f1d63a3966d"
      },
      "source": [
        "number_of_students = 22\n",
        "print(number_of_students)"
      ],
      "execution_count": null,
      "outputs": [
        {
          "output_type": "stream",
          "name": "stdout",
          "text": [
            "22\n"
          ]
        }
      ]
    },
    {
      "cell_type": "markdown",
      "metadata": {
        "id": "RmxE0qJ5A9jJ"
      },
      "source": [
        "###Length *len()*\n",
        "\n",
        "Used to know the length of a list.\n",
        "```python\n",
        "len([0, 1, 2])\n",
        "3\n",
        "```"
      ]
    },
    {
      "cell_type": "code",
      "metadata": {
        "colab": {
          "base_uri": "https://localhost:8080/"
        },
        "id": "CUa_oR-YAZgs",
        "outputId": "19169ea4-8aec-425c-e439-6b11ea389962"
      },
      "source": [
        "Students =[\"Franck\", \"Evaline\", \"Thomas\", \"Dorianne\", \"Kamel\", \"Loann\"]\n",
        "a= len(Students)\n",
        "print(a)\n"
      ],
      "execution_count": null,
      "outputs": [
        {
          "output_type": "stream",
          "name": "stdout",
          "text": [
            "6\n"
          ]
        }
      ]
    },
    {
      "cell_type": "markdown",
      "metadata": {
        "id": "ufxBm1yRnruN"
      },
      "source": [
        "## Resources\n",
        "\n",
        "- [Cours de Python Université Paris Diderot](https://python.sdv.univ-paris-diderot.fr/01_introduction/): an introductive course to Python in french.\n",
        "\n",
        "\n"
      ]
    }
  ]
}