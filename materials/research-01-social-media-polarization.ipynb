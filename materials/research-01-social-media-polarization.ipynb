{
  "nbformat": 4,
  "nbformat_minor": 0,
  "metadata": {
    "colab": {
      "name": "06-data-management-existing-values.ipynb",
      "provenance": [],
      "collapsed_sections": []
    },
    "kernelspec": {
      "name": "python3",
      "display_name": "Python 3"
    }
  },
  "cells": [
    {
      "cell_type": "markdown",
      "metadata": {
        "id": "s9nC5_RwqJcx"
      },
      "source": [
        "# Research Topics - 01\n",
        "## Are social media users more polarized?\n",
        "\n",
        "- [ANES Codebook](https://sda.berkeley.edu/sdaweb/docs/nes2020/DOC/hcbk.htm)\n",
        "\n",
        "- `df` dataframe containing the ANES 2020 data "
      ]
    },
    {
      "cell_type": "code",
      "metadata": {
        "id": "PTx-1l9i4MPy"
      },
      "source": [
        "# Load Pandas\n",
        "import pandas as pd\n",
        "\n",
        "# Import Data\n",
        "data_url = \"https://raw.githubusercontent.com/datamisc/ts-2020/main/data.csv\"\n",
        "df = pd.read_csv(data_url, compression='gzip')\n"
      ],
      "execution_count": null,
      "outputs": []
    },
    {
      "cell_type": "code",
      "metadata": {
        "id": "bsYmayDxOmNs"
      },
      "source": [
        "# Your code ...\n"
      ],
      "execution_count": null,
      "outputs": []
    },
    {
      "cell_type": "code",
      "metadata": {
        "id": "QVgaOUmGPNv9"
      },
      "source": [
        "# More code ...\n"
      ],
      "execution_count": null,
      "outputs": []
    }
  ]
}