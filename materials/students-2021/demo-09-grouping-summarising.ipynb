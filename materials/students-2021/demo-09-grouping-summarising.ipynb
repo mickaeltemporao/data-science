{
  "nbformat": 4,
  "nbformat_minor": 0,
  "metadata": {
    "colab": {
      "name": "Copie de demo-handout-topic-maud-lebouc",
      "provenance": [],
      "collapsed_sections": []
    },
    "kernelspec": {
      "display_name": "Python 3",
      "name": "python3"
    }
  },
  "cells": [
    {
      "cell_type": "markdown",
      "metadata": {
        "id": "GJBs_flRovLc"
      },
      "source": [
        "## Grouping data : groupby operation\n",
        "\n",
        "We have already used cross-tabs to compare and relate variables and highlight correlations, for example on voting intention depending on gender. Today we are going to look at a broader tool than the cross-tab operation.\n",
        "\n",
        "A *groupby* operation can be very useful because it allows us to split an object, apply a function, and mostly combine the results. This is called the \"split-apply-combine\" pattern, and it is a powerful tool to analyze data across different categories. It will help us to group large amounts of data and compute operations on these groups.\n",
        "\n",
        "![](https://keytodatascience.com/wp-content/uploads/2020/04/image-1.png)\n"
      ]
    },
    {
      "cell_type": "markdown",
      "metadata": {
        "id": "UdRyKR44dcNI"
      },
      "source": [
        "## Why ?\n",
        "\n",
        "This basically serves to give meaning to the data that has been collected. It allows grouping to make correlations between two responses and to determine social phenomena. \n",
        "\n",
        "Concrete exemple : if we look at the ANES codebook, we can ask a question such as: do LGBTi people vote more for Trump or Biden? But we can push the question further by adding a variable such as: are LGBTi people in the north of the US closer to voting Biden than those in the south? \n",
        "\n"
      ]
    },
    {
      "cell_type": "markdown",
      "metadata": {
        "id": "OwuxHmxllTwN"
      },
      "source": [
        "## How?\n",
        "\n",
        "The first step is to import the data and clean it up in order to get meaningful results.\n",
        "I start with the variable of voting intentions V201336 and then the sexual orientation variable V201601."
      ]
    },
    {
      "cell_type": "code",
      "metadata": {
        "colab": {
          "base_uri": "https://localhost:8080/"
        },
        "id": "gJr_9dXGpJ05",
        "outputId": "11ceed4f-0bcd-4b12-b6dc-3e72f60cf0df"
      },
      "source": [
        "import pandas as pd\n",
        "\n",
        "# Import Data\n",
        "data_url = \"https://raw.githubusercontent.com/datamisc/ts-2020/main/data.csv\"\n",
        "df = pd.read_csv(data_url, compression='gzip')\n",
        "\n",
        "# Cleaning the voting intentions variable\n",
        "values = [1,2]\n",
        "labels = [\"J.Biden\", \"D.Trump\"]\n",
        "df['Intentions'] = df['V201033'].replace([3,4,5,11,12,-9,-8, -1], pd.NA)\n",
        "df['Intentions'] = df['Intentions'].replace(values, labels)\n",
        "\n",
        "# Cleaning the sexual orientation variable\n",
        "values=[1,2,3,4]\n",
        "labels=[\"Heterosexual\", \"LGBTI\", \"LGBTI\", \"LGBTI\"]\n",
        "\n",
        "df['V201601'] = df['V201601'].replace([-9,-5], pd.NA)\n",
        "df['V201601'] = df['V201601'].replace(values, labels)\n"
      ],
      "execution_count": null,
      "outputs": [
        {
          "output_type": "stream",
          "name": "stderr",
          "text": [
            "/usr/local/lib/python3.7/dist-packages/IPython/core/interactiveshell.py:2718: DtypeWarning: Columns (15,17,18,19,21,22,23,25,26,27,29,30,31,33,34,35,37,38,1508,1509) have mixed types.Specify dtype option on import or set low_memory=False.\n",
            "  interactivity=interactivity, compiler=compiler, result=result)\n"
          ]
        }
      ]
    },
    {
      "cell_type": "code",
      "metadata": {
        "id": "DGUt6ne26qGc",
        "colab": {
          "base_uri": "https://localhost:8080/",
          "height": 405
        },
        "outputId": "64e63e54-053f-4c5d-e95e-db46dba35cf5"
      },
      "source": [
        "# mask = df['V201033'] >= 1\n",
        "# mask = df['V201033'] <= 2\n",
        "\n",
        "mask = df['V201033'].between(1,2)\n",
        "df = df[mask]\n",
        "\n",
        "Biden = df[\"V201033\"] == 1\n",
        "df.loc[Biden,\"V201033\"] = \"Biden\"\n",
        "\n",
        "Trump = df[\"V201033\"] == 2\n",
        "df.loc[Trump,\"V201033\"] = \"Trump\"\n",
        "\n",
        "values=[1,2]\n",
        "labels=[\"1. Biden\",\"2.Trump\"]\n",
        "df[\"V201033\"].value_counts().sort_index().plot.bar()\n"
      ],
      "execution_count": null,
      "outputs": [
        {
          "output_type": "stream",
          "name": "stderr",
          "text": [
            "/usr/local/lib/python3.7/dist-packages/pandas/core/indexing.py:1763: SettingWithCopyWarning: \n",
            "A value is trying to be set on a copy of a slice from a DataFrame.\n",
            "Try using .loc[row_indexer,col_indexer] = value instead\n",
            "\n",
            "See the caveats in the documentation: https://pandas.pydata.org/pandas-docs/stable/user_guide/indexing.html#returning-a-view-versus-a-copy\n",
            "  isetter(loc, value)\n"
          ]
        },
        {
          "output_type": "execute_result",
          "data": {
            "text/plain": [
              "<matplotlib.axes._subplots.AxesSubplot at 0x7fc993426690>"
            ]
          },
          "metadata": {},
          "execution_count": 12
        },
        {
          "output_type": "display_data",
          "data": {
            "image/png": "[encoded data removed]",
            "text/plain": [
              "<Figure size 432x288 with 1 Axes>"
            ]
          },
          "metadata": {
            "needs_background": "light"
          }
        }
      ]
    },
    {
      "cell_type": "code",
      "metadata": {
        "id": "5n7jCuwq6lep",
        "colab": {
          "base_uri": "https://localhost:8080/",
          "height": 338
        },
        "outputId": "42050b24-0dba-430a-8b04-cec52d3d9561"
      },
      "source": [
        "df[\"V201601\"].value_counts().sort_index().plot.bar()"
      ],
      "execution_count": null,
      "outputs": [
        {
          "output_type": "execute_result",
          "data": {
            "text/plain": [
              "<matplotlib.axes._subplots.AxesSubplot at 0x7fc9934c7e90>"
            ]
          },
          "metadata": {},
          "execution_count": 13
        },
        {
          "output_type": "display_data",
          "data": {
            "image/png": "[encoded data removed]",
            "text/plain": [
              "<Figure size 432x288 with 1 Axes>"
            ]
          },
          "metadata": {
            "needs_background": "light"
          }
        }
      ]
    },
    {
      "cell_type": "code",
      "metadata": {
        "id": "kfOClghH6lRr",
        "colab": {
          "base_uri": "https://localhost:8080/"
        },
        "outputId": "6e0e208d-d162-4af1-9cc6-1ab37de26454"
      },
      "source": [
        "mon_groupe = ['V201033']\n",
        "df.groupby(mon_groupe)['V201601'].value_counts(normalize=True)"
      ],
      "execution_count": null,
      "outputs": [
        {
          "output_type": "execute_result",
          "data": {
            "text/plain": [
              "V201033  V201601     \n",
              "Biden    Heterosexual    0.908601\n",
              "         LGBTI           0.091399\n",
              "Trump    Heterosexual    0.977860\n",
              "         LGBTI           0.022140\n",
              "Name: V201601, dtype: float64"
            ]
          },
          "metadata": {},
          "execution_count": 14
        }
      ]
    },
    {
      "cell_type": "markdown",
      "metadata": {
        "id": "ypBfM63M9kv_"
      },
      "source": [
        "Here we already have some results: we can see that among Biden voters (1)  = **9,1%** are from the LGBTI community. For Trump (2), **2.2%** only."
      ]
    },
    {
      "cell_type": "code",
      "metadata": {
        "id": "N7soLhsK_pkL",
        "colab": {
          "base_uri": "https://localhost:8080/"
        },
        "outputId": "5e143d8d-669b-43e9-988b-3a1a109f068d"
      },
      "source": [
        "mon_groupey = ['V201601']\n",
        "df.groupby(mon_groupey)['V201033'].value_counts(normalize=True)"
      ],
      "execution_count": null,
      "outputs": [
        {
          "output_type": "execute_result",
          "data": {
            "text/plain": [
              "V201601       V201033\n",
              "Heterosexual  Biden      0.536197\n",
              "              Trump      0.463803\n",
              "LGBTI         Biden      0.837037\n",
              "              Trump      0.162963\n",
              "Name: V201033, dtype: float64"
            ]
          },
          "metadata": {},
          "execution_count": 15
        }
      ]
    },
    {
      "cell_type": "markdown",
      "metadata": {
        "id": "yd6BRBBAxuRL"
      },
      "source": [
        "It is also interesting in this way: among LGBTI people, almost 84% intend to vote for Biden."
      ]
    },
    {
      "cell_type": "markdown",
      "metadata": {
        "id": "oAwDyU124KkR"
      },
      "source": [
        "Now we will enter a third variable: the one that shows the region of the respondents."
      ]
    },
    {
      "cell_type": "code",
      "metadata": {
        "id": "fXBcrinxZGQf",
        "colab": {
          "base_uri": "https://localhost:8080/",
          "height": 322
        },
        "outputId": "a9a011c5-67d5-4de7-d18a-3bfcafc83cfb"
      },
      "source": [
        "Northeast = df[\"V203003\"] == 1\n",
        "df.loc[Northeast,\"V203003\"] = \"Northeast\"\n",
        "\n",
        "Midwest = df[\"V203003\"] == 2\n",
        "df.loc[Midwest,\"V203003\"] = \"Midwest\"\n",
        "\n",
        "South = df[\"V203003\"] == 3\n",
        "df.loc[South,\"V203003\"] = \"South\"\n",
        "\n",
        "West = df[\"V203003\"] == 4\n",
        "df.loc[West,\"V203003\"] = \"West\"\n",
        "\n",
        "values=[1,2,3,4]\n",
        "labels=[\"1. Northeast\", \"2. Midwest\", \"3. South\", \"4. West\"]\n",
        "df[\"V203003\"].value_counts().sort_index().plot.bar()\n"
      ],
      "execution_count": null,
      "outputs": [
        {
          "output_type": "execute_result",
          "data": {
            "text/plain": [
              "<matplotlib.axes._subplots.AxesSubplot at 0x7fc99329ced0>"
            ]
          },
          "metadata": {},
          "execution_count": 16
        },
        {
          "output_type": "display_data",
          "data": {
            "image/png": "[encoded data removed]",
            "text/plain": [
              "<Figure size 432x288 with 1 Axes>"
            ]
          },
          "metadata": {
            "needs_background": "light"
          }
        }
      ]
    },
    {
      "cell_type": "code",
      "metadata": {
        "id": "TCqEk0ZnW_to",
        "colab": {
          "base_uri": "https://localhost:8080/"
        },
        "outputId": "fcd188d9-4b58-49f0-c9f3-c48f730d2054"
      },
      "source": [
        "mon_groupex = ['V201601','V201033']\n",
        "df.groupby(mon_groupex)['V203003'].value_counts(normalize=True)\n",
        "\n"
      ],
      "execution_count": null,
      "outputs": [
        {
          "output_type": "execute_result",
          "data": {
            "text/plain": [
              "V201601       V201033  V203003  \n",
              "Heterosexual  Biden    South        0.336499\n",
              "                       West         0.245401\n",
              "                       Midwest      0.229377\n",
              "                       Northeast    0.188724\n",
              "              Trump    South        0.423328\n",
              "                       Midwest      0.252830\n",
              "                       West         0.179417\n",
              "                       Northeast    0.144425\n",
              "LGBTI         Biden    South        0.297935\n",
              "                       West         0.271386\n",
              "                       Northeast    0.244838\n",
              "                       Midwest      0.185841\n",
              "              Trump    South        0.424242\n",
              "                       Midwest      0.303030\n",
              "                       West         0.196970\n",
              "                       Northeast    0.075758\n",
              "Name: V203003, dtype: float64"
            ]
          },
          "metadata": {},
          "execution_count": 17
        }
      ]
    },
    {
      "cell_type": "markdown",
      "metadata": {
        "id": "V8BL6OLthhdz"
      },
      "source": [
        "\n",
        "\n",
        "We can try with a new variable to get more significant results: the opinion on homosexual marriage."
      ]
    },
    {
      "cell_type": "code",
      "metadata": {
        "id": "oNQ1l92EnKTB",
        "colab": {
          "base_uri": "https://localhost:8080/",
          "height": 517
        },
        "outputId": "61d086be-e6f1-479a-d234-992fe9c45196"
      },
      "source": [
        "# Clean the variable V201416 on homosexual marriage opinion.\n",
        "mask = df['V201416'].between(1,3)\n",
        "df = df[mask]\n",
        "\n",
        "should_be_completly_legal = df[\"V201416\"] == 1\n",
        "df.loc[should_be_completly_legal,\"V201416\"] = \"should_be_completly_legal\"\n",
        "\n",
        "civil_union_but_no_marriage = df[\"V201416\"] == 2\n",
        "df.loc[civil_union_but_no_marriage,\"V201416\"] = \"civil_union_but_no_marriage\"\n",
        "\n",
        "forbidden = df[\"V201416\"] == 3\n",
        "df.loc[forbidden,\"V201416\"] = \"forbidden\"\n",
        "\n",
        "values=[1,2,3]\n",
        "labels=['should be completly legal', 'civil union but no marriage', 'forbidden']\n",
        "\n",
        "df[\"V201416\"].value_counts().sort_index().plot.bar()\n"
      ],
      "execution_count": null,
      "outputs": [
        {
          "output_type": "stream",
          "name": "stderr",
          "text": [
            "/usr/local/lib/python3.7/dist-packages/pandas/core/indexing.py:1763: SettingWithCopyWarning: \n",
            "A value is trying to be set on a copy of a slice from a DataFrame.\n",
            "Try using .loc[row_indexer,col_indexer] = value instead\n",
            "\n",
            "See the caveats in the documentation: https://pandas.pydata.org/pandas-docs/stable/user_guide/indexing.html#returning-a-view-versus-a-copy\n",
            "  isetter(loc, value)\n"
          ]
        },
        {
          "output_type": "execute_result",
          "data": {
            "text/plain": [
              "<matplotlib.axes._subplots.AxesSubplot at 0x7fc99216d750>"
            ]
          },
          "metadata": {},
          "execution_count": 18
        },
        {
          "output_type": "display_data",
          "data": {
            "image/png": "[encoded data removed]",
            "text/plain": [
              "<Figure size 432x288 with 1 Axes>"
            ]
          },
          "metadata": {
            "needs_background": "light"
          }
        }
      ]
    },
    {
      "cell_type": "code",
      "metadata": {
        "id": "IabQ-OjAslU-",
        "colab": {
          "base_uri": "https://localhost:8080/"
        },
        "outputId": "45b434b0-b98f-431c-8e6a-e45820d8470b"
      },
      "source": [
        "mon_groupex =['V201601','V201033']\n",
        "df.groupby(mon_groupex)['V201416'].value_counts(normalize=True)"
      ],
      "execution_count": null,
      "outputs": [
        {
          "output_type": "execute_result",
          "data": {
            "text/plain": [
              "V201601       V201033  V201416                    \n",
              "Heterosexual  Biden    should_be_completly_legal      0.838700\n",
              "                       civil_union_but_no_marriage    0.102266\n",
              "                       forbidden                      0.059034\n",
              "              Trump    should_be_completly_legal      0.460791\n",
              "                       civil_union_but_no_marriage    0.306731\n",
              "                       forbidden                      0.232477\n",
              "LGBTI         Biden    should_be_completly_legal      0.952522\n",
              "                       forbidden                      0.035608\n",
              "                       civil_union_but_no_marriage    0.011869\n",
              "              Trump    should_be_completly_legal      0.753846\n",
              "                       civil_union_but_no_marriage    0.215385\n",
              "                       forbidden                      0.030769\n",
              "Name: V201416, dtype: float64"
            ]
          },
          "metadata": {},
          "execution_count": 19
        }
      ]
    },
    {
      "cell_type": "markdown",
      "metadata": {
        "id": "j8m6NtOi0VrU"
      },
      "source": [
        "We cross-tabulated three variables here: sexual orientation, voting intention and opinion on gay marriage. We can read the data like this: among LGBTI people who voted for Trump, **21.5%** think that gay marriage should not be legal, only civil unions."
      ]
    },
    {
      "cell_type": "markdown",
      "metadata": {
        "id": "ufxBm1yRnruN"
      },
      "source": [
        "## Resources\n",
        "\n",
        "\n",
        "\n",
        "- [https://www.youtube.com/watch?v=LVoSlpm7QEY](): Youtube video that explains with a screen how groupby works.\n",
        "- [https://pandas.pydata.org/pandas-docs/stable/reference/api/pandas.DataFrame.groupby.html](www.example.com): Describes step by step the different things you can do with groupby.\n",
        "\n",
        "\n"
      ]
    }
  ]
}