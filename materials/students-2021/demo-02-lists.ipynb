{
  "nbformat": 4,
  "nbformat_minor": 0,
  "metadata": {
    "colab": {
      "name": "Lists on Python-Roxanne Borel",
      "provenance": [],
      "collapsed_sections": []
    },
    "kernelspec": {
      "display_name": "Python 3",
      "name": "python3"
    }
  },
  "cells": [
    {
      "cell_type": "markdown",
      "metadata": {
        "id": "GJBs_flRovLc"
      },
      "source": [
        "## What is a list on Python ?\n",
        "\n",
        "Lists represent ordered sequences of values. On Python you can create lists with different types of values : numbers, letters, words, etc.\n",
        "\n",
        "The sequence of values of a list has to be put **between brackets** and every value needs to be **separated by a comma**."
      ]
    },
    {
      "cell_type": "code",
      "metadata": {
        "id": "-7NETyUY7Uik",
        "colab": {
          "base_uri": "https://localhost:8080/"
        },
        "outputId": "7f80552c-a084-4118-bcca-3dfbda8de40e"
      },
      "source": [
        "#Let's name a list \"A\" that will contains random numbers\n",
        "A=[1, 2, 3, 4, 5]\n",
        "print(A)"
      ],
      "execution_count": null,
      "outputs": [
        {
          "output_type": "stream",
          "name": "stdout",
          "text": [
            "[1, 2, 3, 4, 5]\n"
          ]
        }
      ]
    },
    {
      "cell_type": "code",
      "metadata": {
        "id": "PO9d7ch98yyE",
        "colab": {
          "base_uri": "https://localhost:8080/"
        },
        "outputId": "693b921d-7f6f-4289-8070-759e8a5f2fd7"
      },
      "source": [
        "#We can also create a list with other values, such as people's name in the SPSC master\n",
        "B=[\"Lola\", \"Dorianne\", \"Loann\", \"Mathias\", \"Célia\", \"Maud\", \"Titouan\", \"Kamel\", \"Maria\", \"Cyprien\",\"Isabel\", \"Evaline\"]\n",
        "print(B)"
      ],
      "execution_count": null,
      "outputs": [
        {
          "output_type": "stream",
          "name": "stdout",
          "text": [
            "['Lola', 'Dorianne', 'Loann', 'Mathias', 'Célia', 'Maud', 'Titouan', 'Kamel', 'Maria', 'Cyprien', 'Isabel', 'Evaline']\n"
          ]
        }
      ]
    },
    {
      "cell_type": "markdown",
      "metadata": {
        "id": "OwuxHmxllTwN"
      },
      "source": [
        "##Index \n",
        "\n",
        "Every list has an index that starts at 0 and ends at -1. **The index indicates the position of a value in a list.**\n",
        "\n",
        "If we don't know the lenght of a list, the position -1 will always indicates the last one. \n",
        "\n",
        "Consequently, the position -2 will indicate the previous last one, the -3 previous previous last one and so on.\n"
      ]
    },
    {
      "cell_type": "code",
      "metadata": {
        "id": "Ulu1VinFXBjb",
        "colab": {
          "base_uri": "https://localhost:8080/",
          "height": 35
        },
        "outputId": "80848520-dd72-4530-df52-895449af0272"
      },
      "source": [
        "     B=[\"Lola\", \"Dorianne\", \"Loann\", \"Mathias\", \"Célia\", \"Maud\", \"Titouan\", \"Kamel\", \"Maria\", \"Cyprien\",\"Isabel\", \"Evaline\"]\n",
        "#Index  :  0         1         2         3         4       5         6         7        8         9        10      -1 or 11\n",
        "\n",
        "#What is the first value of the list?\n",
        "B[0]"
      ],
      "execution_count": null,
      "outputs": [
        {
          "output_type": "execute_result",
          "data": {
            "application/vnd.google.colaboratory.intrinsic+json": {
              "type": "string"
            },
            "text/plain": [
              "'Lola'"
            ]
          },
          "metadata": {},
          "execution_count": 20
        }
      ]
    },
    {
      "cell_type": "code",
      "metadata": {
        "id": "1fbDAkajXcHY",
        "colab": {
          "base_uri": "https://localhost:8080/",
          "height": 35
        },
        "outputId": "cf6ae80f-e7f3-49a1-a3b6-ded2998f9d44"
      },
      "source": [
        "#What is the fifth value of the list ?\n",
        "B[5]"
      ],
      "execution_count": null,
      "outputs": [
        {
          "output_type": "execute_result",
          "data": {
            "application/vnd.google.colaboratory.intrinsic+json": {
              "type": "string"
            },
            "text/plain": [
              "'Maud'"
            ]
          },
          "metadata": {},
          "execution_count": 21
        }
      ]
    },
    {
      "cell_type": "code",
      "metadata": {
        "id": "uDln7vVkXf_h",
        "colab": {
          "base_uri": "https://localhost:8080/",
          "height": 35
        },
        "outputId": "f6c70f34-1de9-4629-aea9-ef6e52d8bc59"
      },
      "source": [
        "#What is the last value of the list ?\n",
        "B[-1]"
      ],
      "execution_count": null,
      "outputs": [
        {
          "output_type": "execute_result",
          "data": {
            "application/vnd.google.colaboratory.intrinsic+json": {
              "type": "string"
            },
            "text/plain": [
              "'Evaline'"
            ]
          },
          "metadata": {},
          "execution_count": 22
        }
      ]
    },
    {
      "cell_type": "code",
      "metadata": {
        "id": "M90Xpz99Y21K",
        "colab": {
          "base_uri": "https://localhost:8080/"
        },
        "outputId": "0e6c5d66-49bb-4aa5-f003-9b2ee1e7ff12"
      },
      "source": [
        "# /!\\ The position you enter before the closing bracket will NOT be included\n",
        "\n",
        "#What are the values between de third and the ninth positions ?\n",
        "B[3:10]"
      ],
      "execution_count": null,
      "outputs": [
        {
          "output_type": "execute_result",
          "data": {
            "text/plain": [
              "['Mathias', 'Célia', 'Maud', 'Titouan', 'Kamel', 'Maria', 'Cyprien']"
            ]
          },
          "metadata": {},
          "execution_count": 23
        }
      ]
    },
    {
      "cell_type": "code",
      "metadata": {
        "id": "LWoTsFTFYGR_",
        "colab": {
          "base_uri": "https://localhost:8080/"
        },
        "outputId": "0ea8526c-d6d4-4bed-e6b9-223e8b7f971f"
      },
      "source": [
        "#What are the six last values of the list ?\n",
        "B[6:]"
      ],
      "execution_count": null,
      "outputs": [
        {
          "output_type": "execute_result",
          "data": {
            "text/plain": [
              "['Titouan', 'Kamel', 'Maria', 'Cyprien', 'Isabel', 'Evaline']"
            ]
          },
          "metadata": {},
          "execution_count": 24
        }
      ]
    },
    {
      "cell_type": "markdown",
      "metadata": {
        "id": "z6mwxhcNADve"
      },
      "source": [
        "#Some functions that can be used on lists\n",
        "\n",
        "##Lenght\n",
        "You can know the lenght of a list by using the function **len()**.\n",
        "\n"
      ]
    },
    {
      "cell_type": "code",
      "metadata": {
        "id": "WktPE0pAAyeH",
        "colab": {
          "base_uri": "https://localhost:8080/"
        },
        "outputId": "971c28b4-74cf-45d9-94aa-65688cb43376"
      },
      "source": [
        "B=[\"Lola\", \"Dorianne\", \"Loann\", \"Mathias\", \"Célia\", \"Maud\", \"Titouan\", \"Kamel\", \"Maria\", \"Cyprien\",\"Isabel\", \"Evaline\"]\n",
        "len(B)"
      ],
      "execution_count": null,
      "outputs": [
        {
          "output_type": "execute_result",
          "data": {
            "text/plain": [
              "12"
            ]
          },
          "metadata": {},
          "execution_count": 25
        }
      ]
    },
    {
      "cell_type": "markdown",
      "metadata": {
        "id": "787o66sWUeIQ"
      },
      "source": [
        "##Alphabetical order\n",
        "You can use the function **sorted()** in order to sort every value of a list in alphabetical order."
      ]
    },
    {
      "cell_type": "code",
      "metadata": {
        "id": "fiTiwJAUUyqa",
        "colab": {
          "base_uri": "https://localhost:8080/"
        },
        "outputId": "6667a9b8-90b0-4516-e759-2d4d5574f0ef"
      },
      "source": [
        "B=[\"Lola\", \"Dorianne\", \"Loann\", \"Mathias\", \"Célia\", \"Maud\", \"Titouan\", \"Kamel\", \"Maria\", \"Cyprien\",\"Isabel\", \"Evaline\"]\n",
        "sorted(B)"
      ],
      "execution_count": null,
      "outputs": [
        {
          "output_type": "execute_result",
          "data": {
            "text/plain": [
              "['Cyprien',\n",
              " 'Célia',\n",
              " 'Dorianne',\n",
              " 'Evaline',\n",
              " 'Isabel',\n",
              " 'Kamel',\n",
              " 'Loann',\n",
              " 'Lola',\n",
              " 'Maria',\n",
              " 'Mathias',\n",
              " 'Maud',\n",
              " 'Titouan']"
            ]
          },
          "metadata": {},
          "execution_count": 26
        }
      ]
    },
    {
      "cell_type": "markdown",
      "metadata": {
        "id": "0VmEHh84R8qi"
      },
      "source": [
        "##Sum, minimum and maximum\n",
        "Other functions can determine the minimum and maximum of a list, or calculate the sum of every value of the list."
      ]
    },
    {
      "cell_type": "code",
      "metadata": {
        "id": "TxQzX26FSeQY",
        "colab": {
          "base_uri": "https://localhost:8080/"
        },
        "outputId": "f1997945-4f9f-4258-fa0c-d098ab9ef707"
      },
      "source": [
        "A=[1, 2, 3, 4, 5]\n",
        "sum(A)"
      ],
      "execution_count": null,
      "outputs": [
        {
          "output_type": "execute_result",
          "data": {
            "text/plain": [
              "15"
            ]
          },
          "metadata": {},
          "execution_count": 27
        }
      ]
    },
    {
      "cell_type": "code",
      "metadata": {
        "id": "X8HWypcyTGfF",
        "colab": {
          "base_uri": "https://localhost:8080/"
        },
        "outputId": "cf87e1c9-1678-48d1-bba9-8961cd899be2"
      },
      "source": [
        "min(A)"
      ],
      "execution_count": null,
      "outputs": [
        {
          "output_type": "execute_result",
          "data": {
            "text/plain": [
              "1"
            ]
          },
          "metadata": {},
          "execution_count": 28
        }
      ]
    },
    {
      "cell_type": "code",
      "metadata": {
        "id": "jEZJu-AeTLRO",
        "colab": {
          "base_uri": "https://localhost:8080/"
        },
        "outputId": "957998ed-19f8-414c-8e04-8ea6d4ff8e17"
      },
      "source": [
        "max(A)"
      ],
      "execution_count": null,
      "outputs": [
        {
          "output_type": "execute_result",
          "data": {
            "text/plain": [
              "5"
            ]
          },
          "metadata": {},
          "execution_count": 29
        }
      ]
    },
    {
      "cell_type": "markdown",
      "metadata": {
        "id": "mLeoQhqYqpQw"
      },
      "source": [
        "## References\n",
        "\n",
        "C. (2021, September 13). Lists. Kaggle. https://www.kaggle.com/colinmorris/lists\n",
        "\n",
        "Poulain, P. F. E. P. (n.d.). 4. Listes - Cours de Python. Université Paris Diderot. Retrieved October 7, 2021, from https://python.sdv.univ-paris-diderot.fr/04_listes/"
      ]
    }
  ]
}