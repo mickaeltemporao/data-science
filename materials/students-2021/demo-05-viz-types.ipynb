{
  "nbformat": 4,
  "nbformat_minor": 0,
  "metadata": {
    "colab": {
      "name": "Demo handout - Data visualization - GREGOIRE Clara",
      "provenance": [],
      "collapsed_sections": []
    },
    "kernelspec": {
      "display_name": "Python 3",
      "name": "python3"
    }
  },
  "cells": [
    {
      "cell_type": "markdown",
      "metadata": {
        "id": "OdkLIInXlUsp"
      },
      "source": [
        "# **Data Visualization**\n",
        "As we've seen, data visualization is the graphical representation of information and data.\n",
        "\n",
        "It provides an accessible way to see and understand data,\n",
        "notably through graphs and charts.\n"
      ]
    },
    {
      "cell_type": "markdown",
      "metadata": {
        "id": "yx-NttibqOjJ"
      },
      "source": [
        "# **Depending on the nature of the data, different types of variables can be distinguished**\n",
        "\n",
        "![numeric.png](data:image/png;base64,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)\n"
      ]
    },
    {
      "cell_type": "markdown",
      "metadata": {
        "id": "BAJhTXPHA7WW"
      },
      "source": [
        "**Within the *quantitative* (numeric) variables, there are discrete and continuous variables :**\n",
        "* Discrete variables are variables whose value is obtained by counting (eg: number of students in the classroom) \n",
        "* Continuous variables are variables whose value is obtained by measuring (eg: age)\n",
        "\n",
        "**Within the *categorical* variables, there are ordinal and nominal variables :**\n",
        "* Ordinal variables are variables with an ordered series (eg: performance)\n",
        "* Nominal variables are variables with no inherent or ranking sequence (eg: gender)"
      ]
    },
    {
      "cell_type": "markdown",
      "metadata": {
        "id": "UdRyKR44dcNI"
      },
      "source": [
        "## **Why does it matter?**\n",
        "\n",
        "it is very important to differentiate the types of variables because they will not be represented in the same way !\n",
        "\n",
        "Typically, we would use **bar charts** to represent categorical variables, and **histograms** to represent continuous variables.\n",
        "\n"
      ]
    },
    {
      "cell_type": "markdown",
      "metadata": {
        "id": "OwuxHmxllTwN"
      },
      "source": [
        "# **Handling different kinds of variables with Python**\n",
        "\n",
        "## 1. How to visually represent *categorical* variables?\n",
        "\n",
        "## **1.1. Creating a bar chart using Pandas**\n"
      ]
    },
    {
      "cell_type": "code",
      "metadata": {
        "id": "EhUuytHTOPjq"
      },
      "source": [
        "# First of all, let's import pandas\n",
        "import pandas as pd"
      ],
      "execution_count": null,
      "outputs": []
    },
    {
      "cell_type": "code",
      "metadata": {
        "id": "n3tVOI8_1scO",
        "colab": {
          "base_uri": "https://localhost:8080/",
          "height": 911
        },
        "outputId": "1ac085a5-c892-42bf-e807-5d8c7f47343b"
      },
      "source": [
        "# Step 1 - Load the data you want to analyze\n",
        "\n",
        "my_link = \"https://raw.githubusercontent.com/datamisc/ts-2020/main/data.csv\"\n",
        "df = pd.read_csv(my_link, compression='gzip')\n",
        "\n",
        "df"
      ],
      "execution_count": null,
      "outputs": [
        {
          "output_type": "stream",
          "name": "stderr",
          "text": [
            "/usr/local/lib/python3.7/dist-packages/IPython/core/interactiveshell.py:2718: DtypeWarning: Columns (15,17,18,19,21,22,23,25,26,27,29,30,31,33,34,35,37,38,1508,1509) have mixed types.Specify dtype option on import or set low_memory=False.\n",
            "  interactivity=interactivity, compiler=compiler, result=result)\n"
          ]
        },
        {
          "output_type": "execute_result",
          "data": {
            "text/html": [
              "<div>\n",
              "<style scoped>\n",
              "    .dataframe tbody tr th:only-of-type {\n",
              "        vertical-align: middle;\n",
              "    }\n",
              "\n",
              "    .dataframe tbody tr th {\n",
              "        vertical-align: top;\n",
              "    }\n",
              "\n",
              "    .dataframe thead th {\n",
              "        text-align: right;\n",
              "    }\n",
              "</style>\n",
              "<table border=\"1\" class=\"dataframe\">\n",
              "  <thead>\n",
              "    <tr style=\"text-align: right;\">\n",
              "      <th></th>\n",
              "      <th>version</th>\n",
              "      <th>V200001</th>\n",
              "      <th>V160001_orig</th>\n",
              "      <th>V200002</th>\n",
              "      <th>V200003</th>\n",
              "      <th>V200004</th>\n",
              "      <th>V200005</th>\n",
              "      <th>V200006</th>\n",
              "      <th>V200007</th>\n",
              "      <th>V200008</th>\n",
              "      <th>V200009</th>\n",
              "      <th>V200010a</th>\n",
              "      <th>V200010b</th>\n",
              "      <th>V200010c</th>\n",
              "      <th>V200010d</th>\n",
              "      <th>V200011a</th>\n",
              "      <th>V200011b</th>\n",
              "      <th>V200011c</th>\n",
              "      <th>V200011d</th>\n",
              "      <th>V200012a</th>\n",
              "      <th>V200012b</th>\n",
              "      <th>V200012c</th>\n",
              "      <th>V200012d</th>\n",
              "      <th>V200013a</th>\n",
              "      <th>V200013b</th>\n",
              "      <th>V200013c</th>\n",
              "      <th>V200013d</th>\n",
              "      <th>V200014a</th>\n",
              "      <th>V200014b</th>\n",
              "      <th>V200014c</th>\n",
              "      <th>V200014d</th>\n",
              "      <th>V200015a</th>\n",
              "      <th>V200015b</th>\n",
              "      <th>V200015c</th>\n",
              "      <th>V200015d</th>\n",
              "      <th>V200016a</th>\n",
              "      <th>V200016b</th>\n",
              "      <th>V200016c</th>\n",
              "      <th>V200016d</th>\n",
              "      <th>V201001</th>\n",
              "      <th>...</th>\n",
              "      <th>V203401</th>\n",
              "      <th>V203402</th>\n",
              "      <th>V203403</th>\n",
              "      <th>V203404</th>\n",
              "      <th>V203405</th>\n",
              "      <th>V203406</th>\n",
              "      <th>V203410</th>\n",
              "      <th>V203411</th>\n",
              "      <th>V203412</th>\n",
              "      <th>V203413</th>\n",
              "      <th>V203414</th>\n",
              "      <th>V203415</th>\n",
              "      <th>V203416</th>\n",
              "      <th>V203500</th>\n",
              "      <th>V203501</th>\n",
              "      <th>V203502</th>\n",
              "      <th>V203503</th>\n",
              "      <th>V203504</th>\n",
              "      <th>V203505</th>\n",
              "      <th>V203506</th>\n",
              "      <th>V203508</th>\n",
              "      <th>V203509</th>\n",
              "      <th>V203510</th>\n",
              "      <th>V203511</th>\n",
              "      <th>V203512</th>\n",
              "      <th>V203513</th>\n",
              "      <th>V203514</th>\n",
              "      <th>V203515</th>\n",
              "      <th>V203516</th>\n",
              "      <th>V203517</th>\n",
              "      <th>V203518</th>\n",
              "      <th>V203519</th>\n",
              "      <th>V203520</th>\n",
              "      <th>V203521</th>\n",
              "      <th>V203522</th>\n",
              "      <th>V203523</th>\n",
              "      <th>V203524</th>\n",
              "      <th>V203525</th>\n",
              "      <th>V203526</th>\n",
              "      <th>V203527</th>\n",
              "    </tr>\n",
              "  </thead>\n",
              "  <tbody>\n",
              "    <tr>\n",
              "      <th>0</th>\n",
              "      <td>ANES2020TimeSeries_20210719</td>\n",
              "      <td>200015</td>\n",
              "      <td>401318</td>\n",
              "      <td>3</td>\n",
              "      <td>2</td>\n",
              "      <td>3</td>\n",
              "      <td>0</td>\n",
              "      <td>-2</td>\n",
              "      <td>-2</td>\n",
              "      <td>-2</td>\n",
              "      <td>0</td>\n",
              "      <td>0.962809</td>\n",
              "      <td>1.00573747444017</td>\n",
              "      <td>2</td>\n",
              "      <td>9</td>\n",
              "      <td>0.689054</td>\n",
              "      <td>.880887099636969</td>\n",
              "      <td>2</td>\n",
              "      <td>9</td>\n",
              "      <td></td>\n",
              "      <td></td>\n",
              "      <td></td>\n",
              "      <td></td>\n",
              "      <td></td>\n",
              "      <td></td>\n",
              "      <td></td>\n",
              "      <td></td>\n",
              "      <td></td>\n",
              "      <td></td>\n",
              "      <td></td>\n",
              "      <td></td>\n",
              "      <td></td>\n",
              "      <td></td>\n",
              "      <td></td>\n",
              "      <td></td>\n",
              "      <td>0.996745</td>\n",
              "      <td>.973874052814516</td>\n",
              "      <td>2</td>\n",
              "      <td>9</td>\n",
              "      <td>1</td>\n",
              "      <td>...</td>\n",
              "      <td>-1</td>\n",
              "      <td>-1</td>\n",
              "      <td>-1</td>\n",
              "      <td>-1</td>\n",
              "      <td>-1</td>\n",
              "      <td>-1</td>\n",
              "      <td>-1. Inapplicable</td>\n",
              "      <td>-1</td>\n",
              "      <td>-1</td>\n",
              "      <td>-1</td>\n",
              "      <td>-1</td>\n",
              "      <td>-1</td>\n",
              "      <td>-1</td>\n",
              "      <td>21</td>\n",
              "      <td>-1. Inapplicable</td>\n",
              "      <td>-1</td>\n",
              "      <td>-1</td>\n",
              "      <td>-1. Inapplicable</td>\n",
              "      <td>-1</td>\n",
              "      <td>-1</td>\n",
              "      <td>Abby Broyles</td>\n",
              "      <td>2</td>\n",
              "      <td>James M. 'Jim' Inhofe</td>\n",
              "      <td>1</td>\n",
              "      <td>-1. Inapplicable</td>\n",
              "      <td>-1</td>\n",
              "      <td>-1</td>\n",
              "      <td>29</td>\n",
              "      <td>Mary Brannon</td>\n",
              "      <td>2</td>\n",
              "      <td>Thomas Jeffery 'Tom' Cole</td>\n",
              "      <td>1</td>\n",
              "      <td>-1. Inapplicable</td>\n",
              "      <td>-1</td>\n",
              "      <td>-1</td>\n",
              "      <td>82</td>\n",
              "      <td>-1. Inapplicable</td>\n",
              "      <td>-1</td>\n",
              "      <td>-1. Inapplicable</td>\n",
              "      <td>-1</td>\n",
              "    </tr>\n",
              "    <tr>\n",
              "      <th>1</th>\n",
              "      <td>ANES2020TimeSeries_20210719</td>\n",
              "      <td>200022</td>\n",
              "      <td>300261</td>\n",
              "      <td>3</td>\n",
              "      <td>2</td>\n",
              "      <td>3</td>\n",
              "      <td>0</td>\n",
              "      <td>4</td>\n",
              "      <td>-1</td>\n",
              "      <td>3</td>\n",
              "      <td>0</td>\n",
              "      <td>1.069085</td>\n",
              "      <td>1.16347312190926</td>\n",
              "      <td>2</td>\n",
              "      <td>26</td>\n",
              "      <td>1.08926</td>\n",
              "      <td>1.07183615863668</td>\n",
              "      <td>2</td>\n",
              "      <td>26</td>\n",
              "      <td></td>\n",
              "      <td></td>\n",
              "      <td></td>\n",
              "      <td></td>\n",
              "      <td></td>\n",
              "      <td></td>\n",
              "      <td></td>\n",
              "      <td></td>\n",
              "      <td></td>\n",
              "      <td></td>\n",
              "      <td></td>\n",
              "      <td></td>\n",
              "      <td></td>\n",
              "      <td></td>\n",
              "      <td></td>\n",
              "      <td></td>\n",
              "      <td>1.05886</td>\n",
              "      <td>1.1492021732751</td>\n",
              "      <td>2</td>\n",
              "      <td>26</td>\n",
              "      <td>1</td>\n",
              "      <td>...</td>\n",
              "      <td>-1</td>\n",
              "      <td>-1</td>\n",
              "      <td>-1</td>\n",
              "      <td>-1</td>\n",
              "      <td>-1</td>\n",
              "      <td>-1</td>\n",
              "      <td>-1. Inapplicable</td>\n",
              "      <td>-1</td>\n",
              "      <td>-1</td>\n",
              "      <td>-1</td>\n",
              "      <td>-1</td>\n",
              "      <td>-1</td>\n",
              "      <td>-1</td>\n",
              "      <td>21</td>\n",
              "      <td>-1. Inapplicable</td>\n",
              "      <td>-1</td>\n",
              "      <td>-1</td>\n",
              "      <td>-1. Inapplicable</td>\n",
              "      <td>-1</td>\n",
              "      <td>-1</td>\n",
              "      <td>Paulette Jordan</td>\n",
              "      <td>2</td>\n",
              "      <td>James E. 'Jim' Risch</td>\n",
              "      <td>1</td>\n",
              "      <td>-1. Inapplicable</td>\n",
              "      <td>-1</td>\n",
              "      <td>-1</td>\n",
              "      <td>29</td>\n",
              "      <td>Carlton Aaron Swisher</td>\n",
              "      <td>1</td>\n",
              "      <td>Michael Keith 'Mike' Simpson</td>\n",
              "      <td>1</td>\n",
              "      <td>-1. Inapplicable</td>\n",
              "      <td>-1</td>\n",
              "      <td>-1</td>\n",
              "      <td>-1</td>\n",
              "      <td>-1. Inapplicable</td>\n",
              "      <td>-1</td>\n",
              "      <td>-1. Inapplicable</td>\n",
              "      <td>-1</td>\n",
              "    </tr>\n",
              "    <tr>\n",
              "      <th>2</th>\n",
              "      <td>ANES2020TimeSeries_20210719</td>\n",
              "      <td>200039</td>\n",
              "      <td>400181</td>\n",
              "      <td>3</td>\n",
              "      <td>2</td>\n",
              "      <td>3</td>\n",
              "      <td>0</td>\n",
              "      <td>-2</td>\n",
              "      <td>-2</td>\n",
              "      <td>-2</td>\n",
              "      <td>0</td>\n",
              "      <td>0.683421</td>\n",
              "      <td>.768681110109909</td>\n",
              "      <td>1</td>\n",
              "      <td>41</td>\n",
              "      <td>0.688799</td>\n",
              "      <td>.609030746771271</td>\n",
              "      <td>1</td>\n",
              "      <td>41</td>\n",
              "      <td></td>\n",
              "      <td></td>\n",
              "      <td></td>\n",
              "      <td></td>\n",
              "      <td></td>\n",
              "      <td></td>\n",
              "      <td></td>\n",
              "      <td></td>\n",
              "      <td></td>\n",
              "      <td></td>\n",
              "      <td></td>\n",
              "      <td></td>\n",
              "      <td></td>\n",
              "      <td></td>\n",
              "      <td></td>\n",
              "      <td></td>\n",
              "      <td>0.681142</td>\n",
              "      <td>.756230992003099</td>\n",
              "      <td>1</td>\n",
              "      <td>41</td>\n",
              "      <td>1</td>\n",
              "      <td>...</td>\n",
              "      <td>-1</td>\n",
              "      <td>-1</td>\n",
              "      <td>-1</td>\n",
              "      <td>-1</td>\n",
              "      <td>-1</td>\n",
              "      <td>-1</td>\n",
              "      <td>-1. Inapplicable</td>\n",
              "      <td>-1</td>\n",
              "      <td>-1</td>\n",
              "      <td>-1</td>\n",
              "      <td>-1</td>\n",
              "      <td>-1</td>\n",
              "      <td>-1</td>\n",
              "      <td>12</td>\n",
              "      <td>-1. Inapplicable</td>\n",
              "      <td>-1</td>\n",
              "      <td>-1</td>\n",
              "      <td>-1. Inapplicable</td>\n",
              "      <td>-1</td>\n",
              "      <td>-1</td>\n",
              "      <td>Mark Robert Warner</td>\n",
              "      <td>1</td>\n",
              "      <td>Daniel MacArthur Gade</td>\n",
              "      <td>1</td>\n",
              "      <td>-1. Inapplicable</td>\n",
              "      <td>-1</td>\n",
              "      <td>-1</td>\n",
              "      <td>19</td>\n",
              "      <td>Elaine G. Luria</td>\n",
              "      <td>2</td>\n",
              "      <td>Scott William Taylor</td>\n",
              "      <td>1</td>\n",
              "      <td>-1. Inapplicable</td>\n",
              "      <td>-1</td>\n",
              "      <td>-1</td>\n",
              "      <td>81</td>\n",
              "      <td>-1. Inapplicable</td>\n",
              "      <td>-1</td>\n",
              "      <td>-1. Inapplicable</td>\n",
              "      <td>-1</td>\n",
              "    </tr>\n",
              "    <tr>\n",
              "      <th>3</th>\n",
              "      <td>ANES2020TimeSeries_20210719</td>\n",
              "      <td>200046</td>\n",
              "      <td>300171</td>\n",
              "      <td>3</td>\n",
              "      <td>2</td>\n",
              "      <td>3</td>\n",
              "      <td>0</td>\n",
              "      <td>-2</td>\n",
              "      <td>-2</td>\n",
              "      <td>-2</td>\n",
              "      <td>0</td>\n",
              "      <td>0.500953</td>\n",
              "      <td>.521019534357875</td>\n",
              "      <td>2</td>\n",
              "      <td>29</td>\n",
              "      <td>0.731815</td>\n",
              "      <td>.741575767882139</td>\n",
              "      <td>2</td>\n",
              "      <td>29</td>\n",
              "      <td></td>\n",
              "      <td></td>\n",
              "      <td></td>\n",
              "      <td></td>\n",
              "      <td></td>\n",
              "      <td></td>\n",
              "      <td></td>\n",
              "      <td></td>\n",
              "      <td></td>\n",
              "      <td></td>\n",
              "      <td></td>\n",
              "      <td></td>\n",
              "      <td></td>\n",
              "      <td></td>\n",
              "      <td></td>\n",
              "      <td></td>\n",
              "      <td>0.474365</td>\n",
              "      <td>.494633933446847</td>\n",
              "      <td>2</td>\n",
              "      <td>29</td>\n",
              "      <td>1</td>\n",
              "      <td>...</td>\n",
              "      <td>-1</td>\n",
              "      <td>-1</td>\n",
              "      <td>-1</td>\n",
              "      <td>-1</td>\n",
              "      <td>-1</td>\n",
              "      <td>-1</td>\n",
              "      <td>-1. Inapplicable</td>\n",
              "      <td>-1</td>\n",
              "      <td>-1</td>\n",
              "      <td>-1</td>\n",
              "      <td>-1</td>\n",
              "      <td>-1</td>\n",
              "      <td>-1</td>\n",
              "      <td>81</td>\n",
              "      <td>Dianne Feinstein</td>\n",
              "      <td>2</td>\n",
              "      <td>1</td>\n",
              "      <td>-1. Inapplicable</td>\n",
              "      <td>2</td>\n",
              "      <td>1</td>\n",
              "      <td>-1. Inapplicable</td>\n",
              "      <td>-1</td>\n",
              "      <td>-1. Inapplicable</td>\n",
              "      <td>-1</td>\n",
              "      <td>-1. Inapplicable</td>\n",
              "      <td>-1</td>\n",
              "      <td>-1</td>\n",
              "      <td>21</td>\n",
              "      <td>Phil Arballo</td>\n",
              "      <td>1</td>\n",
              "      <td>Devin Gerald Nunes</td>\n",
              "      <td>1</td>\n",
              "      <td>-1. Inapplicable</td>\n",
              "      <td>-1</td>\n",
              "      <td>-1</td>\n",
              "      <td>81</td>\n",
              "      <td>-1. Inapplicable</td>\n",
              "      <td>-1</td>\n",
              "      <td>-1. Inapplicable</td>\n",
              "      <td>-1</td>\n",
              "    </tr>\n",
              "    <tr>\n",
              "      <th>4</th>\n",
              "      <td>ANES2020TimeSeries_20210719</td>\n",
              "      <td>200053</td>\n",
              "      <td>405145</td>\n",
              "      <td>3</td>\n",
              "      <td>2</td>\n",
              "      <td>3</td>\n",
              "      <td>1</td>\n",
              "      <td>-2</td>\n",
              "      <td>-2</td>\n",
              "      <td>-2</td>\n",
              "      <td>0</td>\n",
              "      <td>1.262294</td>\n",
              "      <td>.965789166832749</td>\n",
              "      <td>1</td>\n",
              "      <td>23</td>\n",
              "      <td>1.01399</td>\n",
              "      <td>.942968665310746</td>\n",
              "      <td>1</td>\n",
              "      <td>23</td>\n",
              "      <td></td>\n",
              "      <td></td>\n",
              "      <td></td>\n",
              "      <td></td>\n",
              "      <td></td>\n",
              "      <td></td>\n",
              "      <td></td>\n",
              "      <td></td>\n",
              "      <td></td>\n",
              "      <td></td>\n",
              "      <td></td>\n",
              "      <td></td>\n",
              "      <td></td>\n",
              "      <td></td>\n",
              "      <td></td>\n",
              "      <td></td>\n",
              "      <td>1.26881</td>\n",
              "      <td>.934799353716296</td>\n",
              "      <td>1</td>\n",
              "      <td>23</td>\n",
              "      <td>1</td>\n",
              "      <td>...</td>\n",
              "      <td>-1</td>\n",
              "      <td>-1</td>\n",
              "      <td>-1</td>\n",
              "      <td>-1</td>\n",
              "      <td>-1</td>\n",
              "      <td>-1</td>\n",
              "      <td>-1. Inapplicable</td>\n",
              "      <td>-1</td>\n",
              "      <td>-1</td>\n",
              "      <td>-1</td>\n",
              "      <td>-1</td>\n",
              "      <td>-1</td>\n",
              "      <td>-1</td>\n",
              "      <td>21</td>\n",
              "      <td>-1. Inapplicable</td>\n",
              "      <td>-1</td>\n",
              "      <td>-1</td>\n",
              "      <td>-1. Inapplicable</td>\n",
              "      <td>-1</td>\n",
              "      <td>-1</td>\n",
              "      <td>John W. Hickenlooper</td>\n",
              "      <td>1</td>\n",
              "      <td>Cory Scott Gardner</td>\n",
              "      <td>1</td>\n",
              "      <td>-1. Inapplicable</td>\n",
              "      <td>-1</td>\n",
              "      <td>-1</td>\n",
              "      <td>29</td>\n",
              "      <td>Isaac Ian 'Ike' McCorkle</td>\n",
              "      <td>1</td>\n",
              "      <td>Kenneth R. 'Ken' Buck</td>\n",
              "      <td>1</td>\n",
              "      <td>-1. Inapplicable</td>\n",
              "      <td>-1</td>\n",
              "      <td>-1</td>\n",
              "      <td>81</td>\n",
              "      <td>-1. Inapplicable</td>\n",
              "      <td>-1</td>\n",
              "      <td>-1. Inapplicable</td>\n",
              "      <td>-1</td>\n",
              "    </tr>\n",
              "    <tr>\n",
              "      <th>...</th>\n",
              "      <td>...</td>\n",
              "      <td>...</td>\n",
              "      <td>...</td>\n",
              "      <td>...</td>\n",
              "      <td>...</td>\n",
              "      <td>...</td>\n",
              "      <td>...</td>\n",
              "      <td>...</td>\n",
              "      <td>...</td>\n",
              "      <td>...</td>\n",
              "      <td>...</td>\n",
              "      <td>...</td>\n",
              "      <td>...</td>\n",
              "      <td>...</td>\n",
              "      <td>...</td>\n",
              "      <td>...</td>\n",
              "      <td>...</td>\n",
              "      <td>...</td>\n",
              "      <td>...</td>\n",
              "      <td>...</td>\n",
              "      <td>...</td>\n",
              "      <td>...</td>\n",
              "      <td>...</td>\n",
              "      <td>...</td>\n",
              "      <td>...</td>\n",
              "      <td>...</td>\n",
              "      <td>...</td>\n",
              "      <td>...</td>\n",
              "      <td>...</td>\n",
              "      <td>...</td>\n",
              "      <td>...</td>\n",
              "      <td>...</td>\n",
              "      <td>...</td>\n",
              "      <td>...</td>\n",
              "      <td>...</td>\n",
              "      <td>...</td>\n",
              "      <td>...</td>\n",
              "      <td>...</td>\n",
              "      <td>...</td>\n",
              "      <td>...</td>\n",
              "      <td>...</td>\n",
              "      <td>...</td>\n",
              "      <td>...</td>\n",
              "      <td>...</td>\n",
              "      <td>...</td>\n",
              "      <td>...</td>\n",
              "      <td>...</td>\n",
              "      <td>...</td>\n",
              "      <td>...</td>\n",
              "      <td>...</td>\n",
              "      <td>...</td>\n",
              "      <td>...</td>\n",
              "      <td>...</td>\n",
              "      <td>...</td>\n",
              "      <td>...</td>\n",
              "      <td>...</td>\n",
              "      <td>...</td>\n",
              "      <td>...</td>\n",
              "      <td>...</td>\n",
              "      <td>...</td>\n",
              "      <td>...</td>\n",
              "      <td>...</td>\n",
              "      <td>...</td>\n",
              "      <td>...</td>\n",
              "      <td>...</td>\n",
              "      <td>...</td>\n",
              "      <td>...</td>\n",
              "      <td>...</td>\n",
              "      <td>...</td>\n",
              "      <td>...</td>\n",
              "      <td>...</td>\n",
              "      <td>...</td>\n",
              "      <td>...</td>\n",
              "      <td>...</td>\n",
              "      <td>...</td>\n",
              "      <td>...</td>\n",
              "      <td>...</td>\n",
              "      <td>...</td>\n",
              "      <td>...</td>\n",
              "      <td>...</td>\n",
              "      <td>...</td>\n",
              "    </tr>\n",
              "    <tr>\n",
              "      <th>8275</th>\n",
              "      <td>ANES2020TimeSeries_20210719</td>\n",
              "      <td>535315</td>\n",
              "      <td>-1</td>\n",
              "      <td>1</td>\n",
              "      <td>6</td>\n",
              "      <td>3</td>\n",
              "      <td>0</td>\n",
              "      <td>-2</td>\n",
              "      <td>-2</td>\n",
              "      <td>-2</td>\n",
              "      <td>0</td>\n",
              "      <td>1.052041</td>\n",
              "      <td>2.54194059520904</td>\n",
              "      <td>1</td>\n",
              "      <td>3</td>\n",
              "      <td></td>\n",
              "      <td></td>\n",
              "      <td></td>\n",
              "      <td></td>\n",
              "      <td></td>\n",
              "      <td></td>\n",
              "      <td></td>\n",
              "      <td></td>\n",
              "      <td></td>\n",
              "      <td></td>\n",
              "      <td></td>\n",
              "      <td></td>\n",
              "      <td>0.701441</td>\n",
              "      <td>1.79813939654805</td>\n",
              "      <td>1</td>\n",
              "      <td>3</td>\n",
              "      <td>0.673649</td>\n",
              "      <td>1.49145229866225</td>\n",
              "      <td>1</td>\n",
              "      <td>3</td>\n",
              "      <td></td>\n",
              "      <td></td>\n",
              "      <td></td>\n",
              "      <td></td>\n",
              "      <td>1</td>\n",
              "      <td>...</td>\n",
              "      <td>3</td>\n",
              "      <td>1</td>\n",
              "      <td>2</td>\n",
              "      <td>2</td>\n",
              "      <td>2</td>\n",
              "      <td>2</td>\n",
              "      <td>DC4913</td>\n",
              "      <td>3</td>\n",
              "      <td>1</td>\n",
              "      <td>1</td>\n",
              "      <td>2</td>\n",
              "      <td>2</td>\n",
              "      <td>3</td>\n",
              "      <td>82</td>\n",
              "      <td>Marco Rubio</td>\n",
              "      <td>1</td>\n",
              "      <td>2</td>\n",
              "      <td>Rick Scott</td>\n",
              "      <td>1</td>\n",
              "      <td>2</td>\n",
              "      <td>-1. Inapplicable</td>\n",
              "      <td>-1</td>\n",
              "      <td>-1. Inapplicable</td>\n",
              "      <td>-1</td>\n",
              "      <td>-1. Inapplicable</td>\n",
              "      <td>-1</td>\n",
              "      <td>-1</td>\n",
              "      <td>24</td>\n",
              "      <td>-1. Inapplicable</td>\n",
              "      <td>-1</td>\n",
              "      <td>Neal Patrick Dunn</td>\n",
              "      <td>1</td>\n",
              "      <td>-1. Inapplicable</td>\n",
              "      <td>-1</td>\n",
              "      <td>-1</td>\n",
              "      <td>82</td>\n",
              "      <td>-1. Inapplicable</td>\n",
              "      <td>-1</td>\n",
              "      <td>-1. Inapplicable</td>\n",
              "      <td>-1</td>\n",
              "    </tr>\n",
              "    <tr>\n",
              "      <th>8276</th>\n",
              "      <td>ANES2020TimeSeries_20210719</td>\n",
              "      <td>535360</td>\n",
              "      <td>-1</td>\n",
              "      <td>1</td>\n",
              "      <td>6</td>\n",
              "      <td>3</td>\n",
              "      <td>0</td>\n",
              "      <td>1</td>\n",
              "      <td>1</td>\n",
              "      <td>1</td>\n",
              "      <td>0</td>\n",
              "      <td>1.124100</td>\n",
              "      <td>.90712251661077</td>\n",
              "      <td>2</td>\n",
              "      <td>5</td>\n",
              "      <td></td>\n",
              "      <td></td>\n",
              "      <td></td>\n",
              "      <td></td>\n",
              "      <td></td>\n",
              "      <td></td>\n",
              "      <td></td>\n",
              "      <td></td>\n",
              "      <td></td>\n",
              "      <td></td>\n",
              "      <td></td>\n",
              "      <td></td>\n",
              "      <td>1.19977</td>\n",
              "      <td>1.17601864450073</td>\n",
              "      <td>2</td>\n",
              "      <td>5</td>\n",
              "      <td>1.15223</td>\n",
              "      <td>.975439231228371</td>\n",
              "      <td>2</td>\n",
              "      <td>5</td>\n",
              "      <td></td>\n",
              "      <td></td>\n",
              "      <td></td>\n",
              "      <td></td>\n",
              "      <td>1</td>\n",
              "      <td>...</td>\n",
              "      <td>3</td>\n",
              "      <td>3</td>\n",
              "      <td>2</td>\n",
              "      <td>2</td>\n",
              "      <td>1</td>\n",
              "      <td>3</td>\n",
              "      <td>DC3645</td>\n",
              "      <td>-2</td>\n",
              "      <td>-2</td>\n",
              "      <td>-2</td>\n",
              "      <td>-2</td>\n",
              "      <td>-2</td>\n",
              "      <td>-2</td>\n",
              "      <td>21</td>\n",
              "      <td>-1. Inapplicable</td>\n",
              "      <td>-1</td>\n",
              "      <td>-1</td>\n",
              "      <td>-1. Inapplicable</td>\n",
              "      <td>-1</td>\n",
              "      <td>-1</td>\n",
              "      <td>Paulette Jordan</td>\n",
              "      <td>2</td>\n",
              "      <td>James E. 'Jim' Risch</td>\n",
              "      <td>1</td>\n",
              "      <td>-1. Inapplicable</td>\n",
              "      <td>-1</td>\n",
              "      <td>-1</td>\n",
              "      <td>29</td>\n",
              "      <td>Carlton Aaron Swisher</td>\n",
              "      <td>1</td>\n",
              "      <td>Michael Keith 'Mike' Simpson</td>\n",
              "      <td>1</td>\n",
              "      <td>-1. Inapplicable</td>\n",
              "      <td>-1</td>\n",
              "      <td>-1</td>\n",
              "      <td>-1</td>\n",
              "      <td>-1. Inapplicable</td>\n",
              "      <td>-1</td>\n",
              "      <td>-1. Inapplicable</td>\n",
              "      <td>-1</td>\n",
              "    </tr>\n",
              "    <tr>\n",
              "      <th>8277</th>\n",
              "      <td>ANES2020TimeSeries_20210719</td>\n",
              "      <td>535414</td>\n",
              "      <td>-1</td>\n",
              "      <td>2</td>\n",
              "      <td>6</td>\n",
              "      <td>3</td>\n",
              "      <td>0</td>\n",
              "      <td>-2</td>\n",
              "      <td>-2</td>\n",
              "      <td>-2</td>\n",
              "      <td>0</td>\n",
              "      <td>1.514417</td>\n",
              "      <td>.654862733902555</td>\n",
              "      <td>1</td>\n",
              "      <td>8</td>\n",
              "      <td></td>\n",
              "      <td></td>\n",
              "      <td></td>\n",
              "      <td></td>\n",
              "      <td></td>\n",
              "      <td></td>\n",
              "      <td></td>\n",
              "      <td></td>\n",
              "      <td></td>\n",
              "      <td></td>\n",
              "      <td></td>\n",
              "      <td></td>\n",
              "      <td>2.12734</td>\n",
              "      <td>1.0653789272943</td>\n",
              "      <td>1</td>\n",
              "      <td>8</td>\n",
              "      <td>2.04305</td>\n",
              "      <td>.8836700052898</td>\n",
              "      <td>1</td>\n",
              "      <td>8</td>\n",
              "      <td></td>\n",
              "      <td></td>\n",
              "      <td></td>\n",
              "      <td></td>\n",
              "      <td>2</td>\n",
              "      <td>...</td>\n",
              "      <td>2</td>\n",
              "      <td>3</td>\n",
              "      <td>2</td>\n",
              "      <td>5</td>\n",
              "      <td>1</td>\n",
              "      <td>1</td>\n",
              "      <td>DC4733</td>\n",
              "      <td>-2</td>\n",
              "      <td>-2</td>\n",
              "      <td>-2</td>\n",
              "      <td>-2</td>\n",
              "      <td>-2</td>\n",
              "      <td>-2</td>\n",
              "      <td>81</td>\n",
              "      <td>Dianne Feinstein</td>\n",
              "      <td>2</td>\n",
              "      <td>1</td>\n",
              "      <td>-1. Inapplicable</td>\n",
              "      <td>2</td>\n",
              "      <td>1</td>\n",
              "      <td>-1. Inapplicable</td>\n",
              "      <td>-1</td>\n",
              "      <td>-1. Inapplicable</td>\n",
              "      <td>-1</td>\n",
              "      <td>-1. Inapplicable</td>\n",
              "      <td>-1</td>\n",
              "      <td>-1</td>\n",
              "      <td>21</td>\n",
              "      <td>William Edward 'Liam' O'Mara, IV</td>\n",
              "      <td>1</td>\n",
              "      <td>Kenneth S. 'Ken' Calvert</td>\n",
              "      <td>1</td>\n",
              "      <td>-1. Inapplicable</td>\n",
              "      <td>-1</td>\n",
              "      <td>-1</td>\n",
              "      <td>81</td>\n",
              "      <td>-1. Inapplicable</td>\n",
              "      <td>-1</td>\n",
              "      <td>-1. Inapplicable</td>\n",
              "      <td>-1</td>\n",
              "    </tr>\n",
              "    <tr>\n",
              "      <th>8278</th>\n",
              "      <td>ANES2020TimeSeries_20210719</td>\n",
              "      <td>535421</td>\n",
              "      <td>-1</td>\n",
              "      <td>3</td>\n",
              "      <td>6</td>\n",
              "      <td>3</td>\n",
              "      <td>0</td>\n",
              "      <td>-2</td>\n",
              "      <td>-2</td>\n",
              "      <td>-2</td>\n",
              "      <td>0</td>\n",
              "      <td>0.292352</td>\n",
              "      <td>.16185256979966</td>\n",
              "      <td>2</td>\n",
              "      <td>8</td>\n",
              "      <td></td>\n",
              "      <td></td>\n",
              "      <td></td>\n",
              "      <td></td>\n",
              "      <td></td>\n",
              "      <td></td>\n",
              "      <td></td>\n",
              "      <td></td>\n",
              "      <td></td>\n",
              "      <td></td>\n",
              "      <td></td>\n",
              "      <td></td>\n",
              "      <td>0.313257</td>\n",
              "      <td>.219883189436025</td>\n",
              "      <td>2</td>\n",
              "      <td>8</td>\n",
              "      <td>0.300845</td>\n",
              "      <td>.182380347681117</td>\n",
              "      <td>2</td>\n",
              "      <td>8</td>\n",
              "      <td></td>\n",
              "      <td></td>\n",
              "      <td></td>\n",
              "      <td></td>\n",
              "      <td>1</td>\n",
              "      <td>...</td>\n",
              "      <td>-1</td>\n",
              "      <td>-1</td>\n",
              "      <td>-1</td>\n",
              "      <td>-1</td>\n",
              "      <td>-1</td>\n",
              "      <td>-1</td>\n",
              "      <td>-1. Inapplicable</td>\n",
              "      <td>-1</td>\n",
              "      <td>-1</td>\n",
              "      <td>-1</td>\n",
              "      <td>-1</td>\n",
              "      <td>-1</td>\n",
              "      <td>-1</td>\n",
              "      <td>12</td>\n",
              "      <td>-1. Inapplicable</td>\n",
              "      <td>-1</td>\n",
              "      <td>-1</td>\n",
              "      <td>-1. Inapplicable</td>\n",
              "      <td>-1</td>\n",
              "      <td>-1</td>\n",
              "      <td>Mark Robert Warner</td>\n",
              "      <td>1</td>\n",
              "      <td>Daniel MacArthur Gade</td>\n",
              "      <td>1</td>\n",
              "      <td>-1. Inapplicable</td>\n",
              "      <td>-1</td>\n",
              "      <td>-1</td>\n",
              "      <td>21</td>\n",
              "      <td>Qasim Rashid</td>\n",
              "      <td>1</td>\n",
              "      <td>Robert J. 'Rob' Wittman</td>\n",
              "      <td>1</td>\n",
              "      <td>-1. Inapplicable</td>\n",
              "      <td>-1</td>\n",
              "      <td>-1</td>\n",
              "      <td>81</td>\n",
              "      <td>-1. Inapplicable</td>\n",
              "      <td>-1</td>\n",
              "      <td>-1. Inapplicable</td>\n",
              "      <td>-1</td>\n",
              "    </tr>\n",
              "    <tr>\n",
              "      <th>8279</th>\n",
              "      <td>ANES2020TimeSeries_20210719</td>\n",
              "      <td>535469</td>\n",
              "      <td>-1</td>\n",
              "      <td>1</td>\n",
              "      <td>6</td>\n",
              "      <td>3</td>\n",
              "      <td>0</td>\n",
              "      <td>-2</td>\n",
              "      <td>-2</td>\n",
              "      <td>-2</td>\n",
              "      <td>0</td>\n",
              "      <td>0.248581</td>\n",
              "      <td>.206418191724203</td>\n",
              "      <td>2</td>\n",
              "      <td>10</td>\n",
              "      <td></td>\n",
              "      <td></td>\n",
              "      <td></td>\n",
              "      <td></td>\n",
              "      <td></td>\n",
              "      <td></td>\n",
              "      <td></td>\n",
              "      <td></td>\n",
              "      <td></td>\n",
              "      <td></td>\n",
              "      <td></td>\n",
              "      <td></td>\n",
              "      <td>0.380929</td>\n",
              "      <td>.370880169983597</td>\n",
              "      <td>2</td>\n",
              "      <td>10</td>\n",
              "      <td>0.365836</td>\n",
              "      <td>.307623581971555</td>\n",
              "      <td>2</td>\n",
              "      <td>10</td>\n",
              "      <td></td>\n",
              "      <td></td>\n",
              "      <td></td>\n",
              "      <td></td>\n",
              "      <td>1</td>\n",
              "      <td>...</td>\n",
              "      <td>1</td>\n",
              "      <td>1</td>\n",
              "      <td>1</td>\n",
              "      <td>4</td>\n",
              "      <td>1</td>\n",
              "      <td>2</td>\n",
              "      <td>DC2463</td>\n",
              "      <td>3</td>\n",
              "      <td>2</td>\n",
              "      <td>1</td>\n",
              "      <td>4</td>\n",
              "      <td>2</td>\n",
              "      <td>1</td>\n",
              "      <td>12</td>\n",
              "      <td>-1. Inapplicable</td>\n",
              "      <td>-1</td>\n",
              "      <td>-1</td>\n",
              "      <td>-1. Inapplicable</td>\n",
              "      <td>-1</td>\n",
              "      <td>-1</td>\n",
              "      <td>Mark Robert Warner</td>\n",
              "      <td>1</td>\n",
              "      <td>Daniel MacArthur Gade</td>\n",
              "      <td>1</td>\n",
              "      <td>-1. Inapplicable</td>\n",
              "      <td>-1</td>\n",
              "      <td>-1</td>\n",
              "      <td>24</td>\n",
              "      <td>-1. Inapplicable</td>\n",
              "      <td>-1</td>\n",
              "      <td>H. Morgan 'Morgan' Griffith</td>\n",
              "      <td>1</td>\n",
              "      <td>-1. Inapplicable</td>\n",
              "      <td>-1</td>\n",
              "      <td>-1</td>\n",
              "      <td>81</td>\n",
              "      <td>-1. Inapplicable</td>\n",
              "      <td>-1</td>\n",
              "      <td>-1. Inapplicable</td>\n",
              "      <td>-1</td>\n",
              "    </tr>\n",
              "  </tbody>\n",
              "</table>\n",
              "<p>8280 rows × 1771 columns</p>\n",
              "</div>"
            ],
            "text/plain": [
              "                          version  V200001  ...           V203526  V203527\n",
              "0     ANES2020TimeSeries_20210719   200015  ...  -1. Inapplicable       -1\n",
              "1     ANES2020TimeSeries_20210719   200022  ...  -1. Inapplicable       -1\n",
              "2     ANES2020TimeSeries_20210719   200039  ...  -1. Inapplicable       -1\n",
              "3     ANES2020TimeSeries_20210719   200046  ...  -1. Inapplicable       -1\n",
              "4     ANES2020TimeSeries_20210719   200053  ...  -1. Inapplicable       -1\n",
              "...                           ...      ...  ...               ...      ...\n",
              "8275  ANES2020TimeSeries_20210719   535315  ...  -1. Inapplicable       -1\n",
              "8276  ANES2020TimeSeries_20210719   535360  ...  -1. Inapplicable       -1\n",
              "8277  ANES2020TimeSeries_20210719   535414  ...  -1. Inapplicable       -1\n",
              "8278  ANES2020TimeSeries_20210719   535421  ...  -1. Inapplicable       -1\n",
              "8279  ANES2020TimeSeries_20210719   535469  ...  -1. Inapplicable       -1\n",
              "\n",
              "[8280 rows x 1771 columns]"
            ]
          },
          "metadata": {},
          "execution_count": 2
        }
      ]
    },
    {
      "cell_type": "code",
      "metadata": {
        "id": "-QfToSxm2kgn",
        "colab": {
          "base_uri": "https://localhost:8080/"
        },
        "outputId": "081038e7-1329-410a-91d8-cc95c3e459cd"
      },
      "source": [
        "# Step 2: take a look at the data\n",
        "# To get the number of rows and columns, use df.shape\n",
        "df.shape"
      ],
      "execution_count": null,
      "outputs": [
        {
          "output_type": "execute_result",
          "data": {
            "text/plain": [
              "(8280, 1771)"
            ]
          },
          "metadata": {},
          "execution_count": 3
        }
      ]
    },
    {
      "cell_type": "markdown",
      "metadata": {
        "id": "knwMNC6ytWG5"
      },
      "source": [
        "## **Let's create our graph!**\n",
        "\n",
        "We want to look at the question \"For whom does R intend to vote for President?\" (ANES, V201033)"
      ]
    },
    {
      "cell_type": "code",
      "metadata": {
        "id": "f-q788vLzXuD",
        "colab": {
          "base_uri": "https://localhost:8080/",
          "height": 285
        },
        "outputId": "30bf8078-0629-4620-ad5a-9785eceac465"
      },
      "source": [
        "# Step 3: Create the graph\n",
        "\n",
        "# To view all the observations in the table, use values_count()\n",
        "# Remember,'bar' means bar chart\n",
        "\n",
        "df[\"V201033\"].value_counts().plot(kind=\"bar\")"
      ],
      "execution_count": null,
      "outputs": [
        {
          "output_type": "execute_result",
          "data": {
            "text/plain": [
              "<matplotlib.axes._subplots.AxesSubplot at 0x7fec56aab150>"
            ]
          },
          "metadata": {},
          "execution_count": 4
        },
        {
          "output_type": "display_data",
          "data": {
            "image/png": "[encoded data removed]",
            "text/plain": [
              "<Figure size 432x288 with 1 Axes>"
            ]
          },
          "metadata": {
            "needs_background": "light"
          }
        }
      ]
    },
    {
      "cell_type": "markdown",
      "metadata": {
        "id": "YX9FRx-Qr8sD"
      },
      "source": [
        "## **1.2. Improving our graph**\n"
      ]
    },
    {
      "cell_type": "code",
      "metadata": {
        "id": "F-L7eO8J5oKR",
        "colab": {
          "base_uri": "https://localhost:8080/",
          "height": 369
        },
        "outputId": "723aa815-1c8b-4581-c797-43facb0b4cb0"
      },
      "source": [
        "# Step 4: Add a title to the graph\n",
        "\n",
        "df[\"V201033\"].value_counts().plot(kind=\"bar\", title=\"Vote intention\", xlabel=\"Candidates\", ylabel=\"Number of respondents\", figsize=(10,5))\n",
        "\n",
        "# Use figsize(width, height) if you want to change the sizes of the graph"
      ],
      "execution_count": null,
      "outputs": [
        {
          "output_type": "execute_result",
          "data": {
            "text/plain": [
              "<matplotlib.axes._subplots.AxesSubplot at 0x7fec5698f210>"
            ]
          },
          "metadata": {},
          "execution_count": 5
        },
        {
          "output_type": "display_data",
          "data": {
            "image/png": "[encoded data removed]",
            "text/plain": [
              "<Figure size 720x360 with 1 Axes>"
            ]
          },
          "metadata": {
            "needs_background": "light"
          }
        }
      ]
    },
    {
      "cell_type": "code",
      "metadata": {
        "id": "n2-x0xIK-DzS",
        "colab": {
          "base_uri": "https://localhost:8080/",
          "height": 363
        },
        "outputId": "835b724f-d57b-4adb-e6e5-2729da11bd4c"
      },
      "source": [
        "# Step 5: Select only certain data. In this case, we only want the top three candidates in the polls\n",
        "\n",
        "# Use df.loc to access a certain group of columns\n",
        "\n",
        "my_fiter = (df[\"V201033\"] >= 1) & (df[\"V201033\"] <= 3)\n",
        "df = df.loc[my_fiter]\n",
        "df[\"V201033\"].value_counts().plot(kind=\"bar\", title=\"Vote intention\", xlabel=\"Candidates\", ylabel=\"Number of respondents\", figsize=(10,5))"
      ],
      "execution_count": null,
      "outputs": [
        {
          "output_type": "execute_result",
          "data": {
            "text/plain": [
              "<matplotlib.axes._subplots.AxesSubplot at 0x7fec55e75450>"
            ]
          },
          "metadata": {},
          "execution_count": 6
        },
        {
          "output_type": "display_data",
          "data": {
            "image/png": "[encoded data removed]",
            "text/plain": [
              "<Figure size 720x360 with 1 Axes>"
            ]
          },
          "metadata": {
            "needs_background": "light"
          }
        }
      ]
    },
    {
      "cell_type": "markdown",
      "metadata": {
        "id": "7qiYZF8e3Sek"
      },
      "source": [
        "### **1.3. Recoding our variable**\n",
        "\n",
        "As Joe Biden is represented by \"1\", we can recode to name our column \"Biden\""
      ]
    },
    {
      "cell_type": "code",
      "metadata": {
        "id": "0iHGOfcl9N9U",
        "colab": {
          "base_uri": "https://localhost:8080/",
          "height": 457
        },
        "outputId": "18da73b3-3ae0-42b8-b7c2-02f8ef476da4"
      },
      "source": [
        "# Step 5: recode the variable using df.loc\n",
        "# Don't forget to use two ==\n",
        "\n",
        "Biden = df[\"V201033\"] == 1\n",
        "df.loc[Biden,\"V201033\"] = \"Biden\"\n",
        "\n",
        "Trump = df[\"V201033\"] == 2\n",
        "df.loc[Trump,\"V201033\"] = \"Trump\"\n",
        "\n",
        "Jorgensen = df[\"V201033\"] == 3\n",
        "df.loc[Jorgensen,\"V201033\"] = \"Jorgensen\"\n",
        "\n",
        "\n",
        "df[\"V201033\"].value_counts().plot(kind=\"bar\", title=\"Vote intention\", xlabel=\"Candidates\", ylabel=\"Number of respondents\")"
      ],
      "execution_count": null,
      "outputs": [
        {
          "output_type": "stream",
          "name": "stderr",
          "text": [
            "/usr/local/lib/python3.7/dist-packages/pandas/core/indexing.py:1763: SettingWithCopyWarning: \n",
            "A value is trying to be set on a copy of a slice from a DataFrame.\n",
            "Try using .loc[row_indexer,col_indexer] = value instead\n",
            "\n",
            "See the caveats in the documentation: https://pandas.pydata.org/pandas-docs/stable/user_guide/indexing.html#returning-a-view-versus-a-copy\n",
            "  isetter(loc, value)\n"
          ]
        },
        {
          "output_type": "execute_result",
          "data": {
            "text/plain": [
              "<matplotlib.axes._subplots.AxesSubplot at 0x7fec55e29190>"
            ]
          },
          "metadata": {},
          "execution_count": 7
        },
        {
          "output_type": "display_data",
          "data": {
            "image/png": "[encoded data removed]",
            "text/plain": [
              "<Figure size 432x288 with 1 Axes>"
            ]
          },
          "metadata": {
            "needs_background": "light"
          }
        }
      ]
    },
    {
      "cell_type": "code",
      "metadata": {
        "id": "n-8lYlpbBO6Q",
        "colab": {
          "base_uri": "https://localhost:8080/",
          "height": 353
        },
        "outputId": "3794920f-58a4-4ab1-9e98-ad419208bfc1"
      },
      "source": [
        "# Step 6: let's add some colors to our graph !\n",
        "\n",
        "df[\"V201033\"].value_counts().plot(kind=\"bar\", title=\"Vote intention\", xlabel=\"Candidates\", ylabel=\"Number of respondants\", color=['blue','red','yellow'])"
      ],
      "execution_count": null,
      "outputs": [
        {
          "output_type": "execute_result",
          "data": {
            "text/plain": [
              "<matplotlib.axes._subplots.AxesSubplot at 0x7fec55d918d0>"
            ]
          },
          "metadata": {},
          "execution_count": 8
        },
        {
          "output_type": "display_data",
          "data": {
            "image/png": "[encoded data removed]",
            "text/plain": [
              "<Figure size 432x288 with 1 Axes>"
            ]
          },
          "metadata": {
            "needs_background": "light"
          }
        }
      ]
    },
    {
      "cell_type": "markdown",
      "metadata": {
        "id": "rJPJDiy-botg"
      },
      "source": [
        "## **1.2. Creating a pie chart using Pandas**\n",
        "\n",
        "A categorical variable can also be represented by a pie chart"
      ]
    },
    {
      "cell_type": "code",
      "metadata": {
        "id": "Hq3D1qjHbtzJ",
        "colab": {
          "base_uri": "https://localhost:8080/",
          "height": 265
        },
        "outputId": "abae6ebe-c656-4c92-f031-99b8d0718f29"
      },
      "source": [
        "# It is very easy! Instead of plot.(kind=\"bar\"), use plot.pie()\n",
        "\n",
        "df[\"V201033\"].value_counts().plot.pie()"
      ],
      "execution_count": null,
      "outputs": [
        {
          "output_type": "execute_result",
          "data": {
            "text/plain": [
              "<matplotlib.axes._subplots.AxesSubplot at 0x7fec55cf9b90>"
            ]
          },
          "metadata": {},
          "execution_count": 9
        },
        {
          "output_type": "display_data",
          "data": {
            "image/png": "[encoded data removed]",
            "text/plain": [
              "<Figure size 432x288 with 1 Axes>"
            ]
          },
          "metadata": {}
        }
      ]
    },
    {
      "cell_type": "code",
      "metadata": {
        "id": "_I449oC8ddHU",
        "colab": {
          "base_uri": "https://localhost:8080/",
          "height": 281
        },
        "outputId": "7c2c114e-55ed-4cff-da8e-31cd8b0702ad"
      },
      "source": [
        "# Now let's improve our pie chart with a title and colors\n",
        "# Don't forget to put the colors in the right order\n",
        "\n",
        "df[\"V201033\"].value_counts().plot.pie (title=\"Vote intention\", colors=['blue','red','yellow'])"
      ],
      "execution_count": null,
      "outputs": [
        {
          "output_type": "execute_result",
          "data": {
            "text/plain": [
              "<matplotlib.axes._subplots.AxesSubplot at 0x7fec5d4a3190>"
            ]
          },
          "metadata": {},
          "execution_count": 10
        },
        {
          "output_type": "display_data",
          "data": {
            "image/png": "[encoded data removed]",
            "text/plain": [
              "<Figure size 432x288 with 1 Axes>"
            ]
          },
          "metadata": {}
        }
      ]
    },
    {
      "cell_type": "markdown",
      "metadata": {
        "id": "iWF3f2RcL6lv"
      },
      "source": [
        "## 2. How to visually represent *continuous* variables?\n",
        "\n",
        "A **histogram** is typically used to represent discrete or continuous data\n",
        "\n",
        "In this case, we want to analyse \"**Respondent age**\" (ANES, V201507x), a continuous data\n"
      ]
    },
    {
      "cell_type": "code",
      "metadata": {
        "id": "KV9rr-_wZ0Dk",
        "colab": {
          "base_uri": "https://localhost:8080/",
          "height": 283
        },
        "outputId": "ed3b462d-4338-4f45-cd73-e9168b0eb1da"
      },
      "source": [
        "# Instead of plot(kind=\"bar\"), use plot(kind=\"hist\") to create a histogram\n",
        "\n",
        "df[\"V201507x\"].plot(kind=\"hist\")"
      ],
      "execution_count": null,
      "outputs": [
        {
          "output_type": "execute_result",
          "data": {
            "text/plain": [
              "<matplotlib.axes._subplots.AxesSubplot at 0x7fec55c8fc90>"
            ]
          },
          "metadata": {},
          "execution_count": 11
        },
        {
          "output_type": "display_data",
          "data": {
            "image/png": "[encoded data removed]",
            "text/plain": [
              "<Figure size 432x288 with 1 Axes>"
            ]
          },
          "metadata": {
            "needs_background": "light"
          }
        }
      ]
    },
    {
      "cell_type": "code",
      "metadata": {
        "id": "MWlL0JkxCpIW",
        "colab": {
          "base_uri": "https://localhost:8080/",
          "height": 283
        },
        "outputId": "281ca79e-844a-4f70-e41a-c91bcc657728"
      },
      "source": [
        "# We want to remove the negative, unusable data (under the age of 18)\n",
        "# Once again, use df.loc\n",
        "\n",
        "filter_age = (df[\"V201507x\"] >= 18) & (df[\"V201507x\"] <= 80)\n",
        "df_age = df.loc[filter_age]\n",
        "\n",
        "df_age[\"V201507x\"].plot(kind=\"hist\")\n",
        "\n",
        "\n"
      ],
      "execution_count": null,
      "outputs": [
        {
          "output_type": "execute_result",
          "data": {
            "text/plain": [
              "<matplotlib.axes._subplots.AxesSubplot at 0x7fec55c9ad90>"
            ]
          },
          "metadata": {},
          "execution_count": 12
        },
        {
          "output_type": "display_data",
          "data": {
            "image/png": "[encoded data removed]",
            "text/plain": [
              "<Figure size 432x288 with 1 Axes>"
            ]
          },
          "metadata": {
            "needs_background": "light"
          }
        }
      ]
    },
    {
      "cell_type": "markdown",
      "metadata": {
        "id": "Ne8SZe1LK2LT"
      },
      "source": [
        "## 3. How to link two data sets?\n",
        "\n",
        "It is possible to link two different kinds of data.\n",
        "\n",
        "To analyse, for example, the age of those who intend to vote for Biden compared to the age of those who intend to vote for Trump."
      ]
    },
    {
      "cell_type": "code",
      "metadata": {
        "id": "-eaZr92DSNL-",
        "colab": {
          "base_uri": "https://localhost:8080/",
          "height": 283
        },
        "outputId": "5bbd6f56-1c5b-456a-ce2e-0816878d3ff2"
      },
      "source": [
        "# Step 1: let's see how old are the people who intend to vote for Biden\n",
        "\n",
        "# Use the \"&\" to link V201507x (age of respondents) and V201033 (vote intention)\n",
        "# Here, we only want the vote intention for Biden, so use (df[\"V201033\"]==Biden)\n",
        "\n",
        "filter_biden = (df[\"V201507x\"] >= 18) & (df[\"V201507x\"] <= 80) & (df[\"V201033\"]==\"Biden\")\n",
        "df_biden = df.loc[filter_biden]\n",
        "\n",
        "# Now let's create a histogram to see the result\n",
        "df_biden[\"V201507x\"].plot(kind=\"hist\")\n"
      ],
      "execution_count": null,
      "outputs": [
        {
          "output_type": "execute_result",
          "data": {
            "text/plain": [
              "<matplotlib.axes._subplots.AxesSubplot at 0x7fec55b3ebd0>"
            ]
          },
          "metadata": {},
          "execution_count": 13
        },
        {
          "output_type": "display_data",
          "data": {
            "image/png": "[encoded data removed]",
            "text/plain": [
              "<Figure size 432x288 with 1 Axes>"
            ]
          },
          "metadata": {
            "needs_background": "light"
          }
        }
      ]
    },
    {
      "cell_type": "code",
      "metadata": {
        "id": "S9CAkxH-T2sT",
        "colab": {
          "base_uri": "https://localhost:8080/",
          "height": 283
        },
        "outputId": "abae4e97-34fd-4ce8-eb45-aa738972e462"
      },
      "source": [
        "# Now let's do the same for Trump !\n",
        "\n",
        "filter_trump = (df[\"V201507x\"] >= 18) & (df[\"V201507x\"] <= 80) & (df[\"V201033\"]==\"Trump\")\n",
        "df_trump = df.loc[filter_trump]\n",
        "\n",
        "df_trump[\"V201507x\"].plot(kind=\"hist\")"
      ],
      "execution_count": null,
      "outputs": [
        {
          "output_type": "execute_result",
          "data": {
            "text/plain": [
              "<matplotlib.axes._subplots.AxesSubplot at 0x7fec571b3bd0>"
            ]
          },
          "metadata": {},
          "execution_count": 14
        },
        {
          "output_type": "display_data",
          "data": {
            "image/png": "[encoded data removed]",
            "text/plain": [
              "<Figure size 432x288 with 1 Axes>"
            ]
          },
          "metadata": {
            "needs_background": "light"
          }
        }
      ]
    },
    {
      "cell_type": "markdown",
      "metadata": {
        "id": "mLeoQhqYqpQw"
      },
      "source": [
        "## References\n",
        "\n",
        "[Chart Visualization. (ND).](https://pandas.pydata.org/pandas-docs/stable/user_guide/visualization.html) \n",
        "\n",
        "Shovic, J. & Simpson, A. (2021). Python All-in-One For Dummies (Second edition).\n",
        "\n",
        "Grus, J. (2015). Chapter 3- Visualizing Data. In Data science from scratch: First principles with Python (First edition, pp. 72–84). O’Reilly."
      ]
    },
    {
      "cell_type": "markdown",
      "metadata": {
        "id": "ufxBm1yRnruN"
      },
      "source": [
        "## Resources\n",
        "\n",
        "- [Data Center - ANES - American National Election Studies](https://electionstudies.org/data-center/2020-time-series-study/) : 2020 Time Series Study\n",
        "\n",
        "- [Basic Analytics in Python](https://www.sfu.ca/~mjbrydon/tutorials/BAinPy/05_recode.html) : How to import, filter, recode data,...\n",
        "\n"
      ]
    }
  ]
}