{
  "nbformat": 4,
  "nbformat_minor": 0,
  "metadata": {
    "colab": {
      "name": "demo-handout-Missing-values-Mathis-Maurial",
      "provenance": [],
      "collapsed_sections": []
    },
    "kernelspec": {
      "display_name": "Python 3",
      "name": "python3"
    }
  },
  "cells": [
    {
      "cell_type": "markdown",
      "metadata": {
        "id": "GJBs_flRovLc"
      },
      "source": [
        "## **What are we talking about? => Missing values**\n",
        "\n",
        "\n",
        "![Missing value](http://i.imgur.com/45zNc.jpg)\n",
        "\n",
        "\n",
        "Today we're going to talk about \"missing values\" or \"missing data\". These values represent the cases when in a survey you do not have data for a respondent, or when certain variables for a respondent are unknown. This can occur when the respondent refused to answer for example, or when the researcher failed to collect an answer to a question.\n",
        "\n",
        "They can be represented by an empty space in your data, a specific sign like a dash ( - ), Na/NaN, or a specific number.\n",
        "\n",
        "![Mv example](https://www.logianalytics.com/wp-content/uploads/2019/06/Missing-values-2.png)\n",
        "\n",
        "For example in the case of the ANES dataset, when you look in the codebook for the variables you wanna use, you can see missing values when looking at values below zero, that usually represent special answers like \"not applicable\" or \"refused to answer\".\n",
        "\n",
        "\n",
        "\n"
      ]
    },
    {
      "cell_type": "markdown",
      "metadata": {
        "id": "UdRyKR44dcNI"
      },
      "source": [
        "## **Why do missing values matter?**\n",
        "\n",
        "Up to now we have largely ignored them, but here we will understand why it might be better to consider them as important data, and how we can use that data to avoid biases, how we can turn missing values into useful information.\n",
        "\n",
        "Not taking care of missing values can be problematic:\n",
        "\n",
        "\n",
        "*   You may have too much missing values to be able to exploit your data.\n",
        "*   You may skew your data by erasing important information.\n",
        "\n",
        "This is why here we're gonna learn about how to manipulate these missing values, and learn about \"imputing\".\n"
      ]
    },
    {
      "cell_type": "markdown",
      "metadata": {
        "id": "OwuxHmxllTwN"
      },
      "source": [
        "## How can we deal with them?\n",
        "\n",
        "We're gonna use the \"How do you think is going to win\" variable to illustrate how we can manipulate missing values."
      ]
    },
    {
      "cell_type": "code",
      "metadata": {
        "id": "gJr_9dXGpJ05"
      },
      "source": [
        "# First we do the usual setup\n",
        "# Load Pandas\n",
        "import pandas as pd\n",
        "\n",
        "# Import the dataset\n",
        "data_url = \"https://raw.githubusercontent.com/datamisc/ts-2020/main/data.csv\"\n",
        "anes_data  = pd.read_csv(data_url, compression='gzip')"
      ],
      "execution_count": null,
      "outputs": []
    },
    {
      "cell_type": "code",
      "metadata": {
        "id": "O7gf5XTt5eow"
      },
      "source": [
        "# Choose the variables we want to use\n",
        "\n",
        "my_vars = [\n",
        "    \"V201217\",  # betting on a winner / winbet\n",
        "    \"V201200\",  # liberal-conservative self-placement / ideology\n",
        "    ]\n",
        "\n",
        "df = anes_data[my_vars]\n",
        "\n",
        "df.columns = [\"winbet\", \"ideology\"]\n",
        "df"
      ],
      "execution_count": null,
      "outputs": []
    },
    {
      "cell_type": "code",
      "metadata": {
        "id": "Geay-s-Mcr0f"
      },
      "source": [
        "# When checking the winbet value we can see that there are missing values\n",
        "# => -9 and -8 \n",
        "df[\"winbet\"].value_counts()"
      ],
      "execution_count": null,
      "outputs": []
    },
    {
      "cell_type": "code",
      "metadata": {
        "id": "zAAw_GmM73_Y"
      },
      "source": [
        "# To deal with them, we can use the .replace method\n",
        "# By replacing the missing values with pd.NA, we are designating these values\n",
        "# as missing values.\n",
        "\n",
        "df[\"winbet\"] = df[\"winbet\"].replace(-9, pd.NA)\n",
        "df[\"winbet\"].value_counts()"
      ],
      "execution_count": null,
      "outputs": []
    },
    {
      "cell_type": "code",
      "metadata": {
        "id": "USYIbIpFgS7H"
      },
      "source": [
        "# You can use lists to go quicker and directly replace all your missing values\n",
        "\n",
        "df[\"winbet\"] = df[\"winbet\"].replace([-9, -8], pd.NA)\n",
        "df[\"winbet\"].value_counts()\n"
      ],
      "execution_count": null,
      "outputs": []
    },
    {
      "cell_type": "code",
      "metadata": {
        "id": "TWT2x0LkPOtk"
      },
      "source": [
        "#Tou can also use pd.NA on the whole dataframe if needed.\n",
        "\n",
        "# It is useful, but you need to chose carefully which data you are targeting\n",
        "# For example, here we are targeting 99 from the ideology variable,\n",
        "# but 99 may very well be an existing value for another variable of your dataset\n",
        "\n",
        "df = df.replace([-9, -8, 99], pd.NA)\n",
        "df.describe()"
      ],
      "execution_count": null,
      "outputs": []
    },
    {
      "cell_type": "code",
      "metadata": {
        "id": "OzXuzxoMfzRZ"
      },
      "source": [
        "# You can change the \"dropna\" parameter to make them appear in your value_counts\n",
        "# It allows you to quickly compare them to your existing values\n",
        "\n",
        "df[\"winbet\"].value_counts(dropna=False)"
      ],
      "execution_count": null,
      "outputs": []
    },
    {
      "cell_type": "code",
      "metadata": {
        "id": "h1UoLWHdRRl4"
      },
      "source": [
        "# If you only want to see the number of missing values, use the sum method\n",
        "\n",
        "df.isna().sum()"
      ],
      "execution_count": null,
      "outputs": []
    },
    {
      "cell_type": "markdown",
      "metadata": {
        "id": "uHLzPfq-gvzH"
      },
      "source": [
        "# Using .isna"
      ]
    },
    {
      "cell_type": "code",
      "metadata": {
        "id": "6widJsYRgBGZ"
      },
      "source": [
        "# .isna() allows you to direclty verify which values are missing values.\n",
        "\n",
        "df[\"winbet\"].isna()\n",
        "\n",
        "# \"True\" means it is a missing value, and \"False\" means the opposite."
      ],
      "execution_count": null,
      "outputs": []
    },
    {
      "cell_type": "code",
      "metadata": {
        "id": "i6zPlTrsnDBZ"
      },
      "source": [
        "df[\"winbet\"].isna().value_counts()"
      ],
      "execution_count": null,
      "outputs": []
    },
    {
      "cell_type": "code",
      "metadata": {
        "id": "Eh2R2MJkimMh"
      },
      "source": [
        "# .isna is useful when trying to target these values\n",
        "# For example we can now see what's the percentage of missing values \n",
        "\n",
        "df[\"winbet\"].isna().mean()"
      ],
      "execution_count": null,
      "outputs": []
    },
    {
      "cell_type": "markdown",
      "metadata": {
        "id": "pgIc7goy2S6v"
      },
      "source": [
        "# Imputing the mean/median\n",
        "\n",
        "\"Imputing\" is the process of replacing data with substitued values, to avoid the potential biaises created by your missing data. After designating the missing values in python, you can replace them with values that originate from the values you have, which will make your data more usable. Doing so should not affect your overall observations, if done right.\n",
        "\n",
        "Here we will talk about how we can impute the median in our variable, but in other cases you may have to impute the mean.\n",
        "\n",
        "If the variable is discrete, then you want to use the median. If it is continuous, then the mean will make more sense.\n",
        "\n",
        "Warning: imputing affects your data and may skew it, as we will see later on."
      ]
    },
    {
      "cell_type": "code",
      "metadata": {
        "id": "3kPYKyiVc3-C"
      },
      "source": [
        "# Our missing values can now be imputed with the median as it's a discrete variable\n",
        "\n",
        "df.describe()"
      ],
      "execution_count": null,
      "outputs": []
    },
    {
      "cell_type": "code",
      "metadata": {
        "id": "sG8o3oRp4wKd"
      },
      "source": [
        "# For this variable we will impute the median.\n",
        "# First we need to create an object with our median\n",
        "my_median = df[\"winbet\"].median()\n",
        "my_median"
      ],
      "execution_count": null,
      "outputs": []
    },
    {
      "cell_type": "code",
      "metadata": {
        "id": "xuCepPTr4zRr"
      },
      "source": [
        "# Next we need to create a mask with the .isna method to target our missing\n",
        "# variables. Then we are apply the median to our mask.\n",
        "mask = df[\"winbet\"].isna()\n",
        "df.loc[mask, \"winbet\"] = my_median"
      ],
      "execution_count": null,
      "outputs": []
    },
    {
      "cell_type": "code",
      "metadata": {
        "id": "U553ijjF41ZX"
      },
      "source": [
        "# Now if we check again with the mean, we can see there are no longer\n",
        "# any missing values in our data.\n",
        "df.isna().mean()"
      ],
      "execution_count": null,
      "outputs": []
    },
    {
      "cell_type": "code",
      "metadata": {
        "id": "g-kXZHzyxhe6"
      },
      "source": [
        "# You can also use the .fillna method, that allows you to instantly turn all\n",
        "# the designated missing values into somehting else.\n",
        "# It can be applied to the whole dataframe if needed: df.fillna(df.median())\n",
        "\n",
        "# (fillna can also be used with the mean)\n",
        "\n",
        " \n",
        "df[\"winbet\"] = df[\"winbet\"].fillna(df[\"winbet\"].median())\n",
        "df[\"winbet\"].isna().value_counts()"
      ],
      "execution_count": null,
      "outputs": []
    },
    {
      "cell_type": "code",
      "metadata": {
        "id": "ZsOr-7RDy8Ww"
      },
      "source": [
        "# And as you can see the median stayed the same, but the mean was affected.\n",
        "# As such there is no perfect solution for imputing missing values\n",
        "\n",
        "df[\"winbet\"].describe()"
      ],
      "execution_count": null,
      "outputs": []
    },
    {
      "cell_type": "code",
      "metadata": {
        "id": "cifY2NPU3tvA"
      },
      "source": [
        "# You might also just want to delete the rows that contain missing values.\n",
        "# You can easily do it with .dropna and adjust its paramters to your liking\n",
        "\n",
        "# how=any deletes all of them, how=only deletes it if the variable is full of them\n",
        "\n",
        "df[\"winbet\"].dropna(how=any)"
      ],
      "execution_count": null,
      "outputs": []
    },
    {
      "cell_type": "markdown",
      "metadata": {
        "id": "ufxBm1yRnruN"
      },
      "source": [
        "## Resources\n",
        "\n",
        "\n",
        "- [Link to resource 1](https://www.freecodecamp.org/news/the-penalty-of-missing-values-in-data-science-91b756f95a32/#:~:text=Missing%20values%20affect%20our%20performance%20and%20predictive%20capacity.,affects%20our%20statistics.%20Conclusions%20can%20thus%20be%20misleading.): Useful info on why handling missing data matters\n",
        "- [Link to ressource 2](https://pandas.pydata.org/pandas-docs/stable/reference/api/pandas.DataFrame.isna.html): Guide to use .isna\n",
        "- [Link to ressource 3](https://towardsdatascience.com/handling-missing-values-with-pandas-b876bf6f008f): A more complete guide on handling missing values and imputing, with a lot of useful methods\n"
      ]
    }
  ]
}