{
  "nbformat": 4,
  "nbformat_minor": 0,
  "metadata": {
    "colab": {
      "name": "demo-handout-Define new functions-Cyprien-Fradin",
      "provenance": [],
      "collapsed_sections": []
    },
    "kernelspec": {
      "display_name": "Python 3",
      "name": "python3"
    }
  },
  "cells": [
    {
      "cell_type": "markdown",
      "metadata": {
        "id": "GJBs_flRovLc"
      },
      "source": [
        "## Functions in Python\n",
        "\n",
        "We have already talked about some of the functions that are already in Python.\n",
        "\n",
        "For example : **print()**, **sum()**, **len()**, etc.\n",
        "\n",
        "Those are some example of what is called **Built-in functions**, functions that come with Python.\n",
        "\n",
        "But what if you could construct other functions ?\n",
        "It is possible, and these functions are called **User-defined functions**. People have been creating stuff on Python that didn't come with the language at first. For exemple, you can import \"math\" :"
      ]
    },
    {
      "cell_type": "code",
      "metadata": {
        "id": "pDSCEEnqrg2D",
        "colab": {
          "base_uri": "https://localhost:8080/"
        },
        "outputId": "0e68b239-be05-4856-a864-1a7a9ca15368"
      },
      "source": [
        "import math\n",
        "math.tau"
      ],
      "execution_count": null,
      "outputs": [
        {
          "output_type": "execute_result",
          "data": {
            "text/plain": [
              "6.283185307179586"
            ]
          },
          "metadata": {},
          "execution_count": 7
        }
      ]
    },
    {
      "cell_type": "markdown",
      "metadata": {
        "id": "UdRyKR44dcNI"
      },
      "source": [
        "This example shows how much you can do with custom fuctions.\n",
        "\n",
        "So these are custom functions and now, we are going to learn how to define some basic new functions.\n",
        "\n",
        "Basically, this is going to help you whenever there is a series of instructions you have to do repeatidly. If you define a function, you will be able to do these series of instructions a lot quicker ! "
      ]
    },
    {
      "cell_type": "markdown",
      "metadata": {
        "id": "OwuxHmxllTwN"
      },
      "source": [
        "## How to create a new function\n",
        "\n",
        "As always, syntax is very important ! \n",
        "\n",
        "*First step* : you need to write **def**\n",
        "\n",
        "*Then* : add **the name of your new function** and **brackets**\n",
        "\n",
        "*Finally* : add a colon (the symbol **:**)  \n"
      ]
    },
    {
      "cell_type": "code",
      "metadata": {
        "id": "NPE3AuKOjnYv"
      },
      "source": [
        "def just_saying_hello() :\n",
        "  \"\"\"Here there is a space to tell what the function does\"\"\"\n",
        "  # There is a blank space before the beggining of the following lines. That means your are defining your function ! \n",
        "  print(\"Hello !\")"
      ],
      "execution_count": null,
      "outputs": []
    },
    {
      "cell_type": "code",
      "metadata": {
        "id": "yC7cQ2RJkEcQ"
      },
      "source": [
        "?just_saying_hello"
      ],
      "execution_count": null,
      "outputs": []
    },
    {
      "cell_type": "markdown",
      "metadata": {
        "id": "VgKm1maNDl7P"
      },
      "source": [
        "## Using the brackets\n",
        "You can put **arguments** between the brackets : that will help you doing a bit more complicated things.\n",
        "\n",
        "You can put as many arguments as you want."
      ]
    },
    {
      "cell_type": "code",
      "metadata": {
        "id": "NGYaomhz1h0d"
      },
      "source": [
        "def greet(name):\n",
        "  return \"Hello\",name,\"!\""
      ],
      "execution_count": null,
      "outputs": []
    },
    {
      "cell_type": "code",
      "metadata": {
        "id": "3hMS4Imc4Amz",
        "colab": {
          "base_uri": "https://localhost:8080/"
        },
        "outputId": "3cd618ac-aaf6-4ba3-d040-3bb449777737"
      },
      "source": [
        "greet(\"Roxanne\")"
      ],
      "execution_count": null,
      "outputs": [
        {
          "output_type": "execute_result",
          "data": {
            "text/plain": [
              "('Hello', 'Roxanne', '!')"
            ]
          },
          "metadata": {},
          "execution_count": 38
        }
      ]
    },
    {
      "cell_type": "code",
      "metadata": {
        "id": "blQMlvy9o4rk"
      },
      "source": [
        "# You also can use several arguments !\n",
        "def winner_of_the_popular_vote(winner,votes) :\n",
        "  print(\"The winner of the popular vote is\",winner,\"with\",votes,\"votes\")"
      ],
      "execution_count": null,
      "outputs": []
    },
    {
      "cell_type": "code",
      "metadata": {
        "id": "-lQX94cnpc70",
        "colab": {
          "base_uri": "https://localhost:8080/"
        },
        "outputId": "3e4f158e-9d0a-4464-eb74-1512539bb5cb"
      },
      "source": [
        "winner_of_the_popular_vote(\"Joe Biden\",81268924)"
      ],
      "execution_count": null,
      "outputs": [
        {
          "output_type": "stream",
          "name": "stdout",
          "text": [
            "The winner of the popular vote is Joe Biden with 81268924 votes\n"
          ]
        }
      ]
    },
    {
      "cell_type": "code",
      "metadata": {
        "id": "W9RT1hbKBbIH"
      },
      "source": [
        "def percentage_of_votes(votes,voter_turnout):\n",
        "  percentage = (votes/voter_turnout)*100\n",
        "  return (percentage)"
      ],
      "execution_count": null,
      "outputs": []
    },
    {
      "cell_type": "code",
      "metadata": {
        "id": "k5wGThxrCgRV",
        "colab": {
          "base_uri": "https://localhost:8080/"
        },
        "outputId": "ecfe2a9f-cd61-49e3-bd29-9a38e664af97"
      },
      "source": [
        "percentage_of_votes(81268924,158383403)"
      ],
      "execution_count": null,
      "outputs": [
        {
          "output_type": "execute_result",
          "data": {
            "text/plain": [
              "51.31151526021953"
            ]
          },
          "metadata": {},
          "execution_count": 17
        }
      ]
    },
    {
      "cell_type": "code",
      "metadata": {
        "id": "Hfe4mzm8x1Cu",
        "colab": {
          "base_uri": "https://localhost:8080/"
        },
        "outputId": "a14f0dec-8276-4dad-e756-3b0da92a14e2"
      },
      "source": [
        "# How to calculate an average ?\n",
        "List = [8,2,3]\n",
        "# You need 3 basic operations :\n",
        "SUM = sum(List)\n",
        "LENGHT = len(List)\n",
        "# And then divide the sum by the lenght of your list\n",
        "print(SUM/LENGHT)"
      ],
      "execution_count": null,
      "outputs": [
        {
          "output_type": "stream",
          "name": "stdout",
          "text": [
            "4.333333333333333\n"
          ]
        }
      ]
    },
    {
      "cell_type": "code",
      "metadata": {
        "id": "t-BDvXOc7jRQ"
      },
      "source": [
        "# You can define a function that will calculate an average so that you don't have to write all the operations everytime \n",
        "def average(List_of_values):\n",
        "  List_Sum = sum(List_of_values)\n",
        "  List_Lenght = len(List_of_values)\n",
        "  avg = List_Sum/List_Lenght\n",
        "  return avg"
      ],
      "execution_count": null,
      "outputs": []
    },
    {
      "cell_type": "code",
      "metadata": {
        "id": "8ZQ25W0Yu8FJ",
        "colab": {
          "base_uri": "https://localhost:8080/"
        },
        "outputId": "f1d803a5-247e-4b39-9175-c94bc9c49748"
      },
      "source": [
        "average([62,2,3])"
      ],
      "execution_count": null,
      "outputs": [
        {
          "output_type": "execute_result",
          "data": {
            "text/plain": [
              "22.333333333333332"
            ]
          },
          "metadata": {},
          "execution_count": 23
        }
      ]
    },
    {
      "cell_type": "markdown",
      "metadata": {
        "id": "7f9wGtyCKQ3O"
      },
      "source": [
        "## The **return** statement\n",
        "\n",
        "You sometimes have to use the statement : **return**. This is used to define, in your function, what should be returned when you run it (without necessarily printing it). Here is a little example :"
      ]
    },
    {
      "cell_type": "code",
      "metadata": {
        "id": "PjuDbd09kjWm",
        "colab": {
          "base_uri": "https://localhost:8080/"
        },
        "outputId": "a4efa921-48d1-4a28-bd14-a1e62b61f1ae"
      },
      "source": [
        "# What is the type of the outputs of the previous functions we defined ?\n",
        "A = greet(\"Mickael\")\n",
        "x = type(A)\n",
        "print(x)"
      ],
      "execution_count": null,
      "outputs": [
        {
          "output_type": "stream",
          "name": "stdout",
          "text": [
            "Hello Mickael !\n",
            "<class 'NoneType'>\n"
          ]
        }
      ]
    },
    {
      "cell_type": "markdown",
      "metadata": {
        "id": "cuX-Yt_GmKHv"
      },
      "source": [
        "So this is because we have only created functions that don't return any value.\n",
        "\n",
        "Now, lets use the **return** statement :"
      ]
    },
    {
      "cell_type": "code",
      "metadata": {
        "id": "HZfGHXKORhwY",
        "colab": {
          "base_uri": "https://localhost:8080/"
        },
        "outputId": "c28d2fa6-8e3e-4e65-9e68-6e2db8b12ec1"
      },
      "source": [
        "def most_popular(percentage):\n",
        "  \"\"\"A function to know if a candidate is the winner of the popular vote based on the percentage of votes he got\"\"\"\n",
        "  if percentage <= 50 :\n",
        "    # You can notice that here we shift a bit more to the right, because we are in a different loop inside the definition\n",
        "    return \"no\"\n",
        "  else :\n",
        "    return \"yes\"\n",
        "print(most_popular(46))"
      ],
      "execution_count": null,
      "outputs": [
        {
          "output_type": "stream",
          "name": "stdout",
          "text": [
            "no\n"
          ]
        }
      ]
    },
    {
      "cell_type": "code",
      "metadata": {
        "id": "DVQMp1L2mqPQ",
        "colab": {
          "base_uri": "https://localhost:8080/"
        },
        "outputId": "cbae5876-809b-4fe5-a534-35ebf6cec9f4"
      },
      "source": [
        "# What is the type of the output now ?\n",
        "B = most_popular(80)\n",
        "y = type(B)\n",
        "print(y)"
      ],
      "execution_count": null,
      "outputs": [
        {
          "output_type": "stream",
          "name": "stdout",
          "text": [
            "<class 'str'>\n"
          ]
        }
      ]
    },
    {
      "cell_type": "markdown",
      "metadata": {
        "id": "0p31cVZWLxI0"
      },
      "source": [
        "## Define a function... that uses another function\n",
        "\n",
        "You can use in the definition of a new function, a function you already defined."
      ]
    },
    {
      "cell_type": "code",
      "metadata": {
        "id": "MX0sAW4FuCAh"
      },
      "source": [
        "def determine_the_winner(votes):\n",
        "  \"\"\"A function that determines if a candidate won the popular vote based on the number of votes he got\"\"\"\n",
        "  voter_turnout = 158383403\n",
        "  A = percentage_of_votes(votes,voter_turnout)\n",
        "  B = most_popular(A)\n",
        "  return B\n"
      ],
      "execution_count": null,
      "outputs": []
    },
    {
      "cell_type": "code",
      "metadata": {
        "id": "JvsMRBu7wnNf",
        "colab": {
          "base_uri": "https://localhost:8080/"
        },
        "outputId": "7c524b25-955f-4a51-d614-2d49541f257e"
      },
      "source": [
        "print(determine_the_winner(81726924))"
      ],
      "execution_count": null,
      "outputs": [
        {
          "output_type": "stream",
          "name": "stdout",
          "text": [
            "yes\n"
          ]
        }
      ]
    },
    {
      "cell_type": "markdown",
      "metadata": {
        "id": "ufxBm1yRnruN"
      },
      "source": [
        "## Resources\n",
        "\n",
        "- [How to use def to create functions in Python](https://www.bing.com/videos/search?view=detail&mid=5110ADABB7845D63F2E35110ADABB7845D63F2E3&q=use): A simple video on how to use the def tool.\n",
        "- [Towards Data Science](https://towardsdatascience.com/how-to-create-user-defined-functions-in-python-e5a529386534): A website to go a bit further with function definitions\n",
        "\n"
      ]
    },
    {
      "cell_type": "markdown",
      "metadata": {
        "id": "mLeoQhqYqpQw"
      },
      "source": [
        "## References\n",
        "\n",
        "Poulain, P. F. E. P. (n.d.). 9. Fonctions - Cours de Python. Université Paris Diderot. Retrieved October 7, 2021, from https://python.sdv.univ-paris-diderot.fr/09_fonctions/"
      ]
    }
  ]
}