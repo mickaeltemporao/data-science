{
  "nbformat": 4,
  "nbformat_minor": 0,
  "metadata": {
    "colab": {
      "name": "06-data-management-existing-values.ipynb",
      "provenance": [],
      "collapsed_sections": []
    },
    "kernelspec": {
      "name": "python3",
      "display_name": "Python 3"
    }
  },
  "cells": [
    {
      "cell_type": "markdown",
      "metadata": {
        "id": "s9nC5_RwqJcx"
      },
      "source": [
        "# Data Management - Exisitng Values\n",
        "\n",
        "**Learning Objective:** \n",
        "- Learn to recode variables\n",
        "- Learn to create new variables\n",
        "- Learn to use dictionaries\n"
      ]
    },
    {
      "cell_type": "markdown",
      "metadata": {
        "id": "IkHVVo1bf0A2"
      },
      "source": [
        "### Filtering Observation (Rows)\n",
        "\n",
        "Data is messy. Most of the time you need to filter some observations (rows) from your dataset. \n",
        "- You are interested in some particular aspects of your dataset (eg. young voters). \n",
        "- The information is irrelevant and you need to remove data to avoid drawing wrong conclusions (eg. people who refuse to answer).\n",
        "\n",
        "Therefore, you need a way to filter the observations in your dataset. \n",
        "\n",
        "- Relational operators provide a way to subset observations\n",
        "- There are also useful methods that can help you with this.\n",
        "\n",
        "![](https://pandas.pydata.org/docs/_images/05_newcolumn_1.svg)\n",
        "\n",
        "![](https://pandas.pydata.org/docs/_images/05_newcolumn_2.svg)\n",
        "\n",
        "We have seen that the data in the ANES contains values such as -8, -9, 99, that might or might not be useful depending on the probelm we want to tackle.\n",
        "\n",
        "How can we deal with them?\n",
        "\n",
        "Let's start with this question to illustrate:\n",
        "\n",
        "- Are Young Voters more Liberal or Conservative?\n"
      ]
    },
    {
      "cell_type": "code",
      "metadata": {
        "id": "PTx-1l9i4MPy",
        "colab": {
          "base_uri": "https://localhost:8080/"
        },
        "outputId": "c5b67185-8fa8-4060-c046-ab31f96d1d51"
      },
      "source": [
        "# Load Pandas\n",
        "import pandas as pd\n",
        "\n",
        "# Import Data\n",
        "data_url = \"https://raw.githubusercontent.com/datamisc/ts-2020/main/data.csv\"\n",
        "anes_data  = pd.read_csv(data_url, compression='gzip')\n"
      ],
      "execution_count": 15,
      "outputs": [
        {
          "output_type": "stream",
          "name": "stderr",
          "text": [
            "/usr/local/lib/python3.7/dist-packages/IPython/core/interactiveshell.py:2718: DtypeWarning: Columns (15,17,18,19,21,22,23,25,26,27,29,30,31,33,34,35,37,38,1508,1509) have mixed types.Specify dtype option on import or set low_memory=False.\n",
            "  interactivity=interactivity, compiler=compiler, result=result)\n"
          ]
        }
      ]
    },
    {
      "cell_type": "code",
      "metadata": {
        "id": "luNYIaFY60Nn",
        "colab": {
          "base_uri": "https://localhost:8080/",
          "height": 205
        },
        "outputId": "9019bced-1e5e-4b7d-c6fc-01e885804cbe"
      },
      "source": [
        "# Subsetting & Renaming Variables\n",
        "my_vars = [\n",
        "    \"V202073\",  # vote choice\n",
        "    \"V201507x\",  # age\n",
        "    \"V201200\",  # liberal-conservative self-placement\n",
        "    \"V200010b\",  # post-election weights\n",
        "]\n",
        "\n",
        "df = anes_data[my_vars]\n",
        "\n",
        "df.columns = [\"vote_choice\", \"age\", \"ideology\", \"weight\"]\n",
        "\n",
        "df.head()\n"
      ],
      "execution_count": 49,
      "outputs": [
        {
          "output_type": "execute_result",
          "data": {
            "text/html": [
              "<div>\n",
              "<style scoped>\n",
              "    .dataframe tbody tr th:only-of-type {\n",
              "        vertical-align: middle;\n",
              "    }\n",
              "\n",
              "    .dataframe tbody tr th {\n",
              "        vertical-align: top;\n",
              "    }\n",
              "\n",
              "    .dataframe thead th {\n",
              "        text-align: right;\n",
              "    }\n",
              "</style>\n",
              "<table border=\"1\" class=\"dataframe\">\n",
              "  <thead>\n",
              "    <tr style=\"text-align: right;\">\n",
              "      <th></th>\n",
              "      <th>vote_choice</th>\n",
              "      <th>age</th>\n",
              "      <th>ideology</th>\n",
              "      <th>weight</th>\n",
              "    </tr>\n",
              "  </thead>\n",
              "  <tbody>\n",
              "    <tr>\n",
              "      <th>0</th>\n",
              "      <td>-1</td>\n",
              "      <td>46</td>\n",
              "      <td>6</td>\n",
              "      <td>1.00573747444017</td>\n",
              "    </tr>\n",
              "    <tr>\n",
              "      <th>1</th>\n",
              "      <td>3</td>\n",
              "      <td>37</td>\n",
              "      <td>4</td>\n",
              "      <td>1.16347312190926</td>\n",
              "    </tr>\n",
              "    <tr>\n",
              "      <th>2</th>\n",
              "      <td>1</td>\n",
              "      <td>40</td>\n",
              "      <td>2</td>\n",
              "      <td>.768681110109909</td>\n",
              "    </tr>\n",
              "    <tr>\n",
              "      <th>3</th>\n",
              "      <td>1</td>\n",
              "      <td>41</td>\n",
              "      <td>3</td>\n",
              "      <td>.521019534357875</td>\n",
              "    </tr>\n",
              "    <tr>\n",
              "      <th>4</th>\n",
              "      <td>2</td>\n",
              "      <td>72</td>\n",
              "      <td>5</td>\n",
              "      <td>.965789166832749</td>\n",
              "    </tr>\n",
              "  </tbody>\n",
              "</table>\n",
              "</div>"
            ],
            "text/plain": [
              "   vote_choice  age  ideology            weight\n",
              "0           -1   46         6  1.00573747444017\n",
              "1            3   37         4  1.16347312190926\n",
              "2            1   40         2  .768681110109909\n",
              "3            1   41         3  .521019534357875\n",
              "4            2   72         5  .965789166832749"
            ]
          },
          "metadata": {},
          "execution_count": 49
        }
      ]
    },
    {
      "cell_type": "code",
      "metadata": {
        "id": "Sp_Cg9lzi_SR",
        "colab": {
          "base_uri": "https://localhost:8080/"
        },
        "outputId": "882bb106-2a5b-42ec-ecfa-9e2d5178ed04"
      },
      "source": [
        "# Using Filters\n",
        "mask = df['vote_choice'].between(1,2)\n",
        "filter_df = df[mask].copy()\n",
        "filter_df['vote_choice'].value_counts(normalize=True)\n"
      ],
      "execution_count": 50,
      "outputs": [
        {
          "output_type": "execute_result",
          "data": {
            "text/plain": [
              "1    0.570257\n",
              "2    0.429743\n",
              "Name: vote_choice, dtype: float64"
            ]
          },
          "metadata": {},
          "execution_count": 50
        }
      ]
    },
    {
      "cell_type": "code",
      "metadata": {
        "id": "-pMCvu5Tjvua",
        "outputId": "d6345b65-613d-4bdb-87c1-14ff16996a68",
        "colab": {
          "base_uri": "https://localhost:8080/"
        }
      },
      "source": [
        "mask = df[\"vote_choice\"] > 0\n",
        "recoded_df = df[mask].copy()\n",
        "\n",
        "mask = recoded_df[\"vote_choice\"] > 2\n",
        "\n",
        "recoded_df.loc[mask, \"vote_choice\"] = \"Other\"\n",
        "recoded_df.describe()\n",
        "\n",
        "recoded_df.loc[recoded_df[\"vote_choice\"]==1, \"vote_choice\"] = \"J.Biden\"\n",
        "recoded_df.loc[recoded_df[\"vote_choice\"]==2, \"vote_choice\"] = \"D.Trump\"\n",
        "\n",
        "recoded_df[\"vote_choice\"].value_counts(normalize=True)\n"
      ],
      "execution_count": 71,
      "outputs": [
        {
          "output_type": "execute_result",
          "data": {
            "text/plain": [
              "J.Biden    0.553823\n",
              "D.Trump    0.417359\n",
              "Other      0.028818\n",
              "Name: vote_choice, dtype: float64"
            ]
          },
          "metadata": {},
          "execution_count": 71
        }
      ]
    }
  ]
}