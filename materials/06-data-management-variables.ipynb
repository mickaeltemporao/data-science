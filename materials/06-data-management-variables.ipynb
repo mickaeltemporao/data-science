{
  "nbformat": 4,
  "nbformat_minor": 0,
  "metadata": {
    "colab": {
      "name": "06-data-management-existing-values.ipynb",
      "provenance": [],
      "collapsed_sections": []
    },
    "kernelspec": {
      "name": "python3",
      "display_name": "Python 3"
    }
  },
  "cells": [
    {
      "cell_type": "markdown",
      "metadata": {
        "id": "s9nC5_RwqJcx"
      },
      "source": [
        "# Data Management - Exisiting Values\n",
        "\n",
        "**Learning Objective:** \n",
        "- Learn to recode variables\n",
        "- Learn to create new variables\n",
        "- Learn to use dictionaries\n"
      ]
    },
    {
      "cell_type": "code",
      "metadata": {
        "id": "PTx-1l9i4MPy",
        "colab": {
          "base_uri": "https://localhost:8080/"
        },
        "outputId": "d8fee9c8-1926-4232-e0b4-0b37da4d39aa"
      },
      "source": [
        "# Load Pandas\n",
        "import pandas as pd\n",
        "\n",
        "# Import Data\n",
        "data_url = \"https://raw.githubusercontent.com/datamisc/ts-2020/main/data.csv\"\n",
        "anes_data  = pd.read_csv(data_url, compression='gzip')\n"
      ],
      "execution_count": 1,
      "outputs": [
        {
          "output_type": "stream",
          "name": "stderr",
          "text": [
            "/usr/local/lib/python3.7/dist-packages/IPython/core/interactiveshell.py:2718: DtypeWarning: Columns (15,17,18,19,21,22,23,25,26,27,29,30,31,33,34,35,37,38,1508,1509) have mixed types.Specify dtype option on import or set low_memory=False.\n",
            "  interactivity=interactivity, compiler=compiler, result=result)\n"
          ]
        }
      ]
    },
    {
      "cell_type": "code",
      "metadata": {
        "id": "luNYIaFY60Nn",
        "colab": {
          "base_uri": "https://localhost:8080/",
          "height": 205
        },
        "outputId": "783e6b2e-999c-4dd4-c9f1-dcd8c19189d2"
      },
      "source": [
        "# Subsetting & Renaming Variables\n",
        "my_vars = [\n",
        "    \"V201033\",  # vote_int\n",
        "    \"V201507x\",  # age\n",
        "    \"V201200\",  # liberal-conservative self-placement\n",
        "    \"V201151\",\t # biden thrm\n",
        "    \"V201152\",  # trump thrm\n",
        "    \"V201144x\",  # covid \n",
        "]\n",
        "\n",
        "df = anes_data[my_vars]\n",
        "\n",
        "df.columns = [\"vote_int\", \"age\", \"ideology\", \"biden_thrm\", \"trump_thrm\", \"covid\"]\n",
        "df.head()\n"
      ],
      "execution_count": 24,
      "outputs": [
        {
          "output_type": "execute_result",
          "data": {
            "text/html": [
              "<div>\n",
              "<style scoped>\n",
              "    .dataframe tbody tr th:only-of-type {\n",
              "        vertical-align: middle;\n",
              "    }\n",
              "\n",
              "    .dataframe tbody tr th {\n",
              "        vertical-align: top;\n",
              "    }\n",
              "\n",
              "    .dataframe thead th {\n",
              "        text-align: right;\n",
              "    }\n",
              "</style>\n",
              "<table border=\"1\" class=\"dataframe\">\n",
              "  <thead>\n",
              "    <tr style=\"text-align: right;\">\n",
              "      <th></th>\n",
              "      <th>vote_int</th>\n",
              "      <th>age</th>\n",
              "      <th>ideology</th>\n",
              "      <th>biden_thrm</th>\n",
              "      <th>trump_thrm</th>\n",
              "      <th>covid</th>\n",
              "    </tr>\n",
              "  </thead>\n",
              "  <tbody>\n",
              "    <tr>\n",
              "      <th>0</th>\n",
              "      <td>2</td>\n",
              "      <td>46</td>\n",
              "      <td>6</td>\n",
              "      <td>0</td>\n",
              "      <td>100</td>\n",
              "      <td>1</td>\n",
              "    </tr>\n",
              "    <tr>\n",
              "      <th>1</th>\n",
              "      <td>3</td>\n",
              "      <td>37</td>\n",
              "      <td>4</td>\n",
              "      <td>0</td>\n",
              "      <td>0</td>\n",
              "      <td>3</td>\n",
              "    </tr>\n",
              "    <tr>\n",
              "      <th>2</th>\n",
              "      <td>1</td>\n",
              "      <td>40</td>\n",
              "      <td>2</td>\n",
              "      <td>65</td>\n",
              "      <td>0</td>\n",
              "      <td>4</td>\n",
              "    </tr>\n",
              "    <tr>\n",
              "      <th>3</th>\n",
              "      <td>1</td>\n",
              "      <td>41</td>\n",
              "      <td>3</td>\n",
              "      <td>70</td>\n",
              "      <td>15</td>\n",
              "      <td>4</td>\n",
              "    </tr>\n",
              "    <tr>\n",
              "      <th>4</th>\n",
              "      <td>2</td>\n",
              "      <td>72</td>\n",
              "      <td>5</td>\n",
              "      <td>15</td>\n",
              "      <td>85</td>\n",
              "      <td>3</td>\n",
              "    </tr>\n",
              "  </tbody>\n",
              "</table>\n",
              "</div>"
            ],
            "text/plain": [
              "   vote_int  age  ideology  biden_thrm  trump_thrm  covid\n",
              "0         2   46         6           0         100      1\n",
              "1         3   37         4           0           0      3\n",
              "2         1   40         2          65           0      4\n",
              "3         1   41         3          70          15      4\n",
              "4         2   72         5          15          85      3"
            ]
          },
          "metadata": {},
          "execution_count": 24
        }
      ]
    },
    {
      "cell_type": "markdown",
      "metadata": {
        "id": "8Adu57IR73Vg"
      },
      "source": [
        "## Recoding Variables Using a Mask/Filter\n",
        "\n",
        "We can use relational operators (<>=) to identify the observations that meet certain criteria that we want to change.\n",
        "\n",
        "For instance we could recode the voting intention variable:\n",
        "\n",
        "\n"
      ]
    },
    {
      "cell_type": "code",
      "metadata": {
        "id": "PRfLM1b88SXf"
      },
      "source": [
        "# Recoding values with a mask\n",
        "new_df = df[(df['vote_int']>0) & (df['vote_int']<=5)].copy()  # Creating a new dataframe\n",
        "\n",
        "# The recoding starts here\n",
        "mask = new_df['vote_int'] == 1\n",
        "new_df.loc[mask, \"vote_int\"] = \"J.Biden\"\n",
        "mask = new_df['vote_int'] == 2\n",
        "new_df.loc[mask, \"vote_int\"] = \"D.Trump\"\n"
      ],
      "execution_count": 25,
      "outputs": []
    },
    {
      "cell_type": "code",
      "metadata": {
        "id": "o1A0EOgWDdp7",
        "outputId": "0c686bb5-4a16-41e8-cc42-e9ae3b21e7bc",
        "colab": {
          "base_uri": "https://localhost:8080/"
        }
      },
      "source": [
        "new_df['vote_int'].value_counts()\n"
      ],
      "execution_count": 26,
      "outputs": [
        {
          "output_type": "execute_result",
          "data": {
            "text/plain": [
              "J.Biden    3759\n",
              "D.Trump    3016\n",
              "3           133\n",
              "5            86\n",
              "4            55\n",
              "Name: vote_int, dtype: int64"
            ]
          },
          "metadata": {},
          "execution_count": 26
        }
      ]
    },
    {
      "cell_type": "markdown",
      "metadata": {
        "id": "kyys-TzcDH0f"
      },
      "source": [
        "### Hack-Time\n",
        "\n",
        "Can you finish recoding the `vote_int` variable?"
      ]
    },
    {
      "cell_type": "code",
      "metadata": {
        "id": "dic2b6dWDGse"
      },
      "source": [
        "# Finish recoding the vote_int variable\n"
      ],
      "execution_count": 27,
      "outputs": []
    },
    {
      "cell_type": "markdown",
      "metadata": {
        "id": "ojBu85X999Wq"
      },
      "source": [
        "## Recoding Variables Using a Dictionary\n",
        "\n",
        "One can also recode variables using a dictionnary!\n",
        "\n",
        "Dictionaries are used to store data values in key:value pairs. Dictionaries are created by using *curly braces* `{}`. The dictionary syntax is a follows: `{\"key\": \"value\"}`. \n",
        "\n",
        "Here is a example:\n",
        "\n",
        "    this_is_a_dict = {\n",
        "        \"party\": \"Democratic\",\n",
        "        \"candidate\": \"J.Biden\",\n",
        "        \"year\": 2020\n",
        "    }\n",
        "\n",
        "Let's recode the `covid` variable this time using the `.replace()` method and dictionary!\n",
        "\n",
        "- [V201144x](https://sda.berkeley.edu/sdaweb/docs/nes2020/DOC/hcbk0005.htm#V201144x)"
      ]
    },
    {
      "cell_type": "code",
      "metadata": {
        "id": "Sp_Cg9lzi_SR",
        "colab": {
          "base_uri": "https://localhost:8080/"
        },
        "outputId": "f61a62cf-328d-4efc-a5c3-e1a2485cd747"
      },
      "source": [
        "my_values = {\n",
        "    1: \"Approve strongly\",\n",
        "    2: \"Approve not strongly\",\n",
        "    3: \"Disapprove not strongly\",\n",
        "    4: \"Disapprove strongly\",\n",
        "    -2: \"Don't Know\",\n",
        "}\n",
        "\n",
        "my_values"
      ],
      "execution_count": 31,
      "outputs": [
        {
          "output_type": "execute_result",
          "data": {
            "text/plain": [
              "{-2: \"Don't Know\",\n",
              " 1: 'Approve strongly',\n",
              " 2: 'Approve not strongly',\n",
              " 3: 'Disapprove not strongly',\n",
              " 4: 'Disapprove strongly'}"
            ]
          },
          "metadata": {},
          "execution_count": 31
        }
      ]
    },
    {
      "cell_type": "code",
      "metadata": {
        "id": "btiDEei-Eykn",
        "outputId": "bf6826eb-f57e-483b-e72c-f6954446ea0d",
        "colab": {
          "base_uri": "https://localhost:8080/"
        }
      },
      "source": [
        "new_df['covid'].replace(my_values)"
      ],
      "execution_count": 32,
      "outputs": [
        {
          "output_type": "execute_result",
          "data": {
            "text/plain": [
              "0              Approve strongly\n",
              "1       Disapprove not strongly\n",
              "2           Disapprove strongly\n",
              "3           Disapprove strongly\n",
              "4       Disapprove not strongly\n",
              "                 ...           \n",
              "8274           Approve strongly\n",
              "8275           Approve strongly\n",
              "8276       Approve not strongly\n",
              "8277        Disapprove strongly\n",
              "8279        Disapprove strongly\n",
              "Name: covid, Length: 7049, dtype: object"
            ]
          },
          "metadata": {},
          "execution_count": 32
        }
      ]
    },
    {
      "cell_type": "code",
      "metadata": {
        "id": "aYaHO31tFHuD",
        "outputId": "a0dec5bf-fda5-4f97-abac-a5ef09d858a2",
        "colab": {
          "base_uri": "https://localhost:8080/"
        }
      },
      "source": [
        "new_df['covid'] = new_df['covid'].replace(my_values)\n",
        "new_df['covid'].value_counts(normalize=True)"
      ],
      "execution_count": 36,
      "outputs": [
        {
          "output_type": "execute_result",
          "data": {
            "text/plain": [
              "Disapprove strongly        0.553696\n",
              "Approve strongly           0.267839\n",
              "Approve not strongly       0.120017\n",
              "Disapprove not strongly    0.056888\n",
              "Don't Know                 0.001561\n",
              "Name: covid, dtype: float64"
            ]
          },
          "metadata": {},
          "execution_count": 36
        }
      ]
    },
    {
      "cell_type": "markdown",
      "metadata": {
        "id": "3qQz9R3LFah3"
      },
      "source": [
        "## Filtering or Recoding?\n",
        "\n",
        "Until now, we have been filtering out observations that we don't need without thinking about the consequences they can have on our results. \n",
        "\n",
        "If you apply multiple filters, you add bias to your dataset but you might also end up loosing a big part of your data! \n",
        "- **With less data we have less evidence to draw conclusions!**\n",
        "\n",
        "Let's try to predict the election outcome using pre-election data!"
      ]
    },
    {
      "cell_type": "code",
      "metadata": {
        "id": "BDe-VePf8V6m",
        "outputId": "0873d9a0-c1e6-4ee6-9c3d-9ca0c8d20d7c",
        "colab": {
          "base_uri": "https://localhost:8080/"
        }
      },
      "source": [
        "# Filtering Out ALL Observations that are note Biden or Trump\n",
        "mask = df['vote_int'].between(1,2)\n",
        "filter_df = df[mask].copy()\n",
        "\n",
        "# Change Labels\n",
        "vote_int_labels = {\n",
        "    1: \"J.Biden\",\n",
        "    2: \"D.Trump\",\n",
        "}\n",
        "\n",
        "filtered_output = filter_df['vote_int'].replace(vote_int_labels).value_counts(normalize=True)\n",
        "filtered_output"
      ],
      "execution_count": 46,
      "outputs": [
        {
          "output_type": "execute_result",
          "data": {
            "text/plain": [
              "J.Biden    0.554834\n",
              "D.Trump    0.445166\n",
              "Name: vote_int, dtype: float64"
            ]
          },
          "metadata": {},
          "execution_count": 46
        }
      ]
    },
    {
      "cell_type": "code",
      "metadata": {
        "id": "E15vn_ho5Mx8",
        "outputId": "63a72233-075f-43f8-f9d1-b5fa424ef45a",
        "colab": {
          "base_uri": "https://localhost:8080/"
        }
      },
      "source": [
        "# Recoding Observations\n",
        "mask = df[\"vote_int\"] > 0\n",
        "recoded_df = df[mask].copy()\n",
        "\n",
        "# Keeping all other vote choice intentions coded as \"Other\"\n",
        "mask = recoded_df[\"vote_int\"] > 2\n",
        "recoded_df.loc[mask, \"vote_int\"] = \"Other\"\n",
        "\n",
        "# Replacing remaining labels using the previously created dictionary\n",
        "recoded_df[\"vote_int\"] = recoded_df[\"vote_int\"].replace(vote_int_labels)\n",
        "\n",
        "recoded_output = recoded_df[\"vote_int\"].value_counts(normalize=True)\n",
        "recoded_output\n"
      ],
      "execution_count": 47,
      "outputs": [
        {
          "output_type": "execute_result",
          "data": {
            "text/plain": [
              "J.Biden    0.526618\n",
              "D.Trump    0.422527\n",
              "Other      0.050855\n",
              "Name: vote_int, dtype: float64"
            ]
          },
          "metadata": {},
          "execution_count": 47
        }
      ]
    },
    {
      "cell_type": "code",
      "metadata": {
        "id": "nAom32haHpIt",
        "outputId": "d0ad8aeb-45d0-4277-c3db-3d6e688146c1",
        "colab": {
          "base_uri": "https://localhost:8080/"
        }
      },
      "source": [
        "print(\"The Filtered Output\")\n",
        "print(filtered_output)\n",
        "print(\"==============================\")\n",
        "print(\"The Recoded Output\")\n",
        "print(recoded_output)"
      ],
      "execution_count": 55,
      "outputs": [
        {
          "output_type": "stream",
          "name": "stdout",
          "text": [
            "The Filtered Output\n",
            "J.Biden    0.554834\n",
            "D.Trump    0.445166\n",
            "Name: vote_int, dtype: float64\n",
            "==============================\n",
            "The Recoded Output\n",
            "J.Biden    0.526618\n",
            "D.Trump    0.422527\n",
            "Other      0.050855\n",
            "Name: vote_int, dtype: float64\n"
          ]
        }
      ]
    },
    {
      "cell_type": "markdown",
      "metadata": {
        "id": "IkHVVo1bf0A2"
      },
      "source": [
        "# Creating New Variables\n",
        "\n",
        "When you recode variables you usually want to add a new variable to keep the raw version of your variable, instead of replacing the previous variable.\n",
        "\n",
        "![](https://pandas.pydata.org/docs/_images/05_newcolumn_1.svg)\n",
        "\n",
        "\n",
        "\n"
      ]
    },
    {
      "cell_type": "markdown",
      "metadata": {
        "id": "kakZ6fjO2KS4"
      },
      "source": [
        "\n",
        "![](https://pandas.pydata.org/docs/_images/05_newcolumn_2.svg)"
      ]
    }
  ]
}