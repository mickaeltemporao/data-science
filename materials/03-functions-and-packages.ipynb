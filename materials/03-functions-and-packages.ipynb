{
  "nbformat": 4,
  "nbformat_minor": 0,
  "metadata": {
    "colab": {
      "name": "reproducible-research-in-python.ipynb",
      "provenance": [],
      "collapsed_sections": [],
      "toc_visible": true
    },
    "kernelspec": {
      "name": "python3",
      "display_name": "Python 3"
    },
    "accelerator": "GPU"
  },
  "cells": [
    {
      "cell_type": "markdown",
      "metadata": {
        "id": "v6UGa0nm1SRX"
      },
      "source": [
        "## Data Types and Structure\n",
        "\n",
        "**Learning Objectives** \n",
        "- Learn about data types\n",
        "- Learn about relational operators\n",
        "- Learn about logical operators\n",
        "- Learn about lists\n",
        "- Learn to manipulate lists\n"
      ]
    },
    {
      "cell_type": "markdown",
      "metadata": {
        "id": "KR05_uSbqUkf"
      },
      "source": [
        "## Data Types\n",
        "\n",
        "Python works with numerous data types. Some of the most basic types to get started are:\n",
        "\n",
        "| Type       | Short | Description      | Example   |\n",
        "| -          | -     |-                 | -         |\n",
        "| *integer*  | int   | Natural numbers  | 42        |\n",
        "| *float*    | float | Decimal values   | 0.42      |\n",
        "| *string*   | str   | Characters       | \"Liberal\" |\n",
        "| *None*     | None  | Missing values   | \"Liberal\" |\n",
        "| *boolean*  | bool  | Logical values   | True      |\n",
        "\n",
        "You can use the `type()` function to get the type of an object.\n",
        "Furthermore, each data type allows you to do specific kinds of operations and they also restrict functions you can apply to them.\n",
        "\n"
      ]
    },
    {
      "cell_type": "markdown",
      "metadata": {
        "id": "_4MiX6Xc9YN7"
      },
      "source": [
        "### Hack Time\n",
        "\n",
        "Let's start by creating some variables."
      ]
    },
    {
      "cell_type": "code",
      "metadata": {
        "id": "HRmPL45jIwhv"
      },
      "source": [
        "# Lets create some objects\n",
        "\n",
        "a = 42\n",
        "b = 5 \n",
        "c = a/b\n",
        "\n",
        "year = 2020\n",
        "party_1 = \"Democratic\"\n",
        "party_2 = 'Conservative'\n",
        "description = \"\"\"\n",
        "The American National Election Studies (ANES) \n",
        "are academically-run national surveys of voters \n",
        "in the United States, conducted before and after \n",
        "every presidential election.\n",
        "\"\"\"\n",
        "\n",
        "seven = \"7\"\n",
        "three = \"3\"\n"
      ],
      "execution_count": 16,
      "outputs": []
    },
    {
      "cell_type": "code",
      "metadata": {
        "id": "Hwv3fpDRH__9"
      },
      "source": [
        "# Use the function `type()` to check the type of these objects\n"
      ],
      "execution_count": 17,
      "outputs": []
    },
    {
      "cell_type": "code",
      "metadata": {
        "id": "MhnvSSpxJa3g"
      },
      "source": [
        "# WARNING: What happens if you add seven with three?\n"
      ],
      "execution_count": 18,
      "outputs": []
    },
    {
      "cell_type": "code",
      "metadata": {
        "id": "Rl7gdjMFTFbF"
      },
      "source": [
        "# Python has a special representation of boolean/logical values.\n",
        "winner_1 = True\n",
        "winner_2 = False\n",
        "\n",
        "# What happens when you run this code?\n"
      ],
      "execution_count": null,
      "outputs": []
    },
    {
      "cell_type": "code",
      "metadata": {
        "id": "3CJ8u2HaJcia"
      },
      "source": [
        "# What happens if you sum two boolean objects?\n"
      ],
      "execution_count": 19,
      "outputs": []
    },
    {
      "cell_type": "code",
      "metadata": {
        "colab": {
          "base_uri": "https://localhost:8080/",
          "height": 197
        },
        "id": "5eEhz-kRTY61",
        "outputId": "ea92157b-1c43-4b75-96e8-1a71fe6c13b1"
      },
      "source": [
        "# Python also has a way to store missing or empty information.\n",
        "results_2024 = None\n",
        "\n",
        "# What is the type of this object?\n",
        "\n",
        "# Can you add the number 538 to results_2024?\n"
      ],
      "execution_count": 21,
      "outputs": [
        {
          "output_type": "error",
          "ename": "TypeError",
          "evalue": "ignored",
          "traceback": [
            "\u001b[0;31m---------------------------------------------------------------------------\u001b[0m",
            "\u001b[0;31mTypeError\u001b[0m                                 Traceback (most recent call last)",
            "\u001b[0;32m<ipython-input-21-6a1a6269fa45>\u001b[0m in \u001b[0;36m<module>\u001b[0;34m()\u001b[0m\n\u001b[1;32m      4\u001b[0m \u001b[0;34m\u001b[0m\u001b[0m\n\u001b[1;32m      5\u001b[0m \u001b[0;31m# Can you add the number 538 to results_2024?\u001b[0m\u001b[0;34m\u001b[0m\u001b[0;34m\u001b[0m\u001b[0;34m\u001b[0m\u001b[0m\n\u001b[0;32m----> 6\u001b[0;31m \u001b[0mresults_2024\u001b[0m \u001b[0;34m+\u001b[0m \u001b[0;36m5\u001b[0m\u001b[0;34m\u001b[0m\u001b[0;34m\u001b[0m\u001b[0m\n\u001b[0m",
            "\u001b[0;31mTypeError\u001b[0m: unsupported operand type(s) for +: 'NoneType' and 'int'"
          ]
        }
      ]
    },
    {
      "cell_type": "markdown",
      "metadata": {
        "id": "HAdo0EdxqUX0"
      },
      "source": [
        "## Relational Operators\n",
        "\n",
        "Relational Operators allow you to compare objects. They are also known as comparison operatiors. They are often used in conditional statements and loops to build programs. Reletational operators return a boolean value.\n",
        "\n",
        "\n",
        "| Operator   | Description      | Example |\n",
        "| :-:        |-                 | -:      |\n",
        "| **==**     | Equal to         | a == b  |\n",
        "| **!=**     | Not equal to     | a != b  |\n",
        "| **<**      | Less than        | a  < b  |\n",
        "| **<=**     | Characters       | a <= b  |\n",
        "| **>**      | Logical values   | a  > b  |\n",
        "| **>=**     | Logical values   | a >= b  |\n",
        "\n"
      ]
    },
    {
      "cell_type": "markdown",
      "metadata": {
        "id": "AqdD462zauFl"
      },
      "source": [
        "### Hack Time\n"
      ]
    },
    {
      "cell_type": "code",
      "metadata": {
        "colab": {
          "base_uri": "https://localhost:8080/"
        },
        "id": "asAKISuFQhJn",
        "outputId": "1184c336-a89b-4a18-f134-7b483d572291"
      },
      "source": [
        "# Use relational operators to compare some of the previously created objects!\n",
        "\n"
      ],
      "execution_count": 20,
      "outputs": [
        {
          "output_type": "execute_result",
          "data": {
            "text/plain": [
              "True"
            ]
          },
          "metadata": {},
          "execution_count": 20
        }
      ]
    },
    {
      "cell_type": "markdown",
      "metadata": {
        "id": "IWP4RxngqU2V"
      },
      "source": [
        "# Logical Operators\n",
        "\n",
        "Logical operators allow you to join boolean expressions to create more complex conditions.\n",
        "\n",
        "| Operator   | Description      | Example |\n",
        "| :-:        |-                 | -:      |\n",
        "| **and**| Both expressions | a == b  |\n",
        "| **or**     | At least on expression | a != b  |\n",
        "| **not**      | Reverses the expression | not True |\n",
        "\n"
      ]
    },
    {
      "cell_type": "code",
      "metadata": {
        "id": "qOnK9A2pYLex",
        "outputId": "1be316f8-f387-4067-e2d6-0a0bde2a1b69",
        "colab": {
          "base_uri": "https://localhost:8080/"
        }
      },
      "source": [
        "print(True and True)\n",
        "print(True and False)\n",
        "print(False and True)\n",
        "print(False and False)\n"
      ],
      "execution_count": 32,
      "outputs": [
        {
          "output_type": "stream",
          "name": "stdout",
          "text": [
            "True\n",
            "False\n",
            "False\n",
            "False\n"
          ]
        }
      ]
    },
    {
      "cell_type": "code",
      "metadata": {
        "id": "NtT6cCc-a2JB",
        "outputId": "1057fe3d-60db-47a1-8785-4946159d27cd",
        "colab": {
          "base_uri": "https://localhost:8080/"
        }
      },
      "source": [
        "print(True or True)\n",
        "print(True or False)\n",
        "print(False or True)\n",
        "print(False or False)"
      ],
      "execution_count": 33,
      "outputs": [
        {
          "output_type": "stream",
          "name": "stdout",
          "text": [
            "True\n",
            "True\n",
            "True\n",
            "False\n"
          ]
        }
      ]
    },
    {
      "cell_type": "markdown",
      "metadata": {
        "id": "A6Y-v_a3a0Jz"
      },
      "source": [
        "### Hack Time\n",
        "\n",
        "You ran a survey asking questions to students in your school. You decided look at a single of those respondent's answers and to code these into separated objects.\n"
      ]
    },
    {
      "cell_type": "code",
      "metadata": {
        "id": "n3lalhTf1yaY"
      },
      "source": [
        "# Respondent 1\n",
        "age = 24\n",
        "sex = \"Female\"\n",
        "country = \"France\"\n",
        "employed = True\n",
        "voted = True\n",
        "twitter = False"
      ],
      "execution_count": 30,
      "outputs": []
    },
    {
      "cell_type": "markdown",
      "metadata": {
        "id": "6U5c_5Noap1X"
      },
      "source": [
        "Can you predict the outcomes of the following statements?"
      ]
    },
    {
      "cell_type": "code",
      "metadata": {
        "id": "LInscfHj4aTC",
        "outputId": "cf2881f3-417e-425c-c7b9-aada061856c1",
        "colab": {
          "base_uri": "https://localhost:8080/"
        }
      },
      "source": [
        "country == \"France\" and age >= 18\n"
      ],
      "execution_count": 31,
      "outputs": [
        {
          "output_type": "execute_result",
          "data": {
            "text/plain": [
              "True"
            ]
          },
          "metadata": {},
          "execution_count": 31
        }
      ]
    },
    {
      "cell_type": "code",
      "metadata": {
        "collapsed": true,
        "id": "hr-l4nnq4asR",
        "outputId": "130e540e-ff55-4a59-b7e1-dbcc382a5b5d",
        "colab": {
          "base_uri": "https://localhost:8080/"
        }
      },
      "source": [
        "country == \"American\" and age >= 35\n"
      ],
      "execution_count": 32,
      "outputs": [
        {
          "output_type": "execute_result",
          "data": {
            "text/plain": [
              "False"
            ]
          },
          "metadata": {},
          "execution_count": 32
        }
      ]
    },
    {
      "cell_type": "code",
      "metadata": {
        "id": "hqi0VX6zZ97P",
        "outputId": "ef311d35-09d7-42e3-af6a-d65ca30eeb57",
        "colab": {
          "base_uri": "https://localhost:8080/"
        }
      },
      "source": [
        "employed or not voted\n"
      ],
      "execution_count": 33,
      "outputs": [
        {
          "output_type": "execute_result",
          "data": {
            "text/plain": [
              "True"
            ]
          },
          "metadata": {},
          "execution_count": 33
        }
      ]
    },
    {
      "cell_type": "code",
      "metadata": {
        "id": "zQMq1fZqaE2d",
        "outputId": "f1e8ed29-27aa-4431-9a0e-3b45351daaa1",
        "colab": {
          "base_uri": "https://localhost:8080/"
        }
      },
      "source": [
        "# Check if the respondent could run for president in the US\n",
        "# Needs to be born in the US and at least 35 years old. \n"
      ],
      "execution_count": 12,
      "outputs": [
        {
          "output_type": "execute_result",
          "data": {
            "text/plain": [
              "False"
            ]
          },
          "metadata": {},
          "execution_count": 12
        }
      ]
    },
    {
      "cell_type": "markdown",
      "metadata": {
        "id": "5erht0EoqUsi"
      },
      "source": [
        "# Lists\n",
        "\n",
        "We have a better understanding of basic data type. We can combine these types into more complex data structures that allow you to combine multiple objects into a single object. \n",
        "\n",
        "One of such common data structures are known as *lists*.\n",
        "\n",
        "Understanding lists, is the first step to efficiently work with huge amounts of data.\n",
        "\n",
        "\n",
        "Lists in python allow you to group any number of objects of any type into a single object. \n",
        "\n",
        "#### Creating lists\n",
        "To create a list you simply write object names seperated by commas inside square brackets.\n",
        "\n",
        "```python \n",
        "my_new_list_object = [object_1, object_2, ...]\n",
        "# ```\n"
      ]
    },
    {
      "cell_type": "markdown",
      "metadata": {
        "id": "CR8DsZ4Y9qeJ"
      },
      "source": [
        "#### Hack-time\n"
      ]
    },
    {
      "cell_type": "code",
      "metadata": {
        "id": "8QW-w0PF6V7v"
      },
      "source": [
        "# Create a list named `observation_1` containing the previously created variables for respondent 1\n",
        "respondent_1 = []\n"
      ],
      "execution_count": null,
      "outputs": []
    },
    {
      "cell_type": "code",
      "metadata": {
        "id": "dh4yvgwy_wpU"
      },
      "source": [
        "# Print `respodent_1`"
      ],
      "execution_count": null,
      "outputs": []
    },
    {
      "cell_type": "code",
      "metadata": {
        "id": "4bvNijKX3D1s"
      },
      "source": [
        "# Check the type of the object `respondent_1`\n"
      ],
      "execution_count": null,
      "outputs": []
    },
    {
      "cell_type": "code",
      "metadata": {
        "id": "Bg2IvDHGAWg4"
      },
      "source": [
        "# How long is this list? Use the `len()` function!\n"
      ],
      "execution_count": null,
      "outputs": []
    },
    {
      "cell_type": "code",
      "metadata": {
        "id": "tg6mebxPtVwt"
      },
      "source": [
        "# Create values for a fictionnal new respondent.\n",
        "age = \n",
        "sex = \n",
        "country = \n",
        "employed = \n",
        "voted = \n",
        "twitter = \n",
        "\n",
        "# Creating a new object named `respondent_2` containing the values for respondent 2.\n",
        "respondent_2 = [age, sex, country, employed, voted, twitter]"
      ],
      "execution_count": null,
      "outputs": []
    },
    {
      "cell_type": "markdown",
      "metadata": {
        "id": "y1-g8bwU4r44"
      },
      "source": [
        "#### List Manipulation\n",
        "\n",
        "Now that we have more complex elements. We need to understand how we can interact with these elements.\n",
        "\n",
        "You can select, slice or edit elements in a list.\n",
        "\n",
        "Note that Python is 0 indexed.\n"
      ]
    },
    {
      "cell_type": "code",
      "metadata": {
        "id": "PBqTX5r021As"
      },
      "source": [
        "# Select an element in a list\n",
        "data\n",
        "data[3]\n"
      ],
      "execution_count": null,
      "outputs": []
    },
    {
      "cell_type": "code",
      "metadata": {
        "id": "5LTIzvxN25ZS"
      },
      "source": [
        "# Slicing lists: list[begin:end]\n",
        "data[2:]\n"
      ],
      "execution_count": null,
      "outputs": []
    },
    {
      "cell_type": "code",
      "metadata": {
        "id": "Wj8UZptK257c"
      },
      "source": [
        "# Editing a list\n",
        "data[0] = \"Monday\"\n",
        "data[1] = 25.6\n",
        "data\n"
      ],
      "execution_count": null,
      "outputs": []
    },
    {
      "cell_type": "code",
      "metadata": {
        "id": "BSt4QYkd2687"
      },
      "source": [
        "# Adding to a list\n",
        "day_3 = [\"Thursday\", 40]\n",
        "day_3\n",
        "data = data + day_3\n",
        "data\n"
      ],
      "execution_count": null,
      "outputs": []
    },
    {
      "cell_type": "markdown",
      "metadata": {
        "id": "f66XD41Y27rv"
      },
      "source": [
        "### Unpacking elements from lists\n"
      ]
    },
    {
      "cell_type": "code",
      "metadata": {
        "id": "5wRMK1JU28Y2"
      },
      "source": [
        "# Unpack contents of a list into multiple variables\n",
        "a, b = day_3\n",
        "\n",
        "print(\"a:\", a)\n",
        "print(\"b:\", b)\n"
      ],
      "execution_count": null,
      "outputs": []
    },
    {
      "cell_type": "code",
      "metadata": {
        "id": "AzI2lV3b4wC5"
      },
      "source": [
        "# You can use the asterisk to unpack multiple elements\n",
        "a, b, *c = data\n",
        "\n",
        "print(\"a:\", a)\n",
        "print(\"b:\", b)\n",
        "print(\"c:\", c)\n"
      ],
      "execution_count": null,
      "outputs": []
    },
    {
      "cell_type": "markdown",
      "metadata": {
        "id": "sH747xtD4w0u"
      },
      "source": [
        "## Functions and Methods\n",
        "We have already used some functions until now (e.g. `print()`, `type()`, `range()`).\n",
        "\n",
        "- A function is a group of related statements that perform a specific task.\n",
        "- Help break our program into smaller and modular chunks.\n",
        "- Make your code more organized and manageable. \n",
        "- Avoids repetition and makes code reusable.\n",
        "\n",
        "\n",
        "The general form that functions take is:\n",
        "\n",
        "```python\n",
        "output = function_name(input)\n",
        "```\n",
        "\n"
      ]
    },
    {
      "cell_type": "code",
      "metadata": {
        "id": "9TfTXOMi4xtW"
      },
      "source": [
        "result = type(day_3)\n",
        "result\n"
      ],
      "execution_count": null,
      "outputs": []
    },
    {
      "cell_type": "code",
      "metadata": {
        "id": "l6pHIl2b5j7X"
      },
      "source": [
        "# Note that help is also a function!\n",
        "help(help)\n"
      ],
      "execution_count": null,
      "outputs": []
    },
    {
      "cell_type": "code",
      "metadata": {
        "id": "Pum0NSjo5m_o"
      },
      "source": [
        "# Alternatively IPython offers a shortcut\n",
        "?print\n"
      ],
      "execution_count": null,
      "outputs": []
    },
    {
      "cell_type": "code",
      "metadata": {
        "id": "3F1NULbr5oIn"
      },
      "source": [
        "data[1]\n"
      ],
      "execution_count": null,
      "outputs": []
    },
    {
      "cell_type": "code",
      "metadata": {
        "id": "_xgOvtST6EvI"
      },
      "source": [
        "round(data[1])\n"
      ],
      "execution_count": null,
      "outputs": []
    },
    {
      "cell_type": "markdown",
      "metadata": {
        "id": "8QsegVDy5onT"
      },
      "source": [
        "### Defining your own functions\n",
        "\n",
        "#### The syntax of Function\n",
        "```python\n",
        "def function_name(parameters):\n",
        "    \"\"\"A one line summary docstring of the function.\"\"\"\n",
        "    tmp = first_statement(s)\n",
        "    output = second_statement(tmp)\n",
        "    return output\n",
        "```\n",
        "A function definition consists of following components:\n",
        "- The Keyword def marks the start of a function header.\n",
        "- A function name to uniquely identify it.\n",
        "- Parameters (arguments) through which we pass values to a function. They are optional.\n",
        "- A colon (:) to mark the end of function header.\n",
        "- \"Optional\" documentation string (docstring) to describe what the function does.\n",
        "- One or more valid python statements that make up the function body. Statements must have same indentation level (usually 4 spaces).\n",
        "- An optional return statement to return a value from the function.\n"
      ]
    },
    {
      "cell_type": "markdown",
      "metadata": {
        "id": "LT3OtNyO5txU"
      },
      "source": [
        "### Hack Time\n"
      ]
    },
    {
      "cell_type": "code",
      "metadata": {
        "id": "wNgujVAr64yS"
      },
      "source": [
        "# Your code here.\n",
        "## Let's create a function that returns the mean of its items.\n"
      ],
      "execution_count": null,
      "outputs": []
    },
    {
      "cell_type": "markdown",
      "metadata": {
        "id": "gOkBdOWM5wVw"
      },
      "source": [
        "### Methods\n",
        "Methods are functions that belong to objects.\n",
        "\n",
        "The general form that methods take is:\n",
        "```python\n",
        "object.method(input)\n",
        "```\n"
      ]
    },
    {
      "cell_type": "code",
      "metadata": {
        "id": "DhvZq-jn69L8"
      },
      "source": [
        "data.index(\"Tuesday\")\n"
      ],
      "execution_count": null,
      "outputs": []
    },
    {
      "cell_type": "code",
      "metadata": {
        "id": "VzAgkeS57KbI"
      },
      "source": [
        "help(data.index)\n"
      ],
      "execution_count": null,
      "outputs": []
    },
    {
      "cell_type": "markdown",
      "metadata": {
        "id": "qXL5O4Cv7K-S"
      },
      "source": [
        "Each type of data has its own set of methods.\n",
        "\n"
      ]
    },
    {
      "cell_type": "code",
      "metadata": {
        "id": "oxYiWt6q7Lue"
      },
      "source": [
        "print(description)\n",
        "type(description)\n"
      ],
      "execution_count": null,
      "outputs": []
    },
    {
      "cell_type": "code",
      "metadata": {
        "id": "wCsQbUXp7MjH"
      },
      "source": [
        "description.lower()\n"
      ],
      "execution_count": null,
      "outputs": []
    },
    {
      "cell_type": "code",
      "metadata": {
        "id": "v5J6eo9X7NDd"
      },
      "source": [
        "description.count(\"i\")\n"
      ],
      "execution_count": null,
      "outputs": []
    },
    {
      "cell_type": "markdown",
      "metadata": {
        "id": "4L7iBdgP7NdW"
      },
      "source": [
        "You can also chain methods.\n"
      ]
    },
    {
      "cell_type": "code",
      "metadata": {
        "id": "LoTscrd78GV6"
      },
      "source": [
        "description.lower().count(\"i\")\n"
      ],
      "execution_count": null,
      "outputs": []
    },
    {
      "cell_type": "code",
      "metadata": {
        "id": "rgp85wTN7N14"
      },
      "source": [
        "day_4 = ['Friday', 35]\n",
        "data.extend(day_4)\n",
        "data\n"
      ],
      "execution_count": null,
      "outputs": []
    },
    {
      "cell_type": "markdown",
      "metadata": {
        "id": "eQJNdyN47OQZ"
      },
      "source": [
        "## Modules, and Packages\n",
        "\n",
        "A module is a set of python commands that are saved in a script (eg. script.py).\n",
        "You can load a module and access all its contents at anytime using the command `import module`.\n",
        "\n",
        "Packages are standardized way of organizing code and usually consist of multiple modules.\n",
        "    - Minimal Package Structure: https://python-packaging.readthedocs.io/en/latest/minimal.html\n",
        "\n",
        "Python, comes with pre-installed packages that you can directly load.\n",
        "\n"
      ]
    },
    {
      "cell_type": "code",
      "metadata": {
        "id": "Arp7dXrF7O8B"
      },
      "source": [
        "import math\n",
        "pi = math.pi\n",
        "pi\n"
      ],
      "execution_count": null,
      "outputs": []
    },
    {
      "cell_type": "markdown",
      "metadata": {
        "id": "cfZHL5PI7eB9"
      },
      "source": [
        "### File-system interaction.\n"
      ]
    },
    {
      "cell_type": "code",
      "metadata": {
        "id": "8Dzjjl-Z8aST"
      },
      "source": [
        "import os\n",
        "# Execute a shell command\n",
        "os.system(\"touch test_script.py\")\n"
      ],
      "execution_count": null,
      "outputs": []
    },
    {
      "cell_type": "code",
      "metadata": {
        "id": "Qn0LLOOG8gt_"
      },
      "source": [
        "# Return the current working directory\n",
        "os.getcwd()\n"
      ],
      "execution_count": null,
      "outputs": []
    },
    {
      "cell_type": "code",
      "metadata": {
        "id": "-0Awpt-b8hJ2"
      },
      "source": [
        "# List all of the files and sub-directories in a particular folder\n",
        "os.listdir()\n"
      ],
      "execution_count": null,
      "outputs": []
    },
    {
      "cell_type": "code",
      "metadata": {
        "id": "PwQTIiEY8hm9"
      },
      "source": [
        "# Create folders recursively\n",
        "my_path = \"my_tmp_project/test1/test2/test3\"\n",
        "os.makedirs(my_path)\n",
        "os.listdir()\n"
      ],
      "execution_count": null,
      "outputs": []
    },
    {
      "cell_type": "code",
      "metadata": {
        "id": "ss2YLqWF8iFo"
      },
      "source": [
        "# Delete directories recursively.\n",
        "os.removedirs(my_path)\n",
        "os.listdir()\n"
      ],
      "execution_count": null,
      "outputs": []
    },
    {
      "cell_type": "code",
      "metadata": {
        "id": "NXHeruRs8klu"
      },
      "source": [
        "# Handling slashes / in file paths\n",
        "file = \"process.py\"\n",
        "folder = \"Documents/project1\"\n",
        "full_path = os.path.join(folder, file)\n",
        "full_path\n"
      ],
      "execution_count": null,
      "outputs": []
    },
    {
      "cell_type": "code",
      "metadata": {
        "id": "T7O7raZk8jQS"
      },
      "source": [
        "os.rename(\"test_script.py\", \"tmp_script.py\")\n",
        "os.listdir()\n"
      ],
      "execution_count": null,
      "outputs": []
    },
    {
      "cell_type": "code",
      "metadata": {
        "id": "GV0AsBL7vkHa"
      },
      "source": [
        "# Create and write data to a file\n",
        "file_path = \"tmp_file.txt\"\n",
        "file_contents = \"Hello Again,\\nThis is a new Line!\"\n",
        "\n",
        "file = open(file_path, 'w') \n",
        "file.write(file_contents) \n",
        "file.close() \n"
      ],
      "execution_count": null,
      "outputs": []
    },
    {
      "cell_type": "code",
      "metadata": {
        "id": "FQbQbD1EwGuA"
      },
      "source": [
        "# Using the contextual `with` statement\n",
        "with open(file_path, 'w') as file: \n",
        "    file.write(file_contents) \n"
      ],
      "execution_count": null,
      "outputs": []
    },
    {
      "cell_type": "code",
      "metadata": {
        "id": "QluXfaYjzcLp"
      },
      "source": [
        "# Reading the contents of a file\n",
        "with open(file_path, \"r\") as file:\n",
        "\tread_contents = file.read()\n",
        "\n",
        "print(read_contents)"
      ],
      "execution_count": null,
      "outputs": []
    },
    {
      "cell_type": "code",
      "metadata": {
        "id": "JDCwla_G8jxg"
      },
      "source": [
        "## Delete a file\n",
        "os.remove(file_path)\n",
        "os.listdir()\n"
      ],
      "execution_count": null,
      "outputs": []
    },
    {
      "cell_type": "code",
      "metadata": {
        "id": "uxwhiSOV8lu4"
      },
      "source": [
        "# Get the directory and file name from a full path\n",
        "file = os.path.basename(full_path)\n",
        "folder = os.path.dirname(full_path)\n",
        "print(file, folder)\n"
      ],
      "execution_count": null,
      "outputs": []
    },
    {
      "cell_type": "code",
      "metadata": {
        "id": "sywOLHbk8meo"
      },
      "source": [
        "# Check if a file or folder exists\n",
        "os.path.exists(full_path)\n"
      ],
      "execution_count": null,
      "outputs": []
    },
    {
      "cell_type": "code",
      "metadata": {
        "id": "VudqGVaX8m_t"
      },
      "source": [
        "# Get the extension of a file\n",
        "name, extension = os.path.splitext(file)\n",
        "print(name, extension)\n"
      ],
      "execution_count": null,
      "outputs": []
    },
    {
      "cell_type": "markdown",
      "metadata": {
        "id": "g_UNpeuM7Rdd"
      },
      "source": [
        "### Install package\n",
        "\n",
        "To install a package in Python you use the command `pip install package_name` directly in your terminal.\n",
        "\n",
        "There are thousands of packages available such as:\n",
        "    - matplotlib\n",
        "    - numpy\n",
        "    - pandas\n",
        "    - pytorch\n",
        "    - sci-kit learn\n",
        "    - ...\n",
        "\n",
        "For more packages see:\n",
        "    - The Python Package Index: https://pypi.org/\n"
      ]
    },
    {
      "cell_type": "code",
      "metadata": {
        "id": "1QfCcjkH7Sun"
      },
      "source": [
        "# We will rely on some IPython magic to directly interact with the terminal.\n",
        "!pip install wikipedia\n"
      ],
      "execution_count": null,
      "outputs": []
    },
    {
      "cell_type": "code",
      "metadata": {
        "id": "5bqSo9hsoW8K"
      },
      "source": [
        "# You can now import and start using the package.\n",
        "import wikipedia"
      ],
      "execution_count": null,
      "outputs": []
    },
    {
      "cell_type": "code",
      "metadata": {
        "id": "L4oMzt6LocI8"
      },
      "source": [
        ""
      ],
      "execution_count": null,
      "outputs": []
    }
  ]
}