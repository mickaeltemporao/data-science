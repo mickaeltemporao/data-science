{
  "nbformat": 4,
  "nbformat_minor": 0,
  "metadata": {
    "colab": {
      "name": "reproducible-research-in-python.ipynb",
      "provenance": [],
      "collapsed_sections": []
    },
    "kernelspec": {
      "name": "python3",
      "display_name": "Python 3"
    }
  },
  "cells": [
    {
      "cell_type": "markdown",
      "metadata": {
        "id": "sH747xtD4w0u"
      },
      "source": [
        "# Functions, Packages, and Data!\n",
        "\n",
        "## Learning Objectives\n",
        "TODO\n",
        "\n",
        "## Functions\n",
        "A function is a group of related instructions that perform a specific task when you call the function. You can pass data, known as parameters, into a function. A function can return an output as a result.\n",
        "\n",
        "- Allows us to organized and manage code. \n",
        "- Helps avoiding repetition.\n",
        "- Makes code reusable!\n",
        "\n",
        "The general form that a function takes is:\n",
        "\n",
        "```python\n",
        "# Calling a function \n",
        "function_name(parameters = input)\n",
        "\n",
        "# Calling a function and saving the output into a new object \n",
        "output = function_name(parameters = input)\n",
        "```\n",
        "\n",
        "\n",
        "\n",
        "\n",
        "\n"
      ]
    },
    {
      "cell_type": "markdown",
      "metadata": {
        "id": "UAQecw5xvcxf"
      },
      "source": [
        "### Hack Time\n",
        "\n",
        "Which functions have we used until now?"
      ]
    },
    {
      "cell_type": "code",
      "metadata": {
        "id": "9TfTXOMi4xtW"
      },
      "source": [
        "# Write the name of some functions that we used in the previous notebooks \n",
        "# Use comments to describe what these functions do.\n"
      ],
      "execution_count": null,
      "outputs": []
    },
    {
      "cell_type": "code",
      "metadata": {
        "id": "7h6qDREN5vs9"
      },
      "source": [
        "# What is the type of these functions?\n",
        "\n"
      ],
      "execution_count": null,
      "outputs": []
    },
    {
      "cell_type": "code",
      "metadata": {
        "id": "2MWkDyAz53_b"
      },
      "source": [
        "# What is the type of the type function?\n"
      ],
      "execution_count": null,
      "outputs": []
    },
    {
      "cell_type": "markdown",
      "metadata": {
        "id": "6mVVrtkC594K"
      },
      "source": [
        "### The help function\n",
        "The `help()` function can help you get information on any python object.\n",
        "\n",
        "Everytime you see something new in python, you should call the help function! \n",
        "\n",
        "It also provides useful examples."
      ]
    },
    {
      "cell_type": "code",
      "metadata": {
        "id": "F8Lzcjyl7lXz"
      },
      "source": [
        "# Passing print as a parameter to the help function.\n",
        "help(print)\n"
      ],
      "execution_count": null,
      "outputs": []
    },
    {
      "cell_type": "markdown",
      "metadata": {
        "id": "ZFklJTjM8U-z"
      },
      "source": [
        "### Hack Time"
      ]
    },
    {
      "cell_type": "code",
      "metadata": {
        "id": "EdCZOly08QV8"
      },
      "source": [
        "# Pass len as a parameter to the help function.\n"
      ],
      "execution_count": null,
      "outputs": []
    },
    {
      "cell_type": "code",
      "metadata": {
        "id": "ow4LFNjq8RF6"
      },
      "source": [
        "# Pass type as a parameter to the help function.\n"
      ],
      "execution_count": null,
      "outputs": []
    },
    {
      "cell_type": "code",
      "metadata": {
        "id": "l6pHIl2b5j7X"
      },
      "source": [
        "# Note that help is also a function!\n",
        "help(help)\n"
      ],
      "execution_count": null,
      "outputs": []
    },
    {
      "cell_type": "code",
      "metadata": {
        "id": "_xgOvtST6EvI"
      },
      "source": [
        "# Create a list object \n",
        "\n",
        "# Pass it to the help function\n",
        "\n"
      ],
      "execution_count": null,
      "outputs": []
    },
    {
      "cell_type": "code",
      "metadata": {
        "id": "OPaMOF7Q-HVL"
      },
      "source": [
        "# Try some of the list methods\n"
      ],
      "execution_count": null,
      "outputs": []
    },
    {
      "cell_type": "code",
      "metadata": {
        "id": "nt6dixVJ-Mtr"
      },
      "source": [
        "# Pass one of these methods to the help function\n"
      ],
      "execution_count": null,
      "outputs": []
    },
    {
      "cell_type": "markdown",
      "metadata": {
        "id": "KDmbshOn-hGr"
      },
      "source": [
        "Objects can have functions that are specific to the object itself!"
      ]
    },
    {
      "cell_type": "markdown",
      "metadata": {
        "id": "gOkBdOWM5wVw"
      },
      "source": [
        "### Methods\n",
        "Methods are functions that associated with a specific type of object.\n",
        "\n",
        "The general form that methods take is:\n",
        "```python\n",
        "# Calling an object method \n",
        "object.method(parameters)\n",
        "\n",
        "# Calling an object method with a parameter\n",
        "object.method(parameters)\n",
        "```\n"
      ]
    },
    {
      "cell_type": "markdown",
      "metadata": {
        "id": "QEEPoIRoDeIt"
      },
      "source": [
        "### Hack Time"
      ]
    },
    {
      "cell_type": "code",
      "metadata": {
        "id": "pQ56Bdqh92to"
      },
      "source": [
        "# Create a str object containing a sentence\n"
      ],
      "execution_count": null,
      "outputs": []
    },
    {
      "cell_type": "code",
      "metadata": {
        "id": "bT0j8oz9DazY"
      },
      "source": [
        "# Pass it to the help function\n"
      ],
      "execution_count": null,
      "outputs": []
    },
    {
      "cell_type": "code",
      "metadata": {
        "id": "Xm_EKDggC7VY"
      },
      "source": [
        "# Try one of the string methods\n"
      ],
      "execution_count": null,
      "outputs": []
    },
    {
      "cell_type": "code",
      "metadata": {
        "id": "DO0bu4wpDYTh"
      },
      "source": [
        "# You can also pass any string method to the help function.\n"
      ],
      "execution_count": null,
      "outputs": []
    },
    {
      "cell_type": "code",
      "metadata": {
        "id": "BC4EaSSlDoJm"
      },
      "source": [
        "# Compare the str methods with the list methods\n",
        "help(\"\")\n",
        "print(\"===================================\")\n",
        "help([])"
      ],
      "execution_count": null,
      "outputs": []
    },
    {
      "cell_type": "markdown",
      "metadata": {
        "id": "qXL5O4Cv7K-S"
      },
      "source": [
        "Each type of data has its own set of methods.\n",
        "\n"
      ]
    },
    {
      "cell_type": "code",
      "metadata": {
        "id": "VzAgkeS57KbI"
      },
      "source": [
        "# Find a method that can help you to count the number of times a party won the presidential election?\n",
        "party = [\"Dem\", \"Rep\", \"Dem\", \"Dem\", \"Rep\", \"Rep\", \"Dem\"]\n"
      ],
      "execution_count": null,
      "outputs": []
    },
    {
      "cell_type": "markdown",
      "metadata": {
        "id": "4L7iBdgP7NdW"
      },
      "source": [
        "You can also chain methods.\n"
      ]
    },
    {
      "cell_type": "code",
      "metadata": {
        "id": "LoTscrd78GV6"
      },
      "source": [
        "# Use your previously created str object and chain the lower and count methods together\n"
      ],
      "execution_count": null,
      "outputs": []
    },
    {
      "cell_type": "markdown",
      "metadata": {
        "id": "8QsegVDy5onT"
      },
      "source": [
        "### Defining your own functions\n",
        "\n",
        "When you need to repeatedly do a series of instructions, you should define a function with those instructions.\n",
        "\n",
        "#### The syntax of Function\n",
        "```python\n",
        "def function_name(parameters):\n",
        "    \"\"\"A documentation string explaining what the function does.\"\"\"\n",
        "    temporary_output = some_instructions()\n",
        "    final_output = some_more_instructions(temporary_output)\n",
        "    return final_output\n",
        "```\n",
        "\n",
        "A function definition consists of following components:\n",
        "- The keyword `def` marks the start of a function header.\n",
        "- A function name to uniquely identify it and use the function.\n",
        "- A colon `:` to mark the end of function header.\n",
        "- A set of instructions that make up the function body. \n",
        "    - **The instructions need to be indented using 4 spaces!**\n",
        "- Parameters or arguments through which we pass values to a function (optional).\n",
        "- A `return` statement to return a value from the function (optional).\n",
        "- A documentation string describing what the function does (optional).\n"
      ]
    },
    {
      "cell_type": "markdown",
      "metadata": {
        "id": "LT3OtNyO5txU"
      },
      "source": [
        "### Hack Time\n"
      ]
    },
    {
      "cell_type": "code",
      "metadata": {
        "id": "wNgujVAr64yS"
      },
      "source": [
        "# Your code here.\n",
        "## Let's create a function that returns the mean of its items.\n"
      ],
      "execution_count": null,
      "outputs": []
    },
    {
      "cell_type": "code",
      "metadata": {
        "id": "OpXn1_PV6W3f"
      },
      "source": [
        "def total_calc(bill_amount,tip_perc=10):\n",
        "  total = bill_amount*(1 + 0.01*tip_perc)\n",
        "  total = round(total,2)\n",
        "  print(f\"Please pay ${total}\")\n",
        "\n",
        " "
      ],
      "execution_count": null,
      "outputs": []
    },
    {
      "cell_type": "code",
      "metadata": {
        "id": "LVK5428l6a6r"
      },
      "source": [
        " How to Create a Function that Returns a Value in Python\n",
        "So far, we've only created functions that may or may not take arguments and do not return anything. Now, let's create a simple function that returns the volume of a cuboid given the length, the width, and the height.\n",
        "\n",
        "def volume_of_cuboid(length,breadth,height):\n",
        "  return length*breadth*height\n",
        "  "
      ],
      "execution_count": null,
      "outputs": []
    },
    {
      "cell_type": "code",
      "metadata": {
        "id": "rgp85wTN7N14"
      },
      "source": [
        "turnout = [66.8, 55.7, 54.9, 58.2, 56.7, 51.2, 49.0]\n",
        "year = [2020, 2016, 2012, 2008, 2004, 2000, 1996]\n"
      ],
      "execution_count": null,
      "outputs": []
    },
    {
      "cell_type": "markdown",
      "metadata": {
        "id": "eQJNdyN47OQZ"
      },
      "source": [
        "## Modules and Packages\n",
        "\n",
        "A module is a set of python functions with a purpose. They are created and shared by other users around the globe.\n",
        "\n",
        "You can load module and access all of its contents anytime by issuing the following command: \n",
        "\n",
        "```\n",
        "import module_name\n",
        "```\n",
        "\n",
        "Packages are standardized way of organizing and sharing code. Packages usually consist of multiple modules.\n",
        "\n",
        "- Minimal Package Structure: https://python-packaging.readthedocs.io/en/latest/minimal.html\n",
        "\n",
        "Python, comes with pre-installed packages that you can directly load.\n",
        "\n"
      ]
    },
    {
      "cell_type": "code",
      "metadata": {
        "id": "Arp7dXrF7O8B",
        "outputId": "b704a20b-49a5-4230-acc9-26669625d04c",
        "colab": {
          "base_uri": "https://localhost:8080/"
        }
      },
      "source": [
        "import math\n",
        "pi = math.pi\n",
        "pi\n",
        "help(math)"
      ],
      "execution_count": 30,
      "outputs": [
        {
          "output_type": "stream",
          "name": "stdout",
          "text": [
            "Help on built-in module math:\n",
            "\n",
            "NAME\n",
            "    math\n",
            "\n",
            "DESCRIPTION\n",
            "    This module provides access to the mathematical functions\n",
            "    defined by the C standard.\n",
            "\n",
            "FUNCTIONS\n",
            "    acos(x, /)\n",
            "        Return the arc cosine (measured in radians) of x.\n",
            "    \n",
            "    acosh(x, /)\n",
            "        Return the inverse hyperbolic cosine of x.\n",
            "    \n",
            "    asin(x, /)\n",
            "        Return the arc sine (measured in radians) of x.\n",
            "    \n",
            "    asinh(x, /)\n",
            "        Return the inverse hyperbolic sine of x.\n",
            "    \n",
            "    atan(x, /)\n",
            "        Return the arc tangent (measured in radians) of x.\n",
            "    \n",
            "    atan2(y, x, /)\n",
            "        Return the arc tangent (measured in radians) of y/x.\n",
            "        \n",
            "        Unlike atan(y/x), the signs of both x and y are considered.\n",
            "    \n",
            "    atanh(x, /)\n",
            "        Return the inverse hyperbolic tangent of x.\n",
            "    \n",
            "    ceil(x, /)\n",
            "        Return the ceiling of x as an Integral.\n",
            "        \n",
            "        This is the smallest integer >= x.\n",
            "    \n",
            "    copysign(x, y, /)\n",
            "        Return a float with the magnitude (absolute value) of x but the sign of y.\n",
            "        \n",
            "        On platforms that support signed zeros, copysign(1.0, -0.0)\n",
            "        returns -1.0.\n",
            "    \n",
            "    cos(x, /)\n",
            "        Return the cosine of x (measured in radians).\n",
            "    \n",
            "    cosh(x, /)\n",
            "        Return the hyperbolic cosine of x.\n",
            "    \n",
            "    degrees(x, /)\n",
            "        Convert angle x from radians to degrees.\n",
            "    \n",
            "    erf(x, /)\n",
            "        Error function at x.\n",
            "    \n",
            "    erfc(x, /)\n",
            "        Complementary error function at x.\n",
            "    \n",
            "    exp(x, /)\n",
            "        Return e raised to the power of x.\n",
            "    \n",
            "    expm1(x, /)\n",
            "        Return exp(x)-1.\n",
            "        \n",
            "        This function avoids the loss of precision involved in the direct evaluation of exp(x)-1 for small x.\n",
            "    \n",
            "    fabs(x, /)\n",
            "        Return the absolute value of the float x.\n",
            "    \n",
            "    factorial(x, /)\n",
            "        Find x!.\n",
            "        \n",
            "        Raise a ValueError if x is negative or non-integral.\n",
            "    \n",
            "    floor(x, /)\n",
            "        Return the floor of x as an Integral.\n",
            "        \n",
            "        This is the largest integer <= x.\n",
            "    \n",
            "    fmod(x, y, /)\n",
            "        Return fmod(x, y), according to platform C.\n",
            "        \n",
            "        x % y may differ.\n",
            "    \n",
            "    frexp(x, /)\n",
            "        Return the mantissa and exponent of x, as pair (m, e).\n",
            "        \n",
            "        m is a float and e is an int, such that x = m * 2.**e.\n",
            "        If x is 0, m and e are both 0.  Else 0.5 <= abs(m) < 1.0.\n",
            "    \n",
            "    fsum(seq, /)\n",
            "        Return an accurate floating point sum of values in the iterable seq.\n",
            "        \n",
            "        Assumes IEEE-754 floating point arithmetic.\n",
            "    \n",
            "    gamma(x, /)\n",
            "        Gamma function at x.\n",
            "    \n",
            "    gcd(x, y, /)\n",
            "        greatest common divisor of x and y\n",
            "    \n",
            "    hypot(x, y, /)\n",
            "        Return the Euclidean distance, sqrt(x*x + y*y).\n",
            "    \n",
            "    isclose(a, b, *, rel_tol=1e-09, abs_tol=0.0)\n",
            "        Determine whether two floating point numbers are close in value.\n",
            "        \n",
            "          rel_tol\n",
            "            maximum difference for being considered \"close\", relative to the\n",
            "            magnitude of the input values\n",
            "          abs_tol\n",
            "            maximum difference for being considered \"close\", regardless of the\n",
            "            magnitude of the input values\n",
            "        \n",
            "        Return True if a is close in value to b, and False otherwise.\n",
            "        \n",
            "        For the values to be considered close, the difference between them\n",
            "        must be smaller than at least one of the tolerances.\n",
            "        \n",
            "        -inf, inf and NaN behave similarly to the IEEE 754 Standard.  That\n",
            "        is, NaN is not close to anything, even itself.  inf and -inf are\n",
            "        only close to themselves.\n",
            "    \n",
            "    isfinite(x, /)\n",
            "        Return True if x is neither an infinity nor a NaN, and False otherwise.\n",
            "    \n",
            "    isinf(x, /)\n",
            "        Return True if x is a positive or negative infinity, and False otherwise.\n",
            "    \n",
            "    isnan(x, /)\n",
            "        Return True if x is a NaN (not a number), and False otherwise.\n",
            "    \n",
            "    ldexp(x, i, /)\n",
            "        Return x * (2**i).\n",
            "        \n",
            "        This is essentially the inverse of frexp().\n",
            "    \n",
            "    lgamma(x, /)\n",
            "        Natural logarithm of absolute value of Gamma function at x.\n",
            "    \n",
            "    log(...)\n",
            "        log(x, [base=math.e])\n",
            "        Return the logarithm of x to the given base.\n",
            "        \n",
            "        If the base not specified, returns the natural logarithm (base e) of x.\n",
            "    \n",
            "    log10(x, /)\n",
            "        Return the base 10 logarithm of x.\n",
            "    \n",
            "    log1p(x, /)\n",
            "        Return the natural logarithm of 1+x (base e).\n",
            "        \n",
            "        The result is computed in a way which is accurate for x near zero.\n",
            "    \n",
            "    log2(x, /)\n",
            "        Return the base 2 logarithm of x.\n",
            "    \n",
            "    modf(x, /)\n",
            "        Return the fractional and integer parts of x.\n",
            "        \n",
            "        Both results carry the sign of x and are floats.\n",
            "    \n",
            "    pow(x, y, /)\n",
            "        Return x**y (x to the power of y).\n",
            "    \n",
            "    radians(x, /)\n",
            "        Convert angle x from degrees to radians.\n",
            "    \n",
            "    remainder(x, y, /)\n",
            "        Difference between x and the closest integer multiple of y.\n",
            "        \n",
            "        Return x - n*y where n*y is the closest integer multiple of y.\n",
            "        In the case where x is exactly halfway between two multiples of\n",
            "        y, the nearest even value of n is used. The result is always exact.\n",
            "    \n",
            "    sin(x, /)\n",
            "        Return the sine of x (measured in radians).\n",
            "    \n",
            "    sinh(x, /)\n",
            "        Return the hyperbolic sine of x.\n",
            "    \n",
            "    sqrt(x, /)\n",
            "        Return the square root of x.\n",
            "    \n",
            "    tan(x, /)\n",
            "        Return the tangent of x (measured in radians).\n",
            "    \n",
            "    tanh(x, /)\n",
            "        Return the hyperbolic tangent of x.\n",
            "    \n",
            "    trunc(x, /)\n",
            "        Truncates the Real x to the nearest Integral toward 0.\n",
            "        \n",
            "        Uses the __trunc__ magic method.\n",
            "\n",
            "DATA\n",
            "    e = 2.718281828459045\n",
            "    inf = inf\n",
            "    nan = nan\n",
            "    pi = 3.141592653589793\n",
            "    tau = 6.283185307179586\n",
            "\n",
            "FILE\n",
            "    (built-in)\n",
            "\n",
            "\n"
          ]
        }
      ]
    },
    {
      "cell_type": "markdown",
      "metadata": {
        "id": "g_UNpeuM7Rdd"
      },
      "source": [
        "### Installing Packages\n",
        "\n",
        "Most of the time, when you want to accomplish something in python, someone else already did it and created functions to do it. To use these new functions that suit your needs you need to install their package. This is similar to going to an App store and install an app, except everything if FREE in this case!\n",
        "\n",
        "- There are more than 300,000+ existing and freely available python packages. \n",
        "- You can check the Python Package Index: https://pypi.org/\n",
        "\n",
        "To install a package inside a notebook you use the command `!pip install package_name` command.\n"
      ]
    },
    {
      "cell_type": "code",
      "metadata": {
        "id": "5bqSo9hsoW8K",
        "outputId": "65bc3fab-d227-41e2-8883-f49157c75aaf",
        "colab": {
          "base_uri": "https://localhost:8080/"
        }
      },
      "source": [
        "# You can now import and start using the package.\n",
        "import pandas as pd # library for data analysis\n",
        "data_url = \"https://raw.githubusercontent.com/datamisc/ts-2020/main/data.csv\"\n",
        "df = pd.read_csv(data_url, compression='gzip')"
      ],
      "execution_count": 27,
      "outputs": [
        {
          "output_type": "stream",
          "name": "stderr",
          "text": [
            "/usr/local/lib/python3.7/dist-packages/IPython/core/interactiveshell.py:2718: DtypeWarning: Columns (15,17,18,19,21,22,23,25,26,27,29,30,31,33,34,35,37,38,1508,1509) have mixed types.Specify dtype option on import or set low_memory=False.\n",
            "  interactivity=interactivity, compiler=compiler, result=result)\n"
          ]
        }
      ]
    },
    {
      "cell_type": "code",
      "metadata": {
        "id": "wF3rJ5xPQ30v",
        "colab": {
          "base_uri": "https://localhost:8080/",
          "height": 282
        },
        "outputId": "3a31ac3c-97dd-494d-f0ad-a75c4df8d3d4"
      },
      "source": [
        "df['V200005'].plot()\n"
      ],
      "execution_count": 29,
      "outputs": [
        {
          "output_type": "execute_result",
          "data": {
            "text/plain": [
              "<matplotlib.axes._subplots.AxesSubplot at 0x7f92ec397ad0>"
            ]
          },
          "metadata": {},
          "execution_count": 29
        },
        {
          "output_type": "display_data",
          "data": {
            "image/png": "[encoded data removed]",
            "text/plain": [
              "<Figure size 432x288 with 1 Axes>"
            ]
          },
          "metadata": {
            "needs_background": "light"
          }
        }
      ]
    },
    {
      "cell_type": "code",
      "metadata": {
        "id": "haTsiuVIQ7RL"
      },
      "source": [
        ""
      ],
      "execution_count": null,
      "outputs": []
    }
  ]
}