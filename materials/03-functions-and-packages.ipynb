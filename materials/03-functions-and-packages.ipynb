{
  "nbformat": 4,
  "nbformat_minor": 0,
  "metadata": {
    "colab": {
      "name": "reproducible-research-in-python.ipynb",
      "provenance": [],
      "collapsed_sections": []
    },
    "kernelspec": {
      "name": "python3",
      "display_name": "Python 3"
    }
  },
  "cells": [
    {
      "cell_type": "markdown",
      "metadata": {
        "id": "sH747xtD4w0u"
      },
      "source": [
        "# Functions, Packages, and Data!\n",
        "\n",
        "## Learning Objectives\n",
        "TODO\n",
        "\n",
        "## Functions\n",
        "A function is a group of related instructions that perform a specific task when you call the function. You can pass data, known as parameters, into a function. A function can return an output as a result.\n",
        "\n",
        "- Allows us to organized and manage code. \n",
        "- Helps avoiding repetition.\n",
        "- Makes code reusable!\n",
        "\n",
        "The general form that a function takes is:\n",
        "\n",
        "```python\n",
        "# Calling a function \n",
        "function_name(parameters = input)\n",
        "\n",
        "# Calling a function and saving the output into a new object \n",
        "output = function_name(parameters = input)\n",
        "```\n",
        "\n",
        "\n",
        "\n",
        "\n",
        "\n"
      ]
    },
    {
      "cell_type": "markdown",
      "metadata": {
        "id": "UAQecw5xvcxf"
      },
      "source": [
        "### Hack Time\n",
        "\n",
        "Which functions have we used until now?"
      ]
    },
    {
      "cell_type": "code",
      "metadata": {
        "id": "9TfTXOMi4xtW"
      },
      "source": [
        "# Write the name of some functions that we used in the previous notebooks \n",
        "# Use comments to describe what these functions do.\n"
      ],
      "execution_count": null,
      "outputs": []
    },
    {
      "cell_type": "code",
      "metadata": {
        "id": "7h6qDREN5vs9"
      },
      "source": [
        "# What is the type of these functions?\n"
      ],
      "execution_count": null,
      "outputs": []
    },
    {
      "cell_type": "code",
      "metadata": {
        "id": "2MWkDyAz53_b"
      },
      "source": [
        "# What is the type of the type function?\n"
      ],
      "execution_count": null,
      "outputs": []
    },
    {
      "cell_type": "markdown",
      "metadata": {
        "id": "6mVVrtkC594K"
      },
      "source": [
        "### The help function\n",
        "The `help()` function can help you get information on any python object. You can pass any object to the help function to get help on the object \n",
        "```\n",
        "help(my_object)\n",
        "```\n",
        "\n",
        "Similarly, you can use the question mark shortcut by simply writing a question mark followed by your object name.\n",
        "\n",
        "```\n",
        "?my_object\n",
        "```\n",
        "\n",
        "The help/? function can also provide you with useful examples.\n",
        "\n",
        "\n",
        "**TIP:** Everytime you see something new, use the help function!\n"
      ]
    },
    {
      "cell_type": "code",
      "metadata": {
        "id": "EdCZOly08QV8"
      },
      "source": [
        "# Using the help function to learn about the `len` function.\n",
        "help(len)"
      ],
      "execution_count": null,
      "outputs": []
    },
    {
      "cell_type": "markdown",
      "metadata": {
        "id": "_Hzr_1IbtSo5"
      },
      "source": [
        "or"
      ]
    },
    {
      "cell_type": "code",
      "metadata": {
        "id": "7TZolOdUtUf2"
      },
      "source": [
        "# Using the help function to learn about the `len` function.\n",
        "?len"
      ],
      "execution_count": null,
      "outputs": []
    },
    {
      "cell_type": "markdown",
      "metadata": {
        "id": "ZFklJTjM8U-z"
      },
      "source": [
        "### Hack Time"
      ]
    },
    {
      "cell_type": "code",
      "metadata": {
        "id": "ow4LFNjq8RF6"
      },
      "source": [
        "# Use the help function to learn about the type function.\n"
      ],
      "execution_count": null,
      "outputs": []
    },
    {
      "cell_type": "code",
      "metadata": {
        "id": "l6pHIl2b5j7X"
      },
      "source": [
        "# Use the help function to learn about the help function.\n"
      ],
      "execution_count": null,
      "outputs": []
    },
    {
      "cell_type": "code",
      "metadata": {
        "id": "_xgOvtST6EvI"
      },
      "source": [
        "# Create a list object \n",
        "\n",
        "# Pass it to the help function\n"
      ],
      "execution_count": null,
      "outputs": []
    },
    {
      "cell_type": "code",
      "metadata": {
        "id": "OPaMOF7Q-HVL"
      },
      "source": [
        "# Try some of the list methods\n"
      ],
      "execution_count": null,
      "outputs": []
    },
    {
      "cell_type": "code",
      "metadata": {
        "id": "nt6dixVJ-Mtr"
      },
      "source": [
        "# Pass one of these methods to the help function\n"
      ],
      "execution_count": null,
      "outputs": []
    },
    {
      "cell_type": "code",
      "metadata": {
        "id": "F8Lzcjyl7lXz"
      },
      "source": [
        "# Use the help function to learn about the `print` function. Notice the parameters?\n"
      ],
      "execution_count": null,
      "outputs": []
    },
    {
      "cell_type": "markdown",
      "metadata": {
        "id": "iXZA63LLszYL"
      },
      "source": [
        "### Function Parameters \n",
        "\n",
        "The help function also gives you information on the object parameters.\n",
        "\n",
        "### Hack Time"
      ]
    },
    {
      "cell_type": "code",
      "metadata": {
        "id": "oVMn_7bat4-4"
      },
      "source": [
        "# What are the parameters of the print function?\n"
      ],
      "execution_count": null,
      "outputs": []
    },
    {
      "cell_type": "code",
      "metadata": {
        "id": "sSV0p23_t9bs"
      },
      "source": [
        "# Print some text.\n",
        "\n",
        "# Print some text with different parameters.\n"
      ],
      "execution_count": null,
      "outputs": []
    },
    {
      "cell_type": "markdown",
      "metadata": {
        "id": "gOkBdOWM5wVw"
      },
      "source": [
        "### Methods\n",
        "Methods are functions that associated with a specific type of object.\n",
        "\n",
        "The general form that methods take is:\n",
        "```python\n",
        "# Calling an object method \n",
        "object.method(parameters)\n",
        "\n",
        "# Calling an object method with a parameter\n",
        "object.method(parameters)\n",
        "```"
      ]
    },
    {
      "cell_type": "markdown",
      "metadata": {
        "id": "KDmbshOn-hGr"
      },
      "source": [
        "Objects can have functions that are specific to the object itself!"
      ]
    },
    {
      "cell_type": "markdown",
      "metadata": {
        "id": "QEEPoIRoDeIt"
      },
      "source": [
        "### Hack Time"
      ]
    },
    {
      "cell_type": "code",
      "metadata": {
        "id": "pQ56Bdqh92to"
      },
      "source": [
        "# Create a str object containing a sentence\n"
      ],
      "execution_count": null,
      "outputs": []
    },
    {
      "cell_type": "code",
      "metadata": {
        "id": "bT0j8oz9DazY"
      },
      "source": [
        "# Pass it to the help function\n"
      ],
      "execution_count": null,
      "outputs": []
    },
    {
      "cell_type": "code",
      "metadata": {
        "id": "Xm_EKDggC7VY"
      },
      "source": [
        "# Try one of the string methods\n"
      ],
      "execution_count": null,
      "outputs": []
    },
    {
      "cell_type": "code",
      "metadata": {
        "id": "DO0bu4wpDYTh"
      },
      "source": [
        "# You can also pass any string method to the help function.\n"
      ],
      "execution_count": null,
      "outputs": []
    },
    {
      "cell_type": "code",
      "metadata": {
        "id": "BC4EaSSlDoJm"
      },
      "source": [
        "# Compare the str methods with the list methods\n",
        "help(\"\")\n",
        "print(\"===================================\")\n",
        "help([])"
      ],
      "execution_count": null,
      "outputs": []
    },
    {
      "cell_type": "markdown",
      "metadata": {
        "id": "qXL5O4Cv7K-S"
      },
      "source": [
        "Each type of data has its own set of methods.\n",
        "\n"
      ]
    },
    {
      "cell_type": "code",
      "metadata": {
        "id": "VzAgkeS57KbI"
      },
      "source": [
        "# Find a method that can help you to count the number of times a party won the presidential election?\n",
        "party = [\"Dem\", \"Rep\", \"Dem\", \"Dem\", \"Rep\", \"Rep\", \"Dem\"]\n"
      ],
      "execution_count": null,
      "outputs": []
    },
    {
      "cell_type": "markdown",
      "metadata": {
        "id": "4L7iBdgP7NdW"
      },
      "source": [
        "You can also chain methods.\n"
      ]
    },
    {
      "cell_type": "code",
      "metadata": {
        "id": "LoTscrd78GV6"
      },
      "source": [
        "# Use your previously created str object and chain the lower and count methods together\n"
      ],
      "execution_count": null,
      "outputs": []
    },
    {
      "cell_type": "markdown",
      "metadata": {
        "id": "8QsegVDy5onT"
      },
      "source": [
        "### Defining your own functions\n",
        "\n",
        "When you need to repeatedly do a series of instructions, you should define a function with those instructions.\n",
        "\n",
        "#### The syntax of Function\n",
        "```python\n",
        "def function_name(parameters):\n",
        "    \"\"\"A documentation string explaining what the function does.\"\"\"\n",
        "    temporary_output = some_instructions()\n",
        "    final_output = some_more_instructions(temporary_output)\n",
        "    return final_output\n",
        "```\n",
        "\n",
        "A function definition consists of following components:\n",
        "- The keyword `def` marks the start of a function header.\n",
        "- A function name to uniquely identify it and use the function.\n",
        "- A colon `:` to mark the end of function header.\n",
        "- A set of instructions that make up the function body. \n",
        "    - **The instructions need to be indented using 4 spaces!**\n",
        "- Parameters or arguments through which we pass values to a function (optional).\n",
        "- A `return` keyword to return a value from the function (optional).\n",
        "- A documentation string describing what the function does (optional).\n"
      ]
    },
    {
      "cell_type": "markdown",
      "metadata": {
        "id": "LT3OtNyO5txU"
      },
      "source": [
        "### Hack Time\n"
      ]
    },
    {
      "cell_type": "code",
      "metadata": {
        "id": "yeMmtkCtyCcv"
      },
      "source": [
        "# Let's create a function that says hello.\n"
      ],
      "execution_count": null,
      "outputs": []
    },
    {
      "cell_type": "code",
      "metadata": {
        "id": "C4sTfqz8ys6E"
      },
      "source": [
        "# Use your newly created function\n"
      ],
      "execution_count": null,
      "outputs": []
    },
    {
      "cell_type": "code",
      "metadata": {
        "id": "cgxHBu68yS8x"
      },
      "source": [
        "# Let's create a function that says hello to someone. TIP: use a parameter.\n"
      ],
      "execution_count": null,
      "outputs": []
    },
    {
      "cell_type": "markdown",
      "metadata": {
        "id": "gBVtOb8Kyb1o"
      },
      "source": [
        "So far, we've created functions that may or may not take arguments but they do not return anything. \n",
        "\n",
        "For instance if you run type on the output of your function you will get `None`.\n",
        "\n",
        "Now, let's create a simple function that returns a value. We will use the `return` keyword."
      ]
    },
    {
      "cell_type": "code",
      "metadata": {
        "id": "wNgujVAr64yS"
      },
      "source": [
        "# Create a function that returns its elements.\n"
      ],
      "execution_count": null,
      "outputs": []
    },
    {
      "cell_type": "code",
      "metadata": {
        "id": "NHNzDwyl0BpF"
      },
      "source": [
        "# What is the type of the output? \n"
      ],
      "execution_count": null,
      "outputs": []
    },
    {
      "cell_type": "code",
      "metadata": {
        "id": "fuNkrRX6zUOG"
      },
      "source": [
        "# Create a function that returns the sum of its elements\n"
      ],
      "execution_count": null,
      "outputs": []
    },
    {
      "cell_type": "code",
      "metadata": {
        "id": "OpXn1_PV6W3f"
      },
      "source": [
        "# Create a function that returns the mean of its elements\n",
        " "
      ],
      "execution_count": null,
      "outputs": []
    },
    {
      "cell_type": "code",
      "metadata": {
        "id": "rgp85wTN7N14"
      },
      "source": [
        "# What is the average turnout since 1996 in the US Presidential Elections?\n",
        "turnout = [66.8, 55.7, 54.9, 58.2, 56.7, 51.2, 49.0]\n",
        "year = [2020, 2016, 2012, 2008, 2004, 2000, 1996]\n",
        "party = [\"Dem\", \"Rep\", \"Dem\", \"Dem\", \"Rep\", \"Rep\", \"Dem\"]\n"
      ],
      "execution_count": null,
      "outputs": []
    },
    {
      "cell_type": "code",
      "metadata": {
        "id": "TIuDExcDz1ol"
      },
      "source": [
        "# Create a function that returns the mean and length its elements\n"
      ],
      "execution_count": null,
      "outputs": []
    },
    {
      "cell_type": "code",
      "metadata": {
        "id": "YHbYY_Ke0HyP"
      },
      "source": [
        "# Create a function that returns the proportion, the frequency and the length a categorical variable\n"
      ],
      "execution_count": null,
      "outputs": []
    },
    {
      "cell_type": "markdown",
      "metadata": {
        "id": "eQJNdyN47OQZ"
      },
      "source": [
        "## Modules and Packages\n",
        "\n",
        "Most of the time, when you want to do something in python, someone else has already did it for you and created functions you can use. To use these other functions you need to load their module or package into memory. This is similar to opening an application on your smartphone or computer. \n",
        "\n",
        "You can load module or package by issuing the following command: \n",
        "\n",
        "```\n",
        "import module_name\n",
        "```\n",
        "\n",
        "Python, comes with pre-installed packages that you can directly load and the packages we will use in this course have already been installed for you.\n",
        "\n",
        "Packages are standardized way of organizing and sharing code. Packages usually consist of multiple modules.\n",
        "\n",
        "- There are more than 300,000+ existing and freely available python packages. \n",
        "- You can check the Python Package Index: https://pypi.org/\n",
        "\n",
        "Sometimes, you might need to install a package.\n",
        "To install a package inside a notebook you use following command \n",
        "```\n",
        "!pip install package_name\n",
        "```"
      ]
    },
    {
      "cell_type": "code",
      "metadata": {
        "id": "Arp7dXrF7O8B"
      },
      "source": [
        "# Let's look into the math module\n",
        "help(math)\n"
      ],
      "execution_count": null,
      "outputs": []
    },
    {
      "cell_type": "code",
      "metadata": {
        "id": "OYztmuCP2qZy"
      },
      "source": [
        "# Import the math module\n"
      ],
      "execution_count": null,
      "outputs": []
    },
    {
      "cell_type": "code",
      "metadata": {
        "id": "kSQEAk2U3JO5"
      },
      "source": [
        "# Use a function from the math module\n"
      ],
      "execution_count": null,
      "outputs": []
    },
    {
      "cell_type": "markdown",
      "metadata": {
        "id": "21xJ0TLh3aCu"
      },
      "source": [
        "### Aliases and partial imports\n",
        "\n",
        "To avoid having to always type a module/package's name you can use an alias when you import the module/package.\n",
        "\n",
        "```\n",
        "import long_module_name as lmn\n",
        "```\n",
        "\n",
        "Alternatively, you can cherry pick and only import the function you need from a module/package. This is usefull when you only need very few functions from a module/package.\n",
        "\n",
        "```\n",
        "from module_name import function_name\n",
        "```\n",
        "\n",
        "Doing so makes the function available without having to type the module/package name everytime.\n"
      ]
    },
    {
      "cell_type": "code",
      "metadata": {
        "id": "-viFerFf5nei"
      },
      "source": [
        "# Import the datetime package using a dt alias \n"
      ],
      "execution_count": null,
      "outputs": []
    },
    {
      "cell_type": "code",
      "metadata": {
        "id": "9YZMvoaq5jaL"
      },
      "source": [
        "# Import the `randint` function from the random module\n",
        "\n",
        "# Use the randint function\n"
      ],
      "execution_count": null,
      "outputs": []
    },
    {
      "cell_type": "code",
      "metadata": {
        "id": "6bt6lL827G11"
      },
      "source": [
        "# Import the pandas package \n",
        "import pandas"
      ],
      "execution_count": null,
      "outputs": []
    },
    {
      "cell_type": "code",
      "metadata": {
        "id": "jWzWG-Jz7OTX"
      },
      "source": [
        "# What is pandas?\n"
      ],
      "execution_count": null,
      "outputs": []
    },
    {
      "cell_type": "markdown",
      "metadata": {
        "id": "nXzVfZnP-wdw"
      },
      "source": [
        "![](https://i.pinimg.com/originals/cc/56/b7/cc56b72e2ffb3509ba335e5ef17655b5.gif)\n",
        "\n",
        "\n"
      ]
    },
    {
      "cell_type": "markdown",
      "metadata": {
        "id": "7Oq9Y3Iw73W2"
      },
      "source": [
        "To get more information on pandas \n",
        "- [pandas documentation](https://pandas.pydata.org/docs/).\n",
        "\n",
        "Pandas is one of the most used and powerful modern packages for doing data analysis around the world. Any company, institution, government or university who is looking to hire someone that will handle data (any important job these days...) will ask you to have pandas in your skillset! It is a highly valuable and in extremely high demand skill especially for people with a social science background!\n"
      ]
    },
    {
      "cell_type": "code",
      "metadata": {
        "id": "5bqSo9hsoW8K"
      },
      "source": [
        "# Let's import some real data with pandas\n",
        "data_url = \"https://raw.githubusercontent.com/datamisc/ts-2020/main/data.csv\"\n",
        "df = pandas.read_csv(data_url, compression='gzip')\n"
      ],
      "execution_count": null,
      "outputs": []
    },
    {
      "cell_type": "code",
      "metadata": {
        "id": "wF3rJ5xPQ30v",
        "colab": {
          "base_uri": "https://localhost:8080/",
          "height": 864
        },
        "outputId": "63cbd76b-4329-4831-d3cc-dc94ab06f077"
      },
      "source": [
        "# Take a look at the df object you just created\n"
      ],
      "execution_count": 56,
      "outputs": [
        {
          "output_type": "execute_result",
          "data": {
            "text/html": [
              "<div>\n",
              "<style scoped>\n",
              "    .dataframe tbody tr th:only-of-type {\n",
              "        vertical-align: middle;\n",
              "    }\n",
              "\n",
              "    .dataframe tbody tr th {\n",
              "        vertical-align: top;\n",
              "    }\n",
              "\n",
              "    .dataframe thead th {\n",
              "        text-align: right;\n",
              "    }\n",
              "</style>\n",
              "<table border=\"1\" class=\"dataframe\">\n",
              "  <thead>\n",
              "    <tr style=\"text-align: right;\">\n",
              "      <th></th>\n",
              "      <th>version</th>\n",
              "      <th>V200001</th>\n",
              "      <th>V160001_orig</th>\n",
              "      <th>V200002</th>\n",
              "      <th>V200003</th>\n",
              "      <th>V200004</th>\n",
              "      <th>V200005</th>\n",
              "      <th>V200006</th>\n",
              "      <th>V200007</th>\n",
              "      <th>V200008</th>\n",
              "      <th>V200009</th>\n",
              "      <th>V200010a</th>\n",
              "      <th>V200010b</th>\n",
              "      <th>V200010c</th>\n",
              "      <th>V200010d</th>\n",
              "      <th>V200011a</th>\n",
              "      <th>V200011b</th>\n",
              "      <th>V200011c</th>\n",
              "      <th>V200011d</th>\n",
              "      <th>V200012a</th>\n",
              "      <th>V200012b</th>\n",
              "      <th>V200012c</th>\n",
              "      <th>V200012d</th>\n",
              "      <th>V200013a</th>\n",
              "      <th>V200013b</th>\n",
              "      <th>V200013c</th>\n",
              "      <th>V200013d</th>\n",
              "      <th>V200014a</th>\n",
              "      <th>V200014b</th>\n",
              "      <th>V200014c</th>\n",
              "      <th>V200014d</th>\n",
              "      <th>V200015a</th>\n",
              "      <th>V200015b</th>\n",
              "      <th>V200015c</th>\n",
              "      <th>V200015d</th>\n",
              "      <th>V200016a</th>\n",
              "      <th>V200016b</th>\n",
              "      <th>V200016c</th>\n",
              "      <th>V200016d</th>\n",
              "      <th>V201001</th>\n",
              "      <th>...</th>\n",
              "      <th>V203401</th>\n",
              "      <th>V203402</th>\n",
              "      <th>V203403</th>\n",
              "      <th>V203404</th>\n",
              "      <th>V203405</th>\n",
              "      <th>V203406</th>\n",
              "      <th>V203410</th>\n",
              "      <th>V203411</th>\n",
              "      <th>V203412</th>\n",
              "      <th>V203413</th>\n",
              "      <th>V203414</th>\n",
              "      <th>V203415</th>\n",
              "      <th>V203416</th>\n",
              "      <th>V203500</th>\n",
              "      <th>V203501</th>\n",
              "      <th>V203502</th>\n",
              "      <th>V203503</th>\n",
              "      <th>V203504</th>\n",
              "      <th>V203505</th>\n",
              "      <th>V203506</th>\n",
              "      <th>V203508</th>\n",
              "      <th>V203509</th>\n",
              "      <th>V203510</th>\n",
              "      <th>V203511</th>\n",
              "      <th>V203512</th>\n",
              "      <th>V203513</th>\n",
              "      <th>V203514</th>\n",
              "      <th>V203515</th>\n",
              "      <th>V203516</th>\n",
              "      <th>V203517</th>\n",
              "      <th>V203518</th>\n",
              "      <th>V203519</th>\n",
              "      <th>V203520</th>\n",
              "      <th>V203521</th>\n",
              "      <th>V203522</th>\n",
              "      <th>V203523</th>\n",
              "      <th>V203524</th>\n",
              "      <th>V203525</th>\n",
              "      <th>V203526</th>\n",
              "      <th>V203527</th>\n",
              "    </tr>\n",
              "  </thead>\n",
              "  <tbody>\n",
              "    <tr>\n",
              "      <th>0</th>\n",
              "      <td>ANES2020TimeSeries_20210719</td>\n",
              "      <td>200015</td>\n",
              "      <td>401318</td>\n",
              "      <td>3</td>\n",
              "      <td>2</td>\n",
              "      <td>3</td>\n",
              "      <td>0</td>\n",
              "      <td>-2</td>\n",
              "      <td>-2</td>\n",
              "      <td>-2</td>\n",
              "      <td>0</td>\n",
              "      <td>0.962809</td>\n",
              "      <td>1.00573747444017</td>\n",
              "      <td>2</td>\n",
              "      <td>9</td>\n",
              "      <td>0.689054</td>\n",
              "      <td>.880887099636969</td>\n",
              "      <td>2</td>\n",
              "      <td>9</td>\n",
              "      <td></td>\n",
              "      <td></td>\n",
              "      <td></td>\n",
              "      <td></td>\n",
              "      <td></td>\n",
              "      <td></td>\n",
              "      <td></td>\n",
              "      <td></td>\n",
              "      <td></td>\n",
              "      <td></td>\n",
              "      <td></td>\n",
              "      <td></td>\n",
              "      <td></td>\n",
              "      <td></td>\n",
              "      <td></td>\n",
              "      <td></td>\n",
              "      <td>0.996745</td>\n",
              "      <td>.973874052814516</td>\n",
              "      <td>2</td>\n",
              "      <td>9</td>\n",
              "      <td>1</td>\n",
              "      <td>...</td>\n",
              "      <td>-1</td>\n",
              "      <td>-1</td>\n",
              "      <td>-1</td>\n",
              "      <td>-1</td>\n",
              "      <td>-1</td>\n",
              "      <td>-1</td>\n",
              "      <td>-1. Inapplicable</td>\n",
              "      <td>-1</td>\n",
              "      <td>-1</td>\n",
              "      <td>-1</td>\n",
              "      <td>-1</td>\n",
              "      <td>-1</td>\n",
              "      <td>-1</td>\n",
              "      <td>21</td>\n",
              "      <td>-1. Inapplicable</td>\n",
              "      <td>-1</td>\n",
              "      <td>-1</td>\n",
              "      <td>-1. Inapplicable</td>\n",
              "      <td>-1</td>\n",
              "      <td>-1</td>\n",
              "      <td>Abby Broyles</td>\n",
              "      <td>2</td>\n",
              "      <td>James M. 'Jim' Inhofe</td>\n",
              "      <td>1</td>\n",
              "      <td>-1. Inapplicable</td>\n",
              "      <td>-1</td>\n",
              "      <td>-1</td>\n",
              "      <td>29</td>\n",
              "      <td>Mary Brannon</td>\n",
              "      <td>2</td>\n",
              "      <td>Thomas Jeffery 'Tom' Cole</td>\n",
              "      <td>1</td>\n",
              "      <td>-1. Inapplicable</td>\n",
              "      <td>-1</td>\n",
              "      <td>-1</td>\n",
              "      <td>82</td>\n",
              "      <td>-1. Inapplicable</td>\n",
              "      <td>-1</td>\n",
              "      <td>-1. Inapplicable</td>\n",
              "      <td>-1</td>\n",
              "    </tr>\n",
              "    <tr>\n",
              "      <th>1</th>\n",
              "      <td>ANES2020TimeSeries_20210719</td>\n",
              "      <td>200022</td>\n",
              "      <td>300261</td>\n",
              "      <td>3</td>\n",
              "      <td>2</td>\n",
              "      <td>3</td>\n",
              "      <td>0</td>\n",
              "      <td>4</td>\n",
              "      <td>-1</td>\n",
              "      <td>3</td>\n",
              "      <td>0</td>\n",
              "      <td>1.069085</td>\n",
              "      <td>1.16347312190926</td>\n",
              "      <td>2</td>\n",
              "      <td>26</td>\n",
              "      <td>1.08926</td>\n",
              "      <td>1.07183615863668</td>\n",
              "      <td>2</td>\n",
              "      <td>26</td>\n",
              "      <td></td>\n",
              "      <td></td>\n",
              "      <td></td>\n",
              "      <td></td>\n",
              "      <td></td>\n",
              "      <td></td>\n",
              "      <td></td>\n",
              "      <td></td>\n",
              "      <td></td>\n",
              "      <td></td>\n",
              "      <td></td>\n",
              "      <td></td>\n",
              "      <td></td>\n",
              "      <td></td>\n",
              "      <td></td>\n",
              "      <td></td>\n",
              "      <td>1.05886</td>\n",
              "      <td>1.1492021732751</td>\n",
              "      <td>2</td>\n",
              "      <td>26</td>\n",
              "      <td>1</td>\n",
              "      <td>...</td>\n",
              "      <td>-1</td>\n",
              "      <td>-1</td>\n",
              "      <td>-1</td>\n",
              "      <td>-1</td>\n",
              "      <td>-1</td>\n",
              "      <td>-1</td>\n",
              "      <td>-1. Inapplicable</td>\n",
              "      <td>-1</td>\n",
              "      <td>-1</td>\n",
              "      <td>-1</td>\n",
              "      <td>-1</td>\n",
              "      <td>-1</td>\n",
              "      <td>-1</td>\n",
              "      <td>21</td>\n",
              "      <td>-1. Inapplicable</td>\n",
              "      <td>-1</td>\n",
              "      <td>-1</td>\n",
              "      <td>-1. Inapplicable</td>\n",
              "      <td>-1</td>\n",
              "      <td>-1</td>\n",
              "      <td>Paulette Jordan</td>\n",
              "      <td>2</td>\n",
              "      <td>James E. 'Jim' Risch</td>\n",
              "      <td>1</td>\n",
              "      <td>-1. Inapplicable</td>\n",
              "      <td>-1</td>\n",
              "      <td>-1</td>\n",
              "      <td>29</td>\n",
              "      <td>Carlton Aaron Swisher</td>\n",
              "      <td>1</td>\n",
              "      <td>Michael Keith 'Mike' Simpson</td>\n",
              "      <td>1</td>\n",
              "      <td>-1. Inapplicable</td>\n",
              "      <td>-1</td>\n",
              "      <td>-1</td>\n",
              "      <td>-1</td>\n",
              "      <td>-1. Inapplicable</td>\n",
              "      <td>-1</td>\n",
              "      <td>-1. Inapplicable</td>\n",
              "      <td>-1</td>\n",
              "    </tr>\n",
              "    <tr>\n",
              "      <th>2</th>\n",
              "      <td>ANES2020TimeSeries_20210719</td>\n",
              "      <td>200039</td>\n",
              "      <td>400181</td>\n",
              "      <td>3</td>\n",
              "      <td>2</td>\n",
              "      <td>3</td>\n",
              "      <td>0</td>\n",
              "      <td>-2</td>\n",
              "      <td>-2</td>\n",
              "      <td>-2</td>\n",
              "      <td>0</td>\n",
              "      <td>0.683421</td>\n",
              "      <td>.768681110109909</td>\n",
              "      <td>1</td>\n",
              "      <td>41</td>\n",
              "      <td>0.688799</td>\n",
              "      <td>.609030746771271</td>\n",
              "      <td>1</td>\n",
              "      <td>41</td>\n",
              "      <td></td>\n",
              "      <td></td>\n",
              "      <td></td>\n",
              "      <td></td>\n",
              "      <td></td>\n",
              "      <td></td>\n",
              "      <td></td>\n",
              "      <td></td>\n",
              "      <td></td>\n",
              "      <td></td>\n",
              "      <td></td>\n",
              "      <td></td>\n",
              "      <td></td>\n",
              "      <td></td>\n",
              "      <td></td>\n",
              "      <td></td>\n",
              "      <td>0.681142</td>\n",
              "      <td>.756230992003099</td>\n",
              "      <td>1</td>\n",
              "      <td>41</td>\n",
              "      <td>1</td>\n",
              "      <td>...</td>\n",
              "      <td>-1</td>\n",
              "      <td>-1</td>\n",
              "      <td>-1</td>\n",
              "      <td>-1</td>\n",
              "      <td>-1</td>\n",
              "      <td>-1</td>\n",
              "      <td>-1. Inapplicable</td>\n",
              "      <td>-1</td>\n",
              "      <td>-1</td>\n",
              "      <td>-1</td>\n",
              "      <td>-1</td>\n",
              "      <td>-1</td>\n",
              "      <td>-1</td>\n",
              "      <td>12</td>\n",
              "      <td>-1. Inapplicable</td>\n",
              "      <td>-1</td>\n",
              "      <td>-1</td>\n",
              "      <td>-1. Inapplicable</td>\n",
              "      <td>-1</td>\n",
              "      <td>-1</td>\n",
              "      <td>Mark Robert Warner</td>\n",
              "      <td>1</td>\n",
              "      <td>Daniel MacArthur Gade</td>\n",
              "      <td>1</td>\n",
              "      <td>-1. Inapplicable</td>\n",
              "      <td>-1</td>\n",
              "      <td>-1</td>\n",
              "      <td>19</td>\n",
              "      <td>Elaine G. Luria</td>\n",
              "      <td>2</td>\n",
              "      <td>Scott William Taylor</td>\n",
              "      <td>1</td>\n",
              "      <td>-1. Inapplicable</td>\n",
              "      <td>-1</td>\n",
              "      <td>-1</td>\n",
              "      <td>81</td>\n",
              "      <td>-1. Inapplicable</td>\n",
              "      <td>-1</td>\n",
              "      <td>-1. Inapplicable</td>\n",
              "      <td>-1</td>\n",
              "    </tr>\n",
              "    <tr>\n",
              "      <th>3</th>\n",
              "      <td>ANES2020TimeSeries_20210719</td>\n",
              "      <td>200046</td>\n",
              "      <td>300171</td>\n",
              "      <td>3</td>\n",
              "      <td>2</td>\n",
              "      <td>3</td>\n",
              "      <td>0</td>\n",
              "      <td>-2</td>\n",
              "      <td>-2</td>\n",
              "      <td>-2</td>\n",
              "      <td>0</td>\n",
              "      <td>0.500953</td>\n",
              "      <td>.521019534357875</td>\n",
              "      <td>2</td>\n",
              "      <td>29</td>\n",
              "      <td>0.731815</td>\n",
              "      <td>.741575767882139</td>\n",
              "      <td>2</td>\n",
              "      <td>29</td>\n",
              "      <td></td>\n",
              "      <td></td>\n",
              "      <td></td>\n",
              "      <td></td>\n",
              "      <td></td>\n",
              "      <td></td>\n",
              "      <td></td>\n",
              "      <td></td>\n",
              "      <td></td>\n",
              "      <td></td>\n",
              "      <td></td>\n",
              "      <td></td>\n",
              "      <td></td>\n",
              "      <td></td>\n",
              "      <td></td>\n",
              "      <td></td>\n",
              "      <td>0.474365</td>\n",
              "      <td>.494633933446847</td>\n",
              "      <td>2</td>\n",
              "      <td>29</td>\n",
              "      <td>1</td>\n",
              "      <td>...</td>\n",
              "      <td>-1</td>\n",
              "      <td>-1</td>\n",
              "      <td>-1</td>\n",
              "      <td>-1</td>\n",
              "      <td>-1</td>\n",
              "      <td>-1</td>\n",
              "      <td>-1. Inapplicable</td>\n",
              "      <td>-1</td>\n",
              "      <td>-1</td>\n",
              "      <td>-1</td>\n",
              "      <td>-1</td>\n",
              "      <td>-1</td>\n",
              "      <td>-1</td>\n",
              "      <td>81</td>\n",
              "      <td>Dianne Feinstein</td>\n",
              "      <td>2</td>\n",
              "      <td>1</td>\n",
              "      <td>-1. Inapplicable</td>\n",
              "      <td>2</td>\n",
              "      <td>1</td>\n",
              "      <td>-1. Inapplicable</td>\n",
              "      <td>-1</td>\n",
              "      <td>-1. Inapplicable</td>\n",
              "      <td>-1</td>\n",
              "      <td>-1. Inapplicable</td>\n",
              "      <td>-1</td>\n",
              "      <td>-1</td>\n",
              "      <td>21</td>\n",
              "      <td>Phil Arballo</td>\n",
              "      <td>1</td>\n",
              "      <td>Devin Gerald Nunes</td>\n",
              "      <td>1</td>\n",
              "      <td>-1. Inapplicable</td>\n",
              "      <td>-1</td>\n",
              "      <td>-1</td>\n",
              "      <td>81</td>\n",
              "      <td>-1. Inapplicable</td>\n",
              "      <td>-1</td>\n",
              "      <td>-1. Inapplicable</td>\n",
              "      <td>-1</td>\n",
              "    </tr>\n",
              "    <tr>\n",
              "      <th>4</th>\n",
              "      <td>ANES2020TimeSeries_20210719</td>\n",
              "      <td>200053</td>\n",
              "      <td>405145</td>\n",
              "      <td>3</td>\n",
              "      <td>2</td>\n",
              "      <td>3</td>\n",
              "      <td>1</td>\n",
              "      <td>-2</td>\n",
              "      <td>-2</td>\n",
              "      <td>-2</td>\n",
              "      <td>0</td>\n",
              "      <td>1.262294</td>\n",
              "      <td>.965789166832749</td>\n",
              "      <td>1</td>\n",
              "      <td>23</td>\n",
              "      <td>1.01399</td>\n",
              "      <td>.942968665310746</td>\n",
              "      <td>1</td>\n",
              "      <td>23</td>\n",
              "      <td></td>\n",
              "      <td></td>\n",
              "      <td></td>\n",
              "      <td></td>\n",
              "      <td></td>\n",
              "      <td></td>\n",
              "      <td></td>\n",
              "      <td></td>\n",
              "      <td></td>\n",
              "      <td></td>\n",
              "      <td></td>\n",
              "      <td></td>\n",
              "      <td></td>\n",
              "      <td></td>\n",
              "      <td></td>\n",
              "      <td></td>\n",
              "      <td>1.26881</td>\n",
              "      <td>.934799353716296</td>\n",
              "      <td>1</td>\n",
              "      <td>23</td>\n",
              "      <td>1</td>\n",
              "      <td>...</td>\n",
              "      <td>-1</td>\n",
              "      <td>-1</td>\n",
              "      <td>-1</td>\n",
              "      <td>-1</td>\n",
              "      <td>-1</td>\n",
              "      <td>-1</td>\n",
              "      <td>-1. Inapplicable</td>\n",
              "      <td>-1</td>\n",
              "      <td>-1</td>\n",
              "      <td>-1</td>\n",
              "      <td>-1</td>\n",
              "      <td>-1</td>\n",
              "      <td>-1</td>\n",
              "      <td>21</td>\n",
              "      <td>-1. Inapplicable</td>\n",
              "      <td>-1</td>\n",
              "      <td>-1</td>\n",
              "      <td>-1. Inapplicable</td>\n",
              "      <td>-1</td>\n",
              "      <td>-1</td>\n",
              "      <td>John W. Hickenlooper</td>\n",
              "      <td>1</td>\n",
              "      <td>Cory Scott Gardner</td>\n",
              "      <td>1</td>\n",
              "      <td>-1. Inapplicable</td>\n",
              "      <td>-1</td>\n",
              "      <td>-1</td>\n",
              "      <td>29</td>\n",
              "      <td>Isaac Ian 'Ike' McCorkle</td>\n",
              "      <td>1</td>\n",
              "      <td>Kenneth R. 'Ken' Buck</td>\n",
              "      <td>1</td>\n",
              "      <td>-1. Inapplicable</td>\n",
              "      <td>-1</td>\n",
              "      <td>-1</td>\n",
              "      <td>81</td>\n",
              "      <td>-1. Inapplicable</td>\n",
              "      <td>-1</td>\n",
              "      <td>-1. Inapplicable</td>\n",
              "      <td>-1</td>\n",
              "    </tr>\n",
              "    <tr>\n",
              "      <th>...</th>\n",
              "      <td>...</td>\n",
              "      <td>...</td>\n",
              "      <td>...</td>\n",
              "      <td>...</td>\n",
              "      <td>...</td>\n",
              "      <td>...</td>\n",
              "      <td>...</td>\n",
              "      <td>...</td>\n",
              "      <td>...</td>\n",
              "      <td>...</td>\n",
              "      <td>...</td>\n",
              "      <td>...</td>\n",
              "      <td>...</td>\n",
              "      <td>...</td>\n",
              "      <td>...</td>\n",
              "      <td>...</td>\n",
              "      <td>...</td>\n",
              "      <td>...</td>\n",
              "      <td>...</td>\n",
              "      <td>...</td>\n",
              "      <td>...</td>\n",
              "      <td>...</td>\n",
              "      <td>...</td>\n",
              "      <td>...</td>\n",
              "      <td>...</td>\n",
              "      <td>...</td>\n",
              "      <td>...</td>\n",
              "      <td>...</td>\n",
              "      <td>...</td>\n",
              "      <td>...</td>\n",
              "      <td>...</td>\n",
              "      <td>...</td>\n",
              "      <td>...</td>\n",
              "      <td>...</td>\n",
              "      <td>...</td>\n",
              "      <td>...</td>\n",
              "      <td>...</td>\n",
              "      <td>...</td>\n",
              "      <td>...</td>\n",
              "      <td>...</td>\n",
              "      <td>...</td>\n",
              "      <td>...</td>\n",
              "      <td>...</td>\n",
              "      <td>...</td>\n",
              "      <td>...</td>\n",
              "      <td>...</td>\n",
              "      <td>...</td>\n",
              "      <td>...</td>\n",
              "      <td>...</td>\n",
              "      <td>...</td>\n",
              "      <td>...</td>\n",
              "      <td>...</td>\n",
              "      <td>...</td>\n",
              "      <td>...</td>\n",
              "      <td>...</td>\n",
              "      <td>...</td>\n",
              "      <td>...</td>\n",
              "      <td>...</td>\n",
              "      <td>...</td>\n",
              "      <td>...</td>\n",
              "      <td>...</td>\n",
              "      <td>...</td>\n",
              "      <td>...</td>\n",
              "      <td>...</td>\n",
              "      <td>...</td>\n",
              "      <td>...</td>\n",
              "      <td>...</td>\n",
              "      <td>...</td>\n",
              "      <td>...</td>\n",
              "      <td>...</td>\n",
              "      <td>...</td>\n",
              "      <td>...</td>\n",
              "      <td>...</td>\n",
              "      <td>...</td>\n",
              "      <td>...</td>\n",
              "      <td>...</td>\n",
              "      <td>...</td>\n",
              "      <td>...</td>\n",
              "      <td>...</td>\n",
              "      <td>...</td>\n",
              "      <td>...</td>\n",
              "    </tr>\n",
              "    <tr>\n",
              "      <th>8275</th>\n",
              "      <td>ANES2020TimeSeries_20210719</td>\n",
              "      <td>535315</td>\n",
              "      <td>-1</td>\n",
              "      <td>1</td>\n",
              "      <td>6</td>\n",
              "      <td>3</td>\n",
              "      <td>0</td>\n",
              "      <td>-2</td>\n",
              "      <td>-2</td>\n",
              "      <td>-2</td>\n",
              "      <td>0</td>\n",
              "      <td>1.052041</td>\n",
              "      <td>2.54194059520904</td>\n",
              "      <td>1</td>\n",
              "      <td>3</td>\n",
              "      <td></td>\n",
              "      <td></td>\n",
              "      <td></td>\n",
              "      <td></td>\n",
              "      <td></td>\n",
              "      <td></td>\n",
              "      <td></td>\n",
              "      <td></td>\n",
              "      <td></td>\n",
              "      <td></td>\n",
              "      <td></td>\n",
              "      <td></td>\n",
              "      <td>0.701441</td>\n",
              "      <td>1.79813939654805</td>\n",
              "      <td>1</td>\n",
              "      <td>3</td>\n",
              "      <td>0.673649</td>\n",
              "      <td>1.49145229866225</td>\n",
              "      <td>1</td>\n",
              "      <td>3</td>\n",
              "      <td></td>\n",
              "      <td></td>\n",
              "      <td></td>\n",
              "      <td></td>\n",
              "      <td>1</td>\n",
              "      <td>...</td>\n",
              "      <td>3</td>\n",
              "      <td>1</td>\n",
              "      <td>2</td>\n",
              "      <td>2</td>\n",
              "      <td>2</td>\n",
              "      <td>2</td>\n",
              "      <td>DC4913</td>\n",
              "      <td>3</td>\n",
              "      <td>1</td>\n",
              "      <td>1</td>\n",
              "      <td>2</td>\n",
              "      <td>2</td>\n",
              "      <td>3</td>\n",
              "      <td>82</td>\n",
              "      <td>Marco Rubio</td>\n",
              "      <td>1</td>\n",
              "      <td>2</td>\n",
              "      <td>Rick Scott</td>\n",
              "      <td>1</td>\n",
              "      <td>2</td>\n",
              "      <td>-1. Inapplicable</td>\n",
              "      <td>-1</td>\n",
              "      <td>-1. Inapplicable</td>\n",
              "      <td>-1</td>\n",
              "      <td>-1. Inapplicable</td>\n",
              "      <td>-1</td>\n",
              "      <td>-1</td>\n",
              "      <td>24</td>\n",
              "      <td>-1. Inapplicable</td>\n",
              "      <td>-1</td>\n",
              "      <td>Neal Patrick Dunn</td>\n",
              "      <td>1</td>\n",
              "      <td>-1. Inapplicable</td>\n",
              "      <td>-1</td>\n",
              "      <td>-1</td>\n",
              "      <td>82</td>\n",
              "      <td>-1. Inapplicable</td>\n",
              "      <td>-1</td>\n",
              "      <td>-1. Inapplicable</td>\n",
              "      <td>-1</td>\n",
              "    </tr>\n",
              "    <tr>\n",
              "      <th>8276</th>\n",
              "      <td>ANES2020TimeSeries_20210719</td>\n",
              "      <td>535360</td>\n",
              "      <td>-1</td>\n",
              "      <td>1</td>\n",
              "      <td>6</td>\n",
              "      <td>3</td>\n",
              "      <td>0</td>\n",
              "      <td>1</td>\n",
              "      <td>1</td>\n",
              "      <td>1</td>\n",
              "      <td>0</td>\n",
              "      <td>1.124100</td>\n",
              "      <td>.90712251661077</td>\n",
              "      <td>2</td>\n",
              "      <td>5</td>\n",
              "      <td></td>\n",
              "      <td></td>\n",
              "      <td></td>\n",
              "      <td></td>\n",
              "      <td></td>\n",
              "      <td></td>\n",
              "      <td></td>\n",
              "      <td></td>\n",
              "      <td></td>\n",
              "      <td></td>\n",
              "      <td></td>\n",
              "      <td></td>\n",
              "      <td>1.19977</td>\n",
              "      <td>1.17601864450073</td>\n",
              "      <td>2</td>\n",
              "      <td>5</td>\n",
              "      <td>1.15223</td>\n",
              "      <td>.975439231228371</td>\n",
              "      <td>2</td>\n",
              "      <td>5</td>\n",
              "      <td></td>\n",
              "      <td></td>\n",
              "      <td></td>\n",
              "      <td></td>\n",
              "      <td>1</td>\n",
              "      <td>...</td>\n",
              "      <td>3</td>\n",
              "      <td>3</td>\n",
              "      <td>2</td>\n",
              "      <td>2</td>\n",
              "      <td>1</td>\n",
              "      <td>3</td>\n",
              "      <td>DC3645</td>\n",
              "      <td>-2</td>\n",
              "      <td>-2</td>\n",
              "      <td>-2</td>\n",
              "      <td>-2</td>\n",
              "      <td>-2</td>\n",
              "      <td>-2</td>\n",
              "      <td>21</td>\n",
              "      <td>-1. Inapplicable</td>\n",
              "      <td>-1</td>\n",
              "      <td>-1</td>\n",
              "      <td>-1. Inapplicable</td>\n",
              "      <td>-1</td>\n",
              "      <td>-1</td>\n",
              "      <td>Paulette Jordan</td>\n",
              "      <td>2</td>\n",
              "      <td>James E. 'Jim' Risch</td>\n",
              "      <td>1</td>\n",
              "      <td>-1. Inapplicable</td>\n",
              "      <td>-1</td>\n",
              "      <td>-1</td>\n",
              "      <td>29</td>\n",
              "      <td>Carlton Aaron Swisher</td>\n",
              "      <td>1</td>\n",
              "      <td>Michael Keith 'Mike' Simpson</td>\n",
              "      <td>1</td>\n",
              "      <td>-1. Inapplicable</td>\n",
              "      <td>-1</td>\n",
              "      <td>-1</td>\n",
              "      <td>-1</td>\n",
              "      <td>-1. Inapplicable</td>\n",
              "      <td>-1</td>\n",
              "      <td>-1. Inapplicable</td>\n",
              "      <td>-1</td>\n",
              "    </tr>\n",
              "    <tr>\n",
              "      <th>8277</th>\n",
              "      <td>ANES2020TimeSeries_20210719</td>\n",
              "      <td>535414</td>\n",
              "      <td>-1</td>\n",
              "      <td>2</td>\n",
              "      <td>6</td>\n",
              "      <td>3</td>\n",
              "      <td>0</td>\n",
              "      <td>-2</td>\n",
              "      <td>-2</td>\n",
              "      <td>-2</td>\n",
              "      <td>0</td>\n",
              "      <td>1.514417</td>\n",
              "      <td>.654862733902555</td>\n",
              "      <td>1</td>\n",
              "      <td>8</td>\n",
              "      <td></td>\n",
              "      <td></td>\n",
              "      <td></td>\n",
              "      <td></td>\n",
              "      <td></td>\n",
              "      <td></td>\n",
              "      <td></td>\n",
              "      <td></td>\n",
              "      <td></td>\n",
              "      <td></td>\n",
              "      <td></td>\n",
              "      <td></td>\n",
              "      <td>2.12734</td>\n",
              "      <td>1.0653789272943</td>\n",
              "      <td>1</td>\n",
              "      <td>8</td>\n",
              "      <td>2.04305</td>\n",
              "      <td>.8836700052898</td>\n",
              "      <td>1</td>\n",
              "      <td>8</td>\n",
              "      <td></td>\n",
              "      <td></td>\n",
              "      <td></td>\n",
              "      <td></td>\n",
              "      <td>2</td>\n",
              "      <td>...</td>\n",
              "      <td>2</td>\n",
              "      <td>3</td>\n",
              "      <td>2</td>\n",
              "      <td>5</td>\n",
              "      <td>1</td>\n",
              "      <td>1</td>\n",
              "      <td>DC4733</td>\n",
              "      <td>-2</td>\n",
              "      <td>-2</td>\n",
              "      <td>-2</td>\n",
              "      <td>-2</td>\n",
              "      <td>-2</td>\n",
              "      <td>-2</td>\n",
              "      <td>81</td>\n",
              "      <td>Dianne Feinstein</td>\n",
              "      <td>2</td>\n",
              "      <td>1</td>\n",
              "      <td>-1. Inapplicable</td>\n",
              "      <td>2</td>\n",
              "      <td>1</td>\n",
              "      <td>-1. Inapplicable</td>\n",
              "      <td>-1</td>\n",
              "      <td>-1. Inapplicable</td>\n",
              "      <td>-1</td>\n",
              "      <td>-1. Inapplicable</td>\n",
              "      <td>-1</td>\n",
              "      <td>-1</td>\n",
              "      <td>21</td>\n",
              "      <td>William Edward 'Liam' O'Mara, IV</td>\n",
              "      <td>1</td>\n",
              "      <td>Kenneth S. 'Ken' Calvert</td>\n",
              "      <td>1</td>\n",
              "      <td>-1. Inapplicable</td>\n",
              "      <td>-1</td>\n",
              "      <td>-1</td>\n",
              "      <td>81</td>\n",
              "      <td>-1. Inapplicable</td>\n",
              "      <td>-1</td>\n",
              "      <td>-1. Inapplicable</td>\n",
              "      <td>-1</td>\n",
              "    </tr>\n",
              "    <tr>\n",
              "      <th>8278</th>\n",
              "      <td>ANES2020TimeSeries_20210719</td>\n",
              "      <td>535421</td>\n",
              "      <td>-1</td>\n",
              "      <td>3</td>\n",
              "      <td>6</td>\n",
              "      <td>3</td>\n",
              "      <td>0</td>\n",
              "      <td>-2</td>\n",
              "      <td>-2</td>\n",
              "      <td>-2</td>\n",
              "      <td>0</td>\n",
              "      <td>0.292352</td>\n",
              "      <td>.16185256979966</td>\n",
              "      <td>2</td>\n",
              "      <td>8</td>\n",
              "      <td></td>\n",
              "      <td></td>\n",
              "      <td></td>\n",
              "      <td></td>\n",
              "      <td></td>\n",
              "      <td></td>\n",
              "      <td></td>\n",
              "      <td></td>\n",
              "      <td></td>\n",
              "      <td></td>\n",
              "      <td></td>\n",
              "      <td></td>\n",
              "      <td>0.313257</td>\n",
              "      <td>.219883189436025</td>\n",
              "      <td>2</td>\n",
              "      <td>8</td>\n",
              "      <td>0.300845</td>\n",
              "      <td>.182380347681117</td>\n",
              "      <td>2</td>\n",
              "      <td>8</td>\n",
              "      <td></td>\n",
              "      <td></td>\n",
              "      <td></td>\n",
              "      <td></td>\n",
              "      <td>1</td>\n",
              "      <td>...</td>\n",
              "      <td>-1</td>\n",
              "      <td>-1</td>\n",
              "      <td>-1</td>\n",
              "      <td>-1</td>\n",
              "      <td>-1</td>\n",
              "      <td>-1</td>\n",
              "      <td>-1. Inapplicable</td>\n",
              "      <td>-1</td>\n",
              "      <td>-1</td>\n",
              "      <td>-1</td>\n",
              "      <td>-1</td>\n",
              "      <td>-1</td>\n",
              "      <td>-1</td>\n",
              "      <td>12</td>\n",
              "      <td>-1. Inapplicable</td>\n",
              "      <td>-1</td>\n",
              "      <td>-1</td>\n",
              "      <td>-1. Inapplicable</td>\n",
              "      <td>-1</td>\n",
              "      <td>-1</td>\n",
              "      <td>Mark Robert Warner</td>\n",
              "      <td>1</td>\n",
              "      <td>Daniel MacArthur Gade</td>\n",
              "      <td>1</td>\n",
              "      <td>-1. Inapplicable</td>\n",
              "      <td>-1</td>\n",
              "      <td>-1</td>\n",
              "      <td>21</td>\n",
              "      <td>Qasim Rashid</td>\n",
              "      <td>1</td>\n",
              "      <td>Robert J. 'Rob' Wittman</td>\n",
              "      <td>1</td>\n",
              "      <td>-1. Inapplicable</td>\n",
              "      <td>-1</td>\n",
              "      <td>-1</td>\n",
              "      <td>81</td>\n",
              "      <td>-1. Inapplicable</td>\n",
              "      <td>-1</td>\n",
              "      <td>-1. Inapplicable</td>\n",
              "      <td>-1</td>\n",
              "    </tr>\n",
              "    <tr>\n",
              "      <th>8279</th>\n",
              "      <td>ANES2020TimeSeries_20210719</td>\n",
              "      <td>535469</td>\n",
              "      <td>-1</td>\n",
              "      <td>1</td>\n",
              "      <td>6</td>\n",
              "      <td>3</td>\n",
              "      <td>0</td>\n",
              "      <td>-2</td>\n",
              "      <td>-2</td>\n",
              "      <td>-2</td>\n",
              "      <td>0</td>\n",
              "      <td>0.248581</td>\n",
              "      <td>.206418191724203</td>\n",
              "      <td>2</td>\n",
              "      <td>10</td>\n",
              "      <td></td>\n",
              "      <td></td>\n",
              "      <td></td>\n",
              "      <td></td>\n",
              "      <td></td>\n",
              "      <td></td>\n",
              "      <td></td>\n",
              "      <td></td>\n",
              "      <td></td>\n",
              "      <td></td>\n",
              "      <td></td>\n",
              "      <td></td>\n",
              "      <td>0.380929</td>\n",
              "      <td>.370880169983597</td>\n",
              "      <td>2</td>\n",
              "      <td>10</td>\n",
              "      <td>0.365836</td>\n",
              "      <td>.307623581971555</td>\n",
              "      <td>2</td>\n",
              "      <td>10</td>\n",
              "      <td></td>\n",
              "      <td></td>\n",
              "      <td></td>\n",
              "      <td></td>\n",
              "      <td>1</td>\n",
              "      <td>...</td>\n",
              "      <td>1</td>\n",
              "      <td>1</td>\n",
              "      <td>1</td>\n",
              "      <td>4</td>\n",
              "      <td>1</td>\n",
              "      <td>2</td>\n",
              "      <td>DC2463</td>\n",
              "      <td>3</td>\n",
              "      <td>2</td>\n",
              "      <td>1</td>\n",
              "      <td>4</td>\n",
              "      <td>2</td>\n",
              "      <td>1</td>\n",
              "      <td>12</td>\n",
              "      <td>-1. Inapplicable</td>\n",
              "      <td>-1</td>\n",
              "      <td>-1</td>\n",
              "      <td>-1. Inapplicable</td>\n",
              "      <td>-1</td>\n",
              "      <td>-1</td>\n",
              "      <td>Mark Robert Warner</td>\n",
              "      <td>1</td>\n",
              "      <td>Daniel MacArthur Gade</td>\n",
              "      <td>1</td>\n",
              "      <td>-1. Inapplicable</td>\n",
              "      <td>-1</td>\n",
              "      <td>-1</td>\n",
              "      <td>24</td>\n",
              "      <td>-1. Inapplicable</td>\n",
              "      <td>-1</td>\n",
              "      <td>H. Morgan 'Morgan' Griffith</td>\n",
              "      <td>1</td>\n",
              "      <td>-1. Inapplicable</td>\n",
              "      <td>-1</td>\n",
              "      <td>-1</td>\n",
              "      <td>81</td>\n",
              "      <td>-1. Inapplicable</td>\n",
              "      <td>-1</td>\n",
              "      <td>-1. Inapplicable</td>\n",
              "      <td>-1</td>\n",
              "    </tr>\n",
              "  </tbody>\n",
              "</table>\n",
              "<p>8280 rows × 1771 columns</p>\n",
              "</div>"
            ],
            "text/plain": [
              "                          version  V200001  ...           V203526  V203527\n",
              "0     ANES2020TimeSeries_20210719   200015  ...  -1. Inapplicable       -1\n",
              "1     ANES2020TimeSeries_20210719   200022  ...  -1. Inapplicable       -1\n",
              "2     ANES2020TimeSeries_20210719   200039  ...  -1. Inapplicable       -1\n",
              "3     ANES2020TimeSeries_20210719   200046  ...  -1. Inapplicable       -1\n",
              "4     ANES2020TimeSeries_20210719   200053  ...  -1. Inapplicable       -1\n",
              "...                           ...      ...  ...               ...      ...\n",
              "8275  ANES2020TimeSeries_20210719   535315  ...  -1. Inapplicable       -1\n",
              "8276  ANES2020TimeSeries_20210719   535360  ...  -1. Inapplicable       -1\n",
              "8277  ANES2020TimeSeries_20210719   535414  ...  -1. Inapplicable       -1\n",
              "8278  ANES2020TimeSeries_20210719   535421  ...  -1. Inapplicable       -1\n",
              "8279  ANES2020TimeSeries_20210719   535469  ...  -1. Inapplicable       -1\n",
              "\n",
              "[8280 rows x 1771 columns]"
            ]
          },
          "metadata": {},
          "execution_count": 56
        }
      ]
    },
    {
      "cell_type": "code",
      "metadata": {
        "id": "4qyORF7kAUXR",
        "outputId": "ea3585e0-e801-4b29-c465-4c107a0868c9",
        "colab": {
          "base_uri": "https://localhost:8080/",
          "height": 306
        }
      },
      "source": [
        "df.plot(x=\"V201033\", kind='bar')"
      ],
      "execution_count": null,
      "outputs": [
        {
          "output_type": "error",
          "ename": "KeyboardInterrupt",
          "evalue": "ignored",
          "traceback": [
            "\u001b[0;31m---------------------------------------------------------------------------\u001b[0m",
            "\u001b[0;31mKeyboardInterrupt\u001b[0m                         Traceback (most recent call last)",
            "\u001b[0;32m<ipython-input-57-818e329f0f99>\u001b[0m in \u001b[0;36m<module>\u001b[0;34m()\u001b[0m\n\u001b[0;32m----> 1\u001b[0;31m \u001b[0mdf\u001b[0m\u001b[0;34m.\u001b[0m\u001b[0mplot\u001b[0m\u001b[0;34m(\u001b[0m\u001b[0mx\u001b[0m\u001b[0;34m=\u001b[0m\u001b[0;34m\"V201033\"\u001b[0m\u001b[0;34m,\u001b[0m \u001b[0mkind\u001b[0m\u001b[0;34m=\u001b[0m\u001b[0;34m'bar'\u001b[0m\u001b[0;34m)\u001b[0m\u001b[0;34m\u001b[0m\u001b[0;34m\u001b[0m\u001b[0m\n\u001b[0m",
            "\u001b[0;32m/usr/local/lib/python3.7/dist-packages/pandas/plotting/_core.py\u001b[0m in \u001b[0;36m__call__\u001b[0;34m(self, *args, **kwargs)\u001b[0m\n\u001b[1;32m    947\u001b[0m                     \u001b[0mdata\u001b[0m\u001b[0;34m.\u001b[0m\u001b[0mcolumns\u001b[0m \u001b[0;34m=\u001b[0m \u001b[0mlabel_name\u001b[0m\u001b[0;34m\u001b[0m\u001b[0;34m\u001b[0m\u001b[0m\n\u001b[1;32m    948\u001b[0m \u001b[0;34m\u001b[0m\u001b[0m\n\u001b[0;32m--> 949\u001b[0;31m         \u001b[0;32mreturn\u001b[0m \u001b[0mplot_backend\u001b[0m\u001b[0;34m.\u001b[0m\u001b[0mplot\u001b[0m\u001b[0;34m(\u001b[0m\u001b[0mdata\u001b[0m\u001b[0;34m,\u001b[0m \u001b[0mkind\u001b[0m\u001b[0;34m=\u001b[0m\u001b[0mkind\u001b[0m\u001b[0;34m,\u001b[0m \u001b[0;34m**\u001b[0m\u001b[0mkwargs\u001b[0m\u001b[0;34m)\u001b[0m\u001b[0;34m\u001b[0m\u001b[0;34m\u001b[0m\u001b[0m\n\u001b[0m\u001b[1;32m    950\u001b[0m \u001b[0;34m\u001b[0m\u001b[0m\n\u001b[1;32m    951\u001b[0m     \u001b[0m__call__\u001b[0m\u001b[0;34m.\u001b[0m\u001b[0m__doc__\u001b[0m \u001b[0;34m=\u001b[0m \u001b[0m__doc__\u001b[0m\u001b[0;34m\u001b[0m\u001b[0;34m\u001b[0m\u001b[0m\n",
            "\u001b[0;32m/usr/local/lib/python3.7/dist-packages/pandas/plotting/_matplotlib/__init__.py\u001b[0m in \u001b[0;36mplot\u001b[0;34m(data, kind, **kwargs)\u001b[0m\n\u001b[1;32m     59\u001b[0m             \u001b[0mkwargs\u001b[0m\u001b[0;34m[\u001b[0m\u001b[0;34m\"ax\"\u001b[0m\u001b[0;34m]\u001b[0m \u001b[0;34m=\u001b[0m \u001b[0mgetattr\u001b[0m\u001b[0;34m(\u001b[0m\u001b[0max\u001b[0m\u001b[0;34m,\u001b[0m \u001b[0;34m\"left_ax\"\u001b[0m\u001b[0;34m,\u001b[0m \u001b[0max\u001b[0m\u001b[0;34m)\u001b[0m\u001b[0;34m\u001b[0m\u001b[0;34m\u001b[0m\u001b[0m\n\u001b[1;32m     60\u001b[0m     \u001b[0mplot_obj\u001b[0m \u001b[0;34m=\u001b[0m \u001b[0mPLOT_CLASSES\u001b[0m\u001b[0;34m[\u001b[0m\u001b[0mkind\u001b[0m\u001b[0;34m]\u001b[0m\u001b[0;34m(\u001b[0m\u001b[0mdata\u001b[0m\u001b[0;34m,\u001b[0m \u001b[0;34m**\u001b[0m\u001b[0mkwargs\u001b[0m\u001b[0;34m)\u001b[0m\u001b[0;34m\u001b[0m\u001b[0;34m\u001b[0m\u001b[0m\n\u001b[0;32m---> 61\u001b[0;31m     \u001b[0mplot_obj\u001b[0m\u001b[0;34m.\u001b[0m\u001b[0mgenerate\u001b[0m\u001b[0;34m(\u001b[0m\u001b[0;34m)\u001b[0m\u001b[0;34m\u001b[0m\u001b[0;34m\u001b[0m\u001b[0m\n\u001b[0m\u001b[1;32m     62\u001b[0m     \u001b[0mplot_obj\u001b[0m\u001b[0;34m.\u001b[0m\u001b[0mdraw\u001b[0m\u001b[0;34m(\u001b[0m\u001b[0;34m)\u001b[0m\u001b[0;34m\u001b[0m\u001b[0;34m\u001b[0m\u001b[0m\n\u001b[1;32m     63\u001b[0m     \u001b[0;32mreturn\u001b[0m \u001b[0mplot_obj\u001b[0m\u001b[0;34m.\u001b[0m\u001b[0mresult\u001b[0m\u001b[0;34m\u001b[0m\u001b[0;34m\u001b[0m\u001b[0m\n",
            "\u001b[0;32m/usr/local/lib/python3.7/dist-packages/pandas/plotting/_matplotlib/core.py\u001b[0m in \u001b[0;36mgenerate\u001b[0;34m(self)\u001b[0m\n\u001b[1;32m    269\u001b[0m         \u001b[0mself\u001b[0m\u001b[0;34m.\u001b[0m\u001b[0m_compute_plot_data\u001b[0m\u001b[0;34m(\u001b[0m\u001b[0;34m)\u001b[0m\u001b[0;34m\u001b[0m\u001b[0;34m\u001b[0m\u001b[0m\n\u001b[1;32m    270\u001b[0m         \u001b[0mself\u001b[0m\u001b[0;34m.\u001b[0m\u001b[0m_setup_subplots\u001b[0m\u001b[0;34m(\u001b[0m\u001b[0;34m)\u001b[0m\u001b[0;34m\u001b[0m\u001b[0;34m\u001b[0m\u001b[0m\n\u001b[0;32m--> 271\u001b[0;31m         \u001b[0mself\u001b[0m\u001b[0;34m.\u001b[0m\u001b[0m_make_plot\u001b[0m\u001b[0;34m(\u001b[0m\u001b[0;34m)\u001b[0m\u001b[0;34m\u001b[0m\u001b[0;34m\u001b[0m\u001b[0m\n\u001b[0m\u001b[1;32m    272\u001b[0m         \u001b[0mself\u001b[0m\u001b[0;34m.\u001b[0m\u001b[0m_add_table\u001b[0m\u001b[0;34m(\u001b[0m\u001b[0;34m)\u001b[0m\u001b[0;34m\u001b[0m\u001b[0;34m\u001b[0m\u001b[0m\n\u001b[1;32m    273\u001b[0m         \u001b[0mself\u001b[0m\u001b[0;34m.\u001b[0m\u001b[0m_make_legend\u001b[0m\u001b[0;34m(\u001b[0m\u001b[0;34m)\u001b[0m\u001b[0;34m\u001b[0m\u001b[0;34m\u001b[0m\u001b[0m\n",
            "\u001b[0;32m/usr/local/lib/python3.7/dist-packages/pandas/plotting/_matplotlib/core.py\u001b[0m in \u001b[0;36m_make_plot\u001b[0;34m(self)\u001b[0m\n\u001b[1;32m   1448\u001b[0m                     \u001b[0mlabel\u001b[0m\u001b[0;34m=\u001b[0m\u001b[0mlabel\u001b[0m\u001b[0;34m,\u001b[0m\u001b[0;34m\u001b[0m\u001b[0;34m\u001b[0m\u001b[0m\n\u001b[1;32m   1449\u001b[0m                     \u001b[0mlog\u001b[0m\u001b[0;34m=\u001b[0m\u001b[0mself\u001b[0m\u001b[0;34m.\u001b[0m\u001b[0mlog\u001b[0m\u001b[0;34m,\u001b[0m\u001b[0;34m\u001b[0m\u001b[0;34m\u001b[0m\u001b[0m\n\u001b[0;32m-> 1450\u001b[0;31m                     \u001b[0;34m**\u001b[0m\u001b[0mkwds\u001b[0m\u001b[0;34m,\u001b[0m\u001b[0;34m\u001b[0m\u001b[0;34m\u001b[0m\u001b[0m\n\u001b[0m\u001b[1;32m   1451\u001b[0m                 )\n\u001b[1;32m   1452\u001b[0m             \u001b[0mself\u001b[0m\u001b[0;34m.\u001b[0m\u001b[0m_add_legend_handle\u001b[0m\u001b[0;34m(\u001b[0m\u001b[0mrect\u001b[0m\u001b[0;34m,\u001b[0m \u001b[0mlabel\u001b[0m\u001b[0;34m,\u001b[0m \u001b[0mindex\u001b[0m\u001b[0;34m=\u001b[0m\u001b[0mi\u001b[0m\u001b[0;34m)\u001b[0m\u001b[0;34m\u001b[0m\u001b[0;34m\u001b[0m\u001b[0m\n",
            "\u001b[0;32m/usr/local/lib/python3.7/dist-packages/pandas/plotting/_matplotlib/core.py\u001b[0m in \u001b[0;36m_plot\u001b[0;34m(cls, ax, x, y, w, start, log, **kwds)\u001b[0m\n\u001b[1;32m   1371\u001b[0m     \u001b[0;34m@\u001b[0m\u001b[0mclassmethod\u001b[0m\u001b[0;34m\u001b[0m\u001b[0;34m\u001b[0m\u001b[0m\n\u001b[1;32m   1372\u001b[0m     \u001b[0;32mdef\u001b[0m \u001b[0m_plot\u001b[0m\u001b[0;34m(\u001b[0m\u001b[0mcls\u001b[0m\u001b[0;34m,\u001b[0m \u001b[0max\u001b[0m\u001b[0;34m,\u001b[0m \u001b[0mx\u001b[0m\u001b[0;34m,\u001b[0m \u001b[0my\u001b[0m\u001b[0;34m,\u001b[0m \u001b[0mw\u001b[0m\u001b[0;34m,\u001b[0m \u001b[0mstart\u001b[0m\u001b[0;34m=\u001b[0m\u001b[0;36m0\u001b[0m\u001b[0;34m,\u001b[0m \u001b[0mlog\u001b[0m\u001b[0;34m=\u001b[0m\u001b[0;32mFalse\u001b[0m\u001b[0;34m,\u001b[0m \u001b[0;34m**\u001b[0m\u001b[0mkwds\u001b[0m\u001b[0;34m)\u001b[0m\u001b[0;34m:\u001b[0m\u001b[0;34m\u001b[0m\u001b[0;34m\u001b[0m\u001b[0m\n\u001b[0;32m-> 1373\u001b[0;31m         \u001b[0;32mreturn\u001b[0m \u001b[0max\u001b[0m\u001b[0;34m.\u001b[0m\u001b[0mbar\u001b[0m\u001b[0;34m(\u001b[0m\u001b[0mx\u001b[0m\u001b[0;34m,\u001b[0m \u001b[0my\u001b[0m\u001b[0;34m,\u001b[0m \u001b[0mw\u001b[0m\u001b[0;34m,\u001b[0m \u001b[0mbottom\u001b[0m\u001b[0;34m=\u001b[0m\u001b[0mstart\u001b[0m\u001b[0;34m,\u001b[0m \u001b[0mlog\u001b[0m\u001b[0;34m=\u001b[0m\u001b[0mlog\u001b[0m\u001b[0;34m,\u001b[0m \u001b[0;34m**\u001b[0m\u001b[0mkwds\u001b[0m\u001b[0;34m)\u001b[0m\u001b[0;34m\u001b[0m\u001b[0;34m\u001b[0m\u001b[0m\n\u001b[0m\u001b[1;32m   1374\u001b[0m \u001b[0;34m\u001b[0m\u001b[0m\n\u001b[1;32m   1375\u001b[0m     \u001b[0;34m@\u001b[0m\u001b[0mproperty\u001b[0m\u001b[0;34m\u001b[0m\u001b[0;34m\u001b[0m\u001b[0m\n",
            "\u001b[0;32m/usr/local/lib/python3.7/dist-packages/matplotlib/__init__.py\u001b[0m in \u001b[0;36minner\u001b[0;34m(ax, data, *args, **kwargs)\u001b[0m\n\u001b[1;32m   1563\u001b[0m     \u001b[0;32mdef\u001b[0m \u001b[0minner\u001b[0m\u001b[0;34m(\u001b[0m\u001b[0max\u001b[0m\u001b[0;34m,\u001b[0m \u001b[0;34m*\u001b[0m\u001b[0margs\u001b[0m\u001b[0;34m,\u001b[0m \u001b[0mdata\u001b[0m\u001b[0;34m=\u001b[0m\u001b[0;32mNone\u001b[0m\u001b[0;34m,\u001b[0m \u001b[0;34m**\u001b[0m\u001b[0mkwargs\u001b[0m\u001b[0;34m)\u001b[0m\u001b[0;34m:\u001b[0m\u001b[0;34m\u001b[0m\u001b[0;34m\u001b[0m\u001b[0m\n\u001b[1;32m   1564\u001b[0m         \u001b[0;32mif\u001b[0m \u001b[0mdata\u001b[0m \u001b[0;32mis\u001b[0m \u001b[0;32mNone\u001b[0m\u001b[0;34m:\u001b[0m\u001b[0;34m\u001b[0m\u001b[0;34m\u001b[0m\u001b[0m\n\u001b[0;32m-> 1565\u001b[0;31m             \u001b[0;32mreturn\u001b[0m \u001b[0mfunc\u001b[0m\u001b[0;34m(\u001b[0m\u001b[0max\u001b[0m\u001b[0;34m,\u001b[0m \u001b[0;34m*\u001b[0m\u001b[0mmap\u001b[0m\u001b[0;34m(\u001b[0m\u001b[0msanitize_sequence\u001b[0m\u001b[0;34m,\u001b[0m \u001b[0margs\u001b[0m\u001b[0;34m)\u001b[0m\u001b[0;34m,\u001b[0m \u001b[0;34m**\u001b[0m\u001b[0mkwargs\u001b[0m\u001b[0;34m)\u001b[0m\u001b[0;34m\u001b[0m\u001b[0;34m\u001b[0m\u001b[0m\n\u001b[0m\u001b[1;32m   1566\u001b[0m \u001b[0;34m\u001b[0m\u001b[0m\n\u001b[1;32m   1567\u001b[0m         \u001b[0mbound\u001b[0m \u001b[0;34m=\u001b[0m \u001b[0mnew_sig\u001b[0m\u001b[0;34m.\u001b[0m\u001b[0mbind\u001b[0m\u001b[0;34m(\u001b[0m\u001b[0max\u001b[0m\u001b[0;34m,\u001b[0m \u001b[0;34m*\u001b[0m\u001b[0margs\u001b[0m\u001b[0;34m,\u001b[0m \u001b[0;34m**\u001b[0m\u001b[0mkwargs\u001b[0m\u001b[0;34m)\u001b[0m\u001b[0;34m\u001b[0m\u001b[0;34m\u001b[0m\u001b[0m\n",
            "\u001b[0;32m/usr/local/lib/python3.7/dist-packages/matplotlib/axes/_axes.py\u001b[0m in \u001b[0;36mbar\u001b[0;34m(self, x, height, width, bottom, align, **kwargs)\u001b[0m\n\u001b[1;32m   2402\u001b[0m             \u001b[0;32melif\u001b[0m \u001b[0morientation\u001b[0m \u001b[0;34m==\u001b[0m \u001b[0;34m'horizontal'\u001b[0m\u001b[0;34m:\u001b[0m\u001b[0;34m\u001b[0m\u001b[0;34m\u001b[0m\u001b[0m\n\u001b[1;32m   2403\u001b[0m                 \u001b[0mr\u001b[0m\u001b[0;34m.\u001b[0m\u001b[0msticky_edges\u001b[0m\u001b[0;34m.\u001b[0m\u001b[0mx\u001b[0m\u001b[0;34m.\u001b[0m\u001b[0mappend\u001b[0m\u001b[0;34m(\u001b[0m\u001b[0ml\u001b[0m\u001b[0;34m)\u001b[0m\u001b[0;34m\u001b[0m\u001b[0;34m\u001b[0m\u001b[0m\n\u001b[0;32m-> 2404\u001b[0;31m             \u001b[0mself\u001b[0m\u001b[0;34m.\u001b[0m\u001b[0madd_patch\u001b[0m\u001b[0;34m(\u001b[0m\u001b[0mr\u001b[0m\u001b[0;34m)\u001b[0m\u001b[0;34m\u001b[0m\u001b[0;34m\u001b[0m\u001b[0m\n\u001b[0m\u001b[1;32m   2405\u001b[0m             \u001b[0mpatches\u001b[0m\u001b[0;34m.\u001b[0m\u001b[0mappend\u001b[0m\u001b[0;34m(\u001b[0m\u001b[0mr\u001b[0m\u001b[0;34m)\u001b[0m\u001b[0;34m\u001b[0m\u001b[0;34m\u001b[0m\u001b[0m\n\u001b[1;32m   2406\u001b[0m \u001b[0;34m\u001b[0m\u001b[0m\n",
            "\u001b[0;32m/usr/local/lib/python3.7/dist-packages/matplotlib/axes/_base.py\u001b[0m in \u001b[0;36madd_patch\u001b[0;34m(self, p)\u001b[0m\n\u001b[1;32m   1916\u001b[0m         \u001b[0mself\u001b[0m\u001b[0;34m.\u001b[0m\u001b[0m_set_artist_props\u001b[0m\u001b[0;34m(\u001b[0m\u001b[0mp\u001b[0m\u001b[0;34m)\u001b[0m\u001b[0;34m\u001b[0m\u001b[0;34m\u001b[0m\u001b[0m\n\u001b[1;32m   1917\u001b[0m         \u001b[0;32mif\u001b[0m \u001b[0mp\u001b[0m\u001b[0;34m.\u001b[0m\u001b[0mget_clip_path\u001b[0m\u001b[0;34m(\u001b[0m\u001b[0;34m)\u001b[0m \u001b[0;32mis\u001b[0m \u001b[0;32mNone\u001b[0m\u001b[0;34m:\u001b[0m\u001b[0;34m\u001b[0m\u001b[0;34m\u001b[0m\u001b[0m\n\u001b[0;32m-> 1918\u001b[0;31m             \u001b[0mp\u001b[0m\u001b[0;34m.\u001b[0m\u001b[0mset_clip_path\u001b[0m\u001b[0;34m(\u001b[0m\u001b[0mself\u001b[0m\u001b[0;34m.\u001b[0m\u001b[0mpatch\u001b[0m\u001b[0;34m)\u001b[0m\u001b[0;34m\u001b[0m\u001b[0;34m\u001b[0m\u001b[0m\n\u001b[0m\u001b[1;32m   1919\u001b[0m         \u001b[0mself\u001b[0m\u001b[0;34m.\u001b[0m\u001b[0m_update_patch_limits\u001b[0m\u001b[0;34m(\u001b[0m\u001b[0mp\u001b[0m\u001b[0;34m)\u001b[0m\u001b[0;34m\u001b[0m\u001b[0;34m\u001b[0m\u001b[0m\n\u001b[1;32m   1920\u001b[0m         \u001b[0mself\u001b[0m\u001b[0;34m.\u001b[0m\u001b[0mpatches\u001b[0m\u001b[0;34m.\u001b[0m\u001b[0mappend\u001b[0m\u001b[0;34m(\u001b[0m\u001b[0mp\u001b[0m\u001b[0;34m)\u001b[0m\u001b[0;34m\u001b[0m\u001b[0;34m\u001b[0m\u001b[0m\n",
            "\u001b[0;32m/usr/local/lib/python3.7/dist-packages/matplotlib/artist.py\u001b[0m in \u001b[0;36mset_clip_path\u001b[0;34m(self, path, transform)\u001b[0m\n\u001b[1;32m    760\u001b[0m             \u001b[0;32mif\u001b[0m \u001b[0misinstance\u001b[0m\u001b[0;34m(\u001b[0m\u001b[0mpath\u001b[0m\u001b[0;34m,\u001b[0m \u001b[0mRectangle\u001b[0m\u001b[0;34m)\u001b[0m\u001b[0;34m:\u001b[0m\u001b[0;34m\u001b[0m\u001b[0;34m\u001b[0m\u001b[0m\n\u001b[1;32m    761\u001b[0m                 self.clipbox = TransformedBbox(Bbox.unit(),\n\u001b[0;32m--> 762\u001b[0;31m                                                path.get_transform())\n\u001b[0m\u001b[1;32m    763\u001b[0m                 \u001b[0mself\u001b[0m\u001b[0;34m.\u001b[0m\u001b[0m_clippath\u001b[0m \u001b[0;34m=\u001b[0m \u001b[0;32mNone\u001b[0m\u001b[0;34m\u001b[0m\u001b[0;34m\u001b[0m\u001b[0m\n\u001b[1;32m    764\u001b[0m                 \u001b[0msuccess\u001b[0m \u001b[0;34m=\u001b[0m \u001b[0;32mTrue\u001b[0m\u001b[0;34m\u001b[0m\u001b[0;34m\u001b[0m\u001b[0m\n",
            "\u001b[0;32m/usr/local/lib/python3.7/dist-packages/matplotlib/patches.py\u001b[0m in \u001b[0;36mget_transform\u001b[0;34m(self)\u001b[0m\n\u001b[1;32m    260\u001b[0m     \u001b[0;32mdef\u001b[0m \u001b[0mget_transform\u001b[0m\u001b[0;34m(\u001b[0m\u001b[0mself\u001b[0m\u001b[0;34m)\u001b[0m\u001b[0;34m:\u001b[0m\u001b[0;34m\u001b[0m\u001b[0;34m\u001b[0m\u001b[0m\n\u001b[1;32m    261\u001b[0m         \u001b[0;34m\"\"\"Return the `~.transforms.Transform` applied to the `Patch`.\"\"\"\u001b[0m\u001b[0;34m\u001b[0m\u001b[0;34m\u001b[0m\u001b[0m\n\u001b[0;32m--> 262\u001b[0;31m         \u001b[0;32mreturn\u001b[0m \u001b[0mself\u001b[0m\u001b[0;34m.\u001b[0m\u001b[0mget_patch_transform\u001b[0m\u001b[0;34m(\u001b[0m\u001b[0;34m)\u001b[0m \u001b[0;34m+\u001b[0m \u001b[0martist\u001b[0m\u001b[0;34m.\u001b[0m\u001b[0mArtist\u001b[0m\u001b[0;34m.\u001b[0m\u001b[0mget_transform\u001b[0m\u001b[0;34m(\u001b[0m\u001b[0mself\u001b[0m\u001b[0;34m)\u001b[0m\u001b[0;34m\u001b[0m\u001b[0;34m\u001b[0m\u001b[0m\n\u001b[0m\u001b[1;32m    263\u001b[0m \u001b[0;34m\u001b[0m\u001b[0m\n\u001b[1;32m    264\u001b[0m     \u001b[0;32mdef\u001b[0m \u001b[0mget_data_transform\u001b[0m\u001b[0;34m(\u001b[0m\u001b[0mself\u001b[0m\u001b[0;34m)\u001b[0m\u001b[0;34m:\u001b[0m\u001b[0;34m\u001b[0m\u001b[0;34m\u001b[0m\u001b[0m\n",
            "\u001b[0;32m/usr/local/lib/python3.7/dist-packages/matplotlib/patches.py\u001b[0m in \u001b[0;36mget_patch_transform\u001b[0;34m(self)\u001b[0m\n\u001b[1;32m    775\u001b[0m \u001b[0;34m\u001b[0m\u001b[0m\n\u001b[1;32m    776\u001b[0m     \u001b[0;32mdef\u001b[0m \u001b[0mget_patch_transform\u001b[0m\u001b[0;34m(\u001b[0m\u001b[0mself\u001b[0m\u001b[0;34m)\u001b[0m\u001b[0;34m:\u001b[0m\u001b[0;34m\u001b[0m\u001b[0;34m\u001b[0m\u001b[0m\n\u001b[0;32m--> 777\u001b[0;31m         \u001b[0mself\u001b[0m\u001b[0;34m.\u001b[0m\u001b[0m_update_patch_transform\u001b[0m\u001b[0;34m(\u001b[0m\u001b[0;34m)\u001b[0m\u001b[0;34m\u001b[0m\u001b[0;34m\u001b[0m\u001b[0m\n\u001b[0m\u001b[1;32m    778\u001b[0m         \u001b[0;32mreturn\u001b[0m \u001b[0mself\u001b[0m\u001b[0;34m.\u001b[0m\u001b[0m_rect_transform\u001b[0m\u001b[0;34m\u001b[0m\u001b[0;34m\u001b[0m\u001b[0m\n\u001b[1;32m    779\u001b[0m \u001b[0;34m\u001b[0m\u001b[0m\n",
            "\u001b[0;32m/usr/local/lib/python3.7/dist-packages/matplotlib/patches.py\u001b[0m in \u001b[0;36m_update_patch_transform\u001b[0;34m(self)\u001b[0m\n\u001b[1;32m    754\u001b[0m         \"\"\"\n\u001b[1;32m    755\u001b[0m         \u001b[0mx0\u001b[0m\u001b[0;34m,\u001b[0m \u001b[0my0\u001b[0m\u001b[0;34m,\u001b[0m \u001b[0mx1\u001b[0m\u001b[0;34m,\u001b[0m \u001b[0my1\u001b[0m \u001b[0;34m=\u001b[0m \u001b[0mself\u001b[0m\u001b[0;34m.\u001b[0m\u001b[0m_convert_units\u001b[0m\u001b[0;34m(\u001b[0m\u001b[0;34m)\u001b[0m\u001b[0;34m\u001b[0m\u001b[0;34m\u001b[0m\u001b[0m\n\u001b[0;32m--> 756\u001b[0;31m         \u001b[0mbbox\u001b[0m \u001b[0;34m=\u001b[0m \u001b[0mtransforms\u001b[0m\u001b[0;34m.\u001b[0m\u001b[0mBbox\u001b[0m\u001b[0;34m.\u001b[0m\u001b[0mfrom_extents\u001b[0m\u001b[0;34m(\u001b[0m\u001b[0mx0\u001b[0m\u001b[0;34m,\u001b[0m \u001b[0my0\u001b[0m\u001b[0;34m,\u001b[0m \u001b[0mx1\u001b[0m\u001b[0;34m,\u001b[0m \u001b[0my1\u001b[0m\u001b[0;34m)\u001b[0m\u001b[0;34m\u001b[0m\u001b[0;34m\u001b[0m\u001b[0m\n\u001b[0m\u001b[1;32m    757\u001b[0m         \u001b[0mrot_trans\u001b[0m \u001b[0;34m=\u001b[0m \u001b[0mtransforms\u001b[0m\u001b[0;34m.\u001b[0m\u001b[0mAffine2D\u001b[0m\u001b[0;34m(\u001b[0m\u001b[0;34m)\u001b[0m\u001b[0;34m\u001b[0m\u001b[0;34m\u001b[0m\u001b[0m\n\u001b[1;32m    758\u001b[0m         \u001b[0mrot_trans\u001b[0m\u001b[0;34m.\u001b[0m\u001b[0mrotate_deg_around\u001b[0m\u001b[0;34m(\u001b[0m\u001b[0mx0\u001b[0m\u001b[0;34m,\u001b[0m \u001b[0my0\u001b[0m\u001b[0;34m,\u001b[0m \u001b[0mself\u001b[0m\u001b[0;34m.\u001b[0m\u001b[0mangle\u001b[0m\u001b[0;34m)\u001b[0m\u001b[0;34m\u001b[0m\u001b[0;34m\u001b[0m\u001b[0m\n",
            "\u001b[0;32m/usr/local/lib/python3.7/dist-packages/matplotlib/transforms.py\u001b[0m in \u001b[0;36mfrom_extents\u001b[0;34m(*args)\u001b[0m\n\u001b[1;32m    787\u001b[0m         \u001b[0mThe\u001b[0m \u001b[0;34m*\u001b[0m\u001b[0my\u001b[0m\u001b[0;34m*\u001b[0m\u001b[0;34m-\u001b[0m\u001b[0maxis\u001b[0m \u001b[0mincreases\u001b[0m \u001b[0mupwards\u001b[0m\u001b[0;34m.\u001b[0m\u001b[0;34m\u001b[0m\u001b[0;34m\u001b[0m\u001b[0m\n\u001b[1;32m    788\u001b[0m         \"\"\"\n\u001b[0;32m--> 789\u001b[0;31m         \u001b[0mpoints\u001b[0m \u001b[0;34m=\u001b[0m \u001b[0mnp\u001b[0m\u001b[0;34m.\u001b[0m\u001b[0marray\u001b[0m\u001b[0;34m(\u001b[0m\u001b[0margs\u001b[0m\u001b[0;34m,\u001b[0m \u001b[0mdtype\u001b[0m\u001b[0;34m=\u001b[0m\u001b[0mfloat\u001b[0m\u001b[0;34m)\u001b[0m\u001b[0;34m.\u001b[0m\u001b[0mreshape\u001b[0m\u001b[0;34m(\u001b[0m\u001b[0;36m2\u001b[0m\u001b[0;34m,\u001b[0m \u001b[0;36m2\u001b[0m\u001b[0;34m)\u001b[0m\u001b[0;34m\u001b[0m\u001b[0;34m\u001b[0m\u001b[0m\n\u001b[0m\u001b[1;32m    790\u001b[0m         \u001b[0;32mreturn\u001b[0m \u001b[0mBbox\u001b[0m\u001b[0;34m(\u001b[0m\u001b[0mpoints\u001b[0m\u001b[0;34m)\u001b[0m\u001b[0;34m\u001b[0m\u001b[0;34m\u001b[0m\u001b[0m\n\u001b[1;32m    791\u001b[0m \u001b[0;34m\u001b[0m\u001b[0m\n",
            "\u001b[0;31mKeyboardInterrupt\u001b[0m: "
          ]
        }
      ]
    },
    {
      "cell_type": "markdown",
      "metadata": {
        "id": "g_UNpeuM7Rdd"
      },
      "source": [
        "## Working with Data!\n",
        "\n",
        "\n",
        "\n"
      ]
    },
    {
      "cell_type": "markdown",
      "metadata": {
        "id": "O6yybZTM__Vy"
      },
      "source": [
        "We can start "
      ]
    },
    {
      "cell_type": "markdown",
      "metadata": {
        "id": "9KPIu75v-ngg"
      },
      "source": [
        "![](https://i.redd.it/ki8fpi50vy811.gif)"
      ]
    }
  ]
}