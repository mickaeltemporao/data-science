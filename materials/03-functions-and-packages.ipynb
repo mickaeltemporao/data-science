{
  "nbformat": 4,
  "nbformat_minor": 0,
  "metadata": {
    "colab": {
      "name": "03-functions-and-packages.ipynb",
      "provenance": [],
      "collapsed_sections": []
    },
    "kernelspec": {
      "name": "python3",
      "display_name": "Python 3"
    }
  },
  "cells": [
    {
      "cell_type": "markdown",
      "metadata": {
        "id": "sH747xtD4w0u"
      },
      "source": [
        "# Functions and Packages\n",
        "\n"
      ]
    },
    {
      "cell_type": "markdown",
      "metadata": {
        "id": "wCe_HVuiof1G"
      },
      "source": [
        "## Learning Objectives\n",
        "- Understand functions and why they matter.\n",
        "- Learn to define functions.\n",
        "- Learn to use other modules and packages.\n",
        "\n"
      ]
    },
    {
      "cell_type": "markdown",
      "metadata": {
        "id": "4S2d9EOoog8P"
      },
      "source": [
        "## Functions\n",
        "A function is a group of related instructions that perform a specific task when you call the function. You can pass data, known as parameters, into a function. A function can return an output as a result.\n",
        "\n",
        "- Allows us to organized and manage code. \n",
        "- Helps avoiding repetition.\n",
        "- Makes code reusable!\n",
        "\n",
        "The general form that a function takes is:\n",
        "\n",
        "```python\n",
        "# Calling a function \n",
        "function_name(parameters)\n",
        "\n",
        "# Calling a function and saving the output into a new object \n",
        "output = function_name(parameters)\n",
        "```\n",
        "\n"
      ]
    },
    {
      "cell_type": "markdown",
      "metadata": {
        "id": "USloqUW_ojbS"
      },
      "source": [
        "### Hack Time\n",
        "\n",
        "Which functions have we used until now?"
      ]
    },
    {
      "cell_type": "code",
      "metadata": {
        "id": "9TfTXOMi4xtW"
      },
      "source": [
        "# Write the name of some functions that we used in the previous notebooks \n",
        "# Use comments to describe what these functions do.\n"
      ],
      "execution_count": null,
      "outputs": []
    },
    {
      "cell_type": "code",
      "metadata": {
        "id": "7h6qDREN5vs9"
      },
      "source": [
        "# What is the type of these functions?\n"
      ],
      "execution_count": null,
      "outputs": []
    },
    {
      "cell_type": "code",
      "metadata": {
        "id": "2MWkDyAz53_b"
      },
      "source": [
        "# What is the type of the type function?\n"
      ],
      "execution_count": null,
      "outputs": []
    },
    {
      "cell_type": "markdown",
      "metadata": {
        "id": "6mVVrtkC594K"
      },
      "source": [
        "## The Help Function\n",
        "The `help()` function can help you get information on any python object. You can pass any object to the help function to get help on the object \n",
        "```\n",
        "help(my_object)\n",
        "```\n",
        "\n",
        "Similarly, you can use the question mark shortcut by simply writing a question mark followed by your object name.\n",
        "\n",
        "```\n",
        "?my_object\n",
        "```\n",
        "\n",
        "The help/? function can also provide you with useful examples.\n",
        "\n",
        "\n",
        "**TIP:** Everytime you see something new, use the help function!\n"
      ]
    },
    {
      "cell_type": "code",
      "metadata": {
        "id": "EdCZOly08QV8"
      },
      "source": [
        "# Using the help function to learn about the `len` function.\n",
        "help(len)"
      ],
      "execution_count": null,
      "outputs": []
    },
    {
      "cell_type": "markdown",
      "metadata": {
        "id": "_Hzr_1IbtSo5"
      },
      "source": [
        "or"
      ]
    },
    {
      "cell_type": "code",
      "metadata": {
        "id": "7TZolOdUtUf2"
      },
      "source": [
        "# Using the help function to learn about the `len` function.\n",
        "?len"
      ],
      "execution_count": null,
      "outputs": []
    },
    {
      "cell_type": "markdown",
      "metadata": {
        "id": "ZFklJTjM8U-z"
      },
      "source": [
        "### Hack Time"
      ]
    },
    {
      "cell_type": "code",
      "metadata": {
        "id": "ow4LFNjq8RF6"
      },
      "source": [
        "# Use the help function to learn about the type function.\n"
      ],
      "execution_count": null,
      "outputs": []
    },
    {
      "cell_type": "code",
      "metadata": {
        "id": "l6pHIl2b5j7X"
      },
      "source": [
        "# Use the help function to learn about the help function.\n"
      ],
      "execution_count": null,
      "outputs": []
    },
    {
      "cell_type": "code",
      "metadata": {
        "id": "_xgOvtST6EvI"
      },
      "source": [
        "# Create a list object \n",
        "\n",
        "# Pass it to the help function\n"
      ],
      "execution_count": null,
      "outputs": []
    },
    {
      "cell_type": "code",
      "metadata": {
        "id": "OPaMOF7Q-HVL"
      },
      "source": [
        "# Try some of the list methods\n"
      ],
      "execution_count": null,
      "outputs": []
    },
    {
      "cell_type": "code",
      "metadata": {
        "id": "nt6dixVJ-Mtr"
      },
      "source": [
        "# Pass one of these methods to the help function\n"
      ],
      "execution_count": null,
      "outputs": []
    },
    {
      "cell_type": "code",
      "metadata": {
        "id": "F8Lzcjyl7lXz"
      },
      "source": [
        "# Use the help function to learn about the `print` function. Notice the parameters?\n"
      ],
      "execution_count": null,
      "outputs": []
    },
    {
      "cell_type": "markdown",
      "metadata": {
        "id": "iXZA63LLszYL"
      },
      "source": [
        "## Function Parameters \n",
        "\n",
        "The help function also gives you information on the object parameters.\n",
        "\n"
      ]
    },
    {
      "cell_type": "markdown",
      "metadata": {
        "id": "aqCJQLGCotQc"
      },
      "source": [
        "### Hack Time"
      ]
    },
    {
      "cell_type": "code",
      "metadata": {
        "id": "oVMn_7bat4-4"
      },
      "source": [
        "# What are the parameters of the print function?\n"
      ],
      "execution_count": null,
      "outputs": []
    },
    {
      "cell_type": "code",
      "metadata": {
        "id": "sSV0p23_t9bs"
      },
      "source": [
        "# Print some text.\n",
        "\n",
        "# Print some text using different parameters.\n"
      ],
      "execution_count": null,
      "outputs": []
    },
    {
      "cell_type": "markdown",
      "metadata": {
        "id": "gOkBdOWM5wVw"
      },
      "source": [
        "## Methods\n",
        "Methods are functions that associated with a specific type of object.\n",
        "\n",
        "The general form that methods take is:\n",
        "```python\n",
        "# Calling an object method \n",
        "object.method(parameters)\n",
        "\n",
        "# Calling an object method with a parameter\n",
        "object.method(parameters)\n",
        "```\n",
        "\n",
        "Objects have functions that are specific to the object itself!"
      ]
    },
    {
      "cell_type": "markdown",
      "metadata": {
        "id": "QEEPoIRoDeIt"
      },
      "source": [
        "### Hack Time"
      ]
    },
    {
      "cell_type": "code",
      "metadata": {
        "id": "pQ56Bdqh92to"
      },
      "source": [
        "# Create a str object containing a sentence\n"
      ],
      "execution_count": null,
      "outputs": []
    },
    {
      "cell_type": "code",
      "metadata": {
        "id": "bT0j8oz9DazY"
      },
      "source": [
        "# Pass it to the help function\n"
      ],
      "execution_count": null,
      "outputs": []
    },
    {
      "cell_type": "code",
      "metadata": {
        "id": "Xm_EKDggC7VY"
      },
      "source": [
        "# Try one of the string methods\n"
      ],
      "execution_count": null,
      "outputs": []
    },
    {
      "cell_type": "code",
      "metadata": {
        "id": "DO0bu4wpDYTh"
      },
      "source": [
        "# You can also pass any string method to the help function.\n"
      ],
      "execution_count": null,
      "outputs": []
    },
    {
      "cell_type": "code",
      "metadata": {
        "id": "BC4EaSSlDoJm"
      },
      "source": [
        "# Compare the str methods with the list methods\n",
        "help(\"\")\n",
        "print(\"===================================\")\n",
        "help([])"
      ],
      "execution_count": null,
      "outputs": []
    },
    {
      "cell_type": "markdown",
      "metadata": {
        "id": "qXL5O4Cv7K-S"
      },
      "source": [
        "Each type of data has its own set of methods.\n",
        "\n"
      ]
    },
    {
      "cell_type": "code",
      "metadata": {
        "id": "VzAgkeS57KbI"
      },
      "source": [
        "# Find a method that can help you to count the number of times a party won the presidential election?\n",
        "party = [\"Dem\", \"Rep\", \"Dem\", \"Dem\", \"Rep\", \"Rep\", \"Dem\"]\n"
      ],
      "execution_count": null,
      "outputs": []
    },
    {
      "cell_type": "markdown",
      "metadata": {
        "id": "4L7iBdgP7NdW"
      },
      "source": [
        "You can also chain methods.\n"
      ]
    },
    {
      "cell_type": "code",
      "metadata": {
        "id": "LoTscrd78GV6"
      },
      "source": [
        "# Use your previously created str object and chain the lower and count methods together\n"
      ],
      "execution_count": null,
      "outputs": []
    },
    {
      "cell_type": "markdown",
      "metadata": {
        "id": "8QsegVDy5onT"
      },
      "source": [
        "## Define your functions\n",
        "\n",
        "When you need to repeatedly do a series of instructions, you should define a function with those instructions.\n",
        "\n",
        "#### The syntax of Function\n",
        "```python\n",
        "def function_name(parameters):\n",
        "    \"\"\"A documentation string explaining what the function does.\"\"\"\n",
        "    temporary_output = some_instructions()\n",
        "    final_output = some_more_instructions(temporary_output)\n",
        "    return final_output\n",
        "```\n",
        "\n",
        "A function definition consists of following components:\n",
        "- The keyword `def` marks the start of a function header.\n",
        "- A function name to uniquely identify it and use the function.\n",
        "- A colon `:` to mark the end of function header.\n",
        "- A set of instructions that make up the function body. \n",
        "    - **The instructions need to be indented using 4 spaces!**\n",
        "- Parameters or arguments through which we pass values to a function (optional).\n",
        "- A `return` keyword to return a value from the function (optional).\n",
        "- A documentation string describing what the function does (optional).\n"
      ]
    },
    {
      "cell_type": "markdown",
      "metadata": {
        "id": "LT3OtNyO5txU"
      },
      "source": [
        "### Hack Time\n"
      ]
    },
    {
      "cell_type": "code",
      "metadata": {
        "id": "yeMmtkCtyCcv"
      },
      "source": [
        "# Let's create a function that says hello.\n"
      ],
      "execution_count": null,
      "outputs": []
    },
    {
      "cell_type": "code",
      "metadata": {
        "id": "C4sTfqz8ys6E"
      },
      "source": [
        "# Use your newly created function\n"
      ],
      "execution_count": null,
      "outputs": []
    },
    {
      "cell_type": "code",
      "metadata": {
        "id": "cgxHBu68yS8x"
      },
      "source": [
        "# Let's create a function that says hello to someone. TIP: use a parameter.\n"
      ],
      "execution_count": null,
      "outputs": []
    },
    {
      "cell_type": "markdown",
      "metadata": {
        "id": "gBVtOb8Kyb1o"
      },
      "source": [
        "So far, we've created functions that may or may not take arguments but they do not return anything. \n",
        "\n",
        "For instance if you run type on the output of your function you will get `None`.\n",
        "\n",
        "Now, let's create a simple function that returns a value. We will use the `return` keyword."
      ]
    },
    {
      "cell_type": "code",
      "metadata": {
        "id": "wNgujVAr64yS"
      },
      "source": [
        "# Create a function that returns its elements.\n"
      ],
      "execution_count": null,
      "outputs": []
    },
    {
      "cell_type": "code",
      "metadata": {
        "id": "NHNzDwyl0BpF"
      },
      "source": [
        "# What is the type of the output? \n"
      ],
      "execution_count": null,
      "outputs": []
    },
    {
      "cell_type": "code",
      "metadata": {
        "id": "fuNkrRX6zUOG"
      },
      "source": [
        "# Create a function that returns the sum of its elements\n"
      ],
      "execution_count": null,
      "outputs": []
    },
    {
      "cell_type": "code",
      "metadata": {
        "id": "OpXn1_PV6W3f"
      },
      "source": [
        "# Create a function that returns the mean of its elements\n",
        " "
      ],
      "execution_count": null,
      "outputs": []
    },
    {
      "cell_type": "code",
      "metadata": {
        "id": "rgp85wTN7N14"
      },
      "source": [
        "# What is the average turnout since 1996 in the US Presidential Elections?\n",
        "turnout = [66.8, 55.7, 54.9, 58.2, 56.7, 51.2, 49.0]\n",
        "year = [2020, 2016, 2012, 2008, 2004, 2000, 1996]\n",
        "party = [\"Dem\", \"Rep\", \"Dem\", \"Dem\", \"Rep\", \"Rep\", \"Dem\"]\n"
      ],
      "execution_count": null,
      "outputs": []
    },
    {
      "cell_type": "code",
      "metadata": {
        "id": "TIuDExcDz1ol"
      },
      "source": [
        "# Create a function that returns the mean and length its elements\n"
      ],
      "execution_count": null,
      "outputs": []
    },
    {
      "cell_type": "code",
      "metadata": {
        "id": "YHbYY_Ke0HyP"
      },
      "source": [
        "# Create a function that returns the proportion, the frequency and the length a categorical variable\n"
      ],
      "execution_count": null,
      "outputs": []
    },
    {
      "cell_type": "markdown",
      "metadata": {
        "id": "eQJNdyN47OQZ"
      },
      "source": [
        "## Modules and Packages\n",
        "\n",
        "Most of the time, when you want to do something in python, someone else has already did it for you and created functions you can use. To use these other functions you need to load their module or package into memory. This is similar to opening an application on your smartphone or computer. \n",
        "\n",
        "You can load module or package by issuing the following command: \n",
        "\n",
        "```\n",
        "import module_name\n",
        "```\n",
        "\n",
        "Python, comes with pre-installed packages that you can directly load and the packages we will use in this course have already been installed for you.\n",
        "\n",
        "Packages are standardized way of organizing and sharing code. Packages usually consist of multiple modules.\n",
        "\n",
        "- There are more than 300,000+ existing and freely available python packages. \n",
        "- You can check the Python Package Index: https://pypi.org/\n",
        "\n",
        "Sometimes, you might need to install a package.\n",
        "To install a package inside a notebook you use following command \n",
        "```\n",
        "!pip install package_name\n",
        "```\n",
        "\n"
      ]
    },
    {
      "cell_type": "markdown",
      "metadata": {
        "id": "Uclz367qpDSc"
      },
      "source": [
        "### Hack Time"
      ]
    },
    {
      "cell_type": "code",
      "metadata": {
        "id": "OYztmuCP2qZy"
      },
      "source": [
        "# Import the math module\n"
      ],
      "execution_count": null,
      "outputs": []
    },
    {
      "cell_type": "code",
      "metadata": {
        "id": "Arp7dXrF7O8B"
      },
      "source": [
        "# Let's look into for help regarding the math module\n"
      ],
      "execution_count": null,
      "outputs": []
    },
    {
      "cell_type": "code",
      "metadata": {
        "id": "kSQEAk2U3JO5"
      },
      "source": [
        "# Use one function from the math module\n"
      ],
      "execution_count": null,
      "outputs": []
    },
    {
      "cell_type": "markdown",
      "metadata": {
        "id": "21xJ0TLh3aCu"
      },
      "source": [
        "## Aliases and Partial Imports\n",
        "\n",
        "To avoid having to always type a module/package's name you can use an alias when you import the module/package.\n",
        "\n",
        "```\n",
        "import long_module_name as lmn\n",
        "```\n",
        "\n",
        "Alternatively, you can cherry pick and only import the function you need from a module/package. This is usefull when you only need very few functions from a module/package.\n",
        "\n",
        "```\n",
        "from module_name import function_name\n",
        "```\n",
        "\n",
        "Doing so makes the function available without having to type the module/package name everytime.\n",
        "\n"
      ]
    },
    {
      "cell_type": "markdown",
      "metadata": {
        "id": "zR-1MQvvpIHy"
      },
      "source": [
        "### Hack Time"
      ]
    },
    {
      "cell_type": "code",
      "metadata": {
        "id": "-viFerFf5nei"
      },
      "source": [
        "# Import the datetime module using the dt alias \n"
      ],
      "execution_count": null,
      "outputs": []
    },
    {
      "cell_type": "code",
      "metadata": {
        "id": "9YZMvoaq5jaL"
      },
      "source": [
        "# Import the randint function from the random module\n",
        "\n",
        "# Use the randint function\n"
      ],
      "execution_count": null,
      "outputs": []
    },
    {
      "cell_type": "code",
      "metadata": {
        "id": "6bt6lL827G11"
      },
      "source": [
        "# Import the pandas package \n"
      ],
      "execution_count": null,
      "outputs": []
    },
    {
      "cell_type": "code",
      "metadata": {
        "id": "jWzWG-Jz7OTX"
      },
      "source": [
        "# What is pandas?\n"
      ],
      "execution_count": null,
      "outputs": []
    },
    {
      "cell_type": "markdown",
      "metadata": {
        "id": "nXzVfZnP-wdw"
      },
      "source": [
        "## Pandas \n",
        "![](https://i.pinimg.com/originals/cc/56/b7/cc56b72e2ffb3509ba335e5ef17655b5.gif)\n",
        "\n",
        "Pandas is one of the most used and powerful modern packages for doing cutting-edge data analysis around the world. Companies, NGOs, governments or universities who hire people to work with data (any important job these days...?) will notice that you have python and pandas in your skillset! \n",
        "\n",
        "Python and Pandas are highly valuable skills and in extremely high demand, especially for people with a social science background!\n",
        "\n",
        "To get more information on pandas \n",
        "- [pandas documentation](https://pandas.pydata.org/docs/).\n"
      ]
    },
    {
      "cell_type": "code",
      "metadata": {
        "id": "5bqSo9hsoW8K"
      },
      "source": [
        "# Let's load some real-world data with pandas\n",
        "data_url = \"https://raw.githubusercontent.com/datamisc/ts-2020/main/data.csv\"\n",
        "df = pandas.read_csv(data_url, compression='gzip')\n"
      ],
      "execution_count": null,
      "outputs": []
    },
    {
      "cell_type": "code",
      "metadata": {
        "id": "wF3rJ5xPQ30v"
      },
      "source": [
        "# Take a look at the df object you just created\n"
      ],
      "execution_count": null,
      "outputs": []
    },
    {
      "cell_type": "code",
      "metadata": {
        "id": "upq9Rzr7iXGV"
      },
      "source": [
        "# What happens if you run this cell? \n",
        "df[\"V201033\"].value_counts().plot(kind=\"bar\");\n",
        "# Do you have an idea of what this is?\n"
      ],
      "execution_count": null,
      "outputs": []
    },
    {
      "cell_type": "markdown",
      "metadata": {
        "id": "O6yybZTM__Vy"
      },
      "source": [
        "Try to plot another variable from the ANES dataset."
      ]
    },
    {
      "cell_type": "code",
      "metadata": {
        "id": "d9xpDwJrhdAw"
      },
      "source": [
        "# Change the code below to vizualize another variable from the ANES 2020\n",
        "df[\"V201033\"].value_counts().plot(kind=\"bar\");\n"
      ],
      "execution_count": null,
      "outputs": []
    },
    {
      "cell_type": "markdown",
      "metadata": {
        "id": "iHt4sAE3iNv4"
      },
      "source": [
        "More on this next time!"
      ]
    }
  ]
}