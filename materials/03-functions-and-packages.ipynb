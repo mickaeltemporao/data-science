{
  "nbformat": 4,
  "nbformat_minor": 0,
  "metadata": {
    "colab": {
      "name": "reproducible-research-in-python.ipynb",
      "provenance": [],
      "collapsed_sections": []
    },
    "kernelspec": {
      "name": "python3",
      "display_name": "Python 3"
    },
    "accelerator": "GPU"
  },
  "cells": [
    {
      "cell_type": "markdown",
      "metadata": {
        "id": "sH747xtD4w0u"
      },
      "source": [
        "# Functions, Packages, and Data!\n",
        "\n",
        "## Learning Objectives\n",
        "TODO\n",
        "\n",
        "## Functions\n",
        "A function is a group of related instructions that perform a specific task when you call the function. You can pass data, known as parameters, into a function. A function can return an output as a result.\n",
        "\n",
        "- Allows us to organized and manage code. \n",
        "- Helps avoiding repetition.\n",
        "- Makes code reusable!\n",
        "\n",
        "The general form that a function takes is:\n",
        "\n",
        "```python\n",
        "# Calling a function \n",
        "function_name(parameters = input)\n",
        "\n",
        "# Calling a function and saving the output into a new object \n",
        "output = function_name(parameters = input)\n",
        "```\n",
        "\n",
        "\n",
        "\n",
        "\n",
        "\n"
      ]
    },
    {
      "cell_type": "markdown",
      "metadata": {
        "id": "UAQecw5xvcxf"
      },
      "source": [
        "### Hack Time\n",
        "\n",
        "Which functions have we used until now?"
      ]
    },
    {
      "cell_type": "code",
      "metadata": {
        "id": "9TfTXOMi4xtW"
      },
      "source": [
        "# Write the name of some functions that we used in the previous notebooks \n",
        "# Use comments to describe what these functions do.\n"
      ],
      "execution_count": null,
      "outputs": []
    },
    {
      "cell_type": "code",
      "metadata": {
        "id": "7h6qDREN5vs9"
      },
      "source": [
        "# What is the type of these functions?\n",
        "\n"
      ],
      "execution_count": null,
      "outputs": []
    },
    {
      "cell_type": "code",
      "metadata": {
        "id": "2MWkDyAz53_b"
      },
      "source": [
        "# What is the type of the type function?\n"
      ],
      "execution_count": null,
      "outputs": []
    },
    {
      "cell_type": "markdown",
      "metadata": {
        "id": "6mVVrtkC594K"
      },
      "source": [
        "### The help function\n",
        "The `help()` function can help you get information on any python object.\n",
        "\n",
        "Everytime you see something new in python, you should call the help function! \n",
        "\n",
        "It also provides useful examples."
      ]
    },
    {
      "cell_type": "code",
      "metadata": {
        "id": "F8Lzcjyl7lXz"
      },
      "source": [
        "# Passing print as a parameter to the help function.\n",
        "help(print)\n"
      ],
      "execution_count": null,
      "outputs": []
    },
    {
      "cell_type": "markdown",
      "metadata": {
        "id": "ZFklJTjM8U-z"
      },
      "source": [
        "### Hack Time"
      ]
    },
    {
      "cell_type": "code",
      "metadata": {
        "id": "EdCZOly08QV8"
      },
      "source": [
        "# Pass len as a parameter to the help function.\n"
      ],
      "execution_count": null,
      "outputs": []
    },
    {
      "cell_type": "code",
      "metadata": {
        "id": "ow4LFNjq8RF6"
      },
      "source": [
        "# Pass type as a parameter to the help function.\n"
      ],
      "execution_count": null,
      "outputs": []
    },
    {
      "cell_type": "code",
      "metadata": {
        "id": "l6pHIl2b5j7X"
      },
      "source": [
        "# Note that help is also a function!\n",
        "help(help)\n"
      ],
      "execution_count": null,
      "outputs": []
    },
    {
      "cell_type": "code",
      "metadata": {
        "id": "_xgOvtST6EvI"
      },
      "source": [
        "# Create a list object \n",
        "\n",
        "# Pass it to the help function\n",
        "\n"
      ],
      "execution_count": null,
      "outputs": []
    },
    {
      "cell_type": "code",
      "metadata": {
        "id": "OPaMOF7Q-HVL"
      },
      "source": [
        "# Try some of the list methods\n"
      ],
      "execution_count": null,
      "outputs": []
    },
    {
      "cell_type": "code",
      "metadata": {
        "id": "nt6dixVJ-Mtr"
      },
      "source": [
        "# Pass one of these methods to the help function\n"
      ],
      "execution_count": null,
      "outputs": []
    },
    {
      "cell_type": "markdown",
      "metadata": {
        "id": "KDmbshOn-hGr"
      },
      "source": [
        "Objects can have functions that are specific to the object itself!"
      ]
    },
    {
      "cell_type": "markdown",
      "metadata": {
        "id": "gOkBdOWM5wVw"
      },
      "source": [
        "### Methods\n",
        "Methods are functions that associated with a specific type of object.\n",
        "\n",
        "The general form that methods take is:\n",
        "```python\n",
        "# Calling an object method \n",
        "object.method(parameters)\n",
        "\n",
        "# Calling an object method with a parameter\n",
        "object.method(parameters)\n",
        "```\n"
      ]
    },
    {
      "cell_type": "markdown",
      "metadata": {
        "id": "QEEPoIRoDeIt"
      },
      "source": [
        "### Hack Time"
      ]
    },
    {
      "cell_type": "code",
      "metadata": {
        "id": "pQ56Bdqh92to"
      },
      "source": [
        "# Create a str object containing a sentence\n"
      ],
      "execution_count": null,
      "outputs": []
    },
    {
      "cell_type": "code",
      "metadata": {
        "id": "bT0j8oz9DazY"
      },
      "source": [
        "# Pass it to the help function\n"
      ],
      "execution_count": null,
      "outputs": []
    },
    {
      "cell_type": "code",
      "metadata": {
        "id": "Xm_EKDggC7VY"
      },
      "source": [
        "# Try one of the string methods\n"
      ],
      "execution_count": null,
      "outputs": []
    },
    {
      "cell_type": "code",
      "metadata": {
        "id": "DO0bu4wpDYTh"
      },
      "source": [
        "# You can also pass any string method to the help function.\n"
      ],
      "execution_count": null,
      "outputs": []
    },
    {
      "cell_type": "code",
      "metadata": {
        "id": "BC4EaSSlDoJm"
      },
      "source": [
        "# Compare the str methods with the list methods\n",
        "help(\"\")\n",
        "print(\"===================================\")\n",
        "help([])"
      ],
      "execution_count": null,
      "outputs": []
    },
    {
      "cell_type": "markdown",
      "metadata": {
        "id": "qXL5O4Cv7K-S"
      },
      "source": [
        "Each type of data has its own set of methods.\n",
        "\n"
      ]
    },
    {
      "cell_type": "code",
      "metadata": {
        "id": "VzAgkeS57KbI"
      },
      "source": [
        "# Find a method that can help you to count the number of times a party won the presidential election?\n",
        "party = [\"Dem\", \"Rep\", \"Dem\", \"Dem\", \"Rep\", \"Rep\", \"Dem\"]\n"
      ],
      "execution_count": null,
      "outputs": []
    },
    {
      "cell_type": "markdown",
      "metadata": {
        "id": "4L7iBdgP7NdW"
      },
      "source": [
        "You can also chain methods.\n"
      ]
    },
    {
      "cell_type": "code",
      "metadata": {
        "id": "LoTscrd78GV6"
      },
      "source": [
        "# Use your previously created str object and chain the lower and count methods together\n"
      ],
      "execution_count": null,
      "outputs": []
    },
    {
      "cell_type": "markdown",
      "metadata": {
        "id": "8QsegVDy5onT"
      },
      "source": [
        "### Defining your own functions\n",
        "\n",
        "When you need to repeatedly do a series of instructions, you should define a function with those instructions.\n",
        "\n",
        "#### The syntax of Function\n",
        "```python\n",
        "def function_name(parameters):\n",
        "    \"\"\"A documentation string explaining what the function does.\"\"\"\n",
        "    temporary_output = some_instructions()\n",
        "    final_output = some_more_instructions(temporary_output)\n",
        "    return output\n",
        "```\n",
        "A function definition consists of following components:\n",
        "- The keyword `def` marks the start of a function header.\n",
        "- A function name to uniquely identify it and use the function.\n",
        "- Parameters (arguments) through which we pass values to a function. They are optional.\n",
        "- A colon `:` to mark the end of function header.\n",
        "- A documentation string describing what the function does (optional).\n",
        "- A set of instructions that make up the function body. \n",
        "- The instruction must have the same indentation level of 4 spaces.\n",
        "- An optional return statement to return a value from the function.\n"
      ]
    },
    {
      "cell_type": "markdown",
      "metadata": {
        "id": "LT3OtNyO5txU"
      },
      "source": [
        "### Hack Time\n"
      ]
    },
    {
      "cell_type": "code",
      "metadata": {
        "id": "wNgujVAr64yS"
      },
      "source": [
        "# Your code here.\n",
        "## Let's create a function that returns the mean of its items.\n"
      ],
      "execution_count": null,
      "outputs": []
    },
    {
      "cell_type": "code",
      "metadata": {
        "id": "OpXn1_PV6W3f"
      },
      "source": [
        "def total_calc(bill_amount,tip_perc=10):\n",
        "  total = bill_amount*(1 + 0.01*tip_perc)\n",
        "  total = round(total,2)\n",
        "  print(f\"Please pay ${total}\")\n",
        "\n",
        " "
      ],
      "execution_count": null,
      "outputs": []
    },
    {
      "cell_type": "code",
      "metadata": {
        "id": "LVK5428l6a6r"
      },
      "source": [
        " How to Create a Function that Returns a Value in Python\n",
        "So far, we've only created functions that may or may not take arguments and do not return anything. Now, let's create a simple function that returns the volume of a cuboid given the length, the width, and the height.\n",
        "\n",
        "def volume_of_cuboid(length,breadth,height):\n",
        "  return length*breadth*height\n",
        "  "
      ],
      "execution_count": null,
      "outputs": []
    },
    {
      "cell_type": "code",
      "metadata": {
        "id": "rgp85wTN7N14"
      },
      "source": [
        "turnout = [66.8, 55.7, 54.9, 58.2, 56.7, 51.2, 49.0]\n",
        "year = [2020, 2016, 2012, 2008, 2004, 2000, 1996]\n"
      ],
      "execution_count": null,
      "outputs": []
    },
    {
      "cell_type": "markdown",
      "metadata": {
        "id": "eQJNdyN47OQZ"
      },
      "source": [
        "## Modules, and Packages\n",
        "\n",
        "A module is a set of python commands that are saved in a script (eg. script.py).\n",
        "You can load a module and access all its contents at anytime using the command `import module`.\n",
        "\n",
        "Packages are standardized way of organizing code and usually consist of multiple modules.\n",
        "    - Minimal Package Structure: https://python-packaging.readthedocs.io/en/latest/minimal.html\n",
        "\n",
        "Python, comes with pre-installed packages that you can directly load.\n",
        "\n"
      ]
    },
    {
      "cell_type": "code",
      "metadata": {
        "id": "Arp7dXrF7O8B"
      },
      "source": [
        "import math\n",
        "pi = math.pi\n",
        "pi\n"
      ],
      "execution_count": null,
      "outputs": []
    },
    {
      "cell_type": "markdown",
      "metadata": {
        "id": "cfZHL5PI7eB9"
      },
      "source": [
        "### File-system interaction.\n"
      ]
    },
    {
      "cell_type": "code",
      "metadata": {
        "id": "8Dzjjl-Z8aST"
      },
      "source": [
        "import os\n",
        "# Execute a shell command\n",
        "os.system(\"touch test_script.py\")\n"
      ],
      "execution_count": null,
      "outputs": []
    },
    {
      "cell_type": "code",
      "metadata": {
        "id": "Qn0LLOOG8gt_"
      },
      "source": [
        "# Return the current working directory\n",
        "os.getcwd()\n"
      ],
      "execution_count": null,
      "outputs": []
    },
    {
      "cell_type": "code",
      "metadata": {
        "id": "-0Awpt-b8hJ2"
      },
      "source": [
        "# List all of the files and sub-directories in a particular folder\n",
        "os.listdir()\n"
      ],
      "execution_count": null,
      "outputs": []
    },
    {
      "cell_type": "code",
      "metadata": {
        "id": "PwQTIiEY8hm9"
      },
      "source": [
        "# Create folders recursively\n",
        "my_path = \"my_tmp_project/test1/test2/test3\"\n",
        "os.makedirs(my_path)\n",
        "os.listdir()\n"
      ],
      "execution_count": null,
      "outputs": []
    },
    {
      "cell_type": "code",
      "metadata": {
        "id": "ss2YLqWF8iFo"
      },
      "source": [
        "# Delete directories recursively.\n",
        "os.removedirs(my_path)\n",
        "os.listdir()\n"
      ],
      "execution_count": null,
      "outputs": []
    },
    {
      "cell_type": "code",
      "metadata": {
        "id": "NXHeruRs8klu"
      },
      "source": [
        "# Handling slashes / in file paths\n",
        "file = \"process.py\"\n",
        "folder = \"Documents/project1\"\n",
        "full_path = os.path.join(folder, file)\n",
        "full_path\n"
      ],
      "execution_count": null,
      "outputs": []
    },
    {
      "cell_type": "code",
      "metadata": {
        "id": "T7O7raZk8jQS"
      },
      "source": [
        "os.rename(\"test_script.py\", \"tmp_script.py\")\n",
        "os.listdir()\n"
      ],
      "execution_count": null,
      "outputs": []
    },
    {
      "cell_type": "code",
      "metadata": {
        "id": "GV0AsBL7vkHa"
      },
      "source": [
        "# Create and write data to a file\n",
        "file_path = \"tmp_file.txt\"\n",
        "file_contents = \"Hello Again,\\nThis is a new Line!\"\n",
        "\n",
        "file = open(file_path, 'w') \n",
        "file.write(file_contents) \n",
        "file.close() \n"
      ],
      "execution_count": null,
      "outputs": []
    },
    {
      "cell_type": "code",
      "metadata": {
        "id": "FQbQbD1EwGuA"
      },
      "source": [
        "# Using the contextual `with` statement\n",
        "with open(file_path, 'w') as file: \n",
        "    file.write(file_contents) \n"
      ],
      "execution_count": null,
      "outputs": []
    },
    {
      "cell_type": "code",
      "metadata": {
        "id": "QluXfaYjzcLp"
      },
      "source": [
        "# Reading the contents of a file\n",
        "with open(file_path, \"r\") as file:\n",
        "\tread_contents = file.read()\n",
        "\n",
        "print(read_contents)"
      ],
      "execution_count": null,
      "outputs": []
    },
    {
      "cell_type": "code",
      "metadata": {
        "id": "JDCwla_G8jxg"
      },
      "source": [
        "## Delete a file\n",
        "os.remove(file_path)\n",
        "os.listdir()\n"
      ],
      "execution_count": null,
      "outputs": []
    },
    {
      "cell_type": "code",
      "metadata": {
        "id": "uxwhiSOV8lu4"
      },
      "source": [
        "# Get the directory and file name from a full path\n",
        "file = os.path.basename(full_path)\n",
        "folder = os.path.dirname(full_path)\n",
        "print(file, folder)\n"
      ],
      "execution_count": null,
      "outputs": []
    },
    {
      "cell_type": "code",
      "metadata": {
        "id": "sywOLHbk8meo"
      },
      "source": [
        "# Check if a file or folder exists\n",
        "os.path.exists(full_path)\n"
      ],
      "execution_count": null,
      "outputs": []
    },
    {
      "cell_type": "code",
      "metadata": {
        "id": "VudqGVaX8m_t"
      },
      "source": [
        "# Get the extension of a file\n",
        "name, extension = os.path.splitext(file)\n",
        "print(name, extension)\n"
      ],
      "execution_count": null,
      "outputs": []
    },
    {
      "cell_type": "markdown",
      "metadata": {
        "id": "g_UNpeuM7Rdd"
      },
      "source": [
        "### Install package\n",
        "\n",
        "To install a package in Python you use the command `pip install package_name` directly in your terminal.\n",
        "\n",
        "There are thousands of packages available such as:\n",
        "    - matplotlib\n",
        "    - numpy\n",
        "    - pandas\n",
        "    - pytorch\n",
        "    - sci-kit learn\n",
        "    - ...\n",
        "\n",
        "For more packages see:\n",
        "    - The Python Package Index: https://pypi.org/\n"
      ]
    },
    {
      "cell_type": "code",
      "metadata": {
        "id": "1QfCcjkH7Sun"
      },
      "source": [
        "# We will rely on some IPython magic to directly interact with the terminal.\n",
        "!pip install wikipedia\n"
      ],
      "execution_count": null,
      "outputs": []
    },
    {
      "cell_type": "code",
      "metadata": {
        "id": "5bqSo9hsoW8K"
      },
      "source": [
        "# You can now import and start using the package.\n",
        "import wikipedia"
      ],
      "execution_count": null,
      "outputs": []
    },
    {
      "cell_type": "code",
      "metadata": {
        "id": "L4oMzt6LocI8"
      },
      "source": [
        ""
      ],
      "execution_count": null,
      "outputs": []
    }
  ]
}