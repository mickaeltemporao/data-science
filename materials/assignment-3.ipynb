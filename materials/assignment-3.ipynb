{
  "nbformat": 4,
  "nbformat_minor": 0,
  "metadata": {
    "colab": {
      "name": "itds-challenge-3-student-name",
      "provenance": [],
      "collapsed_sections": []
    },
    "kernelspec": {
      "display_name": "Python 3",
      "name": "python3"
    }
  },
  "cells": [
    {
      "cell_type": "markdown",
      "metadata": {
        "id": "5fCEDCU_qrC0"
      },
      "source": [
        "# Challenge 3 - Exploratory Data Analysis\n",
        "\n",
        "### Objectives\n",
        "- Prepare data for analysis\n",
        "- Make relevant data visualisations\n",
        "- Analyse data visualisation\n"
      ]
    },
    {
      "cell_type": "markdown",
      "metadata": {
        "id": "pe4gCm198ygp"
      },
      "source": [
        "## Instructions\n",
        "\n",
        "### The Setup\n",
        "Before you can start this challenge, you need to create your own copy of this notebook. This will allow you to edit, save and share your work.\n",
        "\n",
        "1. **Click** on *'File' -> 'Save a copy in Drive'*\n",
        "    - A new notebook is created named \"Copy of ...\".\n",
        "2. **Rename** the notebook called \"Copy of ...\" appropriately. \n",
        "3. **Use** the newly created and renamed notebook to complete the challenge.\n",
        "\n",
        "### The Challenge\n",
        "- Follow the instructions directly on the cells bellow this information cell.\n",
        "\n",
        "### The Submission\n",
        "1. When you are ready to submit your work click on *'Share' -> 'Copy link'*.\n",
        "2. Verify that your link works by opening it in a new browser window.\n",
        "    - You should see your latest edits inside this notebook.\n",
        "3. Send a **private message** to the instructor on the\n",
        "    - In your message include the course name (itds), assignment type (eg. chall-1), and the copied link to your notebook.\n",
        "\n",
        "- Submissions are considered until the start of the next session.\n",
        "- Late submissions will not be considered!\n",
        "\n",
        "\n",
        "#### Help, I'm stuck?!\n",
        "It is normal to be stuck during challenges and it is part of the learning process. When you are blocked during a coding challenge, try to solve your bugs (e.g. Google your error messages). Trying to solve your errors and bugs will help you build the mindset needed to be successful in this course and will help you better understand the tools and methods we use throughout the course.\n",
        "\n",
        "- If you are stuck for 30 minutes on a challenge, take a break and come back later.\n",
        "- If you are still stuck after revisiting your problem with a fresh mindset ask for help using the Chat! Don't be shy, it is likely that other students might be able to help you!\n",
        "\n",
        "**Delete the *Instructions* cell before sharing your work.**\n"
      ]
    },
    {
      "cell_type": "code",
      "metadata": {
        "id": "AQ4U_yGZyDi4",
        "outputId": "ff47c9c6-a4df-40e4-d170-acb919da4e5d",
        "colab": {
          "base_uri": "https://localhost:8080/"
        }
      },
      "source": [
        "# Load Pandas\n",
        "import pandas as pd\n",
        "\n",
        "# Import Data\n",
        "data_url = \"https://raw.githubusercontent.com/datamisc/ts-2020/main/data.csv\"\n",
        "df = pd.read_csv(data_url, compression='gzip')\n",
        "\n"
      ],
      "execution_count": 1,
      "outputs": [
        {
          "output_type": "stream",
          "name": "stderr",
          "text": [
            "/usr/local/lib/python3.7/dist-packages/IPython/core/interactiveshell.py:2718: DtypeWarning: Columns (15,17,18,19,21,22,23,25,26,27,29,30,31,33,34,35,37,38,1508,1509) have mixed types.Specify dtype option on import or set low_memory=False.\n",
            "  interactivity=interactivity, compiler=compiler, result=result)\n"
          ]
        }
      ]
    },
    {
      "cell_type": "code",
      "metadata": {
        "id": "1Aib0jouGDUO",
        "outputId": "70f7f07e-5bb4-4069-a7c9-a1ff4cc34638",
        "colab": {
          "base_uri": "https://localhost:8080/",
          "height": 408
        }
      },
      "source": [
        "# Preparing the First Variable\n",
        "values = [1,2,3,4,5]\n",
        "labels = [\"1. Never\", \"2. Extreme Cases\", \"3. Others Cases\", \"4. Always\", \"5. Else\"]\n",
        "\n",
        "df['V201336'] = df['V201336'].replace([-9,-8], pd.NA)\n",
        "df['V201336'] = df['V201336'].replace(values, labels)\n",
        "\n",
        "# Preparing the Second Variable\n",
        "values = [1,2,3,4,5,11,12]\n",
        "labels = [\"J.Biden\", \"D.Trump\", \"Other\", \"Other\", \"Other\",\"Other\",\"Other\"]\n",
        "df['Intentions'] = df['V201033'].replace([-9,-8, -1], pd.NA)\n",
        "df['Intentions'] = df['V201033'].replace(values, labels)\n",
        "\n",
        "# Summarising and plotting the data\n",
        "pd.crosstab(df['V201336'], df['Intentions'], normalize=True).plot(\n",
        "    kind='bar', \n",
        "    title='This is not a great title', \n",
        "    xlabel='What is this?', \n",
        "    legend='ewrewris this?', \n",
        "    stacked=True, \n",
        "    rot=45, \n",
        "    figsize=(10,5)\n",
        ");\n",
        "\n",
        "\n",
        "\n"
      ],
      "execution_count": 49,
      "outputs": [
        {
          "output_type": "display_data",
          "data": {
            "image/png": "[encoded data removed]",
            "text/plain": [
              "<Figure size 720x360 with 1 Axes>"
            ]
          },
          "metadata": {
            "needs_background": "light"
          }
        }
      ]
    },
    {
      "cell_type": "markdown",
      "metadata": {
        "id": "au9Ay09GhI_1"
      },
      "source": [
        "# The Challenge\n",
        "\n",
        "\n",
        "\n",
        "- dl data show plot\n",
        "- create new variables\n",
        "- recode variables \n",
        "    - classic\n",
        "    - replace\n",
        "        - dictionaries\n",
        "- create new variables\n",
        "\n",
        "\n",
        "## Context\n",
        "\n",
        "2. Identify a variable that can be useful in predicting vote choice among the *Pre-Election Variables* and that is not V161031.\n",
        "\n",
        "1. Find and download the *User's Guide and Codebook for the ANES 2016 Time Series Study*.\n",
        "2. Identify a variable that can be useful in predicting vote choice among the *Pre-Election Variables* and that is not V161031.\n",
        "3. Find a scientific article, using Google Scholar, that justifies your variable choice.\n",
        "4. Add the scientific article's *BibTeX* entry from Google Scholar to the `references.bib` file (*\"project\" > \"references.bib\"*).\n",
        "5. Replace the first sentence of the `project.Rmd` file (*\"project\" > \"project.Rmd\"*) by a sentence referring to, summarizing, paraphrasing or quoting your scientific article.\n",
        "    - This sentence needs to illustrate why your variable is important or might help to predict vote choice.\n",
        "6. Cite the scientific reference using an appropriate in-text citation\n",
        "    - Check the \"Making citations\" section of `project.Rmd` to learn how to do it.\n",
        "7. In the \"Files\" browser (bottom right), open the R script located at *\"src\" > \"challenge_03.R\"*.\n",
        "    - There is already code loading the dataset for you into an object called `tb`\n",
        "    - Verify that your R session is working from the repository where the `challenge_03.R` file is using `getwd()`.\n",
        "    - If not, you should use the `setwd()` function to set your path in the same repository of the `challenge_03.R` file.\n",
        "8. In the R script add a new comment with the name of the first variable (first column) of the dataset stored in the `tb` object.\n",
        "9. In the R script create a new object containing the variable you identified in step 2.\n",
        "10. Filter out the missing data and save that in a new object.\n",
        "    - Use the codebook and R basic functions to know which values are missing values.\n",
        "11. Make a relevant figure to visualize your variable using `ggplot()`\n",
        "12. Change the x and y labels of your figure to something meaningful.\n",
        "13. Make sure this code works and save your file.\n",
        "\n",
        "Your tale at the New York Times continues. Last time you were asked to identify an important factor that can explain voting behaviour and support your claim with scientific evidence. If you have forgotten what your factor is, start by reading your first challenge.\n",
        "\n",
        "You are now required to apply your knowledge on real-world problems. Your goal is to translate the factor you identified into code based on real data. \n",
        "\n",
        "We will use the 2020 American National Election Study (ANES). You will rely heavily on the [ANES Variable List](https://sda.berkeley.edu/sdaweb/docs/nes2020full/DOC/hcbkf01.htm). \n",
        "\n",
        "- Further information is available [here](https://electionstudies.org/data-center/2020-time-series-study/) and [here](https://sda.berkeley.edu/sdaweb/docs/nes2020full/DOC/hcbk.htm).\n"
      ]
    },
    {
      "cell_type": "markdown",
      "metadata": {
        "id": "VkTlNkKi8b2T"
      },
      "source": [
        "### Q1. Design a single survey question that hypothetically allows you to measure your factor/concept."
      ]
    },
    {
      "cell_type": "code",
      "metadata": {
        "id": "qfnYj7kTefT6",
        "colab": {
          "base_uri": "https://localhost:8080/"
        },
        "outputId": "202edef2-7bb9-45eb-92d2-df7482e545d9"
      },
      "source": [
        "# Load Pandas\n",
        "import pandas as pd\n",
        "\n",
        "# Import Data\n",
        "data_url = \"https://raw.githubusercontent.com/datamisc/ts-2020/main/data.csv\"\n",
        "anes_data  = pd.read_csv(data_url, compression='gzip')\n",
        "\n",
        "# Select Data\n"
      ],
      "execution_count": null,
      "outputs": [
        {
          "output_type": "stream",
          "name": "stderr",
          "text": [
            "/usr/local/lib/python3.7/dist-packages/IPython/core/interactiveshell.py:2718: DtypeWarning: Columns (15,17,18,19,21,22,23,25,26,27,29,30,31,33,34,35,37,38,1508,1509) have mixed types.Specify dtype option on import or set low_memory=False.\n",
            "  interactivity=interactivity, compiler=compiler, result=result)\n"
          ]
        }
      ]
    },
    {
      "cell_type": "markdown",
      "metadata": {
        "id": "OdxqKem9-gLa"
      },
      "source": [
        "Write your survey question here."
      ]
    },
    {
      "cell_type": "markdown",
      "metadata": {
        "id": "ftoXK1b4-ly9"
      },
      "source": [
        "### Q2. In order to answer your question, respondents are limited to only choose from one option/choice from a list of 5 options/choices. What are the 5 options you want your respondents to choose from? "
      ]
    },
    {
      "cell_type": "markdown",
      "metadata": {
        "id": "YSHasUsk_s73"
      },
      "source": [
        "Write your answer choices here...\n",
        "\n",
        "- Choice 1: ...\n",
        "- Choice 2: ...\n",
        "- Choice 3: ...\n",
        "- Choice 4: ...\n",
        "- Choice 5: ...\n"
      ]
    },
    {
      "cell_type": "markdown",
      "metadata": {
        "id": "iJFAMlTH_1_g"
      },
      "source": [
        "### Q3 Identify a variable in the ANES that would allow you to measure this factor/concept and write the variable identifier in the text cell below.\n",
        " - Use the [ANES Variable List](https://sda.berkeley.edu/sdaweb/docs/nes2020full/DOC/hcbkf01.htm) to find your variable identifier.\n",
        "- The variable identifier is formated as follows: `V20XXXXX`. \n",
        "- In the ANES Variable List, when you click on the variable identifier you can get more information on the variable."
      ]
    },
    {
      "cell_type": "markdown",
      "metadata": {
        "id": "LXDORjXpDN3X"
      },
      "source": [
        "Write your answer here..."
      ]
    },
    {
      "cell_type": "markdown",
      "metadata": {
        "id": "pJEV1qUvDREz"
      },
      "source": [
        "### Q4. Now using python, assign a string with the variable identifier to an object called my_variable.\n",
        "- Make sure your code runs without any error."
      ]
    },
    {
      "cell_type": "code",
      "metadata": {
        "id": "e0sq2GiIBdEe"
      },
      "source": [
        "# Your code will look like this\n",
        "my_variable = \n"
      ],
      "execution_count": null,
      "outputs": []
    },
    {
      "cell_type": "markdown",
      "metadata": {
        "id": "UH0y1cXFFbv4"
      },
      "source": [
        "### Q5. Create a python list containing 3 of the possible choices from the identified variable in the ANES and assign it to an object named choices.\n",
        "- Most variables have more than 3 choices. Pick 3 and create a list using them. \n",
        "- Make sure your code runs without any error."
      ]
    },
    {
      "cell_type": "code",
      "metadata": {
        "id": "f_0gMlyMFZfd"
      },
      "source": [
        "# Your python list with the choices\n"
      ],
      "execution_count": null,
      "outputs": []
    },
    {
      "cell_type": "markdown",
      "metadata": {
        "id": "Zuwf8ephH7ZS"
      },
      "source": [
        "### BONUS: In the [ANES Variable List](https://sda.berkeley.edu/sdaweb/docs/nes2020full/DOC/hcbkf01.htm) sometimes you see the words \"PRE\", \"POST\" and/or \"R\" in the variable descriptions. What do each of these mean?\n"
      ]
    },
    {
      "cell_type": "markdown",
      "metadata": {
        "id": "G3U_NQ0BIWPG"
      },
      "source": [
        "You answer here...\n"
      ]
    }
  ]
}