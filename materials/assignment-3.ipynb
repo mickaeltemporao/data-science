{
  "nbformat": 4,
  "nbformat_minor": 0,
  "metadata": {
    "colab": {
      "name": "itds-challenge-3-student-name",
      "provenance": [],
      "collapsed_sections": []
    },
    "kernelspec": {
      "display_name": "Python 3",
      "name": "python3"
    }
  },
  "cells": [
    {
      "cell_type": "markdown",
      "metadata": {
        "id": "5fCEDCU_qrC0"
      },
      "source": [
        "# Challenge 3 - Exploratory Data Analysis\n",
        "\n",
        "### Objectives\n",
        "- Prepare data for analysis\n",
        "- Make relevant data visualisations\n",
        "- Make inferences based on empirical evidence\n"
      ]
    },
    {
      "cell_type": "markdown",
      "metadata": {
        "id": "pe4gCm198ygp"
      },
      "source": [
        "## Instructions\n",
        "\n",
        "### The Setup\n",
        "Before you can start this challenge, you need to create your own copy of this notebook. This will allow you to edit, save and share your work.\n",
        "\n",
        "1. **Click** on *'File' -> 'Save a copy in Drive'*\n",
        "    - A new notebook is created named \"Copy of ...\".\n",
        "2. **Rename** the notebook called \"Copy of ...\" appropriately. \n",
        "3. **Use** the newly created and renamed notebook to complete the challenge.\n",
        "\n",
        "### The Challenge\n",
        "- Follow the instructions directly on the cells bellow this instructions cell.\n",
        "\n",
        "### The Submission\n",
        "1. When you are ready to submit your work click on *'Share' -> 'Copy link'*.\n",
        "2. Verify that your link works by opening it in a new browser window.\n",
        "    - You should see your latest edits inside this notebook.\n",
        "3. Send a **private message** to the instructor on the\n",
        "    - In your message include the course name (itds), assignment type (eg. chall-1), and the copied link to your notebook.\n",
        "\n",
        "- Submissions are considered until the start of the next session.\n",
        "- Late submissions will not be considered!\n",
        "\n",
        "\n",
        "#### Help, I'm stuck?!\n",
        "It is normal to be stuck during challenges and it is part of the learning process. When you are blocked during a coding challenge, try to solve your bugs (e.g. Google your error messages). Trying to solve your errors and bugs will help you build the mindset needed to be successful in this course and will help you better understand the tools and methods we use throughout the course.\n",
        "\n",
        "- If you are stuck for 30 minutes on a challenge, take a break and come back later.\n",
        "- If you are still stuck after revisiting your problem with a fresh mindset ask for help using the Chat! Don't be shy, it is likely that other students might be able to help you!\n",
        "\n",
        "**Delete the *Instructions* cell before sharing your work.**\n"
      ]
    },
    {
      "cell_type": "markdown",
      "metadata": {
        "id": "au9Ay09GhI_1"
      },
      "source": [
        "# The Challenge\n",
        "\n",
        "You have been provided with the 2020 ANES dataset and an initial data visualisation that you need to understand, edit and discuss.\n",
        "\n",
        "- [ANES Codebook](https://sda.berkeley.edu/sdaweb/docs/nes2020full/DOC/hcbk.htm)\n",
        "\n",
        "Below you will find starting code to create visualisation of two variables.\n",
        "\n",
        "- The code loads the ANES dataset into an object calld `df`\n",
        "- Prepares two variables \n",
        "- Makes a visualisation of these two variables.\n"
      ]
    },
    {
      "cell_type": "code",
      "metadata": {
        "colab": {
          "base_uri": "https://localhost:8080/",
          "height": 462
        },
        "id": "1Aib0jouGDUO",
        "outputId": "0f76897a-f71a-4fd2-ad2c-34ea0c4c092c"
      },
      "source": [
        "# Load Pandas\n",
        "import pandas as pd\n",
        "\n",
        "# Import Data\n",
        "data_url = \"https://raw.githubusercontent.com/datamisc/ts-2020/main/data.csv\"\n",
        "df = pd.read_csv(data_url, compression='gzip')\n",
        "\n",
        "# Cleaning a variable selected by the instructor\n",
        "# Check the coodbook to understand what is this variable!\n",
        "values = [1,2,3,4,5]\n",
        "labels = [\"1. Never\", \"2. Extreme Cases\", \"3. Others Cases\", \"4. Always\", \"5. Else\"]\n",
        "\n",
        "df['V201336'] = df['V201336'].replace([-9,-8], pd.NA)\n",
        "df['V201336'] = df['V201336'].replace(values, labels)\n",
        "\n",
        "# Cleaning the Voting Intentions Variable\n",
        "values = [1,2,3,4,5,11,12]\n",
        "labels = [\"J.Biden\", \"D.Trump\", \"Other\", \"Other\", \"Other\",\"Other\",\"Other\"]\n",
        "df['Intentions'] = df['V201033'].replace([-9,-8, -1], pd.NA)\n",
        "df['Intentions'] = df['Intentions'].replace(values, labels)\n",
        "\n",
        "# Summarising and plotting the data\n",
        "pd.crosstab(df['V201336'], df['Intentions'], normalize=True).plot(\n",
        "    kind='bar', \n",
        "    title='This title should be improved...', \n",
        "    xlabel='What is V201336?', \n",
        "    stacked=True, \n",
        "    rot=45, \n",
        "    figsize=(10,5)\n",
        ");\n"
      ],
      "execution_count": 14,
      "outputs": [
        {
          "output_type": "stream",
          "name": "stderr",
          "text": [
            "/usr/local/lib/python3.7/dist-packages/IPython/core/interactiveshell.py:2718: DtypeWarning: Columns (15,17,18,19,21,22,23,25,26,27,29,30,31,33,34,35,37,38,1508,1509) have mixed types.Specify dtype option on import or set low_memory=False.\n",
            "  interactivity=interactivity, compiler=compiler, result=result)\n"
          ]
        },
        {
          "output_type": "display_data",
          "data": {
            "image/png": "[encoded data removed]",
            "text/plain": [
              "<Figure size 720x360 with 1 Axes>"
            ]
          },
          "metadata": {
            "needs_background": "light"
          }
        }
      ]
    },
    {
      "cell_type": "markdown",
      "metadata": {
        "id": "4kO_fX52VMMT"
      },
      "source": [
        "### Q1: What are the two variable being shown in the figure above?\n",
        "\n",
        "Take a look at the code and use the codebook to help you out.\n",
        "- [ANES Codebook](https://sda.berkeley.edu/sdaweb/docs/nes2020full/DOC/hcbk.htm)\n"
      ]
    },
    {
      "cell_type": "markdown",
      "metadata": {
        "id": "qy6GWgPMt8m5"
      },
      "source": [
        "Q2:  change main title of the figure "
      ]
    },
    {
      "cell_type": "markdown",
      "metadata": {
        "id": "8jCRoMxKtlxn"
      },
      "source": [
        "Q2: Is this variable variable useful to predict voting intentions and why?\n",
        "\n",
        "What is this variable?\n",
        "\n",
        "Give this figure a better title and a better x-axis label.\n"
      ]
    },
    {
      "cell_type": "markdown",
      "metadata": {
        "id": "EQ-omrWMVaJ-"
      },
      "source": [
        "- Clean the variable from C2\n",
        "- Make a Plot the distribution of the variable you identified in the previous challenge.\n",
        "\n",
        "\n"
      ]
    },
    {
      "cell_type": "code",
      "metadata": {
        "id": "CdMurK4bVl5n"
      },
      "source": [
        ""
      ],
      "execution_count": null,
      "outputs": []
    },
    {
      "cell_type": "markdown",
      "metadata": {
        "id": "EBc8mcybVqLL"
      },
      "source": [
        "Bonus:\n",
        "\n",
        "Can you put your C2 variable in perspective with the voting intentions variable?\n",
        "\n",
        "Do you think your variable would be a good predictor of voting intentions?\n"
      ]
    },
    {
      "cell_type": "markdown",
      "metadata": {
        "id": "ftoXK1b4-ly9"
      },
      "source": [
        "### Q2. In order to answer your question, respondents are limited to only choose from one option/choice from a list of 5 options/choices. What are the 5 options you want your respondents to choose from? "
      ]
    },
    {
      "cell_type": "markdown",
      "metadata": {
        "id": "YSHasUsk_s73"
      },
      "source": [
        "Write your answer choices here...\n",
        "\n",
        "- Choice 1: ...\n",
        "- Choice 2: ...\n",
        "- Choice 3: ...\n",
        "- Choice 4: ...\n",
        "- Choice 5: ...\n"
      ]
    },
    {
      "cell_type": "markdown",
      "metadata": {
        "id": "iJFAMlTH_1_g"
      },
      "source": [
        "### Q3 Identify a variable in the ANES that would allow you to measure this factor/concept and write the variable identifier in the text cell below.\n",
        " - Use the [ANES Variable List](https://sda.berkeley.edu/sdaweb/docs/nes2020full/DOC/hcbkf01.htm) to find your variable identifier.\n",
        "- The variable identifier is formated as follows: `V20XXXXX`. \n",
        "- In the ANES Variable List, when you click on the variable identifier you can get more information on the variable."
      ]
    },
    {
      "cell_type": "markdown",
      "metadata": {
        "id": "LXDORjXpDN3X"
      },
      "source": [
        "Write your answer here..."
      ]
    },
    {
      "cell_type": "markdown",
      "metadata": {
        "id": "pJEV1qUvDREz"
      },
      "source": [
        "### Q4. Now using python, assign a string with the variable identifier to an object called my_variable.\n",
        "- Make sure your code runs without any error."
      ]
    },
    {
      "cell_type": "code",
      "metadata": {
        "id": "e0sq2GiIBdEe"
      },
      "source": [
        "# Your code will look like this\n",
        "my_variable = \n"
      ],
      "execution_count": null,
      "outputs": []
    },
    {
      "cell_type": "markdown",
      "metadata": {
        "id": "UH0y1cXFFbv4"
      },
      "source": [
        "### Q5. Create a python list containing 3 of the possible choices from the identified variable in the ANES and assign it to an object named choices.\n",
        "- Most variables have more than 3 choices. Pick 3 and create a list using them. \n",
        "- Make sure your code runs without any error."
      ]
    },
    {
      "cell_type": "code",
      "metadata": {
        "id": "f_0gMlyMFZfd"
      },
      "source": [
        "# Your python list with the choices\n"
      ],
      "execution_count": null,
      "outputs": []
    },
    {
      "cell_type": "markdown",
      "metadata": {
        "id": "Zuwf8ephH7ZS"
      },
      "source": [
        "### BONUS: In the [ANES Variable List](https://sda.berkeley.edu/sdaweb/docs/nes2020full/DOC/hcbkf01.htm) sometimes you see the words \"PRE\", \"POST\" and/or \"R\" in the variable descriptions. What do each of these mean?\n"
      ]
    },
    {
      "cell_type": "markdown",
      "metadata": {
        "id": "G3U_NQ0BIWPG"
      },
      "source": [
        "You answer here...\n"
      ]
    }
  ]
}