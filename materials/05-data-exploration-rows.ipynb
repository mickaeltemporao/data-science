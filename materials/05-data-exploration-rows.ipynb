{
  "nbformat": 4,
  "nbformat_minor": 0,
  "metadata": {
    "colab": {
      "name": "05-data-exploration-rows.ipynb",
      "provenance": [],
      "collapsed_sections": []
    },
    "kernelspec": {
      "name": "python3",
      "display_name": "Python 3"
    }
  },
  "cells": [
    {
      "cell_type": "markdown",
      "metadata": {
        "id": "s9nC5_RwqJcx"
      },
      "source": [
        "# Exploring Relationships\n",
        "**Learning Objective:** \n",
        "- Learn to subset observations\n",
        "- Learn to compare variables\n",
        "- Learn to group and summarise information\n"
      ]
    },
    {
      "cell_type": "markdown",
      "metadata": {
        "id": "IkHVVo1bf0A2"
      },
      "source": [
        "### Filtering Observation (Rows)\n",
        "\n",
        "Data is messy. Most of the time you need to filter some observations (rows) from your dataset. \n",
        "- You are interested in some particular aspects of your dataset (eg. young voters). \n",
        "- The information is irrelevant and you need to remove data to avoid drawing wrong conclusions (eg. people who refuse to answer).\n",
        "\n",
        "Therefore, you need a way to filter the observations in your dataset. \n",
        "\n",
        "- Relational operators provide a way to subset observations\n",
        "- There are also useful methods that can help you with this.\n",
        "\n",
        "![](https://pandas.pydata.org/docs/_images/03_subset_rows.svg)\n",
        "\n",
        "We have seen that the data in the ANES contains values such as -8, -9, 99, that might or might not be useful depending on the probelm we want to tackle.\n",
        "\n",
        "How can we deal with them?\n",
        "\n",
        "Let's start with this question to illustrate:\n",
        "\n",
        "- Are Young Voters more Liberal or Conservative?\n"
      ]
    },
    {
      "cell_type": "code",
      "metadata": {
        "id": "PTx-1l9i4MPy",
        "colab": {
          "base_uri": "https://localhost:8080/"
        },
        "outputId": "4f5445e1-c397-4167-a89b-b8311799a6ef"
      },
      "source": [
        "# Load Pandas\n",
        "import pandas as pd\n",
        "\n",
        "# Import Data\n",
        "data_url = \"https://raw.githubusercontent.com/datamisc/ts-2020/main/data.csv\"\n",
        "anes_data  = pd.read_csv(data_url, compression='gzip')\n"
      ],
      "execution_count": 1,
      "outputs": [
        {
          "output_type": "stream",
          "name": "stderr",
          "text": [
            "/usr/local/lib/python3.7/dist-packages/IPython/core/interactiveshell.py:2718: DtypeWarning: Columns (15,17,18,19,21,22,23,25,26,27,29,30,31,33,34,35,37,38,1508,1509) have mixed types.Specify dtype option on import or set low_memory=False.\n",
            "  interactivity=interactivity, compiler=compiler, result=result)\n"
          ]
        }
      ]
    },
    {
      "cell_type": "code",
      "metadata": {
        "id": "luNYIaFY60Nn",
        "colab": {
          "base_uri": "https://localhost:8080/",
          "height": 204
        },
        "outputId": "b22286d3-a475-4a73-f197-348118ac4386"
      },
      "source": [
        "# Subsetting & Renaming Variables\n",
        "my_vars = [\n",
        "    \"V201032\",  # intend to vote\n",
        "    \"V201033\",  # intend to vote for\n",
        "    \"V201507x\", # age\n",
        "    \"V201200\",  # liberal-conservative self-placement\n",
        "]\n",
        "\n",
        "df = anes_data[my_vars]\n",
        "df.columns = [\"vote\", \"vote_int\", \"age\", \"ideology\"]\n",
        "\n",
        "df.head()"
      ],
      "execution_count": 2,
      "outputs": [
        {
          "output_type": "execute_result",
          "data": {
            "text/html": [
              "<div>\n",
              "<style scoped>\n",
              "    .dataframe tbody tr th:only-of-type {\n",
              "        vertical-align: middle;\n",
              "    }\n",
              "\n",
              "    .dataframe tbody tr th {\n",
              "        vertical-align: top;\n",
              "    }\n",
              "\n",
              "    .dataframe thead th {\n",
              "        text-align: right;\n",
              "    }\n",
              "</style>\n",
              "<table border=\"1\" class=\"dataframe\">\n",
              "  <thead>\n",
              "    <tr style=\"text-align: right;\">\n",
              "      <th></th>\n",
              "      <th>vote</th>\n",
              "      <th>vote_int</th>\n",
              "      <th>age</th>\n",
              "      <th>ideology</th>\n",
              "    </tr>\n",
              "  </thead>\n",
              "  <tbody>\n",
              "    <tr>\n",
              "      <th>0</th>\n",
              "      <td>1</td>\n",
              "      <td>2</td>\n",
              "      <td>46</td>\n",
              "      <td>6</td>\n",
              "    </tr>\n",
              "    <tr>\n",
              "      <th>1</th>\n",
              "      <td>1</td>\n",
              "      <td>3</td>\n",
              "      <td>37</td>\n",
              "      <td>4</td>\n",
              "    </tr>\n",
              "    <tr>\n",
              "      <th>2</th>\n",
              "      <td>1</td>\n",
              "      <td>1</td>\n",
              "      <td>40</td>\n",
              "      <td>2</td>\n",
              "    </tr>\n",
              "    <tr>\n",
              "      <th>3</th>\n",
              "      <td>1</td>\n",
              "      <td>1</td>\n",
              "      <td>41</td>\n",
              "      <td>3</td>\n",
              "    </tr>\n",
              "    <tr>\n",
              "      <th>4</th>\n",
              "      <td>1</td>\n",
              "      <td>2</td>\n",
              "      <td>72</td>\n",
              "      <td>5</td>\n",
              "    </tr>\n",
              "  </tbody>\n",
              "</table>\n",
              "</div>"
            ],
            "text/plain": [
              "   vote  vote_int  age  ideology\n",
              "0     1         2   46         6\n",
              "1     1         3   37         4\n",
              "2     1         1   40         2\n",
              "3     1         1   41         3\n",
              "4     1         2   72         5"
            ]
          },
          "metadata": {},
          "execution_count": 2
        }
      ]
    },
    {
      "cell_type": "code",
      "metadata": {
        "id": "dlzbVSmYKTGH",
        "colab": {
          "base_uri": "https://localhost:8080/",
          "height": 299
        },
        "outputId": "f80c15a3-49c1-49f8-ab6c-b4560e67ba1c"
      },
      "source": [
        "# How is ideology distributed?\n",
        "df.value_counts('ideology').sort_index().plot(kind='bar')\n"
      ],
      "execution_count": 3,
      "outputs": [
        {
          "output_type": "execute_result",
          "data": {
            "text/plain": [
              "<matplotlib.axes._subplots.AxesSubplot at 0x7fb6014b6450>"
            ]
          },
          "metadata": {},
          "execution_count": 3
        },
        {
          "output_type": "display_data",
          "data": {
            "image/png": "[encoded data removed]",
            "text/plain": [
              "<Figure size 432x288 with 1 Axes>"
            ]
          },
          "metadata": {
            "needs_background": "light"
          }
        }
      ]
    },
    {
      "cell_type": "code",
      "metadata": {
        "colab": {
          "base_uri": "https://localhost:8080/",
          "height": 282
        },
        "id": "mX8EaACl54zy",
        "outputId": "8b813cc7-e8b5-4cb2-a62f-273004093d49"
      },
      "source": [
        "# How is age distributed?\n",
        "df['age'].plot(kind='hist', bins=30)\n"
      ],
      "execution_count": 4,
      "outputs": [
        {
          "output_type": "execute_result",
          "data": {
            "text/plain": [
              "<matplotlib.axes._subplots.AxesSubplot at 0x7fb60124f790>"
            ]
          },
          "metadata": {},
          "execution_count": 4
        },
        {
          "output_type": "display_data",
          "data": {
            "image/png": "[encoded data removed]",
            "text/plain": [
              "<Figure size 432x288 with 1 Axes>"
            ]
          },
          "metadata": {
            "needs_background": "light"
          }
        }
      ]
    },
    {
      "cell_type": "code",
      "metadata": {
        "colab": {
          "base_uri": "https://localhost:8080/",
          "height": 297
        },
        "id": "SrbtoEsM6el6",
        "outputId": "5cd7a834-babe-41b1-8e13-eafde1160f77"
      },
      "source": [
        "df.describe()"
      ],
      "execution_count": 5,
      "outputs": [
        {
          "output_type": "execute_result",
          "data": {
            "text/html": [
              "<div>\n",
              "<style scoped>\n",
              "    .dataframe tbody tr th:only-of-type {\n",
              "        vertical-align: middle;\n",
              "    }\n",
              "\n",
              "    .dataframe tbody tr th {\n",
              "        vertical-align: top;\n",
              "    }\n",
              "\n",
              "    .dataframe thead th {\n",
              "        text-align: right;\n",
              "    }\n",
              "</style>\n",
              "<table border=\"1\" class=\"dataframe\">\n",
              "  <thead>\n",
              "    <tr style=\"text-align: right;\">\n",
              "      <th></th>\n",
              "      <th>vote</th>\n",
              "      <th>vote_int</th>\n",
              "      <th>age</th>\n",
              "      <th>ideology</th>\n",
              "    </tr>\n",
              "  </thead>\n",
              "  <tbody>\n",
              "    <tr>\n",
              "      <th>count</th>\n",
              "      <td>8280.000000</td>\n",
              "      <td>8280.000000</td>\n",
              "      <td>8280.000000</td>\n",
              "      <td>8280.000000</td>\n",
              "    </tr>\n",
              "    <tr>\n",
              "      <th>mean</th>\n",
              "      <td>0.942029</td>\n",
              "      <td>1.165097</td>\n",
              "      <td>49.038889</td>\n",
              "      <td>17.821498</td>\n",
              "    </tr>\n",
              "    <tr>\n",
              "      <th>std</th>\n",
              "      <td>0.721704</td>\n",
              "      <td>1.937772</td>\n",
              "      <td>20.771267</td>\n",
              "      <td>33.481452</td>\n",
              "    </tr>\n",
              "    <tr>\n",
              "      <th>min</th>\n",
              "      <td>-9.000000</td>\n",
              "      <td>-9.000000</td>\n",
              "      <td>-9.000000</td>\n",
              "      <td>-9.000000</td>\n",
              "    </tr>\n",
              "    <tr>\n",
              "      <th>25%</th>\n",
              "      <td>1.000000</td>\n",
              "      <td>1.000000</td>\n",
              "      <td>35.000000</td>\n",
              "      <td>3.000000</td>\n",
              "    </tr>\n",
              "    <tr>\n",
              "      <th>50%</th>\n",
              "      <td>1.000000</td>\n",
              "      <td>1.000000</td>\n",
              "      <td>51.000000</td>\n",
              "      <td>4.000000</td>\n",
              "    </tr>\n",
              "    <tr>\n",
              "      <th>75%</th>\n",
              "      <td>1.000000</td>\n",
              "      <td>2.000000</td>\n",
              "      <td>65.000000</td>\n",
              "      <td>6.000000</td>\n",
              "    </tr>\n",
              "    <tr>\n",
              "      <th>max</th>\n",
              "      <td>2.000000</td>\n",
              "      <td>12.000000</td>\n",
              "      <td>80.000000</td>\n",
              "      <td>99.000000</td>\n",
              "    </tr>\n",
              "  </tbody>\n",
              "</table>\n",
              "</div>"
            ],
            "text/plain": [
              "              vote     vote_int          age     ideology\n",
              "count  8280.000000  8280.000000  8280.000000  8280.000000\n",
              "mean      0.942029     1.165097    49.038889    17.821498\n",
              "std       0.721704     1.937772    20.771267    33.481452\n",
              "min      -9.000000    -9.000000    -9.000000    -9.000000\n",
              "25%       1.000000     1.000000    35.000000     3.000000\n",
              "50%       1.000000     1.000000    51.000000     4.000000\n",
              "75%       1.000000     2.000000    65.000000     6.000000\n",
              "max       2.000000    12.000000    80.000000    99.000000"
            ]
          },
          "metadata": {},
          "execution_count": 5
        }
      ]
    },
    {
      "cell_type": "markdown",
      "metadata": {
        "id": "a2es9rKi6YcA"
      },
      "source": [
        "We need to clean these variables a bit!"
      ]
    },
    {
      "cell_type": "code",
      "metadata": {
        "colab": {
          "base_uri": "https://localhost:8080/"
        },
        "id": "snYFnZTp7Dum",
        "outputId": "61835e84-2117-42d8-dd20-4be6e92ca1a7"
      },
      "source": [
        "# Cleaning the age variable\n",
        "mask = df['age'] >= 18\n",
        "mask\n"
      ],
      "execution_count": 6,
      "outputs": [
        {
          "output_type": "execute_result",
          "data": {
            "text/plain": [
              "0       True\n",
              "1       True\n",
              "2       True\n",
              "3       True\n",
              "4       True\n",
              "        ... \n",
              "8275    True\n",
              "8276    True\n",
              "8277    True\n",
              "8278    True\n",
              "8279    True\n",
              "Name: age, Length: 8280, dtype: bool"
            ]
          },
          "metadata": {},
          "execution_count": 6
        }
      ]
    },
    {
      "cell_type": "code",
      "metadata": {
        "colab": {
          "base_uri": "https://localhost:8080/",
          "height": 297
        },
        "id": "VSh52IOo7T49",
        "outputId": "08399e2e-2614-4513-b776-0af3f3edc04e"
      },
      "source": [
        "# Age seems about right now! But we lost some observations!\n",
        "df[mask].describe()\n"
      ],
      "execution_count": 7,
      "outputs": [
        {
          "output_type": "execute_result",
          "data": {
            "text/html": [
              "<div>\n",
              "<style scoped>\n",
              "    .dataframe tbody tr th:only-of-type {\n",
              "        vertical-align: middle;\n",
              "    }\n",
              "\n",
              "    .dataframe tbody tr th {\n",
              "        vertical-align: top;\n",
              "    }\n",
              "\n",
              "    .dataframe thead th {\n",
              "        text-align: right;\n",
              "    }\n",
              "</style>\n",
              "<table border=\"1\" class=\"dataframe\">\n",
              "  <thead>\n",
              "    <tr style=\"text-align: right;\">\n",
              "      <th></th>\n",
              "      <th>vote</th>\n",
              "      <th>vote_int</th>\n",
              "      <th>age</th>\n",
              "      <th>ideology</th>\n",
              "    </tr>\n",
              "  </thead>\n",
              "  <tbody>\n",
              "    <tr>\n",
              "      <th>count</th>\n",
              "      <td>7932.000000</td>\n",
              "      <td>7932.000000</td>\n",
              "      <td>7932.000000</td>\n",
              "      <td>7932.000000</td>\n",
              "    </tr>\n",
              "    <tr>\n",
              "      <th>mean</th>\n",
              "      <td>0.951210</td>\n",
              "      <td>1.196672</td>\n",
              "      <td>51.585224</td>\n",
              "      <td>17.697050</td>\n",
              "    </tr>\n",
              "    <tr>\n",
              "      <th>std</th>\n",
              "      <td>0.655531</td>\n",
              "      <td>1.832240</td>\n",
              "      <td>17.207177</td>\n",
              "      <td>33.351305</td>\n",
              "    </tr>\n",
              "    <tr>\n",
              "      <th>min</th>\n",
              "      <td>-9.000000</td>\n",
              "      <td>-9.000000</td>\n",
              "      <td>18.000000</td>\n",
              "      <td>-9.000000</td>\n",
              "    </tr>\n",
              "    <tr>\n",
              "      <th>25%</th>\n",
              "      <td>1.000000</td>\n",
              "      <td>1.000000</td>\n",
              "      <td>37.000000</td>\n",
              "      <td>3.000000</td>\n",
              "    </tr>\n",
              "    <tr>\n",
              "      <th>50%</th>\n",
              "      <td>1.000000</td>\n",
              "      <td>1.000000</td>\n",
              "      <td>52.000000</td>\n",
              "      <td>4.000000</td>\n",
              "    </tr>\n",
              "    <tr>\n",
              "      <th>75%</th>\n",
              "      <td>1.000000</td>\n",
              "      <td>2.000000</td>\n",
              "      <td>66.000000</td>\n",
              "      <td>6.000000</td>\n",
              "    </tr>\n",
              "    <tr>\n",
              "      <th>max</th>\n",
              "      <td>2.000000</td>\n",
              "      <td>12.000000</td>\n",
              "      <td>80.000000</td>\n",
              "      <td>99.000000</td>\n",
              "    </tr>\n",
              "  </tbody>\n",
              "</table>\n",
              "</div>"
            ],
            "text/plain": [
              "              vote     vote_int          age     ideology\n",
              "count  7932.000000  7932.000000  7932.000000  7932.000000\n",
              "mean      0.951210     1.196672    51.585224    17.697050\n",
              "std       0.655531     1.832240    17.207177    33.351305\n",
              "min      -9.000000    -9.000000    18.000000    -9.000000\n",
              "25%       1.000000     1.000000    37.000000     3.000000\n",
              "50%       1.000000     1.000000    52.000000     4.000000\n",
              "75%       1.000000     2.000000    66.000000     6.000000\n",
              "max       2.000000    12.000000    80.000000    99.000000"
            ]
          },
          "metadata": {},
          "execution_count": 7
        }
      ]
    },
    {
      "cell_type": "code",
      "metadata": {
        "id": "IEBhEQQv7kdC"
      },
      "source": [
        "# Saving the cleaned data frame with the subsetted data\n",
        "df = df[mask]"
      ],
      "execution_count": 8,
      "outputs": []
    },
    {
      "cell_type": "code",
      "metadata": {
        "colab": {
          "base_uri": "https://localhost:8080/"
        },
        "id": "t7y2Przk7nTn",
        "outputId": "7300abd4-3724-41db-a19e-da9e0baa6fff"
      },
      "source": [
        "# Cleaning Ideology\n",
        "mask = (df['ideology'] >= 1) & (df['ideology'] <= 7)\n",
        "mask"
      ],
      "execution_count": 10,
      "outputs": [
        {
          "output_type": "execute_result",
          "data": {
            "text/plain": [
              "0        True\n",
              "1        True\n",
              "2        True\n",
              "3        True\n",
              "4        True\n",
              "        ...  \n",
              "8275    False\n",
              "8276     True\n",
              "8277     True\n",
              "8278     True\n",
              "8279     True\n",
              "Name: ideology, Length: 7932, dtype: bool"
            ]
          },
          "metadata": {},
          "execution_count": 10
        }
      ]
    },
    {
      "cell_type": "code",
      "metadata": {
        "colab": {
          "base_uri": "https://localhost:8080/",
          "height": 297
        },
        "id": "rmkYm8Vh8KXX",
        "outputId": "0996e299-3e91-4f42-a877-086b81f764c1"
      },
      "source": [
        "df = df[mask]\n",
        "df.describe()"
      ],
      "execution_count": 11,
      "outputs": [
        {
          "output_type": "execute_result",
          "data": {
            "text/html": [
              "<div>\n",
              "<style scoped>\n",
              "    .dataframe tbody tr th:only-of-type {\n",
              "        vertical-align: middle;\n",
              "    }\n",
              "\n",
              "    .dataframe tbody tr th {\n",
              "        vertical-align: top;\n",
              "    }\n",
              "\n",
              "    .dataframe thead th {\n",
              "        text-align: right;\n",
              "    }\n",
              "</style>\n",
              "<table border=\"1\" class=\"dataframe\">\n",
              "  <thead>\n",
              "    <tr style=\"text-align: right;\">\n",
              "      <th></th>\n",
              "      <th>vote</th>\n",
              "      <th>vote_int</th>\n",
              "      <th>age</th>\n",
              "      <th>ideology</th>\n",
              "    </tr>\n",
              "  </thead>\n",
              "  <tbody>\n",
              "    <tr>\n",
              "      <th>count</th>\n",
              "      <td>6778.000000</td>\n",
              "      <td>6778.000000</td>\n",
              "      <td>6778.000000</td>\n",
              "      <td>6778.000000</td>\n",
              "    </tr>\n",
              "    <tr>\n",
              "      <th>mean</th>\n",
              "      <td>0.934051</td>\n",
              "      <td>1.265270</td>\n",
              "      <td>51.729271</td>\n",
              "      <td>4.077456</td>\n",
              "    </tr>\n",
              "    <tr>\n",
              "      <th>std</th>\n",
              "      <td>0.627857</td>\n",
              "      <td>1.724711</td>\n",
              "      <td>17.132560</td>\n",
              "      <td>1.673793</td>\n",
              "    </tr>\n",
              "    <tr>\n",
              "      <th>min</th>\n",
              "      <td>-9.000000</td>\n",
              "      <td>-9.000000</td>\n",
              "      <td>18.000000</td>\n",
              "      <td>1.000000</td>\n",
              "    </tr>\n",
              "    <tr>\n",
              "      <th>25%</th>\n",
              "      <td>1.000000</td>\n",
              "      <td>1.000000</td>\n",
              "      <td>37.000000</td>\n",
              "      <td>3.000000</td>\n",
              "    </tr>\n",
              "    <tr>\n",
              "      <th>50%</th>\n",
              "      <td>1.000000</td>\n",
              "      <td>1.000000</td>\n",
              "      <td>52.000000</td>\n",
              "      <td>4.000000</td>\n",
              "    </tr>\n",
              "    <tr>\n",
              "      <th>75%</th>\n",
              "      <td>1.000000</td>\n",
              "      <td>2.000000</td>\n",
              "      <td>66.000000</td>\n",
              "      <td>6.000000</td>\n",
              "    </tr>\n",
              "    <tr>\n",
              "      <th>max</th>\n",
              "      <td>2.000000</td>\n",
              "      <td>12.000000</td>\n",
              "      <td>80.000000</td>\n",
              "      <td>7.000000</td>\n",
              "    </tr>\n",
              "  </tbody>\n",
              "</table>\n",
              "</div>"
            ],
            "text/plain": [
              "              vote     vote_int          age     ideology\n",
              "count  6778.000000  6778.000000  6778.000000  6778.000000\n",
              "mean      0.934051     1.265270    51.729271     4.077456\n",
              "std       0.627857     1.724711    17.132560     1.673793\n",
              "min      -9.000000    -9.000000    18.000000     1.000000\n",
              "25%       1.000000     1.000000    37.000000     3.000000\n",
              "50%       1.000000     1.000000    52.000000     4.000000\n",
              "75%       1.000000     2.000000    66.000000     6.000000\n",
              "max       2.000000    12.000000    80.000000     7.000000"
            ]
          },
          "metadata": {},
          "execution_count": 11
        }
      ]
    },
    {
      "cell_type": "code",
      "metadata": {
        "id": "LLxHedQp8UjM"
      },
      "source": [
        "# How is age distributed?\n",
        "df['age'].plot(kind='hist', bins=30)\n"
      ],
      "execution_count": null,
      "outputs": []
    },
    {
      "cell_type": "code",
      "metadata": {
        "id": "afOmch0R85go"
      },
      "source": [
        "# How is ideology distributed now?\n",
        "df.value_counts('ideology').sort_index().plot(kind='bar')\n"
      ],
      "execution_count": null,
      "outputs": []
    },
    {
      "cell_type": "markdown",
      "metadata": {
        "id": "Qvo8NesWLFJi"
      },
      "source": [
        "### Hack-Time\n",
        "\n"
      ]
    },
    {
      "cell_type": "code",
      "metadata": {
        "id": "gPyWsr0wNZBB"
      },
      "source": [
        "# Clean the `vote` variable\n"
      ],
      "execution_count": null,
      "outputs": []
    },
    {
      "cell_type": "code",
      "metadata": {
        "id": "AUuiLQvoNhjw"
      },
      "source": [
        "# Clean the `vote_int` variable\n"
      ],
      "execution_count": null,
      "outputs": []
    },
    {
      "cell_type": "markdown",
      "metadata": {
        "id": "FFhJHZiqLWbO"
      },
      "source": [
        "## Who are young voters?"
      ]
    },
    {
      "cell_type": "code",
      "metadata": {
        "id": "AtRGVSPN9LVP"
      },
      "source": [
        "# Defining Young Voters\n",
        "mask = df['age'] <= 80\n"
      ],
      "execution_count": null,
      "outputs": []
    },
    {
      "cell_type": "code",
      "metadata": {
        "id": "7jFa3G3h9qNo"
      },
      "source": [
        "# Who is more liberal? Who is more conservative?\n",
        "print(df[mask]['ideology'].mean())\n",
        "print(df[~mask]['ideology'].mean())\n"
      ],
      "execution_count": null,
      "outputs": []
    },
    {
      "cell_type": "code",
      "metadata": {
        "id": "lbZij8IHLc5j"
      },
      "source": [
        "# Did we forget something?\n"
      ],
      "execution_count": null,
      "outputs": []
    },
    {
      "cell_type": "markdown",
      "metadata": {
        "id": "po6ZIEJM-Kel"
      },
      "source": [
        "Could we visualise this relationship in some other way?\n"
      ]
    },
    {
      "cell_type": "markdown",
      "metadata": {
        "id": "wSjVecDpoW2F"
      },
      "source": [
        "## Types of Data & Levels of Measurement\n",
        "\n",
        "We have seen that there are two main types of data: Discrete and Continuous.\n",
        "\n",
        "- **Discrete** data can only take a finite number of values.\n",
        "    - eg. The number of political parties in a country.\n",
        "\n",
        "- **Continuous** data can take an infinite number of values.\n",
        "    - eg. The age of someone.\n",
        "\n"
      ]
    },
    {
      "cell_type": "markdown",
      "metadata": {
        "id": "M8RP-l1YzFbp"
      },
      "source": [
        "### We can further divide each of these data types into four families:\n",
        "\n",
        "- **Nominal:** Differences of kind. There is no mathematical relationship between the values.\n",
        "    - eg. Number of political parties.\n",
        "\n",
        "- **Ordinal:** Differences of degree. There is a mathematical relationships among the values. Symbols like <, ≤, =, ≥, and > have meaning but the distance between two elements is not constant.\n",
        "    - eg. Levels of education.\n",
        "\n",
        "- **Interval:** There is a mathematical relationship among the elements and the distance between them is constant but they do not have a meaningful zero value.\n",
        "    - eg. Liberal-conservative 7 point scale.\n",
        "\n",
        "- **Ratio:** Similar to the interval variables but they have a meaningful zero value.\n",
        "    - eg. Age\n",
        "\n",
        "|          | Continuous | Discrete |\n",
        "| -:       | :-:        | :-:      |\n",
        "| Nominal  |            | x        |\n",
        "| Ordinal  |            | x        |\n",
        "| Interval | x          | x        |\n",
        "| Ratio    | x          | x        |\n"
      ]
    },
    {
      "cell_type": "markdown",
      "metadata": {
        "id": "Gp2WcT4urvj2"
      },
      "source": [
        "## Continuous & Continuous\n",
        "\n"
      ]
    },
    {
      "cell_type": "code",
      "metadata": {
        "id": "DrIB9JK2EwKG",
        "colab": {
          "base_uri": "https://localhost:8080/",
          "height": 623
        },
        "outputId": "517d87f1-7baf-4041-fc57-390e7115890e"
      },
      "source": [
        "# What is the relationship between Age and Ideology? \n",
        "df.plot(kind='scatter', x='ideology', y='age', figsize=(10,10))\n"
      ],
      "execution_count": 13,
      "outputs": [
        {
          "output_type": "execute_result",
          "data": {
            "text/plain": [
              "<matplotlib.axes._subplots.AxesSubplot at 0x7fb6009ad910>"
            ]
          },
          "metadata": {},
          "execution_count": 13
        },
        {
          "output_type": "display_data",
          "data": {
            "image/png": "[encoded data removed]",
            "text/plain": [
              "<Figure size 720x720 with 1 Axes>"
            ]
          },
          "metadata": {
            "needs_background": "light"
          }
        }
      ]
    },
    {
      "cell_type": "code",
      "metadata": {
        "id": "ULxct4qGODdi",
        "outputId": "8a0041da-e8c3-4b1d-f327-479c14c20731",
        "colab": {
          "base_uri": "https://localhost:8080/",
          "height": 623
        }
      },
      "source": [
        "# We can sample some data\n",
        "df.sample(100).plot(kind='scatter', x='ideology', y='age', figsize=(10,10))\n"
      ],
      "execution_count": 14,
      "outputs": [
        {
          "output_type": "execute_result",
          "data": {
            "text/plain": [
              "<matplotlib.axes._subplots.AxesSubplot at 0x7fb60073e810>"
            ]
          },
          "metadata": {},
          "execution_count": 14
        },
        {
          "output_type": "display_data",
          "data": {
            "image/png": "[encoded data removed]",
            "text/plain": [
              "<Figure size 720x720 with 1 Axes>"
            ]
          },
          "metadata": {
            "needs_background": "light"
          }
        }
      ]
    },
    {
      "cell_type": "code",
      "metadata": {
        "id": "xo5aSNJG_KG4"
      },
      "source": [
        "# We can try to add transparency\n",
        "df.plot(kind='scatter', x='ideology', y='age', alpha=0.02, figsize=(10,10))\n"
      ],
      "execution_count": null,
      "outputs": []
    },
    {
      "cell_type": "code",
      "metadata": {
        "id": "PRpejvuiORn1",
        "outputId": "79a3b390-91d3-4971-ced2-14fa52852378",
        "colab": {
          "base_uri": "https://localhost:8080/",
          "height": 623
        }
      },
      "source": [
        "# We can try to add transparency\n",
        "df.sample(1000).plot(kind='scatter', x='ideology', y='age', alpha=0.2, figsize=(10,10))\n"
      ],
      "execution_count": 17,
      "outputs": [
        {
          "output_type": "execute_result",
          "data": {
            "text/plain": [
              "<matplotlib.axes._subplots.AxesSubplot at 0x7fb6005f09d0>"
            ]
          },
          "metadata": {},
          "execution_count": 17
        },
        {
          "output_type": "display_data",
          "data": {
            "image/png": "[encoded data removed]",
            "text/plain": [
              "<Figure size 720x720 with 1 Axes>"
            ]
          },
          "metadata": {
            "needs_background": "light"
          }
        }
      ]
    },
    {
      "cell_type": "code",
      "metadata": {
        "colab": {
          "base_uri": "https://localhost:8080/",
          "height": 271
        },
        "id": "MjWSnFEQ_bNN",
        "outputId": "e38494a2-2e99-4adc-98d9-bf73810a1b5b"
      },
      "source": [
        "# Using hexbin plots\n",
        "df.plot(kind='hexbin', x='ideology', y='age')"
      ],
      "execution_count": 18,
      "outputs": [
        {
          "output_type": "execute_result",
          "data": {
            "text/plain": [
              "<matplotlib.axes._subplots.AxesSubplot at 0x7fb60061e7d0>"
            ]
          },
          "metadata": {},
          "execution_count": 18
        },
        {
          "output_type": "display_data",
          "data": {
            "image/png": "[encoded data removed]",
            "text/plain": [
              "<Figure size 432x288 with 2 Axes>"
            ]
          },
          "metadata": {
            "needs_background": "light"
          }
        }
      ]
    },
    {
      "cell_type": "code",
      "metadata": {
        "colab": {
          "base_uri": "https://localhost:8080/",
          "height": 271
        },
        "id": "QlVItifJBvVX",
        "outputId": "f5d145fa-8b40-4c1a-fe2a-e8f3836359bc"
      },
      "source": [
        "# Increasing the grid size\n",
        "df.plot(kind='hexbin', x='ideology', y='age', gridsize=7)"
      ],
      "execution_count": 19,
      "outputs": [
        {
          "output_type": "execute_result",
          "data": {
            "text/plain": [
              "<matplotlib.axes._subplots.AxesSubplot at 0x7fb6007a85d0>"
            ]
          },
          "metadata": {},
          "execution_count": 19
        },
        {
          "output_type": "display_data",
          "data": {
            "image/png": "[encoded data removed]",
            "text/plain": [
              "<Figure size 432x288 with 2 Axes>"
            ]
          },
          "metadata": {
            "needs_background": "light"
          }
        }
      ]
    },
    {
      "cell_type": "markdown",
      "metadata": {
        "id": "eycq_TiZzV41"
      },
      "source": [
        "## Discrete & Continuous\n",
        "\n",
        "![](https://miro.medium.com/max/1400/1*2c21SkzJMf3frPXPAR_gZA.png)\n",
        "\n"
      ]
    },
    {
      "cell_type": "code",
      "metadata": {
        "id": "EGc-0oi_zpWy",
        "colab": {
          "base_uri": "https://localhost:8080/",
          "height": 372
        },
        "outputId": "41ee7b18-b394-4a7b-bf6a-508a31ff33b5"
      },
      "source": [
        "# Is there a relationship between Age and Ideology? \n",
        "my_vars = ['age', 'ideology']\n",
        "df[my_vars].boxplot(by='ideology')\n"
      ],
      "execution_count": 20,
      "outputs": [
        {
          "output_type": "stream",
          "name": "stderr",
          "text": [
            "/usr/local/lib/python3.7/dist-packages/numpy/core/_asarray.py:83: VisibleDeprecationWarning: Creating an ndarray from ragged nested sequences (which is a list-or-tuple of lists-or-tuples-or ndarrays with different lengths or shapes) is deprecated. If you meant to do this, you must specify 'dtype=object' when creating the ndarray\n",
            "  return array(a, dtype, copy=False, order=order)\n"
          ]
        },
        {
          "output_type": "execute_result",
          "data": {
            "text/plain": [
              "<matplotlib.axes._subplots.AxesSubplot at 0x7fb60049fe10>"
            ]
          },
          "metadata": {},
          "execution_count": 20
        },
        {
          "output_type": "display_data",
          "data": {
            "image/png": "[encoded data removed]",
            "text/plain": [
              "<Figure size 432x288 with 1 Axes>"
            ]
          },
          "metadata": {
            "needs_background": "light"
          }
        }
      ]
    },
    {
      "cell_type": "markdown",
      "metadata": {
        "id": "LdLEDjv1zWva"
      },
      "source": [
        "## Discrete & Discrete\n",
        "\n",
        "### Cross tabulations\n",
        "\n",
        "You can use the `pd.crosstab()` function to compute simple cross tabulation of two (or more) variables. \n",
        "\n",
        "![]("
      ]
    },
    {
      "cell_type": "code",
      "metadata": {
        "id": "pkAYNQ9Fzqlq",
        "colab": {
          "base_uri": "https://localhost:8080/",
          "height": 297
        },
        "outputId": "9749cecb-1241-4283-9a54-1235e1ea10c3"
      },
      "source": [
        "# Cross tabulations\n",
        "pd.crosstab(df['ideology'], df['vote_int'])\n"
      ],
      "execution_count": 24,
      "outputs": [
        {
          "output_type": "execute_result",
          "data": {
            "text/html": [
              "<div>\n",
              "<style scoped>\n",
              "    .dataframe tbody tr th:only-of-type {\n",
              "        vertical-align: middle;\n",
              "    }\n",
              "\n",
              "    .dataframe tbody tr th {\n",
              "        vertical-align: top;\n",
              "    }\n",
              "\n",
              "    .dataframe thead th {\n",
              "        text-align: right;\n",
              "    }\n",
              "</style>\n",
              "<table border=\"1\" class=\"dataframe\">\n",
              "  <thead>\n",
              "    <tr style=\"text-align: right;\">\n",
              "      <th>vote_int</th>\n",
              "      <th>-9</th>\n",
              "      <th>-8</th>\n",
              "      <th>-1</th>\n",
              "      <th>1</th>\n",
              "      <th>2</th>\n",
              "      <th>3</th>\n",
              "      <th>4</th>\n",
              "      <th>5</th>\n",
              "      <th>11</th>\n",
              "      <th>12</th>\n",
              "    </tr>\n",
              "    <tr>\n",
              "      <th>ideology</th>\n",
              "      <th></th>\n",
              "      <th></th>\n",
              "      <th></th>\n",
              "      <th></th>\n",
              "      <th></th>\n",
              "      <th></th>\n",
              "      <th></th>\n",
              "      <th></th>\n",
              "      <th></th>\n",
              "      <th></th>\n",
              "    </tr>\n",
              "  </thead>\n",
              "  <tbody>\n",
              "    <tr>\n",
              "      <th>1</th>\n",
              "      <td>0</td>\n",
              "      <td>0</td>\n",
              "      <td>34</td>\n",
              "      <td>296</td>\n",
              "      <td>13</td>\n",
              "      <td>4</td>\n",
              "      <td>6</td>\n",
              "      <td>7</td>\n",
              "      <td>0</td>\n",
              "      <td>0</td>\n",
              "    </tr>\n",
              "    <tr>\n",
              "      <th>2</th>\n",
              "      <td>3</td>\n",
              "      <td>0</td>\n",
              "      <td>93</td>\n",
              "      <td>1030</td>\n",
              "      <td>38</td>\n",
              "      <td>8</td>\n",
              "      <td>2</td>\n",
              "      <td>6</td>\n",
              "      <td>1</td>\n",
              "      <td>0</td>\n",
              "    </tr>\n",
              "    <tr>\n",
              "      <th>3</th>\n",
              "      <td>7</td>\n",
              "      <td>4</td>\n",
              "      <td>96</td>\n",
              "      <td>688</td>\n",
              "      <td>54</td>\n",
              "      <td>19</td>\n",
              "      <td>14</td>\n",
              "      <td>7</td>\n",
              "      <td>5</td>\n",
              "      <td>1</td>\n",
              "    </tr>\n",
              "    <tr>\n",
              "      <th>4</th>\n",
              "      <td>18</td>\n",
              "      <td>14</td>\n",
              "      <td>232</td>\n",
              "      <td>900</td>\n",
              "      <td>430</td>\n",
              "      <td>59</td>\n",
              "      <td>13</td>\n",
              "      <td>29</td>\n",
              "      <td>29</td>\n",
              "      <td>1</td>\n",
              "    </tr>\n",
              "    <tr>\n",
              "      <th>5</th>\n",
              "      <td>13</td>\n",
              "      <td>3</td>\n",
              "      <td>89</td>\n",
              "      <td>195</td>\n",
              "      <td>433</td>\n",
              "      <td>21</td>\n",
              "      <td>5</td>\n",
              "      <td>6</td>\n",
              "      <td>13</td>\n",
              "      <td>2</td>\n",
              "    </tr>\n",
              "    <tr>\n",
              "      <th>6</th>\n",
              "      <td>6</td>\n",
              "      <td>5</td>\n",
              "      <td>86</td>\n",
              "      <td>75</td>\n",
              "      <td>1233</td>\n",
              "      <td>4</td>\n",
              "      <td>3</td>\n",
              "      <td>4</td>\n",
              "      <td>13</td>\n",
              "      <td>0</td>\n",
              "    </tr>\n",
              "    <tr>\n",
              "      <th>7</th>\n",
              "      <td>1</td>\n",
              "      <td>0</td>\n",
              "      <td>32</td>\n",
              "      <td>7</td>\n",
              "      <td>362</td>\n",
              "      <td>3</td>\n",
              "      <td>0</td>\n",
              "      <td>2</td>\n",
              "      <td>1</td>\n",
              "      <td>0</td>\n",
              "    </tr>\n",
              "  </tbody>\n",
              "</table>\n",
              "</div>"
            ],
            "text/plain": [
              "vote_int  -9   -8   -1     1     2    3    4    5    11   12\n",
              "ideology                                                    \n",
              "1           0    0   34   296    13    4    6    7    0    0\n",
              "2           3    0   93  1030    38    8    2    6    1    0\n",
              "3           7    4   96   688    54   19   14    7    5    1\n",
              "4          18   14  232   900   430   59   13   29   29    1\n",
              "5          13    3   89   195   433   21    5    6   13    2\n",
              "6           6    5   86    75  1233    4    3    4   13    0\n",
              "7           1    0   32     7   362    3    0    2    1    0"
            ]
          },
          "metadata": {},
          "execution_count": 24
        }
      ]
    },
    {
      "cell_type": "code",
      "metadata": {
        "id": "xfg5S8gyRIA0",
        "outputId": "fe793541-34a1-4eeb-d05a-b139ad08cd33",
        "colab": {
          "base_uri": "https://localhost:8080/",
          "height": 340
        }
      },
      "source": [
        "# Similar to value_counts\n",
        "df[my_vars].value_counts()\n"
      ],
      "execution_count": 28,
      "outputs": [
        {
          "output_type": "error",
          "ename": "KeyError",
          "evalue": "ignored",
          "traceback": [
            "\u001b[0;31m---------------------------------------------------------------------------\u001b[0m",
            "\u001b[0;31mKeyError\u001b[0m                                  Traceback (most recent call last)",
            "\u001b[0;32m<ipython-input-28-b86e70e13369>\u001b[0m in \u001b[0;36m<module>\u001b[0;34m()\u001b[0m\n\u001b[1;32m      1\u001b[0m \u001b[0;31m# Similar to value_counts\u001b[0m\u001b[0;34m\u001b[0m\u001b[0;34m\u001b[0m\u001b[0;34m\u001b[0m\u001b[0m\n\u001b[0;32m----> 2\u001b[0;31m \u001b[0mdf\u001b[0m\u001b[0;34m[\u001b[0m\u001b[0mmy_vars\u001b[0m\u001b[0;34m]\u001b[0m\u001b[0;34m.\u001b[0m\u001b[0mgroupby\u001b[0m\u001b[0;34m(\u001b[0m\u001b[0;34m'vote_int'\u001b[0m\u001b[0;34m)\u001b[0m\u001b[0;34m.\u001b[0m\u001b[0mvalue_counts\u001b[0m\u001b[0;34m(\u001b[0m\u001b[0;34m)\u001b[0m\u001b[0;34m\u001b[0m\u001b[0;34m\u001b[0m\u001b[0m\n\u001b[0m",
            "\u001b[0;32m/usr/local/lib/python3.7/dist-packages/pandas/core/frame.py\u001b[0m in \u001b[0;36mgroupby\u001b[0;34m(self, by, axis, level, as_index, sort, group_keys, squeeze, observed, dropna)\u001b[0m\n\u001b[1;32m   6523\u001b[0m             \u001b[0msqueeze\u001b[0m\u001b[0;34m=\u001b[0m\u001b[0msqueeze\u001b[0m\u001b[0;34m,\u001b[0m\u001b[0;34m\u001b[0m\u001b[0;34m\u001b[0m\u001b[0m\n\u001b[1;32m   6524\u001b[0m             \u001b[0mobserved\u001b[0m\u001b[0;34m=\u001b[0m\u001b[0mobserved\u001b[0m\u001b[0;34m,\u001b[0m\u001b[0;34m\u001b[0m\u001b[0;34m\u001b[0m\u001b[0m\n\u001b[0;32m-> 6525\u001b[0;31m             \u001b[0mdropna\u001b[0m\u001b[0;34m=\u001b[0m\u001b[0mdropna\u001b[0m\u001b[0;34m,\u001b[0m\u001b[0;34m\u001b[0m\u001b[0;34m\u001b[0m\u001b[0m\n\u001b[0m\u001b[1;32m   6526\u001b[0m         )\n\u001b[1;32m   6527\u001b[0m \u001b[0;34m\u001b[0m\u001b[0m\n",
            "\u001b[0;32m/usr/local/lib/python3.7/dist-packages/pandas/core/groupby/groupby.py\u001b[0m in \u001b[0;36m__init__\u001b[0;34m(self, obj, keys, axis, level, grouper, exclusions, selection, as_index, sort, group_keys, squeeze, observed, mutated, dropna)\u001b[0m\n\u001b[1;32m    531\u001b[0m                 \u001b[0mobserved\u001b[0m\u001b[0;34m=\u001b[0m\u001b[0mobserved\u001b[0m\u001b[0;34m,\u001b[0m\u001b[0;34m\u001b[0m\u001b[0;34m\u001b[0m\u001b[0m\n\u001b[1;32m    532\u001b[0m                 \u001b[0mmutated\u001b[0m\u001b[0;34m=\u001b[0m\u001b[0mself\u001b[0m\u001b[0;34m.\u001b[0m\u001b[0mmutated\u001b[0m\u001b[0;34m,\u001b[0m\u001b[0;34m\u001b[0m\u001b[0;34m\u001b[0m\u001b[0m\n\u001b[0;32m--> 533\u001b[0;31m                 \u001b[0mdropna\u001b[0m\u001b[0;34m=\u001b[0m\u001b[0mself\u001b[0m\u001b[0;34m.\u001b[0m\u001b[0mdropna\u001b[0m\u001b[0;34m,\u001b[0m\u001b[0;34m\u001b[0m\u001b[0;34m\u001b[0m\u001b[0m\n\u001b[0m\u001b[1;32m    534\u001b[0m             )\n\u001b[1;32m    535\u001b[0m \u001b[0;34m\u001b[0m\u001b[0m\n",
            "\u001b[0;32m/usr/local/lib/python3.7/dist-packages/pandas/core/groupby/grouper.py\u001b[0m in \u001b[0;36mget_grouper\u001b[0;34m(obj, key, axis, level, sort, observed, mutated, validate, dropna)\u001b[0m\n\u001b[1;32m    784\u001b[0m                 \u001b[0min_axis\u001b[0m\u001b[0;34m,\u001b[0m \u001b[0mname\u001b[0m\u001b[0;34m,\u001b[0m \u001b[0mlevel\u001b[0m\u001b[0;34m,\u001b[0m \u001b[0mgpr\u001b[0m \u001b[0;34m=\u001b[0m \u001b[0;32mFalse\u001b[0m\u001b[0;34m,\u001b[0m \u001b[0;32mNone\u001b[0m\u001b[0;34m,\u001b[0m \u001b[0mgpr\u001b[0m\u001b[0;34m,\u001b[0m \u001b[0;32mNone\u001b[0m\u001b[0;34m\u001b[0m\u001b[0;34m\u001b[0m\u001b[0m\n\u001b[1;32m    785\u001b[0m             \u001b[0;32melse\u001b[0m\u001b[0;34m:\u001b[0m\u001b[0;34m\u001b[0m\u001b[0;34m\u001b[0m\u001b[0m\n\u001b[0;32m--> 786\u001b[0;31m                 \u001b[0;32mraise\u001b[0m \u001b[0mKeyError\u001b[0m\u001b[0;34m(\u001b[0m\u001b[0mgpr\u001b[0m\u001b[0;34m)\u001b[0m\u001b[0;34m\u001b[0m\u001b[0;34m\u001b[0m\u001b[0m\n\u001b[0m\u001b[1;32m    787\u001b[0m         \u001b[0;32melif\u001b[0m \u001b[0misinstance\u001b[0m\u001b[0;34m(\u001b[0m\u001b[0mgpr\u001b[0m\u001b[0;34m,\u001b[0m \u001b[0mGrouper\u001b[0m\u001b[0;34m)\u001b[0m \u001b[0;32mand\u001b[0m \u001b[0mgpr\u001b[0m\u001b[0;34m.\u001b[0m\u001b[0mkey\u001b[0m \u001b[0;32mis\u001b[0m \u001b[0;32mnot\u001b[0m \u001b[0;32mNone\u001b[0m\u001b[0;34m:\u001b[0m\u001b[0;34m\u001b[0m\u001b[0;34m\u001b[0m\u001b[0m\n\u001b[1;32m    788\u001b[0m             \u001b[0;31m# Add key to exclusions\u001b[0m\u001b[0;34m\u001b[0m\u001b[0;34m\u001b[0m\u001b[0;34m\u001b[0m\u001b[0m\n",
            "\u001b[0;31mKeyError\u001b[0m: 'vote_int'"
          ]
        }
      ]
    },
    {
      "cell_type": "code",
      "metadata": {
        "id": "yrF5vgLPQVSW",
        "outputId": "757e8a98-23e2-4860-ffd5-3eb43ceb3d6d",
        "colab": {
          "base_uri": "https://localhost:8080/",
          "height": 297
        }
      },
      "source": [
        "# Absolute value don't mean much\n",
        "pd.crosstab(df['ideology'], df['vote_int'], normalize=True)\n"
      ],
      "execution_count": 25,
      "outputs": [
        {
          "output_type": "execute_result",
          "data": {
            "text/html": [
              "<div>\n",
              "<style scoped>\n",
              "    .dataframe tbody tr th:only-of-type {\n",
              "        vertical-align: middle;\n",
              "    }\n",
              "\n",
              "    .dataframe tbody tr th {\n",
              "        vertical-align: top;\n",
              "    }\n",
              "\n",
              "    .dataframe thead th {\n",
              "        text-align: right;\n",
              "    }\n",
              "</style>\n",
              "<table border=\"1\" class=\"dataframe\">\n",
              "  <thead>\n",
              "    <tr style=\"text-align: right;\">\n",
              "      <th>vote_int</th>\n",
              "      <th>-9</th>\n",
              "      <th>-8</th>\n",
              "      <th>-1</th>\n",
              "      <th>1</th>\n",
              "      <th>2</th>\n",
              "      <th>3</th>\n",
              "      <th>4</th>\n",
              "      <th>5</th>\n",
              "      <th>11</th>\n",
              "      <th>12</th>\n",
              "    </tr>\n",
              "    <tr>\n",
              "      <th>ideology</th>\n",
              "      <th></th>\n",
              "      <th></th>\n",
              "      <th></th>\n",
              "      <th></th>\n",
              "      <th></th>\n",
              "      <th></th>\n",
              "      <th></th>\n",
              "      <th></th>\n",
              "      <th></th>\n",
              "      <th></th>\n",
              "    </tr>\n",
              "  </thead>\n",
              "  <tbody>\n",
              "    <tr>\n",
              "      <th>1</th>\n",
              "      <td>0.000000</td>\n",
              "      <td>0.000000</td>\n",
              "      <td>0.005016</td>\n",
              "      <td>0.043671</td>\n",
              "      <td>0.001918</td>\n",
              "      <td>0.000590</td>\n",
              "      <td>0.000885</td>\n",
              "      <td>0.001033</td>\n",
              "      <td>0.000000</td>\n",
              "      <td>0.000000</td>\n",
              "    </tr>\n",
              "    <tr>\n",
              "      <th>2</th>\n",
              "      <td>0.000443</td>\n",
              "      <td>0.000000</td>\n",
              "      <td>0.013721</td>\n",
              "      <td>0.151962</td>\n",
              "      <td>0.005606</td>\n",
              "      <td>0.001180</td>\n",
              "      <td>0.000295</td>\n",
              "      <td>0.000885</td>\n",
              "      <td>0.000148</td>\n",
              "      <td>0.000000</td>\n",
              "    </tr>\n",
              "    <tr>\n",
              "      <th>3</th>\n",
              "      <td>0.001033</td>\n",
              "      <td>0.000590</td>\n",
              "      <td>0.014163</td>\n",
              "      <td>0.101505</td>\n",
              "      <td>0.007967</td>\n",
              "      <td>0.002803</td>\n",
              "      <td>0.002066</td>\n",
              "      <td>0.001033</td>\n",
              "      <td>0.000738</td>\n",
              "      <td>0.000148</td>\n",
              "    </tr>\n",
              "    <tr>\n",
              "      <th>4</th>\n",
              "      <td>0.002656</td>\n",
              "      <td>0.002066</td>\n",
              "      <td>0.034228</td>\n",
              "      <td>0.132783</td>\n",
              "      <td>0.063441</td>\n",
              "      <td>0.008705</td>\n",
              "      <td>0.001918</td>\n",
              "      <td>0.004279</td>\n",
              "      <td>0.004279</td>\n",
              "      <td>0.000148</td>\n",
              "    </tr>\n",
              "    <tr>\n",
              "      <th>5</th>\n",
              "      <td>0.001918</td>\n",
              "      <td>0.000443</td>\n",
              "      <td>0.013131</td>\n",
              "      <td>0.028770</td>\n",
              "      <td>0.063883</td>\n",
              "      <td>0.003098</td>\n",
              "      <td>0.000738</td>\n",
              "      <td>0.000885</td>\n",
              "      <td>0.001918</td>\n",
              "      <td>0.000295</td>\n",
              "    </tr>\n",
              "    <tr>\n",
              "      <th>6</th>\n",
              "      <td>0.000885</td>\n",
              "      <td>0.000738</td>\n",
              "      <td>0.012688</td>\n",
              "      <td>0.011065</td>\n",
              "      <td>0.181912</td>\n",
              "      <td>0.000590</td>\n",
              "      <td>0.000443</td>\n",
              "      <td>0.000590</td>\n",
              "      <td>0.001918</td>\n",
              "      <td>0.000000</td>\n",
              "    </tr>\n",
              "    <tr>\n",
              "      <th>7</th>\n",
              "      <td>0.000148</td>\n",
              "      <td>0.000000</td>\n",
              "      <td>0.004721</td>\n",
              "      <td>0.001033</td>\n",
              "      <td>0.053408</td>\n",
              "      <td>0.000443</td>\n",
              "      <td>0.000000</td>\n",
              "      <td>0.000295</td>\n",
              "      <td>0.000148</td>\n",
              "      <td>0.000000</td>\n",
              "    </tr>\n",
              "  </tbody>\n",
              "</table>\n",
              "</div>"
            ],
            "text/plain": [
              "vote_int       -9        -8        -1   ...        5         11        12\n",
              "ideology                                ...                              \n",
              "1         0.000000  0.000000  0.005016  ...  0.001033  0.000000  0.000000\n",
              "2         0.000443  0.000000  0.013721  ...  0.000885  0.000148  0.000000\n",
              "3         0.001033  0.000590  0.014163  ...  0.001033  0.000738  0.000148\n",
              "4         0.002656  0.002066  0.034228  ...  0.004279  0.004279  0.000148\n",
              "5         0.001918  0.000443  0.013131  ...  0.000885  0.001918  0.000295\n",
              "6         0.000885  0.000738  0.012688  ...  0.000590  0.001918  0.000000\n",
              "7         0.000148  0.000000  0.004721  ...  0.000295  0.000148  0.000000\n",
              "\n",
              "[7 rows x 10 columns]"
            ]
          },
          "metadata": {},
          "execution_count": 25
        }
      ]
    },
    {
      "cell_type": "code",
      "metadata": {
        "id": "ZjbnSPfrQZkA",
        "outputId": "e5eab883-c770-43f6-bd80-4c3e1e6d1fb3",
        "colab": {
          "base_uri": "https://localhost:8080/",
          "height": 293
        }
      },
      "source": [
        "# Making a plot\n",
        "pd.crosstab(df['ideology'], df['vote_int'], normalize=True).plot(kind='bar', stacked=True)\n"
      ],
      "execution_count": 23,
      "outputs": [
        {
          "output_type": "execute_result",
          "data": {
            "text/plain": [
              "<matplotlib.axes._subplots.AxesSubplot at 0x7fb600340090>"
            ]
          },
          "metadata": {},
          "execution_count": 23
        },
        {
          "output_type": "display_data",
          "data": {
            "image/png": "[encoded data removed]",
            "text/plain": [
              "<Figure size 432x288 with 1 Axes>"
            ]
          },
          "metadata": {
            "needs_background": "light"
          }
        }
      ]
    },
    {
      "cell_type": "code",
      "metadata": {
        "id": "0t5KDTuvQlq_"
      },
      "source": [
        ""
      ],
      "execution_count": null,
      "outputs": []
    }
  ]
}