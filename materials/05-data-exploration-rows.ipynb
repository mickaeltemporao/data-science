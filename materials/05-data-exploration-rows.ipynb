{
  "nbformat": 4,
  "nbformat_minor": 0,
  "metadata": {
    "colab": {
      "name": "04-data-exploration-columns.ipynb",
      "provenance": [],
      "collapsed_sections": []
    },
    "kernelspec": {
      "name": "python3",
      "display_name": "Python 3"
    }
  },
  "cells": [
    {
      "cell_type": "markdown",
      "metadata": {
        "id": "s9nC5_RwqJcx"
      },
      "source": [
        "# Exploring Relationships\n",
        "**Learning Objective:** \n",
        "- Learn to subset observations\n",
        "- Learn to compare variables\n",
        "- Learn to group and summarise information\n"
      ]
    },
    {
      "cell_type": "markdown",
      "metadata": {
        "id": "wSjVecDpoW2F"
      },
      "source": [
        "## Levels of Measurement\n",
        "\n",
        "We have seen that there are two main types of data: Discrete and Continuous.\n",
        "\n",
        "- **Discrete** data can only take a finite number of values.\n",
        "    - eg. The number of students in a class.\n",
        "\n",
        "- **Continuous** data can take an infinite number of values.\n",
        "    - eg. The height of a student.\n",
        "\n",
        "### We can further divide each of these data types into four families:\n",
        "\n",
        "- **Nominal:** Differences of kind. There is no mathematical relationship between the values.\n",
        "    - eg. Political parties.\n",
        "\n",
        "- **Ordinal:** Differences of degree. There is a mathematical relationships among the values. Symbols like <, ≤, =, ≥, and > have meaning but the distance between two elements is not constant.\n",
        "    - eg. Levels of education.\n",
        "\n",
        "- **Interval:** There is a mathematical relationship among the elements and the distance between them is constant but they do not have a meaningful zero value.\n",
        "    - eg. Feelings thermometer (0 to 100).\n",
        "\n",
        "- **Ratio:** Similar to the interval variables but they have a meaningful zero value.\n",
        "    - eg. Feelings thermometer (-50 to 50)\n",
        "\n",
        "|          | Continuous | Discrete |\n",
        "| -:       | :-:        | :-:      |\n",
        "| Nominal  |            | x        |\n",
        "| Ordinal  |            | x        |\n",
        "| Interval | x          | x        |\n",
        "| Ratio    | x          | x        |"
      ]
    },
    {
      "cell_type": "markdown",
      "metadata": {
        "id": "sofsPeRDqNRO"
      },
      "source": [
        "## Data Acquisition\n",
        "\n"
      ]
    },
    {
      "cell_type": "code",
      "metadata": {
        "id": "PTx-1l9i4MPy"
      },
      "source": [
        "# Load Pandas\n",
        "import pandas as pd\n",
        "\n",
        "# Import Data\n",
        "data_url = \"https://raw.githubusercontent.com/datamisc/ts-2020/main/data.csv\"\n",
        "anes_data  = pd.read_csv(data_url, compression='gzip')\n"
      ],
      "execution_count": null,
      "outputs": []
    },
    {
      "cell_type": "code",
      "metadata": {
        "id": "luNYIaFY60Nn"
      },
      "source": [
        "# Subsetting & Renaming Variables\n",
        "my_vars = [\n",
        "    \"V201032\",  # intend to vote\n",
        "    \"V201033\",  # intend to vote for\n",
        "    \"V201507x\",  # age\n",
        "    \"V201200\",  # liberal-conservative self-placement\n",
        "]\n",
        "\n",
        "df = anes_data[my_vars]\n",
        "df.columns = [\"vote\", \"vote_int\", \"age\", \"ideology\"]\n"
      ],
      "execution_count": null,
      "outputs": []
    },
    {
      "cell_type": "markdown",
      "metadata": {
        "id": "Gp2WcT4urvj2"
      },
      "source": [
        "## Continuous & Continuous\n",
        "\n",
        "## Discrete & Continuous\n",
        "\n",
        "## Discrete & Discrete"
      ]
    },
    {
      "cell_type": "code",
      "metadata": {
        "id": "4zCU9u6opfSR"
      },
      "source": [
        "# The Filter Verb ##############################################################\n",
        "# Keep only respondents who casted a vote in 2012\n",
        "dataset %>%\n",
        "  filter(V161005 == 1)\n",
        "\n",
        "# Keep respondents below 25 years old\n",
        "...\n",
        "\n",
        "# Keep respondents below 25 years who are not missing age and who casted a vote\n",
        "...\n",
        "\n",
        "# Select our previous 5 variables, remove respondents that didn't provide their\n",
        "# age and store the new dataset into a new object `tmp_data`\n",
        "...\n",
        "\n",
        "\n",
        "# Select 5 variables, filter non-missing young voters and arrange obs. by age\n",
        "...\n",
        "\n",
        "# Store the output in a new object called young_voters\n",
        "...\n"
      ],
      "execution_count": null,
      "outputs": []
    },
    {
      "cell_type": "markdown",
      "metadata": {
        "id": "pA9ntSZReuBd"
      },
      "source": [
        "## Data Exploration - Observations\n",
        "\n",
        "Now that you have your data, the next step is to get familiar with it. \n",
        "\n",
        "Most of the time you are interested in some specific concepts. \n",
        "- You need a way to only select the variables related to your concepts.\n"
      ]
    },
    {
      "cell_type": "markdown",
      "metadata": {
        "id": "IkHVVo1bf0A2"
      },
      "source": [
        "### Filtering Observation (Rows)\n",
        "\n",
        "Let's say you want to explore the vote of us citizens (V201033).\n",
        "\n",
        "- We can use square brackets on a DataFrame object to select a single column!\n",
        "- We can also use a list of strings containing column namesto select multiple columns!\n",
        "\n",
        "![](https://pandas.pydata.org/docs/_images/03_subset_rows.svg)\n"
      ]
    },
    {
      "cell_type": "code",
      "metadata": {
        "id": "KzxO4FXnfRb6"
      },
      "source": [
        "# The `columns` attribute allows you to get the column names of a dataframe\n",
        "anes_data.columns"
      ],
      "execution_count": null,
      "outputs": []
    },
    {
      "cell_type": "code",
      "metadata": {
        "id": "GL8_tCSygqbF"
      },
      "source": [
        "# Selecting the voting intent variable\n",
        "anes_data[\"V201033\"]\n"
      ],
      "execution_count": null,
      "outputs": []
    },
    {
      "cell_type": "code",
      "metadata": {
        "id": "H6ruHSNNhYPU"
      },
      "source": [
        "# We can also save it in a new object and check it's type\n",
        "vote_int = anes_data[\"V201033\"]\n",
        "type(vote_int)\n"
      ],
      "execution_count": null,
      "outputs": []
    },
    {
      "cell_type": "markdown",
      "metadata": {
        "id": "_Lz4Yy0hCONq"
      },
      "source": [
        "Let's say know you want to also learn who people intend to vote for as a function of their age and ideology? In this case you might need to select multiple variables."
      ]
    },
    {
      "cell_type": "code",
      "metadata": {
        "id": "lSvx6njm5GQR"
      },
      "source": [
        "# Selecting multiple columns\n",
        "my_vars = [\n",
        "    \"V201032\",  # intend to vote\n",
        "    \"V201033\",  # intend to vote for\n",
        "    \"V201507x\",  # age\n",
        "    \"V201200\",  # liberal-conservative self-placement\n",
        "]\n",
        "\n",
        "anes_data[my_vars]"
      ],
      "execution_count": null,
      "outputs": []
    },
    {
      "cell_type": "code",
      "metadata": {
        "id": "pRzGulK76ZYx"
      },
      "source": [
        "# Save this smaller subset of variables into my_df\n",
        "my_df = anes_data[my_vars]\n",
        "print(type(my_df))\n",
        "print(my_df.columns)\n",
        "my_df.head()"
      ],
      "execution_count": null,
      "outputs": []
    },
    {
      "cell_type": "markdown",
      "metadata": {
        "id": "K61m2KjK8BiA"
      },
      "source": [
        "To avoid always having to check the codebook let's clean our data a bit by making the column names more explicit."
      ]
    },
    {
      "cell_type": "markdown",
      "metadata": {
        "id": "7uhzEzYc_HLV"
      },
      "source": [
        "### Hack-Time"
      ]
    },
    {
      "cell_type": "code",
      "metadata": {
        "id": "yrjyCz-T_J2H"
      },
      "source": [
        "# What is the average age of the respodents in the ANES dataset?\n"
      ],
      "execution_count": null,
      "outputs": []
    },
    {
      "cell_type": "code",
      "metadata": {
        "id": "IoJiu6FzhzDX"
      },
      "source": [
        "# What is the average ideology of the respondents in the ANES dataset?\n"
      ],
      "execution_count": null,
      "outputs": []
    },
    {
      "cell_type": "code",
      "metadata": {
        "id": "ZVrcr5IZF_dY"
      },
      "source": [
        "# What is the proportion of people who intend to vote for each D. Trump?\n"
      ],
      "execution_count": null,
      "outputs": []
    },
    {
      "cell_type": "markdown",
      "metadata": {
        "id": "AHbwTF39Wize"
      },
      "source": [
        "## Data Visualisation\n",
        "\n",
        "Once you have found some information that you need. It is usually a good idea to plot your results. As sometimes, a visualisation will help you better understand the problems in your data!\n",
        "\n",
        "Most of the times you will use bar plots and histograms to visualise a single variable, depending on its type.\n",
        "\n",
        "### Types of data\n",
        "\n",
        "We have seen that there are different types of data in python (strings, integers, floats, booleans, ...). When doing research we can group data in two broad families:\n",
        "\n",
        "**Continuous** data can take an infinite number of values.\n",
        "- The height of a student (eg. 182.5 cm)\n",
        "- For these variables you will usually use **histograms**.\n",
        "\n",
        "**Discrete** data can only take a finite number of values.\n",
        "- The number of students in a class (eg. 22)\n",
        "- For these variables you will usually use **bar plots**.\n",
        "- **Don't forget to summarise your data before plotting!**\n",
        "    - Otherwise your computer won't be happy...\n",
        "\n",
        "### Pandas Plotting API\n",
        "\n",
        "You can use pandas to plot your results using the `.plot()` method on a DataFrame or Series object.\n",
        "\n",
        "For more information click [**here**](https://pandas.pydata.org/docs/reference/api/pandas.DataFrame.plot.html).\n"
      ]
    },
    {
      "cell_type": "code",
      "metadata": {
        "id": "zi8CqadakRDC"
      },
      "source": [
        "# Let's plot the distribution of the vote variable.\n",
        "my_df[\"age\"].plot(kind=\"hist\")\n",
        "\n"
      ],
      "execution_count": null,
      "outputs": []
    },
    {
      "cell_type": "code",
      "metadata": {
        "id": "rpPHD8cYJxv-"
      },
      "source": [
        "# Digging Deeper\n",
        "my_df[\"age\"].plot(kind=\"hist\", bins=40)\n",
        "\n"
      ],
      "execution_count": null,
      "outputs": []
    },
    {
      "cell_type": "code",
      "metadata": {
        "id": "MQ-ZTN0QKNfL"
      },
      "source": [
        "# Let's look at participation\n",
        "my_results.plot(kind=\"bar\")\n"
      ],
      "execution_count": null,
      "outputs": []
    },
    {
      "cell_type": "markdown",
      "metadata": {
        "id": "GaMlGC8qKUX3"
      },
      "source": [
        "### Hack-Time"
      ]
    },
    {
      "cell_type": "code",
      "metadata": {
        "id": "dlzbVSmYKTGH"
      },
      "source": [
        "# Are US citizens polarized? \n"
      ],
      "execution_count": null,
      "outputs": []
    },
    {
      "cell_type": "code",
      "metadata": {
        "id": "ypoaCXVZMxRq"
      },
      "source": [
        "# Who would win the popular vote according to the ANES 2020?\n"
      ],
      "execution_count": null,
      "outputs": []
    },
    {
      "cell_type": "markdown",
      "metadata": {
        "id": "R30Sw-VXb1KC"
      },
      "source": [
        "### Going further\n",
        "\n",
        "There are many options to play with and improve a figure. \n",
        "When you are looking for help to change something on a figure, if you have the right terminology it is quite easy to find help!\n",
        "\n",
        "#### Anatomy of a Figure\n",
        "![Anatomy of a Figure](https://matplotlib.org/3.1.1/_images/anatomy.png)"
      ]
    },
    {
      "cell_type": "markdown",
      "metadata": {
        "id": "Kylh_2scNC9e"
      },
      "source": [
        "Let's try to improve our voting intentions plot a tiny bit."
      ]
    },
    {
      "cell_type": "code",
      "metadata": {
        "id": "k-IitsOSINUx"
      },
      "source": [
        "# Filtering Observations (for next time)\n",
        "mask = my_df['vote_int'].between(1,4)\n",
        "\n",
        "# Summarizing the data\n",
        "tmp_data = my_df.loc[mask,\"vote_int\"].replace(\n",
        "    {1:\"Biden\", 2:\"Trump\", 3:\"Jorgensen\", 4:\"Hawkins\"}\n",
        ").value_counts(\n",
        "    normalize=True\n",
        ")\n",
        "\n",
        "# Making a plot/graphic/figure\n",
        "tmp_data.plot(\n",
        "    kind=\"bar\",\n",
        "    title=\"Voting Intentions\", \n",
        "    ylabel=\"Percentage\",\n",
        "    rot=0,\n",
        ");\n"
      ],
      "execution_count": null,
      "outputs": []
    },
    {
      "cell_type": "code",
      "metadata": {
        "id": "J3uf6GaSPwX2"
      },
      "source": [
        "tmp_data"
      ],
      "execution_count": null,
      "outputs": []
    },
    {
      "cell_type": "code",
      "metadata": {
        "id": "DrIB9JK2EwKG"
      },
      "source": [
        "# Is there a relationship between Age and Ideology? \n",
        "my_vars = ['age', 'ideology']\n",
        "mask = my_df['ideology'].between(1,7)\n",
        "my_df.loc[mask, my_vars].boxplot(by='ideology')\n"
      ],
      "execution_count": null,
      "outputs": []
    }
  ]
}