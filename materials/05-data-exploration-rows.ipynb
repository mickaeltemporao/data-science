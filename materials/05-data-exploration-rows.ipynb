{
  "nbformat": 4,
  "nbformat_minor": 0,
  "metadata": {
    "colab": {
      "name": "05-data-exploration-rows.ipynb",
      "provenance": [],
      "collapsed_sections": []
    },
    "kernelspec": {
      "name": "python3",
      "display_name": "Python 3"
    }
  },
  "cells": [
    {
      "cell_type": "markdown",
      "metadata": {
        "id": "s9nC5_RwqJcx"
      },
      "source": [
        "# Exploring Relationships\n",
        "**Learning Objective:** \n",
        "- Learn to subset observations\n",
        "- Learn to compare variables\n",
        "- Learn to group and summarise information\n"
      ]
    },
    {
      "cell_type": "markdown",
      "metadata": {
        "id": "IkHVVo1bf0A2"
      },
      "source": [
        "### Filtering Observation (Rows)\n",
        "\n",
        "Data is messy. Most of the time you need to filter some observations (rows) from your dataset. This can be because you are interested in some particular aspects of your observations (eg. young voters). Or sometimes, the information is irrelevant and you need to remove it to avoid drawing wrong conclusions (eg. people who refuse to answer).\n",
        "\n",
        "Therefore, you need a way to filter the observations in your dataset. \n",
        "\n",
        "- Relational operators provide a way to subset observations\n",
        "\n",
        "![](https://pandas.pydata.org/docs/_images/03_subset_rows.svg)\n",
        "\n",
        "We have seen that the data in the ANES contains values such as -8, -9, 99, that might or might not be useful depending on the probelm we want to tackle.\n",
        "\n",
        "How can we deal with them?\n",
        "\n",
        "Let's try to answer this question to illustrate:\n",
        "\n",
        "- Are Young Voters more Liberal or Conservative?\n"
      ]
    },
    {
      "cell_type": "code",
      "metadata": {
        "id": "PTx-1l9i4MPy"
      },
      "source": [
        "# Load Pandas\n",
        "import pandas as pd\n",
        "\n",
        "# Import Data\n",
        "data_url = \"https://raw.githubusercontent.com/datamisc/ts-2020/main/data.csv\"\n",
        "anes_data  = pd.read_csv(data_url, compression='gzip')\n"
      ],
      "execution_count": null,
      "outputs": []
    },
    {
      "cell_type": "code",
      "metadata": {
        "id": "luNYIaFY60Nn"
      },
      "source": [
        "# Subsetting & Renaming Variables\n",
        "my_vars = [\n",
        "    \"V201032\",  # intend to vote\n",
        "    \"V201033\",  # intend to vote for\n",
        "    \"V201507x\", # age\n",
        "    \"V201200\",  # liberal-conservative self-placement\n",
        "]\n",
        "\n",
        "df = anes_data[my_vars]\n",
        "df.columns = [\"vote\", \"vote_int\", \"age\", \"ideology\"]\n",
        "\n",
        "df.head()"
      ],
      "execution_count": null,
      "outputs": []
    },
    {
      "cell_type": "code",
      "metadata": {
        "id": "dlzbVSmYKTGH"
      },
      "source": [
        "# How is ideology distributed?\n",
        "df.value_counts('ideology').sort_index().plot(kind='bar')\n"
      ],
      "execution_count": null,
      "outputs": []
    },
    {
      "cell_type": "code",
      "metadata": {
        "id": "mX8EaACl54zy"
      },
      "source": [
        "# How is age distributed?\n",
        "df['age'].plot(kind='hist', bins=30)\n"
      ],
      "execution_count": null,
      "outputs": []
    },
    {
      "cell_type": "code",
      "metadata": {
        "id": "SrbtoEsM6el6"
      },
      "source": [
        "df.describe()"
      ],
      "execution_count": null,
      "outputs": []
    },
    {
      "cell_type": "markdown",
      "metadata": {
        "id": "a2es9rKi6YcA"
      },
      "source": [
        "We need to clean these 2 variables!"
      ]
    },
    {
      "cell_type": "code",
      "metadata": {
        "id": "snYFnZTp7Dum"
      },
      "source": [
        "# Cleaning the age variable\n",
        "\n",
        "mask = df['age'] >= 18\n",
        "mask"
      ],
      "execution_count": null,
      "outputs": []
    },
    {
      "cell_type": "code",
      "metadata": {
        "id": "VSh52IOo7T49"
      },
      "source": [
        "# Age seems about right now! But we lost some observations!\n",
        "df[mask].describe()\n"
      ],
      "execution_count": null,
      "outputs": []
    },
    {
      "cell_type": "code",
      "metadata": {
        "id": "IEBhEQQv7kdC"
      },
      "source": [
        "# Saving the cleaned data frame with the subsetted data\n",
        "df = df[mask]"
      ],
      "execution_count": null,
      "outputs": []
    },
    {
      "cell_type": "code",
      "metadata": {
        "id": "t7y2Przk7nTn"
      },
      "source": [
        "# Cleaning Ideology\n",
        "mask = (df['ideology'] >= 1) & (df['ideology'] <= 7)\n",
        "mask"
      ],
      "execution_count": null,
      "outputs": []
    },
    {
      "cell_type": "code",
      "metadata": {
        "id": "rmkYm8Vh8KXX"
      },
      "source": [
        "df = df[mask]\n",
        "df.describe()"
      ],
      "execution_count": null,
      "outputs": []
    },
    {
      "cell_type": "code",
      "metadata": {
        "id": "LLxHedQp8UjM"
      },
      "source": [
        "# How is age distributed?\n",
        "df['age'].plot(kind='hist', bins=30)\n"
      ],
      "execution_count": null,
      "outputs": []
    },
    {
      "cell_type": "code",
      "metadata": {
        "id": "afOmch0R85go"
      },
      "source": [
        "# How is ideology distributed now?\n",
        "df.value_counts('ideology').sort_index().plot(kind='bar')\n"
      ],
      "execution_count": null,
      "outputs": []
    },
    {
      "cell_type": "code",
      "metadata": {
        "id": "AtRGVSPN9LVP"
      },
      "source": [
        "# Defining Young People\n",
        "mask = df['age'] <= 35\n"
      ],
      "execution_count": null,
      "outputs": []
    },
    {
      "cell_type": "code",
      "metadata": {
        "id": "7jFa3G3h9qNo"
      },
      "source": [
        "# Who is more liberal? Who is more conservative?\n",
        "print(df[mask]['ideology'].mean())\n",
        "print(df[~mask]['ideology'].mean())"
      ],
      "execution_count": null,
      "outputs": []
    },
    {
      "cell_type": "markdown",
      "metadata": {
        "id": "po6ZIEJM-Kel"
      },
      "source": [
        "Could we visualise this relationship in some other way?\n"
      ]
    },
    {
      "cell_type": "markdown",
      "metadata": {
        "id": "wSjVecDpoW2F"
      },
      "source": [
        "## Types of Data & Levels of Measurement\n",
        "\n",
        "We have seen that there are two main types of data: Discrete and Continuous.\n",
        "\n",
        "- **Discrete** data can only take a finite number of values.\n",
        "    - eg. The number of political parties in a country.\n",
        "\n",
        "- **Continuous** data can take an infinite number of values.\n",
        "    - eg. The age of someone.\n",
        "\n"
      ]
    },
    {
      "cell_type": "markdown",
      "metadata": {
        "id": "M8RP-l1YzFbp"
      },
      "source": [
        "### We can further divide each of these data types into four families:\n",
        "\n",
        "- **Nominal:** Differences of kind. There is no mathematical relationship between the values.\n",
        "    - eg. Number of political parties.\n",
        "\n",
        "- **Ordinal:** Differences of degree. There is a mathematical relationships among the values. Symbols like <, ≤, =, ≥, and > have meaning but the distance between two elements is not constant.\n",
        "    - eg. Levels of education.\n",
        "\n",
        "- **Interval:** There is a mathematical relationship among the elements and the distance between them is constant but they do not have a meaningful zero value.\n",
        "    - eg. Liberal-conservative 7 point scale.\n",
        "\n",
        "- **Ratio:** Similar to the interval variables but they have a meaningful zero value.\n",
        "    - eg. Age\n",
        "\n",
        "|          | Continuous | Discrete |\n",
        "| -:       | :-:        | :-:      |\n",
        "| Nominal  |            | x        |\n",
        "| Ordinal  |            | x        |\n",
        "| Interval | x          | x        |\n",
        "| Ratio    | x          | x        |\n"
      ]
    },
    {
      "cell_type": "markdown",
      "metadata": {
        "id": "Gp2WcT4urvj2"
      },
      "source": [
        "## Continuous & Continuous\n",
        "\n"
      ]
    },
    {
      "cell_type": "code",
      "metadata": {
        "id": "DrIB9JK2EwKG"
      },
      "source": [
        "# What is the relationship between Age and Ideology? \n",
        "df.plot(kind='scatter', x='ideology', y='age', figsize=(10,10))\n"
      ],
      "execution_count": null,
      "outputs": []
    },
    {
      "cell_type": "code",
      "metadata": {
        "id": "xo5aSNJG_KG4"
      },
      "source": [
        "# We can try to add transparency\n",
        "df.plot(kind='scatter', x='ideology', y='age', alpha=0.02, figsize=(10,10))"
      ],
      "execution_count": null,
      "outputs": []
    },
    {
      "cell_type": "code",
      "metadata": {
        "id": "MjWSnFEQ_bNN"
      },
      "source": [
        "# Using an hexbin plot\n",
        "df.plot(kind='hexbin', x='ideology', y='age')"
      ],
      "execution_count": null,
      "outputs": []
    },
    {
      "cell_type": "code",
      "metadata": {
        "id": "QlVItifJBvVX"
      },
      "source": [
        "# Increasing the grid size\n",
        "df.plot(kind='hexbin', x='ideology', y='age', gridsize=7)"
      ],
      "execution_count": null,
      "outputs": []
    },
    {
      "cell_type": "markdown",
      "metadata": {
        "id": "eycq_TiZzV41"
      },
      "source": [
        "## Discrete & Continuous\n",
        "\n"
      ]
    },
    {
      "cell_type": "code",
      "metadata": {
        "id": "EGc-0oi_zpWy"
      },
      "source": [
        "# Is there a relationship between Age and Ideology? \n",
        "my_vars = ['age', 'ideology']\n",
        "df[my_vars].boxplot(by='ideology')\n"
      ],
      "execution_count": null,
      "outputs": []
    },
    {
      "cell_type": "markdown",
      "metadata": {
        "id": "LdLEDjv1zWva"
      },
      "source": [
        "## Discrete & Discrete"
      ]
    },
    {
      "cell_type": "code",
      "metadata": {
        "id": "pkAYNQ9Fzqlq"
      },
      "source": [
        "# Is there a relationship between Age and Ideology? \n",
        "my_vars = ['age', 'ideology']\n",
        "mask = my_df['ideology'].between(1,7)\n",
        "my_df.loc[mask, my_vars].boxplot(by='ideology')\n"
      ],
      "execution_count": null,
      "outputs": []
    }
  ]
}