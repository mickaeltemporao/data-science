{
  "nbformat": 4,
  "nbformat_minor": 0,
  "metadata": {
    "colab": {
      "name": "05-data-exploration-rows.ipynb",
      "provenance": [],
      "collapsed_sections": []
    },
    "kernelspec": {
      "name": "python3",
      "display_name": "Python 3"
    }
  },
  "cells": [
    {
      "cell_type": "markdown",
      "metadata": {
        "id": "s9nC5_RwqJcx"
      },
      "source": [
        "# Exploring Relationships\n",
        "**Learning Objective:** \n",
        "- Learn to subset observations\n",
        "- Learn to compare variables\n",
        "- Learn to group and summarise information\n"
      ]
    },
    {
      "cell_type": "markdown",
      "metadata": {
        "id": "pA9ntSZReuBd"
      },
      "source": [
        "## Data Exploration - Observations\n",
        "\n",
        "Now that you have your data, the next step is to get familiar with it. \n",
        "\n",
        "Most of the time you are interested in some specific concepts. \n",
        "- You need a way to only select the variables related to your concepts.\n"
      ]
    },
    {
      "cell_type": "markdown",
      "metadata": {
        "id": "IkHVVo1bf0A2"
      },
      "source": [
        "### Filtering Observation (Rows)\n",
        "\n",
        "Let's say you want to explore the vote of us citizens (V201033).\n",
        "\n",
        "- We can use square brackets on a DataFrame object to select a single column!\n",
        "- We can also use a list of strings containing column namesto select multiple columns!\n",
        "\n",
        "![](https://pandas.pydata.org/docs/_images/03_subset_rows.svg)\n"
      ]
    },
    {
      "cell_type": "code",
      "metadata": {
        "id": "PTx-1l9i4MPy",
        "colab": {
          "base_uri": "https://localhost:8080/"
        },
        "outputId": "1e5593f7-b5b8-44bd-a92a-e36bbe054e0b"
      },
      "source": [
        "# Load Pandas\n",
        "import pandas as pd\n",
        "\n",
        "# Import Data\n",
        "data_url = \"https://raw.githubusercontent.com/datamisc/ts-2020/main/data.csv\"\n",
        "anes_data  = pd.read_csv(data_url, compression='gzip')\n"
      ],
      "execution_count": 1,
      "outputs": [
        {
          "output_type": "stream",
          "name": "stderr",
          "text": [
            "/usr/local/lib/python3.7/dist-packages/IPython/core/interactiveshell.py:2718: DtypeWarning: Columns (15,17,18,19,21,22,23,25,26,27,29,30,31,33,34,35,37,38,1508,1509) have mixed types.Specify dtype option on import or set low_memory=False.\n",
            "  interactivity=interactivity, compiler=compiler, result=result)\n"
          ]
        }
      ]
    },
    {
      "cell_type": "code",
      "metadata": {
        "id": "luNYIaFY60Nn",
        "colab": {
          "base_uri": "https://localhost:8080/",
          "height": 204
        },
        "outputId": "8833355b-ea13-4326-a9ed-324ed2374986"
      },
      "source": [
        "# Subsetting & Renaming Variables\n",
        "my_vars = [\n",
        "    \"V201032\",  # intend to vote\n",
        "    \"V201033\",  # intend to vote for\n",
        "    \"V201507x\",  # age\n",
        "    \"V201200\",  # liberal-conservative self-placement\n",
        "]\n",
        "\n",
        "df = anes_data[my_vars]\n",
        "df.columns = [\"vote\", \"vote_int\", \"age\", \"ideology\"]\n",
        "\n",
        "df.head()"
      ],
      "execution_count": 6,
      "outputs": [
        {
          "output_type": "execute_result",
          "data": {
            "text/html": [
              "<div>\n",
              "<style scoped>\n",
              "    .dataframe tbody tr th:only-of-type {\n",
              "        vertical-align: middle;\n",
              "    }\n",
              "\n",
              "    .dataframe tbody tr th {\n",
              "        vertical-align: top;\n",
              "    }\n",
              "\n",
              "    .dataframe thead th {\n",
              "        text-align: right;\n",
              "    }\n",
              "</style>\n",
              "<table border=\"1\" class=\"dataframe\">\n",
              "  <thead>\n",
              "    <tr style=\"text-align: right;\">\n",
              "      <th></th>\n",
              "      <th>vote</th>\n",
              "      <th>vote_int</th>\n",
              "      <th>age</th>\n",
              "      <th>ideology</th>\n",
              "    </tr>\n",
              "  </thead>\n",
              "  <tbody>\n",
              "    <tr>\n",
              "      <th>0</th>\n",
              "      <td>1</td>\n",
              "      <td>2</td>\n",
              "      <td>46</td>\n",
              "      <td>6</td>\n",
              "    </tr>\n",
              "    <tr>\n",
              "      <th>1</th>\n",
              "      <td>1</td>\n",
              "      <td>3</td>\n",
              "      <td>37</td>\n",
              "      <td>4</td>\n",
              "    </tr>\n",
              "    <tr>\n",
              "      <th>2</th>\n",
              "      <td>1</td>\n",
              "      <td>1</td>\n",
              "      <td>40</td>\n",
              "      <td>2</td>\n",
              "    </tr>\n",
              "    <tr>\n",
              "      <th>3</th>\n",
              "      <td>1</td>\n",
              "      <td>1</td>\n",
              "      <td>41</td>\n",
              "      <td>3</td>\n",
              "    </tr>\n",
              "    <tr>\n",
              "      <th>4</th>\n",
              "      <td>1</td>\n",
              "      <td>2</td>\n",
              "      <td>72</td>\n",
              "      <td>5</td>\n",
              "    </tr>\n",
              "  </tbody>\n",
              "</table>\n",
              "</div>"
            ],
            "text/plain": [
              "   vote  vote_int  age  ideology\n",
              "0     1         2   46         6\n",
              "1     1         3   37         4\n",
              "2     1         1   40         2\n",
              "3     1         1   41         3\n",
              "4     1         2   72         5"
            ]
          },
          "metadata": {},
          "execution_count": 6
        }
      ]
    },
    {
      "cell_type": "code",
      "metadata": {
        "id": "dlzbVSmYKTGH"
      },
      "source": [
        "# Are US citizens polarized? \n"
      ],
      "execution_count": null,
      "outputs": []
    },
    {
      "cell_type": "code",
      "metadata": {
        "id": "ypoaCXVZMxRq"
      },
      "source": [
        "# Who would win the popular vote according to the ANES 2020?\n"
      ],
      "execution_count": null,
      "outputs": []
    },
    {
      "cell_type": "code",
      "metadata": {
        "id": "tP2kPI7iwuJE",
        "outputId": "40afa647-f295-4b7a-fda2-ab0c2360bbad",
        "colab": {
          "base_uri": "https://localhost:8080/",
          "height": 297
        }
      },
      "source": [
        "df.describe()"
      ],
      "execution_count": 11,
      "outputs": [
        {
          "output_type": "execute_result",
          "data": {
            "text/html": [
              "<div>\n",
              "<style scoped>\n",
              "    .dataframe tbody tr th:only-of-type {\n",
              "        vertical-align: middle;\n",
              "    }\n",
              "\n",
              "    .dataframe tbody tr th {\n",
              "        vertical-align: top;\n",
              "    }\n",
              "\n",
              "    .dataframe thead th {\n",
              "        text-align: right;\n",
              "    }\n",
              "</style>\n",
              "<table border=\"1\" class=\"dataframe\">\n",
              "  <thead>\n",
              "    <tr style=\"text-align: right;\">\n",
              "      <th></th>\n",
              "      <th>vote</th>\n",
              "      <th>vote_int</th>\n",
              "      <th>age</th>\n",
              "      <th>ideology</th>\n",
              "    </tr>\n",
              "  </thead>\n",
              "  <tbody>\n",
              "    <tr>\n",
              "      <th>count</th>\n",
              "      <td>8280.000000</td>\n",
              "      <td>8280.000000</td>\n",
              "      <td>8280.000000</td>\n",
              "      <td>8280.000000</td>\n",
              "    </tr>\n",
              "    <tr>\n",
              "      <th>mean</th>\n",
              "      <td>0.942029</td>\n",
              "      <td>1.165097</td>\n",
              "      <td>49.038889</td>\n",
              "      <td>17.821498</td>\n",
              "    </tr>\n",
              "    <tr>\n",
              "      <th>std</th>\n",
              "      <td>0.721704</td>\n",
              "      <td>1.937772</td>\n",
              "      <td>20.771267</td>\n",
              "      <td>33.481452</td>\n",
              "    </tr>\n",
              "    <tr>\n",
              "      <th>min</th>\n",
              "      <td>-9.000000</td>\n",
              "      <td>-9.000000</td>\n",
              "      <td>-9.000000</td>\n",
              "      <td>-9.000000</td>\n",
              "    </tr>\n",
              "    <tr>\n",
              "      <th>25%</th>\n",
              "      <td>1.000000</td>\n",
              "      <td>1.000000</td>\n",
              "      <td>35.000000</td>\n",
              "      <td>3.000000</td>\n",
              "    </tr>\n",
              "    <tr>\n",
              "      <th>50%</th>\n",
              "      <td>1.000000</td>\n",
              "      <td>1.000000</td>\n",
              "      <td>51.000000</td>\n",
              "      <td>4.000000</td>\n",
              "    </tr>\n",
              "    <tr>\n",
              "      <th>75%</th>\n",
              "      <td>1.000000</td>\n",
              "      <td>2.000000</td>\n",
              "      <td>65.000000</td>\n",
              "      <td>6.000000</td>\n",
              "    </tr>\n",
              "    <tr>\n",
              "      <th>max</th>\n",
              "      <td>2.000000</td>\n",
              "      <td>12.000000</td>\n",
              "      <td>80.000000</td>\n",
              "      <td>99.000000</td>\n",
              "    </tr>\n",
              "  </tbody>\n",
              "</table>\n",
              "</div>"
            ],
            "text/plain": [
              "              vote     vote_int          age     ideology\n",
              "count  8280.000000  8280.000000  8280.000000  8280.000000\n",
              "mean      0.942029     1.165097    49.038889    17.821498\n",
              "std       0.721704     1.937772    20.771267    33.481452\n",
              "min      -9.000000    -9.000000    -9.000000    -9.000000\n",
              "25%       1.000000     1.000000    35.000000     3.000000\n",
              "50%       1.000000     1.000000    51.000000     4.000000\n",
              "75%       1.000000     2.000000    65.000000     6.000000\n",
              "max       2.000000    12.000000    80.000000    99.000000"
            ]
          },
          "metadata": {},
          "execution_count": 11
        }
      ]
    },
    {
      "cell_type": "markdown",
      "metadata": {
        "id": "Gp2WcT4urvj2"
      },
      "source": [
        "## Continuous & Continuous\n",
        "\n"
      ]
    },
    {
      "cell_type": "code",
      "metadata": {
        "id": "EGc-0oi_zpWy"
      },
      "source": [
        "# Is there a relationship between Age and Ideology? \n",
        "my_vars = ['age', 'ideology']\n",
        "mask = my_df['ideology'].between(1,7)\n",
        "my_df.loc[mask, my_vars].boxplot(by='ideology')\n"
      ],
      "execution_count": null,
      "outputs": []
    },
    {
      "cell_type": "markdown",
      "metadata": {
        "id": "eycq_TiZzV41"
      },
      "source": [
        "## Discrete & Continuous\n",
        "\n"
      ]
    },
    {
      "cell_type": "code",
      "metadata": {
        "id": "DrIB9JK2EwKG"
      },
      "source": [
        "# Is there a relationship between Age and Ideology? \n",
        "my_vars = ['age', 'ideology']\n",
        "mask = my_df['ideology'].between(1,7)\n",
        "my_df.loc[mask, my_vars].boxplot(by='ideology')\n"
      ],
      "execution_count": null,
      "outputs": []
    },
    {
      "cell_type": "markdown",
      "metadata": {
        "id": "LdLEDjv1zWva"
      },
      "source": [
        "## Discrete & Discrete"
      ]
    },
    {
      "cell_type": "code",
      "metadata": {
        "id": "pkAYNQ9Fzqlq"
      },
      "source": [
        "# Is there a relationship between Age and Ideology? \n",
        "my_vars = ['age', 'ideology']\n",
        "mask = my_df['ideology'].between(1,7)\n",
        "my_df.loc[mask, my_vars].boxplot(by='ideology')\n"
      ],
      "execution_count": null,
      "outputs": []
    },
    {
      "cell_type": "markdown",
      "metadata": {
        "id": "wSjVecDpoW2F"
      },
      "source": [
        "## Levels of Measurement\n",
        "\n",
        "We have seen that there are two main types of data: Discrete and Continuous.\n",
        "\n",
        "- **Discrete** data can only take a finite number of values.\n",
        "    - eg. The number of students in a class.\n",
        "\n",
        "- **Continuous** data can take an infinite number of values.\n",
        "    - eg. The height of a student.\n",
        "\n"
      ]
    },
    {
      "cell_type": "markdown",
      "metadata": {
        "id": "M8RP-l1YzFbp"
      },
      "source": [
        "### We can further divide each of these data types into four families:\n",
        "\n",
        "- **Nominal:** Differences of kind. There is no mathematical relationship between the values.\n",
        "    - eg. Political parties.\n",
        "\n",
        "- **Ordinal:** Differences of degree. There is a mathematical relationships among the values. Symbols like <, ≤, =, ≥, and > have meaning but the distance between two elements is not constant.\n",
        "    - eg. Levels of education.\n",
        "\n",
        "- **Interval:** There is a mathematical relationship among the elements and the distance between them is constant but they do not have a meaningful zero value.\n",
        "    - eg. Feelings thermometer (0 to 100).\n",
        "\n",
        "- **Ratio:** Similar to the interval variables but they have a meaningful zero value.\n",
        "    - eg. Feelings thermometer (-50 to 50)\n",
        "\n",
        "|          | Continuous | Discrete |\n",
        "| -:       | :-:        | :-:      |\n",
        "| Nominal  |            | x        |\n",
        "| Ordinal  |            | x        |\n",
        "| Interval | x          | x        |\n",
        "| Ratio    | x          | x        |"
      ]
    },
    {
      "cell_type": "code",
      "metadata": {
        "id": "4zCU9u6opfSR"
      },
      "source": [
        "# The Filter Verb ##############################################################\n",
        "# Keep only respondents who casted a vote in 2012\n",
        "dataset %>%\n",
        "  filter(V161005 == 1)\n",
        "\n",
        "# Keep respondents below 25 years old\n",
        "...\n",
        "\n",
        "# Keep respondents below 25 years who are not missing age and who casted a vote\n",
        "...\n",
        "\n",
        "# Select our previous 5 variables, remove respondents that didn't provide their\n",
        "# age and store the new dataset into a new object `tmp_data`\n",
        "...\n",
        "\n",
        "\n",
        "# Select 5 variables, filter non-missing young voters and arrange obs. by age\n",
        "...\n",
        "\n",
        "# Store the output in a new object called young_voters\n",
        "...\n"
      ],
      "execution_count": null,
      "outputs": []
    },
    {
      "cell_type": "markdown",
      "metadata": {
        "id": "7uhzEzYc_HLV"
      },
      "source": [
        "### Hack-Time"
      ]
    },
    {
      "cell_type": "code",
      "metadata": {
        "id": "yrjyCz-T_J2H"
      },
      "source": [
        "# What is the average age of the respodents in the ANES dataset?\n"
      ],
      "execution_count": null,
      "outputs": []
    },
    {
      "cell_type": "code",
      "metadata": {
        "id": "IoJiu6FzhzDX"
      },
      "source": [
        "# What is the average ideology of the respondents in the ANES dataset?\n"
      ],
      "execution_count": null,
      "outputs": []
    },
    {
      "cell_type": "code",
      "metadata": {
        "id": "ZVrcr5IZF_dY"
      },
      "source": [
        "# What is the proportion of people who intend to vote for each D. Trump?\n"
      ],
      "execution_count": null,
      "outputs": []
    },
    {
      "cell_type": "code",
      "metadata": {
        "id": "rpPHD8cYJxv-"
      },
      "source": [
        "# Digging Deeper\n",
        "my_df[\"age\"].plot(kind=\"hist\", bins=40)\n",
        "\n"
      ],
      "execution_count": null,
      "outputs": []
    },
    {
      "cell_type": "code",
      "metadata": {
        "id": "MQ-ZTN0QKNfL"
      },
      "source": [
        "# Let's look at participation\n",
        "my_results.plot(kind=\"bar\")\n"
      ],
      "execution_count": null,
      "outputs": []
    },
    {
      "cell_type": "markdown",
      "metadata": {
        "id": "GaMlGC8qKUX3"
      },
      "source": [
        "### Hack-Time"
      ]
    },
    {
      "cell_type": "markdown",
      "metadata": {
        "id": "Kylh_2scNC9e"
      },
      "source": [
        "Let's try to improve our voting intentions plot a tiny bit."
      ]
    },
    {
      "cell_type": "code",
      "metadata": {
        "id": "k-IitsOSINUx"
      },
      "source": [
        "# Filtering Observations (for next time)\n",
        "mask = my_df['vote_int'].between(1,4)\n",
        "\n",
        "# Summarizing the data\n",
        "tmp_data = my_df.loc[mask,\"vote_int\"].replace(\n",
        "    {1:\"Biden\", 2:\"Trump\", 3:\"Jorgensen\", 4:\"Hawkins\"}\n",
        ").value_counts(\n",
        "    normalize=True\n",
        ")\n",
        "\n",
        "# Making a plot/graphic/figure\n",
        "tmp_data.plot(\n",
        "    kind=\"bar\",\n",
        "    title=\"Voting Intentions\", \n",
        "    ylabel=\"Percentage\",\n",
        "    rot=0,\n",
        ");\n"
      ],
      "execution_count": null,
      "outputs": []
    }
  ]
}
