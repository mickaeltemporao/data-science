{
  "nbformat": 4,
  "nbformat_minor": 0,
  "metadata": {
    "colab": {
      "name": "itds-challenge-2-student-name",
      "provenance": [],
      "collapsed_sections": [],
      "include_colab_link": true
    },
    "kernelspec": {
      "display_name": "Python 3",
      "name": "python3"
    }
  },
  "cells": [
    {
      "cell_type": "markdown",
      "metadata": {
        "id": "view-in-github",
        "colab_type": "text"
      },
      "source": [
        "<a href=\"https://colab.research.google.com/github/mickaeltemporao/itds/blob/main/materials/assignment-2.ipynb\" target=\"_parent\"><img src=\"https://colab.research.google.com/assets/colab-badge.svg\" alt=\"Open In Colab\"/></a>"
      ]
    },
    {
      "cell_type": "markdown",
      "metadata": {
        "id": "5fCEDCU_qrC0"
      },
      "source": [
        "# Challenge 2 - From Concepts to Variables\n",
        "\n",
        "### Objectives\n",
        "- Become familiar the ANES dataset.\n",
        "- Operationalize concepts into simple python objects.\n",
        "- Improve scientific writing.\n"
      ]
    },
    {
      "cell_type": "markdown",
      "metadata": {
        "id": "pe4gCm198ygp"
      },
      "source": [
        "## Instructions\n",
        "\n",
        "### The Setup\n",
        "Before you can start this challenge, you need to create your own copy of this notebook. This will allow you to edit, save and share your work.\n",
        "\n",
        "1. **Click** on *'File' -> 'Save a copy in Drive'*\n",
        "    - A new notebook is created named \"Copy of ...\".\n",
        "2. **Rename** the notebook called \"Copy of ...\" appropriately. \n",
        "3. **Use** the newly created and renamed notebook to complete the challenge.\n",
        "\n",
        "### The Challenge\n",
        "- Follow the instructions directly on the cells bellow this information cell.\n",
        "\n",
        "### The Submission\n",
        "1. When you are ready to submit your work click on *'Share' -> 'Copy link'*.\n",
        "2. Verify that your link works by opening it in a new browser window.\n",
        "    - You should see your latest edits inside this notebook.\n",
        "3. Send a **private message** to the instructor on the\n",
        "    - In your message include the course name (itds), assignment type (eg. chall-1), and the copied link to your notebook.\n",
        "\n",
        "- Submissions are considered until the start of the next session.\n",
        "- Late submissions will not be considered!\n",
        "\n",
        "\n",
        "#### Help, I'm stuck?!\n",
        "It is normal to be stuck during challenges and it is part of the learning process. When you are blocked during a coding challenge, try to solve your bugs (e.g. Google your error messages). Trying to solve your errors and bugs will help you build the mindset needed to be successful in this course and will help you better understand the tools and methods we use throughout the course.\n",
        "\n",
        "- If you are stuck for 30 minutes on a challenge, take a break and come back later.\n",
        "- If you are still stuck after revisiting your problem with a fresh mindset ask for help using the Chat! Don't be shy, it is likely that other students might be able to help you!\n",
        "\n",
        "**Delete the *Instructions* cell before sharing your work.**\n"
      ]
    },
    {
      "cell_type": "markdown",
      "metadata": {
        "id": "au9Ay09GhI_1"
      },
      "source": [
        "# The Challenge\n",
        "\n",
        "## Context\n",
        "\n",
        "Your tale at the New York Times continues. Last time you were asked to identify an important factor that can explain voting behaviour and support your claim with scientific evidence. If you have forgotten what your factor is, start by reading your first challenge.\n",
        "\n",
        "You are now required to apply your knowledge on real-world problems. Your goal is to translate the factor you identified into code based on real data. \n",
        "\n",
        "We will use the 2020 American National Election Study (ANES). You will rely heavily on the [ANES Variable List](https://sda.berkeley.edu/sdaweb/docs/nes2020full/DOC/hcbkf01.htm). \n",
        "\n",
        "- Further information is available [here](https://electionstudies.org/data-center/2020-time-series-study/) and [here](https://sda.berkeley.edu/sdaweb/docs/nes2020full/DOC/hcbk.htm).\n"
      ]
    },
    {
      "cell_type": "markdown",
      "metadata": {
        "id": "VkTlNkKi8b2T"
      },
      "source": [
        "### Q1. Design a single survey question that hypothetically allows you to measure your factor/concept."
      ]
    },
    {
      "cell_type": "markdown",
      "metadata": {
        "id": "OdxqKem9-gLa"
      },
      "source": [
        "Write your survey question here."
      ]
    },
    {
      "cell_type": "markdown",
      "metadata": {
        "id": "ftoXK1b4-ly9"
      },
      "source": [
        "### Q2. In order to answer your question, respondents are limited to only choose from one option/choice from a list of 5 options/choices. What are the 5 options you want your respondents to choose from? "
      ]
    },
    {
      "cell_type": "markdown",
      "metadata": {
        "id": "YSHasUsk_s73"
      },
      "source": [
        "Write your answer choices here...\n",
        "\n",
        "- Choice 1: ...\n",
        "- Choice 2: ...\n",
        "- Choice 3: ...\n",
        "- Choice 4: ...\n",
        "- Choice 5: ...\n"
      ]
    },
    {
      "cell_type": "markdown",
      "metadata": {
        "id": "iJFAMlTH_1_g"
      },
      "source": [
        "### Q3 Identify a variable in the ANES that would allow you to measure this factor/concept and write the variable identifier in the text cell below.\n",
        " - Use the [ANES Variable List](https://sda.berkeley.edu/sdaweb/docs/nes2020full/DOC/hcbkf01.htm) to find your variable identifier.\n",
        "- The variable identifier is formated as follows: `V20XXXXX`. \n",
        "- In the ANES Variable List, when you click on the variable identifier you can get more information on the variable."
      ]
    },
    {
      "cell_type": "markdown",
      "metadata": {
        "id": "LXDORjXpDN3X"
      },
      "source": [
        "Write your answer here..."
      ]
    },
    {
      "cell_type": "markdown",
      "metadata": {
        "id": "pJEV1qUvDREz"
      },
      "source": [
        "### Q4. Now using python, assign a string with the variable identifier to an object called my_variable.\n",
        "- Make sure your code runs without any error."
      ]
    },
    {
      "cell_type": "code",
      "metadata": {
        "id": "e0sq2GiIBdEe"
      },
      "source": [
        "# Your code will look like this\n",
        "my_variable = \n"
      ],
      "execution_count": null,
      "outputs": []
    },
    {
      "cell_type": "markdown",
      "metadata": {
        "id": "UH0y1cXFFbv4"
      },
      "source": [
        "### Q5. Create a python list containing 3 of the possible choices from the identified variable in the ANES and assign it to an object named choices.\n",
        "- Most variables have more than 3 choices. Pick 3 and create a list using them. \n",
        "- Make sure your code runs without any error."
      ]
    },
    {
      "cell_type": "code",
      "metadata": {
        "id": "f_0gMlyMFZfd"
      },
      "source": [
        "# Your python list with the choices\n"
      ],
      "execution_count": null,
      "outputs": []
    },
    {
      "cell_type": "markdown",
      "metadata": {
        "id": "Zuwf8ephH7ZS"
      },
      "source": [
        "### BONUS: In the [ANES Variable List](https://sda.berkeley.edu/sdaweb/docs/nes2020full/DOC/hcbkf01.htm) sometimes you see an \"PRE\", \"POST\" and/or \"R\". What do each of these mean?\n"
      ]
    },
    {
      "cell_type": "markdown",
      "metadata": {
        "id": "G3U_NQ0BIWPG"
      },
      "source": [
        "You answer here...\n"
      ]
    }
  ]
}