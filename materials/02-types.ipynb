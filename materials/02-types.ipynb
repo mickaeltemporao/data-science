{
  "nbformat": 4,
  "nbformat_minor": 0,
  "metadata": {
    "colab": {
      "name": "reproducible-research-in-python.ipynb",
      "provenance": [],
      "collapsed_sections": []
    },
    "kernelspec": {
      "name": "python3",
      "display_name": "Python 3"
    }
  },
  "cells": [
    {
      "cell_type": "markdown",
      "metadata": {
        "id": "v6UGa0nm1SRX"
      },
      "source": [
        "## Data Types and Structure\n",
        "\n",
        "**Learning Objectives** \n",
        "- Learn about data types\n",
        "- Learn about relational operators\n",
        "- Learn about logical operators\n",
        "- Learn about lists\n",
        "- Learn to manipulate lists\n"
      ]
    },
    {
      "cell_type": "markdown",
      "metadata": {
        "id": "KR05_uSbqUkf"
      },
      "source": [
        "## Data Types\n",
        "\n",
        "Python works with numerous data types. Some of the most basic types to get started are:\n",
        "\n",
        "| Type       | Short | Description      | Example   |\n",
        "| -          | -     |-                 | -         |\n",
        "| *integer*  | int   | Natural numbers  | 42        |\n",
        "| *float*    | float | Decimal values   | 0.42      |\n",
        "| *string*   | str   | Characters       | \"Liberal\" |\n",
        "| *None*     | None  | Missing values   | None      |\n",
        "| *boolean*  | bool  | Logical values   | True      |\n",
        "\n",
        "You can use the `type()` function to get the type of an object.\n",
        "Furthermore, each data type allows you to do specific kinds of operations and they also restrict functions you can apply to them.\n"
      ]
    },
    {
      "cell_type": "markdown",
      "metadata": {
        "id": "_4MiX6Xc9YN7"
      },
      "source": [
        "### Hack Time\n",
        "\n",
        "Let's start by creating some variables."
      ]
    },
    {
      "cell_type": "code",
      "metadata": {
        "id": "HRmPL45jIwhv"
      },
      "source": [
        "# Lets create some objects\n",
        "\n",
        "a = 42\n",
        "b = 5 \n",
        "c = a/b\n",
        "\n",
        "year = 2020\n",
        "party_1 = \"Democratic\"\n",
        "party_2 = 'Conservative'\n",
        "description = \"\"\"\n",
        "The American National Election Studies (ANES) \n",
        "are academically-run national surveys of voters \n",
        "in the United States, conducted before and after \n",
        "every presidential election.\n",
        "\"\"\"\n",
        "\n",
        "seven = \"7\"\n",
        "three = \"3\"\n"
      ],
      "execution_count": 16,
      "outputs": []
    },
    {
      "cell_type": "code",
      "metadata": {
        "id": "Hwv3fpDRH__9"
      },
      "source": [
        "# Use the function `type()` to check the type of these objects\n"
      ],
      "execution_count": 17,
      "outputs": []
    },
    {
      "cell_type": "code",
      "metadata": {
        "id": "MhnvSSpxJa3g"
      },
      "source": [
        "# WARNING: What happens if you add seven with three?\n"
      ],
      "execution_count": 18,
      "outputs": []
    },
    {
      "cell_type": "code",
      "metadata": {
        "id": "Rl7gdjMFTFbF"
      },
      "source": [
        "# Python has a special representation of boolean/logical values.\n",
        "winner_1 = True\n",
        "winner_2 = False\n",
        "\n",
        "# What happens when you run this code?\n"
      ],
      "execution_count": null,
      "outputs": []
    },
    {
      "cell_type": "code",
      "metadata": {
        "id": "3CJ8u2HaJcia"
      },
      "source": [
        "# What happens if you sum two boolean objects?\n"
      ],
      "execution_count": 19,
      "outputs": []
    },
    {
      "cell_type": "code",
      "metadata": {
        "colab": {
          "base_uri": "https://localhost:8080/",
          "height": 197
        },
        "id": "5eEhz-kRTY61",
        "outputId": "ea92157b-1c43-4b75-96e8-1a71fe6c13b1"
      },
      "source": [
        "# Python also has a way to store missing or empty information.\n",
        "results_2024 = None\n",
        "\n",
        "# What is the type of this object?\n",
        "\n",
        "# Can you add the number 538 to results_2024?\n"
      ],
      "execution_count": 21,
      "outputs": [
        {
          "output_type": "error",
          "ename": "TypeError",
          "evalue": "ignored",
          "traceback": [
            "\u001b[0;31m---------------------------------------------------------------------------\u001b[0m",
            "\u001b[0;31mTypeError\u001b[0m                                 Traceback (most recent call last)",
            "\u001b[0;32m<ipython-input-21-6a1a6269fa45>\u001b[0m in \u001b[0;36m<module>\u001b[0;34m()\u001b[0m\n\u001b[1;32m      4\u001b[0m \u001b[0;34m\u001b[0m\u001b[0m\n\u001b[1;32m      5\u001b[0m \u001b[0;31m# Can you add the number 538 to results_2024?\u001b[0m\u001b[0;34m\u001b[0m\u001b[0;34m\u001b[0m\u001b[0;34m\u001b[0m\u001b[0m\n\u001b[0;32m----> 6\u001b[0;31m \u001b[0mresults_2024\u001b[0m \u001b[0;34m+\u001b[0m \u001b[0;36m5\u001b[0m\u001b[0;34m\u001b[0m\u001b[0;34m\u001b[0m\u001b[0m\n\u001b[0m",
            "\u001b[0;31mTypeError\u001b[0m: unsupported operand type(s) for +: 'NoneType' and 'int'"
          ]
        }
      ]
    },
    {
      "cell_type": "markdown",
      "metadata": {
        "id": "HAdo0EdxqUX0"
      },
      "source": [
        "## Relational Operators\n",
        "\n",
        "Relational Operators allow you to compare objects. They are also known as comparison operatiors. They are often used in conditional statements and loops to build programs. Reletational operators return a boolean value.\n",
        "\n",
        "\n",
        "| Operator   | Description      | Example |\n",
        "| :-:        |-                 | -:      |\n",
        "| **==**     | Equal to         | a == b  |\n",
        "| **!=**     | Not equal to     | a != b  |\n",
        "| **<**      | Less than        | a  < b  |\n",
        "| **<=**     | Characters       | a <= b  |\n",
        "| **>**      | Logical values   | a  > b  |\n",
        "| **>=**     | Logical values   | a >= b  |\n",
        "\n"
      ]
    },
    {
      "cell_type": "markdown",
      "metadata": {
        "id": "AqdD462zauFl"
      },
      "source": [
        "### Hack Time\n"
      ]
    },
    {
      "cell_type": "code",
      "metadata": {
        "colab": {
          "base_uri": "https://localhost:8080/",
          "height": 0
        },
        "id": "asAKISuFQhJn",
        "outputId": "1184c336-a89b-4a18-f134-7b483d572291"
      },
      "source": [
        "# Use relational operators to compare some of the previously created objects!\n"
      ],
      "execution_count": 20,
      "outputs": [
        {
          "output_type": "execute_result",
          "data": {
            "text/plain": [
              "True"
            ]
          },
          "metadata": {},
          "execution_count": 20
        }
      ]
    },
    {
      "cell_type": "markdown",
      "metadata": {
        "id": "IWP4RxngqU2V"
      },
      "source": [
        "# Logical Operators\n",
        "\n",
        "Logical operators allow you to join boolean expressions to create more complex conditions.\n",
        "\n",
        "| Operator   | Description      | Example |\n",
        "| :-:        |-                 | -:      |\n",
        "| **and**| Both expressions | a == b  |\n",
        "| **or**     | At least on expression | a != b  |\n",
        "| **not**      | Reverses the expression | not True |\n",
        "\n"
      ]
    },
    {
      "cell_type": "code",
      "metadata": {
        "colab": {
          "base_uri": "https://localhost:8080/",
          "height": 0
        },
        "id": "qOnK9A2pYLex",
        "outputId": "1be316f8-f387-4067-e2d6-0a0bde2a1b69"
      },
      "source": [
        "print(True and True)\n",
        "print(True and False)\n",
        "print(False and True)\n",
        "print(False and False)\n"
      ],
      "execution_count": 32,
      "outputs": [
        {
          "output_type": "stream",
          "name": "stdout",
          "text": [
            "True\n",
            "False\n",
            "False\n",
            "False\n"
          ]
        }
      ]
    },
    {
      "cell_type": "code",
      "metadata": {
        "colab": {
          "base_uri": "https://localhost:8080/",
          "height": 0
        },
        "id": "NtT6cCc-a2JB",
        "outputId": "1057fe3d-60db-47a1-8785-4946159d27cd"
      },
      "source": [
        "print(True or True)\n",
        "print(True or False)\n",
        "print(False or True)\n",
        "print(False or False)"
      ],
      "execution_count": 33,
      "outputs": [
        {
          "output_type": "stream",
          "name": "stdout",
          "text": [
            "True\n",
            "True\n",
            "True\n",
            "False\n"
          ]
        }
      ]
    },
    {
      "cell_type": "markdown",
      "metadata": {
        "id": "A6Y-v_a3a0Jz"
      },
      "source": [
        "### Hack Time\n",
        "\n",
        "You ran a survey asking questions to students in your school. You decided look at a single of those respondent's answers and to code these into separated objects.\n"
      ]
    },
    {
      "cell_type": "code",
      "metadata": {
        "id": "n3lalhTf1yaY"
      },
      "source": [
        "# Respondent 1\n",
        "age = 24\n",
        "sex = \"Female\"\n",
        "country = \"France\"\n",
        "employed = True\n",
        "voted = True\n",
        "twitter = False"
      ],
      "execution_count": 30,
      "outputs": []
    },
    {
      "cell_type": "markdown",
      "metadata": {
        "id": "6U5c_5Noap1X"
      },
      "source": [
        "Can you predict the outcomes of the following statements?"
      ]
    },
    {
      "cell_type": "code",
      "metadata": {
        "colab": {
          "base_uri": "https://localhost:8080/",
          "height": 0
        },
        "id": "LInscfHj4aTC",
        "outputId": "cf2881f3-417e-425c-c7b9-aada061856c1"
      },
      "source": [
        "country == \"France\" and age >= 18\n"
      ],
      "execution_count": 31,
      "outputs": [
        {
          "output_type": "execute_result",
          "data": {
            "text/plain": [
              "True"
            ]
          },
          "metadata": {},
          "execution_count": 31
        }
      ]
    },
    {
      "cell_type": "code",
      "metadata": {
        "collapsed": true,
        "colab": {
          "base_uri": "https://localhost:8080/",
          "height": 0
        },
        "id": "hr-l4nnq4asR",
        "outputId": "130e540e-ff55-4a59-b7e1-dbcc382a5b5d"
      },
      "source": [
        "country == \"American\" and age >= 35\n"
      ],
      "execution_count": 32,
      "outputs": [
        {
          "output_type": "execute_result",
          "data": {
            "text/plain": [
              "False"
            ]
          },
          "metadata": {},
          "execution_count": 32
        }
      ]
    },
    {
      "cell_type": "code",
      "metadata": {
        "colab": {
          "base_uri": "https://localhost:8080/",
          "height": 0
        },
        "id": "hqi0VX6zZ97P",
        "outputId": "ef311d35-09d7-42e3-af6a-d65ca30eeb57"
      },
      "source": [
        "employed or not voted\n"
      ],
      "execution_count": 33,
      "outputs": [
        {
          "output_type": "execute_result",
          "data": {
            "text/plain": [
              "True"
            ]
          },
          "metadata": {},
          "execution_count": 33
        }
      ]
    },
    {
      "cell_type": "code",
      "metadata": {
        "colab": {
          "base_uri": "https://localhost:8080/",
          "height": 0
        },
        "id": "zQMq1fZqaE2d",
        "outputId": "f1e8ed29-27aa-4431-9a0e-3b45351daaa1"
      },
      "source": [
        "# Check if the respondent could run for president in the US\n",
        "# Needs to be born in the US and at least 35 years old. \n"
      ],
      "execution_count": 12,
      "outputs": [
        {
          "output_type": "execute_result",
          "data": {
            "text/plain": [
              "False"
            ]
          },
          "metadata": {},
          "execution_count": 12
        }
      ]
    },
    {
      "cell_type": "markdown",
      "metadata": {
        "id": "5erht0EoqUsi"
      },
      "source": [
        "# Lists\n",
        "\n",
        "We now have a better understanding of basic data type. Data structures allow you to combine multiple objects into single object. Lists are one of the most common data structures.\n",
        "\n",
        "Lists in python allow you to group any number of objects of any type into a single object. \n",
        "\n",
        "Understanding lists, is the first step to efficiently work with huge amounts of data.\n",
        "\n",
        "## Creating lists\n",
        "To create a list you simply write object names seperated by commas inside square brackets.\n",
        "\n",
        "```python \n",
        "my_new_list_object = [object_1, object_2, ...]\n",
        "# ```\n"
      ]
    },
    {
      "cell_type": "markdown",
      "metadata": {
        "id": "CR8DsZ4Y9qeJ"
      },
      "source": [
        "### Hack-time\n"
      ]
    },
    {
      "cell_type": "code",
      "metadata": {
        "id": "8QW-w0PF6V7v"
      },
      "source": [
        "# Create a list named `observation_1` containing the previously created variables for respondent 1\n",
        "respondent_1 = []\n"
      ],
      "execution_count": null,
      "outputs": []
    },
    {
      "cell_type": "code",
      "metadata": {
        "id": "dh4yvgwy_wpU"
      },
      "source": [
        "# Print `respodent_1`"
      ],
      "execution_count": null,
      "outputs": []
    },
    {
      "cell_type": "code",
      "metadata": {
        "id": "4bvNijKX3D1s"
      },
      "source": [
        "# Check the type of the object `respondent_1`\n"
      ],
      "execution_count": null,
      "outputs": []
    },
    {
      "cell_type": "code",
      "metadata": {
        "id": "Bg2IvDHGAWg4"
      },
      "source": [
        "# How long is this list? Use the `len()` function!\n"
      ],
      "execution_count": null,
      "outputs": []
    },
    {
      "cell_type": "code",
      "metadata": {
        "id": "tg6mebxPtVwt"
      },
      "source": [
        "# Create values for a fictionnal new respondent.\n",
        "age = \n",
        "sex = \n",
        "country = \n",
        "employed = \n",
        "voted = \n",
        "twitter = \n",
        "\n",
        "# Creating a new object named `respondent_2` containing the values for respondent 2.\n",
        "respondent_2 = [age, sex, country, employed, voted, twitter]"
      ],
      "execution_count": null,
      "outputs": []
    },
    {
      "cell_type": "code",
      "metadata": {
        "id": "onNU2nWDHTuf"
      },
      "source": [
        "# Create a new list named `respondendts` containing 2 objects respondent_1 and respondent_2\n"
      ],
      "execution_count": null,
      "outputs": []
    },
    {
      "cell_type": "markdown",
      "metadata": {
        "id": "y1-g8bwU4r44"
      },
      "source": [
        "# List Manipulation\n",
        "\n",
        "Now that we have a better understanding of lists we need to learn how we can subset, slice or edit elements its elements.\n",
        "\n",
        "### Subset"
      ]
    },
    {
      "cell_type": "code",
      "metadata": {
        "id": "oJl_rSmSINwP",
        "outputId": "b47604ec-1e33-4119-d143-79608a5c4d38",
        "colab": {
          "base_uri": "https://localhost:8080/",
          "height": 0
        }
      },
      "source": [
        "# Subset an element in a list: list[index]\n",
        "results = [\"democratic\", 306, \"repubilcan\", 232, \"libertarian\", 10]\n",
        "results[1]"
      ],
      "execution_count": 10,
      "outputs": [
        {
          "output_type": "execute_result",
          "data": {
            "text/plain": [
              "306"
            ]
          },
          "metadata": {},
          "execution_count": 10
        }
      ]
    },
    {
      "cell_type": "markdown",
      "metadata": {
        "id": "1vPkuDKmJUxC"
      },
      "source": [
        "WARNING: Most programming langages are *0* indexed, so is python!"
      ]
    },
    {
      "cell_type": "markdown",
      "metadata": {
        "id": "LxZNRWrCKfwY"
      },
      "source": [
        "#### Hack Time\n"
      ]
    },
    {
      "cell_type": "code",
      "metadata": {
        "id": "Am_AmtqhKmJe"
      },
      "source": [
        "# Print the number of electoral votes for the republican party\n"
      ],
      "execution_count": null,
      "outputs": []
    },
    {
      "cell_type": "markdown",
      "metadata": {
        "id": "2DcXs1AoMQ42"
      },
      "source": [
        "### Slice"
      ]
    },
    {
      "cell_type": "code",
      "metadata": {
        "id": "5LTIzvxN25ZS",
        "colab": {
          "base_uri": "https://localhost:8080/"
        },
        "outputId": "03992b5f-bfb0-418e-8b55-3d74bfffaa7d"
      },
      "source": [
        "# Slicing lists: list[begin:end]\n",
        "results[2:4]\n"
      ],
      "execution_count": 18,
      "outputs": [
        {
          "output_type": "execute_result",
          "data": {
            "text/plain": [
              "['republican', 232]"
            ]
          },
          "metadata": {},
          "execution_count": 18
        }
      ]
    },
    {
      "cell_type": "markdown",
      "metadata": {
        "id": "A9vOejnzKmJc"
      },
      "source": [
        "#### Hack Time\n"
      ]
    },
    {
      "cell_type": "code",
      "metadata": {
        "id": "LtJFaSN8LHuL"
      },
      "source": [
        "# Print the party name and the number of electoral votes for the democratic party. \n"
      ],
      "execution_count": 19,
      "outputs": []
    },
    {
      "cell_type": "markdown",
      "metadata": {
        "id": "BFc6aEL3MU2O"
      },
      "source": [
        "### Edit"
      ]
    },
    {
      "cell_type": "code",
      "metadata": {
        "id": "Wj8UZptK257c",
        "colab": {
          "base_uri": "https://localhost:8080/",
          "height": 0
        },
        "outputId": "d08414b2-c6a8-44d5-fda2-ba42e4cd0870"
      },
      "source": [
        "# Editing a list\n",
        "results[5] = 0\n",
        "results\n"
      ],
      "execution_count": 12,
      "outputs": [
        {
          "output_type": "execute_result",
          "data": {
            "text/plain": [
              "['democratic', 306, 'republican', 232, 'libertarian', 0]"
            ]
          },
          "metadata": {},
          "execution_count": 12
        }
      ]
    },
    {
      "cell_type": "markdown",
      "metadata": {
        "id": "-SismDFJKnth"
      },
      "source": [
        "#### Hack Time\n"
      ]
    },
    {
      "cell_type": "code",
      "metadata": {
        "id": "Dt_kQkoAKntj"
      },
      "source": [
        "# Fix the error in the name of the republican party\n"
      ],
      "execution_count": 20,
      "outputs": []
    },
    {
      "cell_type": "markdown",
      "metadata": {
        "id": "vt36wecCMZaR"
      },
      "source": [
        "### Adding elements"
      ]
    },
    {
      "cell_type": "code",
      "metadata": {
        "id": "BSt4QYkd2687",
        "colab": {
          "base_uri": "https://localhost:8080/"
        },
        "outputId": "5a457eb1-fbcf-494a-d773-b65c70aea513"
      },
      "source": [
        "# Adding to a list\n",
        "alliance_party = [\"Alliance\", 0]\n",
        "results = results + alliance_party\n",
        "results\n"
      ],
      "execution_count": 22,
      "outputs": [
        {
          "output_type": "execute_result",
          "data": {
            "text/plain": [
              "['democratic', 306, 'republican', 232, 'libertarian', 0, 'green', 0]"
            ]
          },
          "metadata": {},
          "execution_count": 22
        }
      ]
    },
    {
      "cell_type": "markdown",
      "metadata": {
        "id": "b8pA5aHdNAV7"
      },
      "source": [
        "#### Hack Time"
      ]
    },
    {
      "cell_type": "code",
      "metadata": {
        "id": "1AGVTvLJM_eQ"
      },
      "source": [
        "# Add the green party to the results list\n"
      ],
      "execution_count": null,
      "outputs": []
    },
    {
      "cell_type": "code",
      "metadata": {
        "id": "jkdkjlUINX9Q"
      },
      "source": [
        "# Calculate the total of electoral votes using the sum operator and the results list"
      ],
      "execution_count": null,
      "outputs": []
    },
    {
      "cell_type": "code",
      "metadata": {
        "id": "sqpFc_LONnGG"
      },
      "source": [
        "# We collected data about a new respondent and deciced to add it to our list \n",
        "respondent_3 = [67, \"Male\", \"New Zealand\", False, True, False]\n",
        "respondents = [respondent_1, respondent_2, respondent_3]\n",
        "\n",
        "# Calculate the average age of your respondents\n"
      ],
      "execution_count": null,
      "outputs": []
    }
  ]
}